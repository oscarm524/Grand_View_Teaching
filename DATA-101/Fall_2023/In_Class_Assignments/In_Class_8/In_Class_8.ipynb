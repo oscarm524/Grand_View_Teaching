{
 "cells": [
  {
   "cell_type": "code",
   "execution_count": null,
   "id": "aefa4b77-19dc-499d-8f7b-3c4daa5322a7",
   "metadata": {},
   "outputs": [],
   "source": [
    "# 1. c\n",
    "# 2. d\n",
    "# 3a. 1.8\n",
    "# 3b. 3.1"
   ]
  },
  {
   "cell_type": "code",
   "execution_count": 2,
   "id": "a2c95b0d-796a-4bc7-9096-2c40cadc0d0f",
   "metadata": {},
   "outputs": [
    {
     "data": {
      "text/plain": [
       "array([ 1,  3,  5,  7, 13])"
      ]
     },
     "execution_count": 2,
     "metadata": {},
     "output_type": "execute_result"
    }
   ],
   "source": [
    "import numpy as np\n",
    "\n",
    "A = np.array([1, 3, 5, 7, 13])\n",
    "A"
   ]
  },
  {
   "cell_type": "code",
   "execution_count": 4,
   "id": "9cce44e4-3d3c-458c-8de3-735182ea954e",
   "metadata": {},
   "outputs": [
    {
     "data": {
      "text/plain": [
       "array([0.        , 0.16666667, 0.33333333, 0.5       , 1.        ])"
      ]
     },
     "execution_count": 4,
     "metadata": {},
     "output_type": "execute_result"
    }
   ],
   "source": [
    "(A - np.min(A)) / (np.max(A) - np.min(A))"
   ]
  },
  {
   "cell_type": "code",
   "execution_count": 6,
   "id": "12f5e64c-7e09-477b-aadc-855e6b274eb0",
   "metadata": {},
   "outputs": [
    {
     "data": {
      "text/plain": [
       "array([[0.        ],\n",
       "       [0.16666667],\n",
       "       [0.33333333],\n",
       "       [0.5       ],\n",
       "       [1.        ]])"
      ]
     },
     "execution_count": 6,
     "metadata": {},
     "output_type": "execute_result"
    }
   ],
   "source": [
    "from sklearn.preprocessing import MinMaxScaler\n",
    "\n",
    "scaler = MinMaxScaler()\n",
    "scaler.fit_transform(A.reshape(-1, 1))"
   ]
  },
  {
   "cell_type": "code",
   "execution_count": 10,
   "id": "1f6aec92-ee71-409c-946b-4ef58a4e4373",
   "metadata": {},
   "outputs": [
    {
     "data": {
      "text/plain": [
       "array([-1.04249338, -0.60812114, -0.1737489 ,  0.26062335,  1.56374007])"
      ]
     },
     "execution_count": 10,
     "metadata": {},
     "output_type": "execute_result"
    }
   ],
   "source": [
    "(A - np.mean(A)) / np.std(A, ddof = 1)"
   ]
  },
  {
   "cell_type": "code",
   "execution_count": 8,
   "id": "b3bc7976-2099-41e8-9c9e-9a781794783a",
   "metadata": {},
   "outputs": [
    {
     "data": {
      "text/plain": [
       "array([[-1.16554303],\n",
       "       [-0.6799001 ],\n",
       "       [-0.19425717],\n",
       "       [ 0.29138576],\n",
       "       [ 1.74831455]])"
      ]
     },
     "execution_count": 8,
     "metadata": {},
     "output_type": "execute_result"
    }
   ],
   "source": [
    "from sklearn.preprocessing import StandardScaler\n",
    "\n",
    "scaler = StandardScaler()\n",
    "scaler.fit_transform(A.reshape(-1, 1))"
   ]
  }
 ],
 "metadata": {
  "kernelspec": {
   "display_name": "Python 3 (ipykernel)",
   "language": "python",
   "name": "python3"
  },
  "language_info": {
   "codemirror_mode": {
    "name": "ipython",
    "version": 3
   },
   "file_extension": ".py",
   "mimetype": "text/x-python",
   "name": "python",
   "nbconvert_exporter": "python",
   "pygments_lexer": "ipython3",
   "version": "3.8.16"
  }
 },
 "nbformat": 4,
 "nbformat_minor": 5
}
