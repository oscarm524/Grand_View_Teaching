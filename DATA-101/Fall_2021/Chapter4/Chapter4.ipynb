{
 "cells": [
  {
   "cell_type": "markdown",
   "id": "3da80808",
   "metadata": {},
   "source": [
    "# Euclidean distance"
   ]
  },
  {
   "cell_type": "code",
   "execution_count": 1,
   "id": "308e4813",
   "metadata": {},
   "outputs": [
    {
     "data": {
      "text/plain": [
       "18.81488772222678"
      ]
     },
     "execution_count": 1,
     "metadata": {},
     "output_type": "execute_result"
    }
   ],
   "source": [
    "## Here we import the numpy library\n",
    "import numpy as np\n",
    "   \n",
    "## Here we declare the vectors\n",
    "u = np.array([23, 2, 2])\n",
    "v = np.array([40, 10, 1])\n",
    "\n",
    "## Here we find the Euclidean distance\n",
    "np.sqrt(np.sum(np.power(u - v, 2)))"
   ]
  },
  {
   "cell_type": "markdown",
   "id": "24f194ac",
   "metadata": {},
   "source": [
    "# k-NN: Classification"
   ]
  },
  {
   "cell_type": "code",
   "execution_count": 4,
   "id": "5641cf0d",
   "metadata": {},
   "outputs": [
    {
     "data": {
      "text/plain": [
       "array(['B', 'B', 'B', 'B', 'B', 'B', 'B', 'B', 'B', 'M', 'B', 'B', 'B',\n",
       "       'B', 'B', 'B', 'B', 'M', 'B', 'B', 'B', 'B', 'M', 'B', 'B', 'B',\n",
       "       'B', 'B', 'M', 'M', 'B', 'M', 'B', 'M', 'B', 'B', 'B', 'B', 'B',\n",
       "       'M', 'B', 'B', 'M', 'B', 'B', 'B', 'M', 'M', 'B', 'B', 'B', 'M',\n",
       "       'B', 'B', 'B', 'B', 'B', 'B', 'B', 'B', 'B', 'B', 'B', 'M', 'B',\n",
       "       'M', 'B', 'B', 'B', 'B', 'B', 'B', 'B', 'B', 'B', 'B', 'B', 'B',\n",
       "       'B', 'B', 'B', 'B', 'B', 'B', 'B', 'B', 'B', 'B', 'B', 'B', 'B',\n",
       "       'B', 'M', 'M', 'M', 'M', 'M', 'M', 'B'], dtype=object)"
      ]
     },
     "execution_count": 4,
     "metadata": {},
     "output_type": "execute_result"
    }
   ],
   "source": [
    "## Here we import the pandas library\n",
    "import pandas as pd\n",
    "\n",
    "## Here we read the data\n",
    "breast_cancer = pd.read_csv('wisconsin_breast_cancer.csv')\n",
    "\n",
    "## First we drop the id variable\n",
    "breast_cancer = breast_cancer.drop(columns = 'id')\n",
    "\n",
    "## Let's normalize the features (0-1 transformation)\n",
    "\n",
    "## Here import the sklearn library\n",
    "from sklearn.preprocessing import MinMaxScaler\n",
    "\n",
    "## Here we create an scaler object\n",
    "scaler = MinMaxScaler() \n",
    "\n",
    "## Here we standardize the 30 input variables in the data\n",
    "breast_cancer.iloc[:,1:31] = scaler.fit_transform(breast_cancer.iloc[:,1:31])\n",
    "\n",
    "## Here we split the data into training and testing \n",
    "breast_cancer_train = breast_cancer.iloc[0:469,]\n",
    "breast_cancer_test = breast_cancer.iloc[470:569,]\n",
    "\n",
    "## Here we import the nearest neighbor algorithm from sklearn library\n",
    "from sklearn.neighbors import KNeighborsClassifier\n",
    "\n",
    "## Two neares neighbors\n",
    "X = breast_cancer_train.iloc[:,1:31]\n",
    "Y = breast_cancer_train.iloc[:,0]\n",
    "two_nearest_neighbors = KNeighborsClassifier(n_neighbors = 2).fit(X, Y)\n",
    "\n",
    "## Here we predict on testing data \n",
    "predictions = two_nearest_neighbors.predict(breast_cancer_test.iloc[:,1:31])\n",
    "\n",
    "## Here we create frequency table of the predictions\n",
    "predictions"
   ]
  },
  {
   "cell_type": "code",
   "execution_count": 5,
   "id": "e1f00050",
   "metadata": {},
   "outputs": [
    {
     "data": {
      "text/html": [
       "<div>\n",
       "<style scoped>\n",
       "    .dataframe tbody tr th:only-of-type {\n",
       "        vertical-align: middle;\n",
       "    }\n",
       "\n",
       "    .dataframe tbody tr th {\n",
       "        vertical-align: top;\n",
       "    }\n",
       "\n",
       "    .dataframe thead th {\n",
       "        text-align: right;\n",
       "    }\n",
       "</style>\n",
       "<table border=\"1\" class=\"dataframe\">\n",
       "  <thead>\n",
       "    <tr style=\"text-align: right;\">\n",
       "      <th>diagnosis</th>\n",
       "      <th>B</th>\n",
       "      <th>M</th>\n",
       "    </tr>\n",
       "    <tr>\n",
       "      <th>row_0</th>\n",
       "      <th></th>\n",
       "      <th></th>\n",
       "    </tr>\n",
       "  </thead>\n",
       "  <tbody>\n",
       "    <tr>\n",
       "      <th>B</th>\n",
       "      <td>76</td>\n",
       "      <td>3</td>\n",
       "    </tr>\n",
       "    <tr>\n",
       "      <th>M</th>\n",
       "      <td>0</td>\n",
       "      <td>20</td>\n",
       "    </tr>\n",
       "  </tbody>\n",
       "</table>\n",
       "</div>"
      ],
      "text/plain": [
       "diagnosis   B   M\n",
       "row_0            \n",
       "B          76   3\n",
       "M           0  20"
      ]
     },
     "execution_count": 5,
     "metadata": {},
     "output_type": "execute_result"
    }
   ],
   "source": [
    "## Comparing predictions against actuals\n",
    "pd.crosstab(predictions, breast_cancer_test.diagnosis)"
   ]
  },
  {
   "cell_type": "markdown",
   "id": "dc083f4c",
   "metadata": {},
   "source": [
    "# k-NN: Regression"
   ]
  },
  {
   "cell_type": "code",
   "execution_count": 2,
   "id": "6e4153ff",
   "metadata": {},
   "outputs": [
    {
     "data": {
      "text/plain": [
       "array([32.33333333, 32.33333333, 32.33333333, 17.66666667, 37.        ,\n",
       "       24.66666667, 37.        , 23.66666667, 22.        , 22.        ])"
      ]
     },
     "execution_count": 2,
     "metadata": {},
     "output_type": "execute_result"
    }
   ],
   "source": [
    "## Here we import the pandas library\n",
    "import pandas as pd\n",
    "\n",
    "## Here we read the data\n",
    "autos = pd.read_csv('autos.csv')\n",
    "\n",
    "## Defining input and target variables\n",
    "autos_X = autos.iloc[:,6:8]\n",
    "autos_Y = autos.iloc[:,8]\n",
    "\n",
    "## Here we normalize the data (0-1 transformation)\n",
    "## Here import the sklearn library\n",
    "from sklearn.preprocessing import MinMaxScaler\n",
    "\n",
    "scaler = MinMaxScaler() \n",
    "\n",
    "autos_X = scaler.fit_transform(autos_X)\n",
    "\n",
    "## Here we split the data into training and testin\n",
    "autos_X_train = autos_X[0:50,]\n",
    "autos_Y_train = autos_Y[0:50,]\n",
    "\n",
    "autos_X_test = autos_X[51:61,]\n",
    "autos_Y_test = autos_Y[51:61,]\n",
    "\n",
    "## Here we import the nearest neighbor regressor \n",
    "from sklearn.neighbors import KNeighborsRegressor\n",
    "\n",
    "## Here we build the three nearest neighbors regressor\n",
    "three_nearest_neighbors = KNeighborsRegressor(n_neighbors = 3).fit(autos_X_train, autos_Y_train)\n",
    "\n",
    "## Here we predict on testing data \n",
    "predictions = three_nearest_neighbors.predict(autos_X_test)\n",
    "predictions"
   ]
  },
  {
   "cell_type": "code",
   "execution_count": 3,
   "id": "0c6f1721",
   "metadata": {},
   "outputs": [
    {
     "name": "stderr",
     "output_type": "stream",
     "text": [
      "Matplotlib is building the font cache; this may take a moment.\n"
     ]
    },
    {
     "data": {
      "image/png": "[encoded data removed]",
      "text/plain": [
       "<Figure size 432x288 with 1 Axes>"
      ]
     },
     "metadata": {
      "needs_background": "light"
     },
     "output_type": "display_data"
    }
   ],
   "source": [
    "## Here we visualize the actuals vs predictions\n",
    "## First we import the matplotlib library\n",
    "import matplotlib.pyplot as plt\n",
    "\n",
    "plt.scatter(autos_Y_test, predictions)\n",
    "plt.xlabel('Actual Average Mileage')\n",
    "plt.ylabel('Predicted Average Mileage')\n",
    "plt.grid()\n",
    "plt.show();"
   ]
  },
  {
   "cell_type": "markdown",
   "id": "edaaa745",
   "metadata": {},
   "source": [
    "# Clustering"
   ]
  },
  {
   "cell_type": "code",
   "execution_count": 5,
   "id": "0bd3a67e",
   "metadata": {},
   "outputs": [
    {
     "data": {
      "text/plain": [
       "array([1, 1, 1, 1, 1, 1, 1, 1, 1, 1, 1, 1, 1, 1, 1, 1, 1, 1, 1, 1, 1, 1,\n",
       "       1, 1, 1, 1, 1, 1, 1, 1, 1, 1, 1, 1, 1, 1, 1, 1, 1, 1, 1, 1, 1, 1,\n",
       "       1, 1, 1, 1, 1, 1, 2, 2, 2, 0, 0, 0, 2, 0, 0, 0, 0, 0, 0, 0, 0, 2,\n",
       "       0, 0, 0, 0, 2, 0, 0, 0, 0, 2, 2, 2, 0, 0, 0, 0, 0, 0, 0, 2, 2, 0,\n",
       "       0, 0, 0, 0, 0, 0, 0, 0, 0, 0, 0, 0, 2, 0, 2, 2, 2, 2, 0, 2, 2, 2,\n",
       "       2, 2, 2, 0, 0, 2, 2, 2, 2, 0, 2, 0, 2, 0, 2, 2, 0, 2, 2, 2, 2, 2,\n",
       "       2, 0, 0, 2, 2, 2, 0, 2, 2, 2, 0, 2, 2, 2, 0, 2, 2, 0], dtype=int32)"
      ]
     },
     "execution_count": 5,
     "metadata": {},
     "output_type": "execute_result"
    }
   ],
   "source": [
    "## Here we import the pandas library\n",
    "import pandas as pd\n",
    "\n",
    "## Here we read the data \n",
    "iris = pd.read_csv('iris_data.csv')\n",
    "\n",
    "## First we need to standardize the data\n",
    "from sklearn.preprocessing import StandardScaler\n",
    "\n",
    "## Here we standardize the features\n",
    "scaler = StandardScaler()\n",
    "features_std = scaler.fit_transform(iris.iloc[:,0:4])\n",
    "\n",
    "## Here we import the KMeans class from sklearn\n",
    "from sklearn.cluster import KMeans\n",
    "\n",
    "## Here we create a k-means object\n",
    "three_clusters = KMeans(n_clusters = 3, n_init = 20)\n",
    "\n",
    "## Here we cluster the data into three clusters\n",
    "iris_three_clusters = three_clusters.fit(features_std)\n",
    "\n",
    "## Here we can see the cluster labels\n",
    "iris_three_clusters.labels_"
   ]
  },
  {
   "cell_type": "markdown",
   "id": "6c964355",
   "metadata": {},
   "source": [
    "# Hierarchical clustering"
   ]
  },
  {
   "cell_type": "code",
   "execution_count": 6,
   "id": "eb0c8ba0",
   "metadata": {},
   "outputs": [
    {
     "data": {
      "image/png": "[encoded data removed]",
      "text/plain": [
       "<Figure size 720x504 with 1 Axes>"
      ]
     },
     "metadata": {
      "needs_background": "light"
     },
     "output_type": "display_data"
    }
   ],
   "source": [
    "## Here we import the libraries\n",
    "import matplotlib.pyplot as plt\n",
    "import scipy.cluster.hierarchy as shc\n",
    "\n",
    "## Here we create the figure \n",
    "plt.figure(figsize=(10, 7))  \n",
    "plt.title(\"Dendrograms of Iris Data\")  \n",
    "\n",
    "## Here we visualize the dendogram\n",
    "dend = shc.dendrogram(shc.linkage(features_std, method = 'complete'))\n",
    "plt.show();"
   ]
  }
 ],
 "metadata": {
  "kernelspec": {
   "display_name": "conda_python3",
   "language": "python",
   "name": "conda_python3"
  },
  "language_info": {
   "codemirror_mode": {
    "name": "ipython",
    "version": 3
   },
   "file_extension": ".py",
   "mimetype": "text/x-python",
   "name": "python",
   "nbconvert_exporter": "python",
   "pygments_lexer": "ipython3",
   "version": "3.6.13"
  }
 },
 "nbformat": 4,
 "nbformat_minor": 5
}
