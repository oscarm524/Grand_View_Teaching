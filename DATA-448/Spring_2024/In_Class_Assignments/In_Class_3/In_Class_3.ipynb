{
 "cells": [
  {
   "cell_type": "markdown",
   "id": "8eb7017e-aa49-4b6d-bc09-ceeec8fefda5",
   "metadata": {},
   "source": [
    "# Loading Libraries"
   ]
  },
  {
   "cell_type": "code",
   "execution_count": 1,
   "id": "7f675634-15f6-4fd8-bd82-5a822bc89eff",
   "metadata": {},
   "outputs": [],
   "source": [
    "import pandas as pd\n",
    "import numpy as np\n",
    "\n",
    "from imblearn.over_sampling import SMOTE\n",
    "from sklearn.model_selection import train_test_split\n",
    "from sklearn.svm import SVC\n",
    "from sklearn.neural_network import MLPClassifier\n",
    "from sklearn.metrics import roc_curve, classification_report"
   ]
  },
  {
   "cell_type": "markdown",
   "id": "923f2e28-b275-4714-a2bf-8df892f90f71",
   "metadata": {},
   "source": [
    "# Reading the data"
   ]
  },
  {
   "cell_type": "code",
   "execution_count": 2,
   "id": "85948596-1d1e-4a6f-8807-9594b4e20805",
   "metadata": {},
   "outputs": [
    {
     "data": {
      "text/html": [
       "<div>\n",
       "<style scoped>\n",
       "    .dataframe tbody tr th:only-of-type {\n",
       "        vertical-align: middle;\n",
       "    }\n",
       "\n",
       "    .dataframe tbody tr th {\n",
       "        vertical-align: top;\n",
       "    }\n",
       "\n",
       "    .dataframe thead th {\n",
       "        text-align: right;\n",
       "    }\n",
       "</style>\n",
       "<table border=\"1\" class=\"dataframe\">\n",
       "  <thead>\n",
       "    <tr style=\"text-align: right;\">\n",
       "      <th></th>\n",
       "      <th>Churn</th>\n",
       "      <th>AccountWeeks</th>\n",
       "      <th>ContractRenewal</th>\n",
       "      <th>DataPlan</th>\n",
       "      <th>DataUsage</th>\n",
       "      <th>CustServCalls</th>\n",
       "      <th>DayMins</th>\n",
       "      <th>DayCalls</th>\n",
       "      <th>MonthlyCharge</th>\n",
       "      <th>OverageFee</th>\n",
       "      <th>RoamMins</th>\n",
       "    </tr>\n",
       "  </thead>\n",
       "  <tbody>\n",
       "    <tr>\n",
       "      <th>0</th>\n",
       "      <td>0</td>\n",
       "      <td>128</td>\n",
       "      <td>1</td>\n",
       "      <td>1</td>\n",
       "      <td>2.7</td>\n",
       "      <td>1</td>\n",
       "      <td>265.1</td>\n",
       "      <td>110</td>\n",
       "      <td>89.0</td>\n",
       "      <td>9.87</td>\n",
       "      <td>10.0</td>\n",
       "    </tr>\n",
       "    <tr>\n",
       "      <th>1</th>\n",
       "      <td>0</td>\n",
       "      <td>107</td>\n",
       "      <td>1</td>\n",
       "      <td>1</td>\n",
       "      <td>3.7</td>\n",
       "      <td>1</td>\n",
       "      <td>161.6</td>\n",
       "      <td>123</td>\n",
       "      <td>82.0</td>\n",
       "      <td>9.78</td>\n",
       "      <td>13.7</td>\n",
       "    </tr>\n",
       "    <tr>\n",
       "      <th>2</th>\n",
       "      <td>0</td>\n",
       "      <td>137</td>\n",
       "      <td>1</td>\n",
       "      <td>0</td>\n",
       "      <td>0.0</td>\n",
       "      <td>0</td>\n",
       "      <td>243.4</td>\n",
       "      <td>114</td>\n",
       "      <td>52.0</td>\n",
       "      <td>6.06</td>\n",
       "      <td>12.2</td>\n",
       "    </tr>\n",
       "    <tr>\n",
       "      <th>3</th>\n",
       "      <td>0</td>\n",
       "      <td>84</td>\n",
       "      <td>0</td>\n",
       "      <td>0</td>\n",
       "      <td>0.0</td>\n",
       "      <td>2</td>\n",
       "      <td>299.4</td>\n",
       "      <td>71</td>\n",
       "      <td>57.0</td>\n",
       "      <td>3.10</td>\n",
       "      <td>6.6</td>\n",
       "    </tr>\n",
       "    <tr>\n",
       "      <th>4</th>\n",
       "      <td>0</td>\n",
       "      <td>75</td>\n",
       "      <td>0</td>\n",
       "      <td>0</td>\n",
       "      <td>0.0</td>\n",
       "      <td>3</td>\n",
       "      <td>166.7</td>\n",
       "      <td>113</td>\n",
       "      <td>41.0</td>\n",
       "      <td>7.42</td>\n",
       "      <td>10.1</td>\n",
       "    </tr>\n",
       "  </tbody>\n",
       "</table>\n",
       "</div>"
      ],
      "text/plain": [
       "   Churn  AccountWeeks  ContractRenewal  DataPlan  DataUsage  CustServCalls  \\\n",
       "0      0           128                1         1        2.7              1   \n",
       "1      0           107                1         1        3.7              1   \n",
       "2      0           137                1         0        0.0              0   \n",
       "3      0            84                0         0        0.0              2   \n",
       "4      0            75                0         0        0.0              3   \n",
       "\n",
       "   DayMins  DayCalls  MonthlyCharge  OverageFee  RoamMins  \n",
       "0    265.1       110           89.0        9.87      10.0  \n",
       "1    161.6       123           82.0        9.78      13.7  \n",
       "2    243.4       114           52.0        6.06      12.2  \n",
       "3    299.4        71           57.0        3.10       6.6  \n",
       "4    166.7       113           41.0        7.42      10.1  "
      ]
     },
     "execution_count": 2,
     "metadata": {},
     "output_type": "execute_result"
    }
   ],
   "source": [
    "churn_data = pd.read_csv('telecom_churn.csv')\n",
    "churn_data.head()"
   ]
  },
  {
   "cell_type": "markdown",
   "id": "0fa0bde7-50a8-42f0-9eb9-ea5762fa866f",
   "metadata": {},
   "source": [
    "# Defining X and Y "
   ]
  },
  {
   "cell_type": "code",
   "execution_count": 3,
   "id": "a10f2800-7142-4ba3-b326-6ba69d505579",
   "metadata": {},
   "outputs": [],
   "source": [
    "X = churn_data[['AccountWeeks', 'ContractRenewal', 'CustServCalls', 'DayMins', 'MonthlyCharge']]\n",
    "Y = churn_data['Churn']"
   ]
  },
  {
   "cell_type": "markdown",
   "id": "6f246b11-7dc9-4651-8a6b-8e47768e100a",
   "metadata": {},
   "source": [
    "# Splitting the data"
   ]
  },
  {
   "cell_type": "code",
   "execution_count": 4,
   "id": "5f10211e-3ccd-4670-96f0-cda36168f653",
   "metadata": {},
   "outputs": [],
   "source": [
    "X_train, X_test, Y_train, Y_test = train_test_split(X, Y, test_size = 0.2, stratify = Y)"
   ]
  },
  {
   "cell_type": "markdown",
   "id": "d260b478-8c9d-43a9-8f0e-69c2f0f324ee",
   "metadata": {},
   "source": [
    "# SMOTE"
   ]
  },
  {
   "cell_type": "code",
   "execution_count": 5,
   "id": "82bec5f2-3048-4aab-9e19-49bd75773596",
   "metadata": {},
   "outputs": [],
   "source": [
    "X_SMOTE, Y_SMOTE = SMOTE().fit_resample(X_train, Y_train)"
   ]
  },
  {
   "cell_type": "code",
   "execution_count": 6,
   "id": "e25e694e-1b70-46e9-a323-20d4d7afdd6c",
   "metadata": {},
   "outputs": [
    {
     "data": {
      "text/plain": [
       "1    0.5\n",
       "0    0.5\n",
       "Name: Churn, dtype: float64"
      ]
     },
     "execution_count": 6,
     "metadata": {},
     "output_type": "execute_result"
    }
   ],
   "source": [
    "Y_SMOTE.value_counts(normalize = True)"
   ]
  },
  {
   "cell_type": "markdown",
   "id": "68b6ddcf-7ced-4369-9a4a-9bde91a973e1",
   "metadata": {},
   "source": [
    "# SVM"
   ]
  },
  {
   "cell_type": "code",
   "execution_count": 8,
   "id": "4415dfb0-8658-4232-9410-29c3d727d624",
   "metadata": {},
   "outputs": [
    {
     "data": {
      "text/html": [
       "<div>\n",
       "<style scoped>\n",
       "    .dataframe tbody tr th:only-of-type {\n",
       "        vertical-align: middle;\n",
       "    }\n",
       "\n",
       "    .dataframe tbody tr th {\n",
       "        vertical-align: top;\n",
       "    }\n",
       "\n",
       "    .dataframe thead th {\n",
       "        text-align: right;\n",
       "    }\n",
       "</style>\n",
       "<table border=\"1\" class=\"dataframe\">\n",
       "  <thead>\n",
       "    <tr style=\"text-align: right;\">\n",
       "      <th></th>\n",
       "      <th>False_Positive</th>\n",
       "      <th>True_Positive</th>\n",
       "      <th>Cutoff</th>\n",
       "      <th>True_Positive_minus_1</th>\n",
       "      <th>Distance_to_perfect_model</th>\n",
       "    </tr>\n",
       "  </thead>\n",
       "  <tbody>\n",
       "    <tr>\n",
       "      <th>0</th>\n",
       "      <td>0.200000</td>\n",
       "      <td>0.567010</td>\n",
       "      <td>0.542995</td>\n",
       "      <td>-0.432990</td>\n",
       "      <td>0.476949</td>\n",
       "    </tr>\n",
       "    <tr>\n",
       "      <th>1</th>\n",
       "      <td>0.184211</td>\n",
       "      <td>0.556701</td>\n",
       "      <td>0.550674</td>\n",
       "      <td>-0.443299</td>\n",
       "      <td>0.480049</td>\n",
       "    </tr>\n",
       "    <tr>\n",
       "      <th>2</th>\n",
       "      <td>0.173684</td>\n",
       "      <td>0.546392</td>\n",
       "      <td>0.556568</td>\n",
       "      <td>-0.453608</td>\n",
       "      <td>0.485723</td>\n",
       "    </tr>\n",
       "    <tr>\n",
       "      <th>3</th>\n",
       "      <td>0.200000</td>\n",
       "      <td>0.556701</td>\n",
       "      <td>0.544665</td>\n",
       "      <td>-0.443299</td>\n",
       "      <td>0.486327</td>\n",
       "    </tr>\n",
       "    <tr>\n",
       "      <th>4</th>\n",
       "      <td>0.156140</td>\n",
       "      <td>0.536082</td>\n",
       "      <td>0.566286</td>\n",
       "      <td>-0.463918</td>\n",
       "      <td>0.489489</td>\n",
       "    </tr>\n",
       "  </tbody>\n",
       "</table>\n",
       "</div>"
      ],
      "text/plain": [
       "   False_Positive  True_Positive    Cutoff  True_Positive_minus_1  \\\n",
       "0        0.200000       0.567010  0.542995              -0.432990   \n",
       "1        0.184211       0.556701  0.550674              -0.443299   \n",
       "2        0.173684       0.546392  0.556568              -0.453608   \n",
       "3        0.200000       0.556701  0.544665              -0.443299   \n",
       "4        0.156140       0.536082  0.566286              -0.463918   \n",
       "\n",
       "   Distance_to_perfect_model  \n",
       "0                   0.476949  \n",
       "1                   0.480049  \n",
       "2                   0.485723  \n",
       "3                   0.486327  \n",
       "4                   0.489489  "
      ]
     },
     "execution_count": 8,
     "metadata": {},
     "output_type": "execute_result"
    }
   ],
   "source": [
    "svm_md = SVC(C = 0.01, kernel = 'rbf', probability = True).fit(X_SMOTE, Y_SMOTE)\n",
    "\n",
    "svm_pred = svm_md.predict_proba(X_test)[:, 1]\n",
    "\n",
    "## Computing the ROC-curve\n",
    "fpr, tpr, thresholds = roc_curve(Y_test, svm_pred)\n",
    "\n",
    "## Finding the optimal threshold\n",
    "svm_cutoff = pd.DataFrame({'False_Positive': fpr,\n",
    "                           'True_Positive': tpr,\n",
    "                           'Cutoff': thresholds})\n",
    "\n",
    "svm_cutoff['True_Positive_minus_1'] = svm_cutoff['True_Positive'] - 1\n",
    "svm_cutoff['Distance_to_perfect_model'] = np.sqrt(svm_cutoff['False_Positive']**2 + svm_cutoff['True_Positive_minus_1']**2)\n",
    "\n",
    "## Sorting based on distance to perfect model \n",
    "svm_cutoff = svm_cutoff.sort_values(by = 'Distance_to_perfect_model').reset_index(drop = True)\n",
    "svm_cutoff.head()"
   ]
  },
  {
   "cell_type": "code",
   "execution_count": 9,
   "id": "0dffba5c-ede6-45fd-b463-d83f15002b18",
   "metadata": {},
   "outputs": [
    {
     "name": "stdout",
     "output_type": "stream",
     "text": [
      "              precision    recall  f1-score   support\n",
      "\n",
      "           0       0.91      0.80      0.85       570\n",
      "           1       0.32      0.56      0.41        97\n",
      "\n",
      "    accuracy                           0.76       667\n",
      "   macro avg       0.62      0.68      0.63       667\n",
      "weighted avg       0.83      0.76      0.79       667\n",
      "\n"
     ]
    }
   ],
   "source": [
    "# Changing likelihoods to labels\n",
    "svm_label = np.where(svm_pred < 0.542995, 0, 1)\n",
    "\n",
    "# Computing the classification_report\n",
    "print(classification_report(Y_test, svm_label))"
   ]
  },
  {
   "cell_type": "markdown",
   "id": "d4508ff7-ffa3-4c49-8604-e80cfb7cafba",
   "metadata": {},
   "source": [
    "# MLP"
   ]
  },
  {
   "cell_type": "code",
   "execution_count": 13,
   "id": "de1ebbdc-1fb5-470b-92d2-f302e862a082",
   "metadata": {},
   "outputs": [
    {
     "data": {
      "text/html": [
       "<div>\n",
       "<style scoped>\n",
       "    .dataframe tbody tr th:only-of-type {\n",
       "        vertical-align: middle;\n",
       "    }\n",
       "\n",
       "    .dataframe tbody tr th {\n",
       "        vertical-align: top;\n",
       "    }\n",
       "\n",
       "    .dataframe thead th {\n",
       "        text-align: right;\n",
       "    }\n",
       "</style>\n",
       "<table border=\"1\" class=\"dataframe\">\n",
       "  <thead>\n",
       "    <tr style=\"text-align: right;\">\n",
       "      <th></th>\n",
       "      <th>False_Positive</th>\n",
       "      <th>True_Positive</th>\n",
       "      <th>Cutoff</th>\n",
       "      <th>True_Positive_minus_1</th>\n",
       "      <th>Distance_to_perfect_model</th>\n",
       "    </tr>\n",
       "  </thead>\n",
       "  <tbody>\n",
       "    <tr>\n",
       "      <th>0</th>\n",
       "      <td>0.136842</td>\n",
       "      <td>0.835052</td>\n",
       "      <td>0.637269</td>\n",
       "      <td>-0.164948</td>\n",
       "      <td>0.214322</td>\n",
       "    </tr>\n",
       "    <tr>\n",
       "      <th>1</th>\n",
       "      <td>0.159649</td>\n",
       "      <td>0.855670</td>\n",
       "      <td>0.586778</td>\n",
       "      <td>-0.144330</td>\n",
       "      <td>0.215218</td>\n",
       "    </tr>\n",
       "    <tr>\n",
       "      <th>2</th>\n",
       "      <td>0.128070</td>\n",
       "      <td>0.824742</td>\n",
       "      <td>0.670881</td>\n",
       "      <td>-0.175258</td>\n",
       "      <td>0.217065</td>\n",
       "    </tr>\n",
       "    <tr>\n",
       "      <th>3</th>\n",
       "      <td>0.152632</td>\n",
       "      <td>0.845361</td>\n",
       "      <td>0.608696</td>\n",
       "      <td>-0.154639</td>\n",
       "      <td>0.217278</td>\n",
       "    </tr>\n",
       "    <tr>\n",
       "      <th>4</th>\n",
       "      <td>0.159649</td>\n",
       "      <td>0.845361</td>\n",
       "      <td>0.591877</td>\n",
       "      <td>-0.154639</td>\n",
       "      <td>0.222264</td>\n",
       "    </tr>\n",
       "  </tbody>\n",
       "</table>\n",
       "</div>"
      ],
      "text/plain": [
       "   False_Positive  True_Positive    Cutoff  True_Positive_minus_1  \\\n",
       "0        0.136842       0.835052  0.637269              -0.164948   \n",
       "1        0.159649       0.855670  0.586778              -0.144330   \n",
       "2        0.128070       0.824742  0.670881              -0.175258   \n",
       "3        0.152632       0.845361  0.608696              -0.154639   \n",
       "4        0.159649       0.845361  0.591877              -0.154639   \n",
       "\n",
       "   Distance_to_perfect_model  \n",
       "0                   0.214322  \n",
       "1                   0.215218  \n",
       "2                   0.217065  \n",
       "3                   0.217278  \n",
       "4                   0.222264  "
      ]
     },
     "execution_count": 13,
     "metadata": {},
     "output_type": "execute_result"
    }
   ],
   "source": [
    "mlp_md = MLPClassifier(hidden_layer_sizes = (8, 16, 16, 8), \n",
    "                       activation = 'logistic',\n",
    "                       max_iter = 1000).fit(X_SMOTE, Y_SMOTE)\n",
    "\n",
    "mlp_pred = mlp_md.predict_proba(X_test)[:, 1]\n",
    "\n",
    "## Computing the ROC-curve\n",
    "fpr, tpr, thresholds = roc_curve(Y_test, mlp_pred)\n",
    "\n",
    "## Finding the optimal threshold\n",
    "mlp_cutoff = pd.DataFrame({'False_Positive': fpr,\n",
    "                           'True_Positive': tpr,\n",
    "                           'Cutoff': thresholds})\n",
    "\n",
    "mlp_cutoff['True_Positive_minus_1'] = mlp_cutoff['True_Positive'] - 1\n",
    "mlp_cutoff['Distance_to_perfect_model'] = np.sqrt(mlp_cutoff['False_Positive']**2 + mlp_cutoff['True_Positive_minus_1']**2)\n",
    "\n",
    "## Sorting based on distance to perfect model \n",
    "mlp_cutoff = mlp_cutoff.sort_values(by = 'Distance_to_perfect_model').reset_index(drop = True)\n",
    "mlp_cutoff.head()"
   ]
  },
  {
   "cell_type": "code",
   "execution_count": 14,
   "id": "3beb1007-bb55-4492-bc84-4740ebf8fe8c",
   "metadata": {},
   "outputs": [
    {
     "name": "stdout",
     "output_type": "stream",
     "text": [
      "              precision    recall  f1-score   support\n",
      "\n",
      "           0       0.97      0.86      0.91       570\n",
      "           1       0.51      0.84      0.63        97\n",
      "\n",
      "    accuracy                           0.86       667\n",
      "   macro avg       0.74      0.85      0.77       667\n",
      "weighted avg       0.90      0.86      0.87       667\n",
      "\n"
     ]
    }
   ],
   "source": [
    "# Changing likelihoods to labels\n",
    "mlp_label = np.where(mlp_pred < 0.637269, 0, 1)\n",
    "\n",
    "# Computing the classification_report\n",
    "print(classification_report(Y_test, mlp_label))"
   ]
  },
  {
   "cell_type": "code",
   "execution_count": null,
   "id": "2d752992-67fe-4799-b54a-8fed710a7451",
   "metadata": {},
   "outputs": [],
   "source": [
    "# From the above results, I would use the MLPClassifier model to predict Churn."
   ]
  }
 ],
 "metadata": {
  "kernelspec": {
   "display_name": "Python 3 (ipykernel)",
   "language": "python",
   "name": "python3"
  },
  "language_info": {
   "codemirror_mode": {
    "name": "ipython",
    "version": 3
   },
   "file_extension": ".py",
   "mimetype": "text/x-python",
   "name": "python",
   "nbconvert_exporter": "python",
   "pygments_lexer": "ipython3",
   "version": "3.8.16"
  }
 },
 "nbformat": 4,
 "nbformat_minor": 5
}
