{
 "cells": [
  {
   "cell_type": "code",
   "execution_count": 1,
   "id": "5ef2894f",
   "metadata": {},
   "outputs": [
    {
     "name": "stdout",
     "output_type": "stream",
     "text": [
      "[*********************100%***********************]  1 of 1 completed\n",
      "[*********************100%***********************]  1 of 1 completed\n"
     ]
    },
    {
     "data": {
      "text/plain": [
       "AMZN_wgt              0.800000\n",
       "AAPL_wgt              0.200000\n",
       "portfolio_variance    0.000572\n",
       "Name: 80, dtype: float64"
      ]
     },
     "execution_count": 1,
     "metadata": {},
     "output_type": "execute_result"
    }
   ],
   "source": [
    "######################\n",
    "## Minimum Variance ##\n",
    "######################\n",
    "\n",
    "## Importing yahoo finance \n",
    "import yfinance as yf\n",
    "\n",
    "## Downloading Amazon stock price data \n",
    "amazon = yf.download('AMZN', start = '2020-01-01', end = '2020-12-31')\n",
    "\n",
    "## Downloading Apple stock price data \n",
    "apple = yf.download('AAPL', start = '2020-01-01', end = '2020-12-31')\n",
    "\n",
    "## Importing pandas and numpy \n",
    "import pandas as pd\n",
    "import numpy as np\n",
    "\n",
    "## Computing the total returns\n",
    "returns = pd.DataFrame({'AMZN_tot_return': amazon['Adj Close'].pct_change(), \n",
    "                        'AAPL_tot_return': apple['Adj Close'].pct_change()})\n",
    "returns = returns.dropna()\n",
    "\n",
    "## Creating a series of weights\n",
    "weights = pd.DataFrame({'AMZN_wgt': np.arange(0, 1, 0.01)})\n",
    "weights['AAPL_wgt'] = 1 - weights['AMZN_wgt']\n",
    "\n",
    "## Computing the variance and the covariance\n",
    "var_amazon = returns['AMZN_tot_return'].var()\n",
    "var_apple = returns['AAPL_tot_return'].var()\n",
    "cov_amazon_apple = returns[['AMZN_tot_return', 'AAPL_tot_return']].cov().iloc[0, 1]\n",
    "\n",
    "## Computing the variance of each weight combination\n",
    "weights['portfolio_variance'] = weights['AMZN_wgt']**2 * var_amazon + weights['AAPL_wgt']**2 * var_apple + 2*cov_amazon_apple*weights['AMZN_wgt']*weights['AAPL_wgt']\n",
    "\n",
    "## Identifying portfolio with minimum variance\n",
    "weights_min = weights.loc[weights['portfolio_variance'].idxmin(), ]\n",
    "weights_min"
   ]
  },
  {
   "cell_type": "code",
   "execution_count": 2,
   "id": "1e15c19b",
   "metadata": {},
   "outputs": [
    {
     "name": "stdout",
     "output_type": "stream",
     "text": [
      "[*********************100%***********************]  1 of 1 completed\n",
      "[*********************100%***********************]  1 of 1 completed\n"
     ]
    },
    {
     "data": {
      "text/plain": [
       "AMZN_wgt              0.660000\n",
       "AAPL_wgt              0.340000\n",
       "portfolio_return      0.002580\n",
       "portfolio_variance    0.000582\n",
       "Sharpe_Ratio          0.106880\n",
       "Name: 66, dtype: float64"
      ]
     },
     "execution_count": 2,
     "metadata": {},
     "output_type": "execute_result"
    }
   ],
   "source": [
    "##########################\n",
    "## Maximum Sharpe Ratio ##\n",
    "##########################\n",
    "\n",
    "## Importing yahoo finance \n",
    "import yfinance as yf\n",
    "\n",
    "## Downloading Amazon stock price data \n",
    "amazon = yf.download('AMZN', start = '2020-01-01', end = '2020-12-31')\n",
    "\n",
    "## Downloading Apple stock price data \n",
    "apple = yf.download('AAPL', start = '2020-01-01', end = '2020-12-31')\n",
    "\n",
    "## Importing pandas and numpy \n",
    "import pandas as pd\n",
    "import numpy as np\n",
    "\n",
    "## Computing the total returns\n",
    "returns = pd.DataFrame({'AMZN_tot_return': amazon['Adj Close'].pct_change(), \n",
    "                        'AAPL_tot_return': apple['Adj Close'].pct_change()})\n",
    "returns = returns.dropna()\n",
    "\n",
    "## Creating a series of weights\n",
    "weights = pd.DataFrame({'AMZN_wgt': np.arange(0, 1, 0.01)})\n",
    "weights['AAPL_wgt'] = 1 - weights['AMZN_wgt']\n",
    "\n",
    "## Computing the portfolio returns for each weight combination\n",
    "weights['portfolio_return'] = weights['AMZN_wgt']*returns['AMZN_tot_return'].mean() + weights['AAPL_wgt']*returns['AAPL_tot_return'].mean()\n",
    "\n",
    "## Computing the variance and the covariance\n",
    "var_amazon = returns['AMZN_tot_return'].var()\n",
    "var_apple = returns['AAPL_tot_return'].var()\n",
    "cov_amazon_apple = returns[['AMZN_tot_return', 'AAPL_tot_return']].cov().iloc[0, 1]\n",
    "\n",
    "## Computing the variance of each weight combination\n",
    "weights['portfolio_variance'] = weights['AMZN_wgt']**2 * var_amazon + weights['AAPL_wgt']**2 * var_apple + 2*cov_amazon_apple*weights['AMZN_wgt']*weights['AAPL_wgt']\n",
    "\n",
    "## Computing the Sharpe Ratio of each weight combination\n",
    "daily_risk_rate = 0.0008 / 365\n",
    "weights['Sharpe_Ratio'] = (weights['portfolio_return'] - daily_risk_rate) / np.sqrt(weights['portfolio_variance'])\n",
    "\n",
    "## Identifying portfolio with minimum variance\n",
    "weights_max = weights.loc[weights['Sharpe_Ratio'].idxmax(), ]\n",
    "weights_max"
   ]
  },
  {
   "cell_type": "code",
   "execution_count": 3,
   "id": "8bf78901",
   "metadata": {},
   "outputs": [
    {
     "name": "stdout",
     "output_type": "stream",
     "text": [
      "[*********************100%***********************]  1 of 1 completed\n",
      "[*********************100%***********************]  1 of 1 completed\n"
     ]
    },
    {
     "data": {
      "text/plain": [
       "array([0.80162454, 0.19837546])"
      ]
     },
     "execution_count": 3,
     "metadata": {},
     "output_type": "execute_result"
    }
   ],
   "source": [
    "##############################################\n",
    "## Minimum Variance (quadratic programming) ##\n",
    "##############################################\n",
    "\n",
    "## Importing yahoo finance \n",
    "import yfinance as yf\n",
    "\n",
    "## Downloading Amazon stock price data \n",
    "amazon = yf.download('AMZN', start = '2020-01-01', end = '2020-12-31')\n",
    "\n",
    "## Downloading Apple stock price data \n",
    "apple = yf.download('AAPL', start = '2020-01-01', end = '2020-12-31')\n",
    "\n",
    "## Importing pandas and numpy \n",
    "import pandas as pd\n",
    "import numpy as np\n",
    "\n",
    "## Computing the total returns\n",
    "returns = pd.DataFrame({'AMZN_tot_return': amazon['Adj Close'].pct_change(), \n",
    "                        'AAPL_tot_return': apple['Adj Close'].pct_change()})\n",
    "returns = returns.dropna()\n",
    "\n",
    "## Importing scipy\n",
    "from scipy.optimize import minimize \n",
    "\n",
    "## Defining the portfolio variance\n",
    "def minimum_variance(x, cov_matrix):\n",
    "    f = float(np.sqrt(x.dot(cov_matrix).dot(x.T)))\n",
    "    return f \n",
    "\n",
    "## Defining the number of stocks\n",
    "n = returns.shape[1]\n",
    "\n",
    "## Defining the initial weights\n",
    "x = np.repeat(1/n, n)\n",
    "\n",
    "## Defining the covariance matrix\n",
    "cov_matrix = returns.cov()\n",
    "\n",
    "## Defining the matrix of contraints\n",
    "cons = ({'type': 'eq','fun': lambda x: np.sum(x) - 1})\n",
    "bounds = [(0, 1,) for i in range(len(x))]\n",
    "\n",
    "## Solving the optimization problem\n",
    "result_mv = minimize(minimum_variance, x, args = (cov_matrix), method = 'SLSQP', bounds = bounds, constraints = cons).x \n",
    "result_mv"
   ]
  },
  {
   "cell_type": "code",
   "execution_count": 4,
   "id": "68551306",
   "metadata": {},
   "outputs": [
    {
     "name": "stdout",
     "output_type": "stream",
     "text": [
      "[*********************100%***********************]  1 of 1 completed\n",
      "[*********************100%***********************]  1 of 1 completed\n"
     ]
    },
    {
     "data": {
      "text/plain": [
       "array([0.65901238, 0.34098762])"
      ]
     },
     "execution_count": 4,
     "metadata": {},
     "output_type": "execute_result"
    }
   ],
   "source": [
    "##################################################\n",
    "## Maximum Sharpe-Ratio (quadratic programming) ##\n",
    "##################################################\n",
    "\n",
    "## Importing yahoo finance \n",
    "import yfinance as yf\n",
    "\n",
    "## Downloading Amazon stock price data \n",
    "amazon = yf.download('AMZN', start = '2020-01-01', end = '2020-12-31')\n",
    "\n",
    "## Downloading Apple stock price data \n",
    "apple = yf.download('AAPL', start = '2020-01-01', end = '2020-12-31')\n",
    "\n",
    "## Importing pandas and numpy \n",
    "import pandas as pd\n",
    "import numpy as np\n",
    "\n",
    "## Computing the total returns\n",
    "returns = pd.DataFrame({'AMZN_tot_return': amazon['Adj Close'].pct_change(), \n",
    "                        'AAPL_tot_return': apple['Adj Close'].pct_change()})\n",
    "returns = returns.dropna()\n",
    "\n",
    "## Importing scipy\n",
    "from scipy.optimize import minimize \n",
    "\n",
    "## Defining the portfolio Sharpe Ratio\n",
    "def sharpe_ratio(x, cov_matrix, mean_vector, r_f):\n",
    "    f = float(-(x.dot(mean_vector) - r_f) / np.sqrt(x.dot(cov_matrix).dot(x.T)))\n",
    "    return f \n",
    "\n",
    "## Defining the risk free rate\n",
    "daily_risk = 0.0008 / 365\n",
    "\n",
    "## Defining the initial weights\n",
    "x = np.repeat(1/n, n)\n",
    "\n",
    "## Defining the mean returns\n",
    "mean_vector = np.mean(returns, axis=0)\n",
    "\n",
    "## Defining the covariance matrix\n",
    "cov_matrix = returns.cov()\n",
    "\n",
    "## Defining the matrix of contraints\n",
    "cons = ({'type': 'eq','fun': lambda x: np.sum(x) - 1})\n",
    "bounds = [(0, 1,) for i in range(len(x))]\n",
    "\n",
    "## Solving the optimization problem\n",
    "result_Sharpe = minimize(sharpe_ratio, x, args=(cov_matrix, mean_vector, daily_risk), method = 'SLSQP', bounds = bounds, constraints = cons).x \n",
    "result_Sharpe"
   ]
  },
  {
   "cell_type": "code",
   "execution_count": 5,
   "id": "68121276",
   "metadata": {},
   "outputs": [
    {
     "name": "stdout",
     "output_type": "stream",
     "text": [
      "[*********************100%***********************]  1 of 1 completed\n",
      "[*********************100%***********************]  1 of 1 completed\n",
      "[*********************100%***********************]  1 of 1 completed\n",
      "[*********************100%***********************]  1 of 1 completed\n",
      "[*********************100%***********************]  1 of 1 completed\n"
     ]
    },
    {
     "data": {
      "text/plain": [
       "array([3.74303592e-01, 0.00000000e+00, 1.78998270e-01, 1.04083409e-17,\n",
       "       4.46698139e-01])"
      ]
     },
     "execution_count": 5,
     "metadata": {},
     "output_type": "execute_result"
    }
   ],
   "source": [
    "##############################################\n",
    "## Minimum Variance (quadratic programming) ##\n",
    "##############################################\n",
    "\n",
    "## Importing yahoo finance \n",
    "import yfinance as yf\n",
    "\n",
    "## Downloading Amazon stock price data \n",
    "amazon = yf.download('AMZN', start = '2020-01-01', end = '2020-12-31')\n",
    "\n",
    "## Downloading Apple stock price data \n",
    "apple = yf.download('AAPL', start = '2020-01-01', end = '2020-12-31')\n",
    "\n",
    "## Downloading Netflix stock price data\n",
    "netflix = yf.download('NFLX', start = '2020-01-01', end = '2020-12-31')\n",
    "\n",
    "## Downloading Tesla stock price data\n",
    "tesla = yf.download('TSLA', start = '2020-01-01', end = '2020-12-31')\n",
    "\n",
    "## Downloading Google stock price data\n",
    "google = yf.download('GOOG', start = '2020-01-01', end = '2020-12-31')\n",
    "\n",
    "## Importing pandas and numpy \n",
    "import pandas as pd\n",
    "import numpy as np\n",
    "\n",
    "## Computing the total returns\n",
    "returns = pd.DataFrame({'AMZN_tot_return': amazon['Adj Close'].pct_change(), \n",
    "                        'AAPL_tot_return': apple['Adj Close'].pct_change(),\n",
    "                        'NFLX_tot_return': netflix['Adj Close'].pct_change(),\n",
    "                        'TSLA_tot_return': tesla['Adj Close'].pct_change(),\n",
    "                        'GOOG_tot_return': google['Adj Close'].pct_change()})\n",
    "returns = returns.dropna()\n",
    "\n",
    "## Importing scipy\n",
    "from scipy.optimize import minimize \n",
    "\n",
    "## Defining the portfolio variance\n",
    "def minimum_variance(x, cov_matrix):\n",
    "    f = float(np.sqrt(x.dot(cov_matrix).dot(x.T)))\n",
    "    return f \n",
    "\n",
    "## Defining the number of stocks\n",
    "n = returns.shape[1]\n",
    "\n",
    "## Defining the initial weights\n",
    "x = np.repeat(1/n, n)\n",
    "\n",
    "## Defining the covariance matrix\n",
    "cov_matrix = returns.cov()\n",
    "\n",
    "## Defining the matrix of contraints\n",
    "cons = ({'type': 'eq','fun': lambda x: np.sum(x) - 1})\n",
    "bounds = [(0, 1,) for i in range(len(x))]\n",
    "\n",
    "## Solving the optimization problem\n",
    "result_mv = minimize(minimum_variance, x, args = (cov_matrix), method = 'SLSQP', bounds = bounds, constraints = cons).x \n",
    "result_mv"
   ]
  },
  {
   "cell_type": "code",
   "execution_count": 6,
   "id": "be344d9f",
   "metadata": {},
   "outputs": [
    {
     "name": "stdout",
     "output_type": "stream",
     "text": [
      "[*********************100%***********************]  1 of 1 completed\n",
      "[*********************100%***********************]  1 of 1 completed\n",
      "[*********************100%***********************]  1 of 1 completed\n",
      "[*********************100%***********************]  1 of 1 completed\n",
      "[*********************100%***********************]  1 of 1 completed\n"
     ]
    },
    {
     "data": {
      "text/plain": [
       "array([2.75056736e-01, 0.00000000e+00, 5.42101086e-18, 7.24943264e-01,\n",
       "       0.00000000e+00])"
      ]
     },
     "execution_count": 6,
     "metadata": {},
     "output_type": "execute_result"
    }
   ],
   "source": [
    "##################################################\n",
    "## Maximum Sharpe-Ratio (quadratic programming) ##\n",
    "##################################################\n",
    "\n",
    "## Importing yahoo finance \n",
    "import yfinance as yf\n",
    "\n",
    "## Downloading Amazon stock price data \n",
    "amazon = yf.download('AMZN', start = '2020-01-01', end = '2020-12-31')\n",
    "\n",
    "## Downloading Apple stock price data \n",
    "apple = yf.download('AAPL', start = '2020-01-01', end = '2020-12-31')\n",
    "\n",
    "## Downloading Netflix stock price data\n",
    "netflix = yf.download('NFLX', start = '2020-01-01', end = '2020-12-31')\n",
    "\n",
    "## Downloading Tesla stock price data\n",
    "tesla = yf.download('TSLA', start = '2020-01-01', end = '2020-12-31')\n",
    "\n",
    "## Downloading Google stock price data\n",
    "google = yf.download('GOOG', start = '2020-01-01', end = '2020-12-31')\n",
    "\n",
    "## Importing pandas and numpy \n",
    "import pandas as pd\n",
    "import numpy as np\n",
    "\n",
    "## Computing the total returns\n",
    "returns = pd.DataFrame({'AMZN_tot_return': amazon['Adj Close'].pct_change(), \n",
    "                        'AAPL_tot_return': apple['Adj Close'].pct_change(),\n",
    "                        'NFLX_tot_return': netflix['Adj Close'].pct_change(),\n",
    "                        'TSLA_tot_return': tesla['Adj Close'].pct_change(),\n",
    "                        'GOOG_tot_return': google['Adj Close'].pct_change()})\n",
    "returns = returns.dropna()\n",
    "\n",
    "## Importing scipy\n",
    "from scipy.optimize import minimize \n",
    "\n",
    "## Defining the portfolio Sharpe Ratio\n",
    "def sharpe_ratio(x, cov_matrix, mean_vector, r_f):\n",
    "    f = float(-(x.dot(mean_vector) - r_f) / np.sqrt(x.dot(cov_matrix).dot(x.T)))\n",
    "    return f \n",
    "\n",
    "## Defining the risk free rate\n",
    "daily_risk = 0.0008 / 365\n",
    "\n",
    "## Defining the initial weights\n",
    "x = np.repeat(1/n, n)\n",
    "\n",
    "## Defining the mean returns\n",
    "mean_vector = np.mean(returns, axis=0)\n",
    "\n",
    "## Defining the covariance matrix\n",
    "cov_matrix = returns.cov()\n",
    "\n",
    "## Defining the matrix of contraints\n",
    "cons = ({'type': 'eq','fun': lambda x: np.sum(x) - 1})\n",
    "bounds = [(0, 1,) for i in range(len(x))]\n",
    "\n",
    "## Solving the optimization problem\n",
    "result_Sharpe = minimize(sharpe_ratio, x, args=(cov_matrix, mean_vector, daily_risk), method = 'SLSQP', bounds = bounds, constraints = cons).x \n",
    "result_Sharpe"
   ]
  }
 ],
 "metadata": {
  "kernelspec": {
   "display_name": "conda_python3",
   "language": "python",
   "name": "conda_python3"
  },
  "language_info": {
   "codemirror_mode": {
    "name": "ipython",
    "version": 3
   },
   "file_extension": ".py",
   "mimetype": "text/x-python",
   "name": "python",
   "nbconvert_exporter": "python",
   "pygments_lexer": "ipython3",
   "version": "3.6.13"
  }
 },
 "nbformat": 4,
 "nbformat_minor": 5
}
