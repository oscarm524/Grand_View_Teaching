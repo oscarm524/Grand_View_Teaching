{
 "cells": [
  {
   "cell_type": "code",
   "execution_count": 1,
   "id": "e24d81c4",
   "metadata": {},
   "outputs": [
    {
     "data": {
      "text/html": [
       "<div>\n",
       "<style scoped>\n",
       "    .dataframe tbody tr th:only-of-type {\n",
       "        vertical-align: middle;\n",
       "    }\n",
       "\n",
       "    .dataframe tbody tr th {\n",
       "        vertical-align: top;\n",
       "    }\n",
       "\n",
       "    .dataframe thead th {\n",
       "        text-align: right;\n",
       "    }\n",
       "</style>\n",
       "<table border=\"1\" class=\"dataframe\">\n",
       "  <thead>\n",
       "    <tr style=\"text-align: right;\">\n",
       "      <th></th>\n",
       "      <th>age</th>\n",
       "      <th>sex</th>\n",
       "      <th>bmi</th>\n",
       "      <th>children</th>\n",
       "      <th>smoker</th>\n",
       "      <th>region</th>\n",
       "      <th>charges</th>\n",
       "    </tr>\n",
       "  </thead>\n",
       "  <tbody>\n",
       "    <tr>\n",
       "      <th>0</th>\n",
       "      <td>19</td>\n",
       "      <td>female</td>\n",
       "      <td>27.900</td>\n",
       "      <td>0</td>\n",
       "      <td>yes</td>\n",
       "      <td>southwest</td>\n",
       "      <td>16884.92400</td>\n",
       "    </tr>\n",
       "    <tr>\n",
       "      <th>1</th>\n",
       "      <td>18</td>\n",
       "      <td>male</td>\n",
       "      <td>33.770</td>\n",
       "      <td>1</td>\n",
       "      <td>no</td>\n",
       "      <td>southeast</td>\n",
       "      <td>1725.55230</td>\n",
       "    </tr>\n",
       "    <tr>\n",
       "      <th>2</th>\n",
       "      <td>28</td>\n",
       "      <td>male</td>\n",
       "      <td>33.000</td>\n",
       "      <td>3</td>\n",
       "      <td>no</td>\n",
       "      <td>southeast</td>\n",
       "      <td>4449.46200</td>\n",
       "    </tr>\n",
       "    <tr>\n",
       "      <th>3</th>\n",
       "      <td>33</td>\n",
       "      <td>male</td>\n",
       "      <td>22.705</td>\n",
       "      <td>0</td>\n",
       "      <td>no</td>\n",
       "      <td>northwest</td>\n",
       "      <td>21984.47061</td>\n",
       "    </tr>\n",
       "    <tr>\n",
       "      <th>4</th>\n",
       "      <td>32</td>\n",
       "      <td>male</td>\n",
       "      <td>28.880</td>\n",
       "      <td>0</td>\n",
       "      <td>no</td>\n",
       "      <td>northwest</td>\n",
       "      <td>3866.85520</td>\n",
       "    </tr>\n",
       "  </tbody>\n",
       "</table>\n",
       "</div>"
      ],
      "text/plain": [
       "   age     sex     bmi  children smoker     region      charges\n",
       "0   19  female  27.900         0    yes  southwest  16884.92400\n",
       "1   18    male  33.770         1     no  southeast   1725.55230\n",
       "2   28    male  33.000         3     no  southeast   4449.46200\n",
       "3   33    male  22.705         0     no  northwest  21984.47061\n",
       "4   32    male  28.880         0     no  northwest   3866.85520"
      ]
     },
     "execution_count": 1,
     "metadata": {},
     "output_type": "execute_result"
    }
   ],
   "source": [
    "import boto3\n",
    "import pandas as pd\n",
    "import numpy as np\n",
    "import matplotlib.pyplot as plt\n",
    "from sklearn.preprocessing import MinMaxScaler\n",
    "from sklearn.model_selection import train_test_split, ParameterGrid, GridSearchCV, RandomizedSearchCV\n",
    "from sklearn.neighbors import KNeighborsRegressor\n",
    "from sklearn.svm import SVR\n",
    "from sklearn.tree import DecisionTreeRegressor\n",
    "from sklearn.ensemble import RandomForestRegressor\n",
    "from sklearn.metrics import mean_squared_error\n",
    "\n",
    "## Defining the s3 bucket\n",
    "s3 = boto3.resource('s3')\n",
    "bucket_name = 'data-448'\n",
    "bucket = s3.Bucket(bucket_name)\n",
    "\n",
    "## Defining the file to be read from s3 bucket\n",
    "file_key = 'Chapter4/insurance.csv'\n",
    "\n",
    "bucket_object = bucket.Object(file_key)\n",
    "file_object = bucket_object.get()\n",
    "file_content_stream = file_object.get('Body')\n",
    "\n",
    "## Reading the csv file\n",
    "insurance = pd.read_csv(file_content_stream)\n",
    "insurance.head()"
   ]
  },
  {
   "cell_type": "markdown",
   "id": "86f2cb38",
   "metadata": {},
   "source": [
    "## Data Exploration"
   ]
  },
  {
   "cell_type": "code",
   "execution_count": 2,
   "id": "3f8b1b1d",
   "metadata": {},
   "outputs": [
    {
     "data": {
      "image/png": "[encoded data removed]",
      "text/plain": [
       "<Figure size 720x576 with 1 Axes>"
      ]
     },
     "metadata": {
      "needs_background": "light"
     },
     "output_type": "display_data"
    }
   ],
   "source": [
    "## Creating a new figure\n",
    "plt.figure(figsize = (10, 8))\n",
    "\n",
    "## Subsetting the data\n",
    "females = insurance[insurance['sex'] == 'female']\n",
    "males = insurance[insurance['sex'] == 'male']\n",
    "\n",
    "## Creating side-by-side box plots\n",
    "plt.boxplot([females['charges'], males['charges']], labels = ['females', 'males'])\n",
    "plt.ylabel('Insurance Charges ($)')\n",
    "plt.grid()"
   ]
  },
  {
   "cell_type": "code",
   "execution_count": 3,
   "id": "d1899109",
   "metadata": {},
   "outputs": [
    {
     "data": {
      "image/png": "[encoded data removed]",
      "text/plain": [
       "<Figure size 1008x576 with 2 Axes>"
      ]
     },
     "metadata": {
      "needs_background": "light"
     },
     "output_type": "display_data"
    }
   ],
   "source": [
    "## Creating a new figure\n",
    "fig, axes = plt.subplots(1, 2, figsize = (14, 8))\n",
    "\n",
    "## Subsetting the data\n",
    "nonsmokers_females = insurance[(insurance['sex'] == 'female') & (insurance['smoker'] == 'no')]\n",
    "nonsmokers_males = insurance[(insurance['sex'] == 'male') & (insurance['smoker'] == 'no')]\n",
    "\n",
    "smokers_females = insurance[(insurance['sex'] == 'female') & (insurance['smoker'] == 'yes')]\n",
    "smokers_males = insurance[(insurance['sex'] == 'male') & (insurance['smoker'] == 'yes')]\n",
    "\n",
    "axes[0].boxplot([nonsmokers_females['charges'], nonsmokers_males['charges']], labels = ['females', 'males'])\n",
    "axes[0].set_ylabel('Insurance Charges ($)')\n",
    "axes[0].set_title('Non-Smokers')\n",
    "axes[0].grid()\n",
    "\n",
    "## Plotting the second histogram\n",
    "axes[1].boxplot([smokers_females['charges'], smokers_males['charges']], labels = ['females', 'males'])\n",
    "axes[1].set_ylabel('Insurance Charges ($)')\n",
    "axes[1].set_title('Smokers')\n",
    "axes[1].grid()"
   ]
  },
  {
   "cell_type": "code",
   "execution_count": 4,
   "id": "12321b2a",
   "metadata": {},
   "outputs": [
    {
     "data": {
      "text/plain": [
       "5        3756.62160\n",
       "6        8240.58960\n",
       "7        7281.50560\n",
       "9       28923.13692\n",
       "13      11090.71780\n",
       "           ...     \n",
       "1331    10795.93733\n",
       "1332    11411.68500\n",
       "1334     2205.98080\n",
       "1335     1629.83350\n",
       "1336     2007.94500\n",
       "Name: charges, Length: 547, dtype: float64"
      ]
     },
     "execution_count": 4,
     "metadata": {},
     "output_type": "execute_result"
    }
   ],
   "source": [
    "nonsmokers_females['charges']"
   ]
  },
  {
   "cell_type": "code",
   "execution_count": 5,
   "id": "6fb93d49",
   "metadata": {},
   "outputs": [
    {
     "data": {
      "text/html": [
       "<div>\n",
       "<style scoped>\n",
       "    .dataframe tbody tr th:only-of-type {\n",
       "        vertical-align: middle;\n",
       "    }\n",
       "\n",
       "    .dataframe tbody tr th {\n",
       "        vertical-align: top;\n",
       "    }\n",
       "\n",
       "    .dataframe thead th {\n",
       "        text-align: right;\n",
       "    }\n",
       "</style>\n",
       "<table border=\"1\" class=\"dataframe\">\n",
       "  <thead>\n",
       "    <tr style=\"text-align: right;\">\n",
       "      <th></th>\n",
       "      <th>age</th>\n",
       "      <th>sex</th>\n",
       "      <th>bmi</th>\n",
       "      <th>children</th>\n",
       "      <th>smoker</th>\n",
       "      <th>region</th>\n",
       "      <th>charges</th>\n",
       "      <th>northeast</th>\n",
       "      <th>northwest</th>\n",
       "      <th>southeast</th>\n",
       "    </tr>\n",
       "  </thead>\n",
       "  <tbody>\n",
       "    <tr>\n",
       "      <th>0</th>\n",
       "      <td>19</td>\n",
       "      <td>0</td>\n",
       "      <td>27.900</td>\n",
       "      <td>0</td>\n",
       "      <td>1</td>\n",
       "      <td>southwest</td>\n",
       "      <td>16884.92400</td>\n",
       "      <td>0</td>\n",
       "      <td>0</td>\n",
       "      <td>0</td>\n",
       "    </tr>\n",
       "    <tr>\n",
       "      <th>1</th>\n",
       "      <td>18</td>\n",
       "      <td>1</td>\n",
       "      <td>33.770</td>\n",
       "      <td>1</td>\n",
       "      <td>0</td>\n",
       "      <td>southeast</td>\n",
       "      <td>1725.55230</td>\n",
       "      <td>0</td>\n",
       "      <td>0</td>\n",
       "      <td>1</td>\n",
       "    </tr>\n",
       "    <tr>\n",
       "      <th>2</th>\n",
       "      <td>28</td>\n",
       "      <td>1</td>\n",
       "      <td>33.000</td>\n",
       "      <td>3</td>\n",
       "      <td>0</td>\n",
       "      <td>southeast</td>\n",
       "      <td>4449.46200</td>\n",
       "      <td>0</td>\n",
       "      <td>0</td>\n",
       "      <td>1</td>\n",
       "    </tr>\n",
       "    <tr>\n",
       "      <th>3</th>\n",
       "      <td>33</td>\n",
       "      <td>1</td>\n",
       "      <td>22.705</td>\n",
       "      <td>0</td>\n",
       "      <td>0</td>\n",
       "      <td>northwest</td>\n",
       "      <td>21984.47061</td>\n",
       "      <td>0</td>\n",
       "      <td>1</td>\n",
       "      <td>0</td>\n",
       "    </tr>\n",
       "    <tr>\n",
       "      <th>4</th>\n",
       "      <td>32</td>\n",
       "      <td>1</td>\n",
       "      <td>28.880</td>\n",
       "      <td>0</td>\n",
       "      <td>0</td>\n",
       "      <td>northwest</td>\n",
       "      <td>3866.85520</td>\n",
       "      <td>0</td>\n",
       "      <td>1</td>\n",
       "      <td>0</td>\n",
       "    </tr>\n",
       "  </tbody>\n",
       "</table>\n",
       "</div>"
      ],
      "text/plain": [
       "   age  sex     bmi  children  smoker     region      charges  northeast  \\\n",
       "0   19    0  27.900         0       1  southwest  16884.92400          0   \n",
       "1   18    1  33.770         1       0  southeast   1725.55230          0   \n",
       "2   28    1  33.000         3       0  southeast   4449.46200          0   \n",
       "3   33    1  22.705         0       0  northwest  21984.47061          0   \n",
       "4   32    1  28.880         0       0  northwest   3866.85520          0   \n",
       "\n",
       "   northwest  southeast  \n",
       "0          0          0  \n",
       "1          0          1  \n",
       "2          0          1  \n",
       "3          1          0  \n",
       "4          1          0  "
      ]
     },
     "execution_count": 5,
     "metadata": {},
     "output_type": "execute_result"
    }
   ],
   "source": [
    "## Changing labels to numbers \n",
    "insurance['sex'] = np.where(insurance['sex'] == 'female', 0, 1)\n",
    "insurance['smoker'] = np.where(insurance['smoker'] == 'no', 0, 1)\n",
    "\n",
    "## Extracting region dummies\n",
    "region_dummies = pd.get_dummies(insurance['region']).iloc[:, 0:3]\n",
    "\n",
    "## Appending dummies \n",
    "insurance = pd.concat([insurance, region_dummies], axis = 1)\n",
    "\n",
    "insurance.head()"
   ]
  },
  {
   "cell_type": "code",
   "execution_count": 3,
   "id": "3867d573",
   "metadata": {},
   "outputs": [
    {
     "data": {
      "image/png": "[encoded data removed]",
      "text/plain": [
       "<Figure size 432x288 with 1 Axes>"
      ]
     },
     "metadata": {
      "needs_background": "light"
     },
     "output_type": "display_data"
    }
   ],
   "source": [
    "plt.plot('children', 'charges', 'o', data = insurance)\n",
    "plt.xlabel('Number of Children')\n",
    "plt.ylabel('Charges ($)')\n",
    "plt.grid()\n",
    "plt.show()"
   ]
  },
  {
   "cell_type": "code",
   "execution_count": 4,
   "id": "5ec7034c",
   "metadata": {},
   "outputs": [
    {
     "data": {
      "image/png": "[encoded data removed]",
      "text/plain": [
       "<Figure size 432x288 with 1 Axes>"
      ]
     },
     "metadata": {
      "needs_background": "light"
     },
     "output_type": "display_data"
    }
   ],
   "source": [
    "plt.plot('bmi', 'charges', 'o', data = insurance)\n",
    "plt.xlabel('BMI')\n",
    "plt.ylabel('Charges ($)')\n",
    "plt.grid()\n",
    "plt.show()"
   ]
  },
  {
   "cell_type": "code",
   "execution_count": 5,
   "id": "fc85584b",
   "metadata": {},
   "outputs": [
    {
     "data": {
      "image/png": "[encoded data removed]",
      "text/plain": [
       "<Figure size 432x288 with 1 Axes>"
      ]
     },
     "metadata": {
      "needs_background": "light"
     },
     "output_type": "display_data"
    }
   ],
   "source": [
    "# insurance['sex_color'] = np.where(insurance['sex'] == 'female', 'red', 'blue')\n",
    "\n",
    "colors = ['red', 'blue']\n",
    "\n",
    "for i in insurance['sex'].unique():\n",
    "    \n",
    "    temp = insurance[insurance['sex'] == i]\n",
    "    plt.scatter(temp['bmi'], temp['charges'], color = colors[i])"
   ]
  },
  {
   "cell_type": "code",
   "execution_count": 6,
   "id": "11afbcae",
   "metadata": {},
   "outputs": [
    {
     "data": {
      "text/html": [
       "<div>\n",
       "<style scoped>\n",
       "    .dataframe tbody tr th:only-of-type {\n",
       "        vertical-align: middle;\n",
       "    }\n",
       "\n",
       "    .dataframe tbody tr th {\n",
       "        vertical-align: top;\n",
       "    }\n",
       "\n",
       "    .dataframe thead th {\n",
       "        text-align: right;\n",
       "    }\n",
       "</style>\n",
       "<table border=\"1\" class=\"dataframe\">\n",
       "  <thead>\n",
       "    <tr style=\"text-align: right;\">\n",
       "      <th></th>\n",
       "      <th>age</th>\n",
       "      <th>sex</th>\n",
       "      <th>bmi</th>\n",
       "      <th>children</th>\n",
       "      <th>smoker</th>\n",
       "      <th>charges</th>\n",
       "      <th>northeast</th>\n",
       "      <th>northwest</th>\n",
       "      <th>southeast</th>\n",
       "    </tr>\n",
       "  </thead>\n",
       "  <tbody>\n",
       "    <tr>\n",
       "      <th>count</th>\n",
       "      <td>162.000000</td>\n",
       "      <td>162.000000</td>\n",
       "      <td>162.000000</td>\n",
       "      <td>162.000000</td>\n",
       "      <td>162.000000</td>\n",
       "      <td>162.000000</td>\n",
       "      <td>162.000000</td>\n",
       "      <td>162.000000</td>\n",
       "      <td>162.000000</td>\n",
       "    </tr>\n",
       "    <tr>\n",
       "      <th>mean</th>\n",
       "      <td>40.376543</td>\n",
       "      <td>0.635802</td>\n",
       "      <td>34.845432</td>\n",
       "      <td>1.166667</td>\n",
       "      <td>0.938272</td>\n",
       "      <td>40761.308558</td>\n",
       "      <td>0.216049</td>\n",
       "      <td>0.179012</td>\n",
       "      <td>0.376543</td>\n",
       "    </tr>\n",
       "    <tr>\n",
       "      <th>std</th>\n",
       "      <td>14.472512</td>\n",
       "      <td>0.482697</td>\n",
       "      <td>4.736925</td>\n",
       "      <td>1.137994</td>\n",
       "      <td>0.241408</td>\n",
       "      <td>6165.955587</td>\n",
       "      <td>0.412824</td>\n",
       "      <td>0.384551</td>\n",
       "      <td>0.486021</td>\n",
       "    </tr>\n",
       "    <tr>\n",
       "      <th>min</th>\n",
       "      <td>18.000000</td>\n",
       "      <td>0.000000</td>\n",
       "      <td>17.765000</td>\n",
       "      <td>0.000000</td>\n",
       "      <td>0.000000</td>\n",
       "      <td>30063.580550</td>\n",
       "      <td>0.000000</td>\n",
       "      <td>0.000000</td>\n",
       "      <td>0.000000</td>\n",
       "    </tr>\n",
       "    <tr>\n",
       "      <th>25%</th>\n",
       "      <td>27.000000</td>\n",
       "      <td>0.000000</td>\n",
       "      <td>31.692500</td>\n",
       "      <td>0.000000</td>\n",
       "      <td>1.000000</td>\n",
       "      <td>36203.125612</td>\n",
       "      <td>0.000000</td>\n",
       "      <td>0.000000</td>\n",
       "      <td>0.000000</td>\n",
       "    </tr>\n",
       "    <tr>\n",
       "      <th>50%</th>\n",
       "      <td>42.000000</td>\n",
       "      <td>1.000000</td>\n",
       "      <td>34.650000</td>\n",
       "      <td>1.000000</td>\n",
       "      <td>1.000000</td>\n",
       "      <td>39854.111650</td>\n",
       "      <td>0.000000</td>\n",
       "      <td>0.000000</td>\n",
       "      <td>0.000000</td>\n",
       "    </tr>\n",
       "    <tr>\n",
       "      <th>75%</th>\n",
       "      <td>52.750000</td>\n",
       "      <td>1.000000</td>\n",
       "      <td>37.027500</td>\n",
       "      <td>2.000000</td>\n",
       "      <td>1.000000</td>\n",
       "      <td>44481.999400</td>\n",
       "      <td>0.000000</td>\n",
       "      <td>0.000000</td>\n",
       "      <td>1.000000</td>\n",
       "    </tr>\n",
       "    <tr>\n",
       "      <th>max</th>\n",
       "      <td>64.000000</td>\n",
       "      <td>1.000000</td>\n",
       "      <td>52.580000</td>\n",
       "      <td>4.000000</td>\n",
       "      <td>1.000000</td>\n",
       "      <td>63770.428010</td>\n",
       "      <td>1.000000</td>\n",
       "      <td>1.000000</td>\n",
       "      <td>1.000000</td>\n",
       "    </tr>\n",
       "  </tbody>\n",
       "</table>\n",
       "</div>"
      ],
      "text/plain": [
       "              age         sex         bmi    children      smoker  \\\n",
       "count  162.000000  162.000000  162.000000  162.000000  162.000000   \n",
       "mean    40.376543    0.635802   34.845432    1.166667    0.938272   \n",
       "std     14.472512    0.482697    4.736925    1.137994    0.241408   \n",
       "min     18.000000    0.000000   17.765000    0.000000    0.000000   \n",
       "25%     27.000000    0.000000   31.692500    0.000000    1.000000   \n",
       "50%     42.000000    1.000000   34.650000    1.000000    1.000000   \n",
       "75%     52.750000    1.000000   37.027500    2.000000    1.000000   \n",
       "max     64.000000    1.000000   52.580000    4.000000    1.000000   \n",
       "\n",
       "            charges   northeast   northwest   southeast  \n",
       "count    162.000000  162.000000  162.000000  162.000000  \n",
       "mean   40761.308558    0.216049    0.179012    0.376543  \n",
       "std     6165.955587    0.412824    0.384551    0.486021  \n",
       "min    30063.580550    0.000000    0.000000    0.000000  \n",
       "25%    36203.125612    0.000000    0.000000    0.000000  \n",
       "50%    39854.111650    0.000000    0.000000    0.000000  \n",
       "75%    44481.999400    0.000000    0.000000    1.000000  \n",
       "max    63770.428010    1.000000    1.000000    1.000000  "
      ]
     },
     "execution_count": 6,
     "metadata": {},
     "output_type": "execute_result"
    }
   ],
   "source": [
    "X = insurance[insurance['charges'] >= 30000]\n",
    "X.describe()"
   ]
  },
  {
   "cell_type": "code",
   "execution_count": 7,
   "id": "27bd50dc",
   "metadata": {},
   "outputs": [
    {
     "data": {
      "text/plain": [
       "0    64\n",
       "2    39\n",
       "1    34\n",
       "3    23\n",
       "4     2\n",
       "Name: children, dtype: int64"
      ]
     },
     "execution_count": 7,
     "metadata": {},
     "output_type": "execute_result"
    }
   ],
   "source": [
    "X['children'].value_counts()"
   ]
  },
  {
   "cell_type": "code",
   "execution_count": 8,
   "id": "3fb5d4b5",
   "metadata": {},
   "outputs": [
    {
     "data": {
      "image/png": "[encoded data removed]",
      "text/plain": [
       "<Figure size 432x288 with 1 Axes>"
      ]
     },
     "metadata": {
      "needs_background": "light"
     },
     "output_type": "display_data"
    }
   ],
   "source": [
    "colors = ['black', 'blue', 'orange', 'brown', 'green']\n",
    "\n",
    "for i in range(0, 5):\n",
    "    temp = X[X['children'] == i]\n",
    "    plt.scatter(temp['bmi'], temp['charges'], color = colors[i])\n",
    "\n",
    "# plt.plot('bmi', 'charges', 'o', data = X)\n",
    "# plt.xlabel('BMI')\n",
    "# plt.ylabel('Charges ($)')\n",
    "# plt.grid()\n",
    "# plt.show()"
   ]
  },
  {
   "cell_type": "code",
   "execution_count": 9,
   "id": "aac20639",
   "metadata": {},
   "outputs": [
    {
     "data": {
      "text/html": [
       "<div>\n",
       "<style scoped>\n",
       "    .dataframe tbody tr th:only-of-type {\n",
       "        vertical-align: middle;\n",
       "    }\n",
       "\n",
       "    .dataframe tbody tr th {\n",
       "        vertical-align: top;\n",
       "    }\n",
       "\n",
       "    .dataframe thead th {\n",
       "        text-align: right;\n",
       "    }\n",
       "</style>\n",
       "<table border=\"1\" class=\"dataframe\">\n",
       "  <thead>\n",
       "    <tr style=\"text-align: right;\">\n",
       "      <th></th>\n",
       "      <th>age</th>\n",
       "      <th>sex</th>\n",
       "      <th>bmi</th>\n",
       "      <th>children</th>\n",
       "      <th>smoker</th>\n",
       "      <th>charges</th>\n",
       "      <th>northeast</th>\n",
       "      <th>northwest</th>\n",
       "      <th>southeast</th>\n",
       "    </tr>\n",
       "  </thead>\n",
       "  <tbody>\n",
       "    <tr>\n",
       "      <th>count</th>\n",
       "      <td>1176.000000</td>\n",
       "      <td>1176.000000</td>\n",
       "      <td>1176.000000</td>\n",
       "      <td>1176.000000</td>\n",
       "      <td>1176.000000</td>\n",
       "      <td>1176.000000</td>\n",
       "      <td>1176.000000</td>\n",
       "      <td>1176.000000</td>\n",
       "      <td>1176.000000</td>\n",
       "    </tr>\n",
       "    <tr>\n",
       "      <th>mean</th>\n",
       "      <td>39.045918</td>\n",
       "      <td>0.487245</td>\n",
       "      <td>30.087300</td>\n",
       "      <td>1.085034</td>\n",
       "      <td>0.103741</td>\n",
       "      <td>9483.412419</td>\n",
       "      <td>0.245748</td>\n",
       "      <td>0.251701</td>\n",
       "      <td>0.257653</td>\n",
       "    </tr>\n",
       "    <tr>\n",
       "      <th>std</th>\n",
       "      <td>13.989404</td>\n",
       "      <td>0.500050</td>\n",
       "      <td>6.041278</td>\n",
       "      <td>1.214626</td>\n",
       "      <td>0.305055</td>\n",
       "      <td>6565.954307</td>\n",
       "      <td>0.430713</td>\n",
       "      <td>0.434175</td>\n",
       "      <td>0.437528</td>\n",
       "    </tr>\n",
       "    <tr>\n",
       "      <th>min</th>\n",
       "      <td>18.000000</td>\n",
       "      <td>0.000000</td>\n",
       "      <td>15.960000</td>\n",
       "      <td>0.000000</td>\n",
       "      <td>0.000000</td>\n",
       "      <td>1121.873900</td>\n",
       "      <td>0.000000</td>\n",
       "      <td>0.000000</td>\n",
       "      <td>0.000000</td>\n",
       "    </tr>\n",
       "    <tr>\n",
       "      <th>25%</th>\n",
       "      <td>26.000000</td>\n",
       "      <td>0.000000</td>\n",
       "      <td>25.786250</td>\n",
       "      <td>0.000000</td>\n",
       "      <td>0.000000</td>\n",
       "      <td>4348.852338</td>\n",
       "      <td>0.000000</td>\n",
       "      <td>0.000000</td>\n",
       "      <td>0.000000</td>\n",
       "    </tr>\n",
       "    <tr>\n",
       "      <th>50%</th>\n",
       "      <td>39.000000</td>\n",
       "      <td>0.000000</td>\n",
       "      <td>29.700000</td>\n",
       "      <td>1.000000</td>\n",
       "      <td>0.000000</td>\n",
       "      <td>8246.436950</td>\n",
       "      <td>0.000000</td>\n",
       "      <td>0.000000</td>\n",
       "      <td>0.000000</td>\n",
       "    </tr>\n",
       "    <tr>\n",
       "      <th>75%</th>\n",
       "      <td>51.000000</td>\n",
       "      <td>1.000000</td>\n",
       "      <td>33.888750</td>\n",
       "      <td>2.000000</td>\n",
       "      <td>0.000000</td>\n",
       "      <td>12629.348375</td>\n",
       "      <td>0.000000</td>\n",
       "      <td>1.000000</td>\n",
       "      <td>1.000000</td>\n",
       "    </tr>\n",
       "    <tr>\n",
       "      <th>max</th>\n",
       "      <td>64.000000</td>\n",
       "      <td>1.000000</td>\n",
       "      <td>53.130000</td>\n",
       "      <td>5.000000</td>\n",
       "      <td>1.000000</td>\n",
       "      <td>29523.165600</td>\n",
       "      <td>1.000000</td>\n",
       "      <td>1.000000</td>\n",
       "      <td>1.000000</td>\n",
       "    </tr>\n",
       "  </tbody>\n",
       "</table>\n",
       "</div>"
      ],
      "text/plain": [
       "               age          sex          bmi     children       smoker  \\\n",
       "count  1176.000000  1176.000000  1176.000000  1176.000000  1176.000000   \n",
       "mean     39.045918     0.487245    30.087300     1.085034     0.103741   \n",
       "std      13.989404     0.500050     6.041278     1.214626     0.305055   \n",
       "min      18.000000     0.000000    15.960000     0.000000     0.000000   \n",
       "25%      26.000000     0.000000    25.786250     0.000000     0.000000   \n",
       "50%      39.000000     0.000000    29.700000     1.000000     0.000000   \n",
       "75%      51.000000     1.000000    33.888750     2.000000     0.000000   \n",
       "max      64.000000     1.000000    53.130000     5.000000     1.000000   \n",
       "\n",
       "            charges    northeast    northwest    southeast  \n",
       "count   1176.000000  1176.000000  1176.000000  1176.000000  \n",
       "mean    9483.412419     0.245748     0.251701     0.257653  \n",
       "std     6565.954307     0.430713     0.434175     0.437528  \n",
       "min     1121.873900     0.000000     0.000000     0.000000  \n",
       "25%     4348.852338     0.000000     0.000000     0.000000  \n",
       "50%     8246.436950     0.000000     0.000000     0.000000  \n",
       "75%    12629.348375     0.000000     1.000000     1.000000  \n",
       "max    29523.165600     1.000000     1.000000     1.000000  "
      ]
     },
     "execution_count": 9,
     "metadata": {},
     "output_type": "execute_result"
    }
   ],
   "source": [
    "Y = insurance[insurance['charges'] < 30000]\n",
    "Y.describe()"
   ]
  },
  {
   "cell_type": "code",
   "execution_count": 10,
   "id": "aa5a4a5a",
   "metadata": {},
   "outputs": [
    {
     "data": {
      "text/plain": [
       "0    510\n",
       "1    290\n",
       "2    201\n",
       "3    134\n",
       "4     23\n",
       "5     18\n",
       "Name: children, dtype: int64"
      ]
     },
     "execution_count": 10,
     "metadata": {},
     "output_type": "execute_result"
    }
   ],
   "source": [
    "Y['children'].value_counts()"
   ]
  },
  {
   "cell_type": "code",
   "execution_count": null,
   "id": "d1e607f2",
   "metadata": {},
   "outputs": [],
   "source": []
  }
 ],
 "metadata": {
  "kernelspec": {
   "display_name": "conda_python3",
   "language": "python",
   "name": "conda_python3"
  },
  "language_info": {
   "codemirror_mode": {
    "name": "ipython",
    "version": 3
   },
   "file_extension": ".py",
   "mimetype": "text/x-python",
   "name": "python",
   "nbconvert_exporter": "python",
   "pygments_lexer": "ipython3",
   "version": "3.6.13"
  }
 },
 "nbformat": 4,
 "nbformat_minor": 5
}
