{
 "cells": [
  {
   "cell_type": "code",
   "execution_count": null,
   "id": "2eea6c77",
   "metadata": {},
   "outputs": [],
   "source": [
    "pip install imblearn"
   ]
  },
  {
   "cell_type": "code",
   "execution_count": 1,
   "id": "f30b0342",
   "metadata": {},
   "outputs": [
    {
     "data": {
      "text/html": [
       "<div>\n",
       "<style scoped>\n",
       "    .dataframe tbody tr th:only-of-type {\n",
       "        vertical-align: middle;\n",
       "    }\n",
       "\n",
       "    .dataframe tbody tr th {\n",
       "        vertical-align: top;\n",
       "    }\n",
       "\n",
       "    .dataframe thead th {\n",
       "        text-align: right;\n",
       "    }\n",
       "</style>\n",
       "<table border=\"1\" class=\"dataframe\">\n",
       "  <thead>\n",
       "    <tr style=\"text-align: right;\">\n",
       "      <th></th>\n",
       "      <th>male</th>\n",
       "      <th>age</th>\n",
       "      <th>education</th>\n",
       "      <th>currentSmoker</th>\n",
       "      <th>cigsPerDay</th>\n",
       "      <th>BPMeds</th>\n",
       "      <th>prevalentStroke</th>\n",
       "      <th>prevalentHyp</th>\n",
       "      <th>diabetes</th>\n",
       "      <th>totChol</th>\n",
       "      <th>sysBP</th>\n",
       "      <th>diaBP</th>\n",
       "      <th>BMI</th>\n",
       "      <th>heartRate</th>\n",
       "      <th>glucose</th>\n",
       "      <th>TenYearCHD</th>\n",
       "    </tr>\n",
       "  </thead>\n",
       "  <tbody>\n",
       "    <tr>\n",
       "      <th>0</th>\n",
       "      <td>1</td>\n",
       "      <td>39</td>\n",
       "      <td>4.0</td>\n",
       "      <td>0</td>\n",
       "      <td>0.0</td>\n",
       "      <td>0.0</td>\n",
       "      <td>0</td>\n",
       "      <td>0</td>\n",
       "      <td>0</td>\n",
       "      <td>195.0</td>\n",
       "      <td>106.0</td>\n",
       "      <td>70.0</td>\n",
       "      <td>26.97</td>\n",
       "      <td>80.0</td>\n",
       "      <td>77.0</td>\n",
       "      <td>0</td>\n",
       "    </tr>\n",
       "    <tr>\n",
       "      <th>1</th>\n",
       "      <td>0</td>\n",
       "      <td>46</td>\n",
       "      <td>2.0</td>\n",
       "      <td>0</td>\n",
       "      <td>0.0</td>\n",
       "      <td>0.0</td>\n",
       "      <td>0</td>\n",
       "      <td>0</td>\n",
       "      <td>0</td>\n",
       "      <td>250.0</td>\n",
       "      <td>121.0</td>\n",
       "      <td>81.0</td>\n",
       "      <td>28.73</td>\n",
       "      <td>95.0</td>\n",
       "      <td>76.0</td>\n",
       "      <td>0</td>\n",
       "    </tr>\n",
       "    <tr>\n",
       "      <th>2</th>\n",
       "      <td>1</td>\n",
       "      <td>48</td>\n",
       "      <td>1.0</td>\n",
       "      <td>1</td>\n",
       "      <td>20.0</td>\n",
       "      <td>0.0</td>\n",
       "      <td>0</td>\n",
       "      <td>0</td>\n",
       "      <td>0</td>\n",
       "      <td>245.0</td>\n",
       "      <td>127.5</td>\n",
       "      <td>80.0</td>\n",
       "      <td>25.34</td>\n",
       "      <td>75.0</td>\n",
       "      <td>70.0</td>\n",
       "      <td>0</td>\n",
       "    </tr>\n",
       "    <tr>\n",
       "      <th>3</th>\n",
       "      <td>0</td>\n",
       "      <td>61</td>\n",
       "      <td>3.0</td>\n",
       "      <td>1</td>\n",
       "      <td>30.0</td>\n",
       "      <td>0.0</td>\n",
       "      <td>0</td>\n",
       "      <td>1</td>\n",
       "      <td>0</td>\n",
       "      <td>225.0</td>\n",
       "      <td>150.0</td>\n",
       "      <td>95.0</td>\n",
       "      <td>28.58</td>\n",
       "      <td>65.0</td>\n",
       "      <td>103.0</td>\n",
       "      <td>1</td>\n",
       "    </tr>\n",
       "    <tr>\n",
       "      <th>4</th>\n",
       "      <td>0</td>\n",
       "      <td>46</td>\n",
       "      <td>3.0</td>\n",
       "      <td>1</td>\n",
       "      <td>23.0</td>\n",
       "      <td>0.0</td>\n",
       "      <td>0</td>\n",
       "      <td>0</td>\n",
       "      <td>0</td>\n",
       "      <td>285.0</td>\n",
       "      <td>130.0</td>\n",
       "      <td>84.0</td>\n",
       "      <td>23.10</td>\n",
       "      <td>85.0</td>\n",
       "      <td>85.0</td>\n",
       "      <td>0</td>\n",
       "    </tr>\n",
       "  </tbody>\n",
       "</table>\n",
       "</div>"
      ],
      "text/plain": [
       "   male  age  education  currentSmoker  cigsPerDay  BPMeds  prevalentStroke  \\\n",
       "0     1   39        4.0              0         0.0     0.0                0   \n",
       "1     0   46        2.0              0         0.0     0.0                0   \n",
       "2     1   48        1.0              1        20.0     0.0                0   \n",
       "3     0   61        3.0              1        30.0     0.0                0   \n",
       "4     0   46        3.0              1        23.0     0.0                0   \n",
       "\n",
       "   prevalentHyp  diabetes  totChol  sysBP  diaBP    BMI  heartRate  glucose  \\\n",
       "0             0         0    195.0  106.0   70.0  26.97       80.0     77.0   \n",
       "1             0         0    250.0  121.0   81.0  28.73       95.0     76.0   \n",
       "2             0         0    245.0  127.5   80.0  25.34       75.0     70.0   \n",
       "3             1         0    225.0  150.0   95.0  28.58       65.0    103.0   \n",
       "4             0         0    285.0  130.0   84.0  23.10       85.0     85.0   \n",
       "\n",
       "   TenYearCHD  \n",
       "0           0  \n",
       "1           0  \n",
       "2           0  \n",
       "3           1  \n",
       "4           0  "
      ]
     },
     "execution_count": 1,
     "metadata": {},
     "output_type": "execute_result"
    }
   ],
   "source": [
    "import boto3\n",
    "import pandas as pd\n",
    "import numpy as np\n",
    "import matplotlib.pyplot as plt\n",
    "import seaborn as sns\n",
    "from sklearn.model_selection import train_test_split\n",
    "from sklearn.ensemble import RandomForestClassifier\n",
    "from sklearn.metrics import classification_report, accuracy_score, confusion_matrix, roc_curve\n",
    "from imblearn.over_sampling import RandomOverSampler, SMOTE\n",
    "from imblearn.under_sampling import RandomUnderSampler\n",
    "\n",
    "## Defining the s3 bucket\n",
    "s3 = boto3.resource('s3')\n",
    "bucket_name = 'data-448'\n",
    "bucket = s3.Bucket(bucket_name)\n",
    "\n",
    "## Defining the file to be read from s3 bucket\n",
    "file_key = 'Chapter1/framingham.csv'\n",
    "\n",
    "bucket_object = bucket.Object(file_key)\n",
    "file_object = bucket_object.get()\n",
    "file_content_stream = file_object.get('Body')\n",
    "\n",
    "## Reading the csv file\n",
    "heart = pd.read_csv(file_content_stream)\n",
    "heart = heart.dropna()\n",
    "heart.head()"
   ]
  },
  {
   "cell_type": "markdown",
   "id": "3f5df89d",
   "metadata": {},
   "source": [
    "## Classification on Inbalanced Data"
   ]
  },
  {
   "cell_type": "code",
   "execution_count": 2,
   "id": "45289e41",
   "metadata": {},
   "outputs": [
    {
     "data": {
      "text/plain": [
       "0    0.847648\n",
       "1    0.152352\n",
       "Name: TenYearCHD, dtype: float64"
      ]
     },
     "execution_count": 2,
     "metadata": {},
     "output_type": "execute_result"
    }
   ],
   "source": [
    "## frequency table of target \n",
    "heart['TenYearCHD'].value_counts() / heart.shape[0]"
   ]
  },
  {
   "cell_type": "code",
   "execution_count": 4,
   "id": "8ad4782d",
   "metadata": {},
   "outputs": [
    {
     "name": "stdout",
     "output_type": "stream",
     "text": [
      "              precision    recall  f1-score   support\n",
      "\n",
      "           0       0.85      1.00      0.92       620\n",
      "           1       1.00      0.01      0.02       112\n",
      "\n",
      "    accuracy                           0.85       732\n",
      "   macro avg       0.92      0.50      0.47       732\n",
      "weighted avg       0.87      0.85      0.78       732\n",
      "\n"
     ]
    }
   ],
   "source": [
    "## Defining input and target variables\n",
    "X = heart[['age',  'totChol', 'sysBP', 'BMI', 'heartRate', 'glucose']]\n",
    "Y = heart['TenYearCHD']\n",
    "\n",
    "## Splitting the data \n",
    "X_train, X_test, Y_train, Y_test = train_test_split(X, Y, test_size = 0.2, stratify = Y)\n",
    "\n",
    "## Building a random forest model \n",
    "RF_md = RandomForestClassifier(n_estimators = 100, max_depth = 3).fit(X_train, Y_train)\n",
    "\n",
    "## Predicting on the test dataset\n",
    "RF_pred = RF_md.predict(X_test)\n",
    "\n",
    "## Printing the classification report \n",
    "print(classification_report(Y_test, RF_pred))"
   ]
  },
  {
   "cell_type": "code",
   "execution_count": 5,
   "id": "d42e242c",
   "metadata": {},
   "outputs": [
    {
     "data": {
      "image/png": "[encoded data removed]",
      "text/plain": [
       "<Figure size 720x576 with 2 Axes>"
      ]
     },
     "metadata": {
      "needs_background": "light"
     },
     "output_type": "display_data"
    }
   ],
   "source": [
    "## Visualizing the confustion matrix\n",
    "conf_mat = confusion_matrix(Y_test, RF_pred)\n",
    "conf_mat_df = pd.DataFrame(conf_mat, index = ['No Coronary disease', 'Coronary disease'], columns = ['No Coronary disease', 'Coronary disease'])\n",
    "\n",
    "plt.figure(figsize = (10, 8))\n",
    "sns.heatmap(conf_mat_df, annot = True, fmt = 'g', cmap = 'Blues')\n",
    "plt.title('Random Forest \\n Accuracy:{0: .3f}'.format(accuracy_score(Y_test, RF_pred)))\n",
    "plt.ylabel('True Labels')\n",
    "plt.xlabel('Predicted Labels')\n",
    "# plt.savefig('chapter1_plot1.pdf')\n",
    "plt.show()"
   ]
  },
  {
   "cell_type": "markdown",
   "id": "e66265f1",
   "metadata": {},
   "source": [
    "## Alternate Cutoffs"
   ]
  },
  {
   "cell_type": "code",
   "execution_count": 6,
   "id": "2a0c3368",
   "metadata": {},
   "outputs": [
    {
     "data": {
      "image/png": "[encoded data removed]",
      "text/plain": [
       "<Figure size 720x576 with 1 Axes>"
      ]
     },
     "metadata": {
      "needs_background": "light"
     },
     "output_type": "display_data"
    }
   ],
   "source": [
    "## Building a random forest model\n",
    "RF_md = RandomForestClassifier(n_estimators = 100, max_depth = 3).fit(X_train, Y_train)\n",
    "\n",
    "## Predicting on the test dataset\n",
    "RF_pred = RF_md.predict_proba(X_test)[:, 1]\n",
    "\n",
    "## Computing the ROC-curve\n",
    "fpr, tpr, thresholds = roc_curve(Y_test, RF_pred)\n",
    "\n",
    "## Visualizing the ROC-curve\n",
    "plt.figure(figsize = (10, 8))\n",
    "plt.plot(fpr, tpr)\n",
    "plt.xlabel('False Positive Rate')\n",
    "plt.ylabel('True Positive Rate')\n",
    "plt.grid()\n",
    "# plt.savefig('chapter1_plot2.pdf')\n",
    "plt.show()"
   ]
  },
  {
   "cell_type": "markdown",
   "id": "2e9b440a",
   "metadata": {},
   "source": [
    "## Estimating cutoff based on shortest distance to perfect model "
   ]
  },
  {
   "cell_type": "code",
   "execution_count": 7,
   "id": "02fcc58b",
   "metadata": {},
   "outputs": [
    {
     "data": {
      "text/html": [
       "<div>\n",
       "<style scoped>\n",
       "    .dataframe tbody tr th:only-of-type {\n",
       "        vertical-align: middle;\n",
       "    }\n",
       "\n",
       "    .dataframe tbody tr th {\n",
       "        vertical-align: top;\n",
       "    }\n",
       "\n",
       "    .dataframe thead th {\n",
       "        text-align: right;\n",
       "    }\n",
       "</style>\n",
       "<table border=\"1\" class=\"dataframe\">\n",
       "  <thead>\n",
       "    <tr style=\"text-align: right;\">\n",
       "      <th></th>\n",
       "      <th>False_Positive</th>\n",
       "      <th>True_Positive</th>\n",
       "      <th>Cutoff</th>\n",
       "      <th>True_Positive_minus_1</th>\n",
       "      <th>Distance_to_perfect_model</th>\n",
       "    </tr>\n",
       "  </thead>\n",
       "  <tbody>\n",
       "    <tr>\n",
       "      <th>122</th>\n",
       "      <td>0.403226</td>\n",
       "      <td>0.723214</td>\n",
       "      <td>0.148245</td>\n",
       "      <td>-0.276786</td>\n",
       "      <td>0.489082</td>\n",
       "    </tr>\n",
       "    <tr>\n",
       "      <th>120</th>\n",
       "      <td>0.398387</td>\n",
       "      <td>0.714286</td>\n",
       "      <td>0.148746</td>\n",
       "      <td>-0.285714</td>\n",
       "      <td>0.490250</td>\n",
       "    </tr>\n",
       "    <tr>\n",
       "      <th>110</th>\n",
       "      <td>0.346774</td>\n",
       "      <td>0.651786</td>\n",
       "      <td>0.159543</td>\n",
       "      <td>-0.348214</td>\n",
       "      <td>0.491432</td>\n",
       "    </tr>\n",
       "    <tr>\n",
       "      <th>123</th>\n",
       "      <td>0.406452</td>\n",
       "      <td>0.723214</td>\n",
       "      <td>0.148159</td>\n",
       "      <td>-0.276786</td>\n",
       "      <td>0.491745</td>\n",
       "    </tr>\n",
       "    <tr>\n",
       "      <th>118</th>\n",
       "      <td>0.388710</td>\n",
       "      <td>0.696429</td>\n",
       "      <td>0.151971</td>\n",
       "      <td>-0.303571</td>\n",
       "      <td>0.493205</td>\n",
       "    </tr>\n",
       "    <tr>\n",
       "      <th>...</th>\n",
       "      <td>...</td>\n",
       "      <td>...</td>\n",
       "      <td>...</td>\n",
       "      <td>...</td>\n",
       "      <td>...</td>\n",
       "    </tr>\n",
       "    <tr>\n",
       "      <th>222</th>\n",
       "      <td>0.996774</td>\n",
       "      <td>1.000000</td>\n",
       "      <td>0.071039</td>\n",
       "      <td>0.000000</td>\n",
       "      <td>0.996774</td>\n",
       "    </tr>\n",
       "    <tr>\n",
       "      <th>221</th>\n",
       "      <td>0.996774</td>\n",
       "      <td>0.982143</td>\n",
       "      <td>0.071525</td>\n",
       "      <td>-0.017857</td>\n",
       "      <td>0.996934</td>\n",
       "    </tr>\n",
       "    <tr>\n",
       "      <th>0</th>\n",
       "      <td>0.000000</td>\n",
       "      <td>0.000000</td>\n",
       "      <td>1.504256</td>\n",
       "      <td>-1.000000</td>\n",
       "      <td>1.000000</td>\n",
       "    </tr>\n",
       "    <tr>\n",
       "      <th>223</th>\n",
       "      <td>1.000000</td>\n",
       "      <td>1.000000</td>\n",
       "      <td>0.070394</td>\n",
       "      <td>0.000000</td>\n",
       "      <td>1.000000</td>\n",
       "    </tr>\n",
       "    <tr>\n",
       "      <th>1</th>\n",
       "      <td>0.001613</td>\n",
       "      <td>0.000000</td>\n",
       "      <td>0.504256</td>\n",
       "      <td>-1.000000</td>\n",
       "      <td>1.000001</td>\n",
       "    </tr>\n",
       "  </tbody>\n",
       "</table>\n",
       "<p>224 rows × 5 columns</p>\n",
       "</div>"
      ],
      "text/plain": [
       "     False_Positive  True_Positive    Cutoff  True_Positive_minus_1  \\\n",
       "122        0.403226       0.723214  0.148245              -0.276786   \n",
       "120        0.398387       0.714286  0.148746              -0.285714   \n",
       "110        0.346774       0.651786  0.159543              -0.348214   \n",
       "123        0.406452       0.723214  0.148159              -0.276786   \n",
       "118        0.388710       0.696429  0.151971              -0.303571   \n",
       "..              ...            ...       ...                    ...   \n",
       "222        0.996774       1.000000  0.071039               0.000000   \n",
       "221        0.996774       0.982143  0.071525              -0.017857   \n",
       "0          0.000000       0.000000  1.504256              -1.000000   \n",
       "223        1.000000       1.000000  0.070394               0.000000   \n",
       "1          0.001613       0.000000  0.504256              -1.000000   \n",
       "\n",
       "     Distance_to_perfect_model  \n",
       "122                   0.489082  \n",
       "120                   0.490250  \n",
       "110                   0.491432  \n",
       "123                   0.491745  \n",
       "118                   0.493205  \n",
       "..                         ...  \n",
       "222                   0.996774  \n",
       "221                   0.996934  \n",
       "0                     1.000000  \n",
       "223                   1.000000  \n",
       "1                     1.000001  \n",
       "\n",
       "[224 rows x 5 columns]"
      ]
     },
     "execution_count": 7,
     "metadata": {},
     "output_type": "execute_result"
    }
   ],
   "source": [
    "cutoff_values = pd.DataFrame({'False_Positive': fpr, 'True_Positive': tpr, 'Cutoff': thresholds})\n",
    "cutoff_values['True_Positive_minus_1'] = cutoff_values['True_Positive'] - 1\n",
    "cutoff_values['Distance_to_perfect_model'] = np.sqrt(cutoff_values['False_Positive']**2 + cutoff_values['True_Positive_minus_1']**2)\n",
    "\n",
    "## Sorting based on the distance to perfect model \n",
    "cutoff_values = cutoff_values.sort_values(by = 'Distance_to_perfect_model')\n",
    "cutoff_values"
   ]
  },
  {
   "cell_type": "code",
   "execution_count": 8,
   "id": "6130a68d",
   "metadata": {},
   "outputs": [
    {
     "name": "stdout",
     "output_type": "stream",
     "text": [
      "              precision    recall  f1-score   support\n",
      "\n",
      "           0       0.92      0.59      0.72       620\n",
      "           1       0.24      0.72      0.36       112\n",
      "\n",
      "    accuracy                           0.61       732\n",
      "   macro avg       0.58      0.66      0.54       732\n",
      "weighted avg       0.82      0.61      0.67       732\n",
      "\n"
     ]
    }
   ],
   "source": [
    "## Predicting on the test dataset (using optimal cutoff)\n",
    "RF_pred = np.where(RF_pred < 0.148, 0, 1)\n",
    "\n",
    "## Printing the classification report \n",
    "print(classification_report(Y_test, RF_pred))"
   ]
  },
  {
   "cell_type": "code",
   "execution_count": 9,
   "id": "013d6f78",
   "metadata": {},
   "outputs": [
    {
     "data": {
      "image/png": "[encoded data removed]",
      "text/plain": [
       "<Figure size 720x576 with 2 Axes>"
      ]
     },
     "metadata": {
      "needs_background": "light"
     },
     "output_type": "display_data"
    }
   ],
   "source": [
    "## Visualizing the confustion matrix\n",
    "conf_mat = confusion_matrix(Y_test, RF_pred)\n",
    "conf_mat_df = pd.DataFrame(conf_mat, index = ['No Coronary disease', 'Coronary disease'], columns = ['No Coronary disease', 'Coronary disease'])\n",
    "\n",
    "plt.figure(figsize = (10, 8))\n",
    "sns.heatmap(conf_mat_df, annot = True, fmt = 'g', cmap = 'Blues')\n",
    "plt.title('Random Forest \\n Accuracy:{0: .3f}'.format(accuracy_score(Y_test, RF_pred)))\n",
    "plt.ylabel('True Labels')\n",
    "plt.xlabel('Predicted Labels')\n",
    "# plt.savefig('chapter1_plot3.pdf')\n",
    "plt.show()"
   ]
  },
  {
   "cell_type": "markdown",
   "id": "680c2a81",
   "metadata": {},
   "source": [
    "## Estimating Cutoff Based on Younden's Index"
   ]
  },
  {
   "cell_type": "code",
   "execution_count": 10,
   "id": "0fcd6133",
   "metadata": {},
   "outputs": [
    {
     "data": {
      "text/html": [
       "<div>\n",
       "<style scoped>\n",
       "    .dataframe tbody tr th:only-of-type {\n",
       "        vertical-align: middle;\n",
       "    }\n",
       "\n",
       "    .dataframe tbody tr th {\n",
       "        vertical-align: top;\n",
       "    }\n",
       "\n",
       "    .dataframe thead th {\n",
       "        text-align: right;\n",
       "    }\n",
       "</style>\n",
       "<table border=\"1\" class=\"dataframe\">\n",
       "  <thead>\n",
       "    <tr style=\"text-align: right;\">\n",
       "      <th></th>\n",
       "      <th>False_Positive</th>\n",
       "      <th>True_Positive</th>\n",
       "      <th>Cutoff</th>\n",
       "      <th>TPR_minus_FPR</th>\n",
       "    </tr>\n",
       "  </thead>\n",
       "  <tbody>\n",
       "    <tr>\n",
       "      <th>122</th>\n",
       "      <td>0.403226</td>\n",
       "      <td>0.723214</td>\n",
       "      <td>0.148245</td>\n",
       "      <td>0.319988</td>\n",
       "    </tr>\n",
       "    <tr>\n",
       "      <th>123</th>\n",
       "      <td>0.406452</td>\n",
       "      <td>0.723214</td>\n",
       "      <td>0.148159</td>\n",
       "      <td>0.316763</td>\n",
       "    </tr>\n",
       "    <tr>\n",
       "      <th>120</th>\n",
       "      <td>0.398387</td>\n",
       "      <td>0.714286</td>\n",
       "      <td>0.148746</td>\n",
       "      <td>0.315899</td>\n",
       "    </tr>\n",
       "    <tr>\n",
       "      <th>121</th>\n",
       "      <td>0.403226</td>\n",
       "      <td>0.714286</td>\n",
       "      <td>0.148398</td>\n",
       "      <td>0.311060</td>\n",
       "    </tr>\n",
       "    <tr>\n",
       "      <th>127</th>\n",
       "      <td>0.441935</td>\n",
       "      <td>0.750000</td>\n",
       "      <td>0.142048</td>\n",
       "      <td>0.308065</td>\n",
       "    </tr>\n",
       "    <tr>\n",
       "      <th>...</th>\n",
       "      <td>...</td>\n",
       "      <td>...</td>\n",
       "      <td>...</td>\n",
       "      <td>...</td>\n",
       "    </tr>\n",
       "    <tr>\n",
       "      <th>223</th>\n",
       "      <td>1.000000</td>\n",
       "      <td>1.000000</td>\n",
       "      <td>0.070394</td>\n",
       "      <td>0.000000</td>\n",
       "    </tr>\n",
       "    <tr>\n",
       "      <th>1</th>\n",
       "      <td>0.001613</td>\n",
       "      <td>0.000000</td>\n",
       "      <td>0.504256</td>\n",
       "      <td>-0.001613</td>\n",
       "    </tr>\n",
       "    <tr>\n",
       "      <th>219</th>\n",
       "      <td>0.980645</td>\n",
       "      <td>0.973214</td>\n",
       "      <td>0.071875</td>\n",
       "      <td>-0.007431</td>\n",
       "    </tr>\n",
       "    <tr>\n",
       "      <th>221</th>\n",
       "      <td>0.996774</td>\n",
       "      <td>0.982143</td>\n",
       "      <td>0.071525</td>\n",
       "      <td>-0.014631</td>\n",
       "    </tr>\n",
       "    <tr>\n",
       "      <th>220</th>\n",
       "      <td>0.988710</td>\n",
       "      <td>0.973214</td>\n",
       "      <td>0.071615</td>\n",
       "      <td>-0.015495</td>\n",
       "    </tr>\n",
       "  </tbody>\n",
       "</table>\n",
       "<p>224 rows × 4 columns</p>\n",
       "</div>"
      ],
      "text/plain": [
       "     False_Positive  True_Positive    Cutoff  TPR_minus_FPR\n",
       "122        0.403226       0.723214  0.148245       0.319988\n",
       "123        0.406452       0.723214  0.148159       0.316763\n",
       "120        0.398387       0.714286  0.148746       0.315899\n",
       "121        0.403226       0.714286  0.148398       0.311060\n",
       "127        0.441935       0.750000  0.142048       0.308065\n",
       "..              ...            ...       ...            ...\n",
       "223        1.000000       1.000000  0.070394       0.000000\n",
       "1          0.001613       0.000000  0.504256      -0.001613\n",
       "219        0.980645       0.973214  0.071875      -0.007431\n",
       "221        0.996774       0.982143  0.071525      -0.014631\n",
       "220        0.988710       0.973214  0.071615      -0.015495\n",
       "\n",
       "[224 rows x 4 columns]"
      ]
     },
     "execution_count": 10,
     "metadata": {},
     "output_type": "execute_result"
    }
   ],
   "source": [
    "cutoff_values = pd.DataFrame({'False_Positive': fpr, 'True_Positive': tpr, 'Cutoff': thresholds})\n",
    "cutoff_values['TPR_minus_FPR'] = cutoff_values['True_Positive'] - cutoff_values['False_Positive']\n",
    "\n",
    "## Sorting based on TPR minus FPR\n",
    "cutoff_values = cutoff_values.sort_values(by = 'TPR_minus_FPR', ascending = False)\n",
    "cutoff_values"
   ]
  },
  {
   "cell_type": "markdown",
   "id": "19e34e5b",
   "metadata": {},
   "source": [
    "## Dealing with Class-Imbalanced Data: Class Weights"
   ]
  },
  {
   "cell_type": "code",
   "execution_count": 11,
   "id": "a79f23ec",
   "metadata": {},
   "outputs": [],
   "source": [
    "## Building a random forest model (including weights)\n",
    "RF_md = RandomForestClassifier(n_estimators = 100, max_depth = 3, class_weight = 'balanced').fit(X_train, Y_train)\n",
    "\n",
    "## Predicting on the test dataset\n",
    "RF_pred = RF_md.predict_proba(X_test)[:, 1]"
   ]
  },
  {
   "cell_type": "code",
   "execution_count": 12,
   "id": "8f1e2423",
   "metadata": {},
   "outputs": [
    {
     "data": {
      "text/html": [
       "<div>\n",
       "<style scoped>\n",
       "    .dataframe tbody tr th:only-of-type {\n",
       "        vertical-align: middle;\n",
       "    }\n",
       "\n",
       "    .dataframe tbody tr th {\n",
       "        vertical-align: top;\n",
       "    }\n",
       "\n",
       "    .dataframe thead th {\n",
       "        text-align: right;\n",
       "    }\n",
       "</style>\n",
       "<table border=\"1\" class=\"dataframe\">\n",
       "  <thead>\n",
       "    <tr style=\"text-align: right;\">\n",
       "      <th></th>\n",
       "      <th>False_Positive</th>\n",
       "      <th>True_Positive</th>\n",
       "      <th>Cutoff</th>\n",
       "      <th>True_Positive_minus_1</th>\n",
       "      <th>Distance_to_perfect_model</th>\n",
       "    </tr>\n",
       "  </thead>\n",
       "  <tbody>\n",
       "    <tr>\n",
       "      <th>122</th>\n",
       "      <td>0.380645</td>\n",
       "      <td>0.732143</td>\n",
       "      <td>0.491335</td>\n",
       "      <td>-0.267857</td>\n",
       "      <td>0.465444</td>\n",
       "    </tr>\n",
       "    <tr>\n",
       "      <th>118</th>\n",
       "      <td>0.362903</td>\n",
       "      <td>0.705357</td>\n",
       "      <td>0.501513</td>\n",
       "      <td>-0.294643</td>\n",
       "      <td>0.467454</td>\n",
       "    </tr>\n",
       "    <tr>\n",
       "      <th>124</th>\n",
       "      <td>0.390323</td>\n",
       "      <td>0.741071</td>\n",
       "      <td>0.489667</td>\n",
       "      <td>-0.258929</td>\n",
       "      <td>0.468397</td>\n",
       "    </tr>\n",
       "    <tr>\n",
       "      <th>120</th>\n",
       "      <td>0.377419</td>\n",
       "      <td>0.714286</td>\n",
       "      <td>0.492646</td>\n",
       "      <td>-0.285714</td>\n",
       "      <td>0.473369</td>\n",
       "    </tr>\n",
       "    <tr>\n",
       "      <th>123</th>\n",
       "      <td>0.390323</td>\n",
       "      <td>0.732143</td>\n",
       "      <td>0.489722</td>\n",
       "      <td>-0.267857</td>\n",
       "      <td>0.473391</td>\n",
       "    </tr>\n",
       "    <tr>\n",
       "      <th>...</th>\n",
       "      <td>...</td>\n",
       "      <td>...</td>\n",
       "      <td>...</td>\n",
       "      <td>...</td>\n",
       "      <td>...</td>\n",
       "    </tr>\n",
       "    <tr>\n",
       "      <th>2</th>\n",
       "      <td>0.001613</td>\n",
       "      <td>0.008929</td>\n",
       "      <td>0.764947</td>\n",
       "      <td>-0.991071</td>\n",
       "      <td>0.991073</td>\n",
       "    </tr>\n",
       "    <tr>\n",
       "      <th>3</th>\n",
       "      <td>0.003226</td>\n",
       "      <td>0.008929</td>\n",
       "      <td>0.748723</td>\n",
       "      <td>-0.991071</td>\n",
       "      <td>0.991077</td>\n",
       "    </tr>\n",
       "    <tr>\n",
       "      <th>0</th>\n",
       "      <td>0.000000</td>\n",
       "      <td>0.000000</td>\n",
       "      <td>1.767953</td>\n",
       "      <td>-1.000000</td>\n",
       "      <td>1.000000</td>\n",
       "    </tr>\n",
       "    <tr>\n",
       "      <th>177</th>\n",
       "      <td>1.000000</td>\n",
       "      <td>1.000000</td>\n",
       "      <td>0.208420</td>\n",
       "      <td>0.000000</td>\n",
       "      <td>1.000000</td>\n",
       "    </tr>\n",
       "    <tr>\n",
       "      <th>1</th>\n",
       "      <td>0.001613</td>\n",
       "      <td>0.000000</td>\n",
       "      <td>0.767953</td>\n",
       "      <td>-1.000000</td>\n",
       "      <td>1.000001</td>\n",
       "    </tr>\n",
       "  </tbody>\n",
       "</table>\n",
       "<p>178 rows × 5 columns</p>\n",
       "</div>"
      ],
      "text/plain": [
       "     False_Positive  True_Positive    Cutoff  True_Positive_minus_1  \\\n",
       "122        0.380645       0.732143  0.491335              -0.267857   \n",
       "118        0.362903       0.705357  0.501513              -0.294643   \n",
       "124        0.390323       0.741071  0.489667              -0.258929   \n",
       "120        0.377419       0.714286  0.492646              -0.285714   \n",
       "123        0.390323       0.732143  0.489722              -0.267857   \n",
       "..              ...            ...       ...                    ...   \n",
       "2          0.001613       0.008929  0.764947              -0.991071   \n",
       "3          0.003226       0.008929  0.748723              -0.991071   \n",
       "0          0.000000       0.000000  1.767953              -1.000000   \n",
       "177        1.000000       1.000000  0.208420               0.000000   \n",
       "1          0.001613       0.000000  0.767953              -1.000000   \n",
       "\n",
       "     Distance_to_perfect_model  \n",
       "122                   0.465444  \n",
       "118                   0.467454  \n",
       "124                   0.468397  \n",
       "120                   0.473369  \n",
       "123                   0.473391  \n",
       "..                         ...  \n",
       "2                     0.991073  \n",
       "3                     0.991077  \n",
       "0                     1.000000  \n",
       "177                   1.000000  \n",
       "1                     1.000001  \n",
       "\n",
       "[178 rows x 5 columns]"
      ]
     },
     "execution_count": 12,
     "metadata": {},
     "output_type": "execute_result"
    }
   ],
   "source": [
    "## Computing the ROC-curve\n",
    "fpr, tpr, thresholds = roc_curve(Y_test, RF_pred)\n",
    "\n",
    "cutoff_values = pd.DataFrame({'False_Positive': fpr, 'True_Positive': tpr, 'Cutoff': thresholds})\n",
    "cutoff_values['True_Positive_minus_1'] = cutoff_values['True_Positive'] - 1\n",
    "cutoff_values['Distance_to_perfect_model'] = np.sqrt(cutoff_values['False_Positive']**2 + cutoff_values['True_Positive_minus_1']**2)\n",
    "\n",
    "## Sorting based on the distance to perfect model \n",
    "cutoff_values = cutoff_values.sort_values(by = 'Distance_to_perfect_model')\n",
    "cutoff_values"
   ]
  },
  {
   "cell_type": "code",
   "execution_count": 13,
   "id": "692fec51",
   "metadata": {},
   "outputs": [
    {
     "name": "stdout",
     "output_type": "stream",
     "text": [
      "              precision    recall  f1-score   support\n",
      "\n",
      "           0       0.93      0.62      0.74       620\n",
      "           1       0.26      0.73      0.38       112\n",
      "\n",
      "    accuracy                           0.64       732\n",
      "   macro avg       0.59      0.67      0.56       732\n",
      "weighted avg       0.82      0.64      0.69       732\n",
      "\n"
     ]
    }
   ],
   "source": [
    "## Changing likelihoods to labels (cutoff = 0.491)\n",
    "RF_pred = np.where(RF_pred < 0.491, 0, 1)\n",
    "\n",
    "## Printing the classification report \n",
    "print(classification_report(Y_test, RF_pred))"
   ]
  },
  {
   "cell_type": "code",
   "execution_count": 14,
   "id": "8acd435b",
   "metadata": {},
   "outputs": [
    {
     "data": {
      "image/png": "[encoded data removed]",
      "text/plain": [
       "<Figure size 720x576 with 2 Axes>"
      ]
     },
     "metadata": {
      "needs_background": "light"
     },
     "output_type": "display_data"
    }
   ],
   "source": [
    "## Visualizing the confustion matrix\n",
    "conf_mat = confusion_matrix(Y_test, RF_pred)\n",
    "conf_mat_df = pd.DataFrame(conf_mat, index = ['No Coronary disease', 'Coronary disease'], columns = ['No Coronary disease', 'Coronary disease'])\n",
    "\n",
    "plt.figure(figsize = (10, 8))\n",
    "sns.heatmap(conf_mat_df, annot = True, fmt = 'g', cmap = 'Blues')\n",
    "plt.title('Random Forest \\n Accuracy:{0: .3f}'.format(accuracy_score(Y_test, RF_pred)))\n",
    "plt.ylabel('True Labels')\n",
    "plt.xlabel('Predicted Labels')\n",
    "# plt.savefig('chapter1_plot4.pdf')\n",
    "plt.show()"
   ]
  },
  {
   "cell_type": "markdown",
   "id": "92e04852",
   "metadata": {},
   "source": [
    "## Under-Sampling"
   ]
  },
  {
   "cell_type": "code",
   "execution_count": 25,
   "id": "5d805f5f",
   "metadata": {},
   "outputs": [
    {
     "name": "stdout",
     "output_type": "stream",
     "text": [
      "              precision    recall  f1-score   support\n",
      "\n",
      "           0       0.93      0.59      0.72       620\n",
      "           1       0.25      0.74      0.37       112\n",
      "\n",
      "    accuracy                           0.61       732\n",
      "   macro avg       0.59      0.66      0.54       732\n",
      "weighted avg       0.82      0.61      0.67       732\n",
      "\n"
     ]
    }
   ],
   "source": [
    "## Running under-sampling \n",
    "X_under, Y_under = RandomUnderSampler().fit_resample(X_train, Y_train)\n",
    "\n",
    "## Building the random forest model \n",
    "RF_under = RandomForestClassifier(n_estimators = 100, max_depth = 3).fit(X_under, Y_under)\n",
    "\n",
    "## Predicting on the test dataset\n",
    "RF_pred_under = RF_under.predict_proba(X_test)[:, 1]\n",
    "\n",
    "## Computing the ROC-curve\n",
    "fpr, tpr, thresholds = roc_curve(Y_test, RF_pred_under)\n",
    "\n",
    "cutoff_values = pd.DataFrame({'False_Positive': fpr, 'True_Positive': tpr, 'Cutoff': thresholds})\n",
    "cutoff_values['True_Positive_minus_1'] = cutoff_values['True_Positive'] - 1\n",
    "cutoff_values['Distance_to_perfect_model'] = np.sqrt(cutoff_values['False_Positive']**2 + cutoff_values['True_Positive_minus_1']**2)\n",
    "\n",
    "## Sorting based on the distance to perfect model \n",
    "cutoff_values = cutoff_values.sort_values(by = 'Distance_to_perfect_model').reset_index(drop = True)\n",
    "\n",
    "## Changing likelihoods to labels\n",
    "RF_pred_under = np.where(RF_pred_under < cutoff_values['Cutoff'][0], 0, 1)\n",
    "\n",
    "## Printing the classification report \n",
    "print(classification_report(Y_test, RF_pred_under))"
   ]
  },
  {
   "cell_type": "code",
   "execution_count": 27,
   "id": "f9dac122",
   "metadata": {},
   "outputs": [
    {
     "data": {
      "image/png": "[encoded data removed]",
      "text/plain": [
       "<Figure size 720x576 with 2 Axes>"
      ]
     },
     "metadata": {
      "needs_background": "light"
     },
     "output_type": "display_data"
    }
   ],
   "source": [
    "## Visualizing the confustion matrix\n",
    "conf_mat = confusion_matrix(Y_test, RF_pred_under)\n",
    "conf_mat_df = pd.DataFrame(conf_mat, index = ['No Coronary disease', 'Coronary disease'], columns = ['No Coronary disease', 'Coronary disease'])\n",
    "\n",
    "plt.figure(figsize = (10, 8))\n",
    "sns.heatmap(conf_mat_df, annot = True, fmt = 'g', cmap = 'Blues')\n",
    "plt.title('Random Forest \\n Accuracy:{0: .3f}'.format(accuracy_score(Y_test, RF_pred_under)))\n",
    "plt.ylabel('True Labels')\n",
    "plt.xlabel('Predicted Labels')\n",
    "# plt.savefig('chapter1_plot5.pdf')\n",
    "plt.show()"
   ]
  },
  {
   "cell_type": "markdown",
   "id": "43e78742",
   "metadata": {},
   "source": [
    "## Over-Sampling"
   ]
  },
  {
   "cell_type": "code",
   "execution_count": 28,
   "id": "2a2f7092",
   "metadata": {},
   "outputs": [
    {
     "name": "stdout",
     "output_type": "stream",
     "text": [
      "              precision    recall  f1-score   support\n",
      "\n",
      "           0       0.91      0.70      0.79       620\n",
      "           1       0.27      0.63      0.38       112\n",
      "\n",
      "    accuracy                           0.69       732\n",
      "   macro avg       0.59      0.67      0.59       732\n",
      "weighted avg       0.82      0.69      0.73       732\n",
      "\n"
     ]
    }
   ],
   "source": [
    "## Running over-sampling \n",
    "X_over, Y_over = RandomOverSampler().fit_resample(X_train, Y_train)\n",
    "\n",
    "## Building the random forest model \n",
    "RF_over = RandomForestClassifier(n_estimators = 100, max_depth = 3).fit(X_over, Y_over)\n",
    "\n",
    "## Predicting on the test dataset\n",
    "RF_pred_over = RF_over.predict_proba(X_test)[:, 1]\n",
    "\n",
    "## Computing the ROC-curve\n",
    "fpr, tpr, thresholds = roc_curve(Y_test, RF_pred_over)\n",
    "\n",
    "cutoff_values = pd.DataFrame({'False_Positive': fpr, 'True_Positive': tpr, 'Cutoff': thresholds})\n",
    "cutoff_values['True_Positive_minus_1'] = cutoff_values['True_Positive'] - 1\n",
    "cutoff_values['Distance_to_perfect_model'] = np.sqrt(cutoff_values['False_Positive']**2 + cutoff_values['True_Positive_minus_1']**2)\n",
    "\n",
    "## Sorting based on the distance to perfect model \n",
    "cutoff_values = cutoff_values.sort_values(by = 'Distance_to_perfect_model').reset_index(drop = True)\n",
    "\n",
    "## Changing likelihoods to labels\n",
    "RF_pred_over = np.where(RF_pred_over < cutoff_values['Cutoff'][0], 0, 1)\n",
    "\n",
    "## Printing the classification report \n",
    "print(classification_report(Y_test, RF_pred_over))"
   ]
  },
  {
   "cell_type": "code",
   "execution_count": 30,
   "id": "e47ec0ea",
   "metadata": {},
   "outputs": [
    {
     "data": {
      "image/png": "[encoded data removed]",
      "text/plain": [
       "<Figure size 720x576 with 2 Axes>"
      ]
     },
     "metadata": {
      "needs_background": "light"
     },
     "output_type": "display_data"
    }
   ],
   "source": [
    "## Visualizing the confustion matrix\n",
    "conf_mat = confusion_matrix(Y_test, RF_pred_over)\n",
    "conf_mat_df = pd.DataFrame(conf_mat, index = ['No Coronary disease', 'Coronary disease'], columns = ['No Coronary disease', 'Coronary disease'])\n",
    "\n",
    "plt.figure(figsize = (10, 8))\n",
    "sns.heatmap(conf_mat_df, annot = True, fmt = 'g', cmap = 'Blues')\n",
    "plt.title('Random Forest \\n Accuracy:{0: .3f}'.format(accuracy_score(Y_test, RF_pred_over)))\n",
    "plt.ylabel('True Labels')\n",
    "plt.xlabel('Predicted Labels')\n",
    "# plt.savefig('chapter1_plot6.pdf')\n",
    "plt.show()"
   ]
  },
  {
   "cell_type": "markdown",
   "id": "9483991e",
   "metadata": {},
   "source": [
    "## SMOTE"
   ]
  },
  {
   "cell_type": "code",
   "execution_count": null,
   "id": "dad09566",
   "metadata": {},
   "outputs": [],
   "source": [
    "## Running SMOTE\n",
    "X_smote, Y_smote = SMOTE().fit_resample(X_train, Y_train)\n",
    "\n",
    "## Building the random forest model \n",
    "RF_smote = RandomForestClassifier(n_estimators = 100, max_depth = 3).fit(X_smote, Y_smote)\n",
    "\n",
    "## Predicting on the test dataset\n",
    "RF_pred_smote = RF_over.predict(X_test)\n",
    "\n",
    "## Printing the classification report \n",
    "print(classification_report(Y_test, RF_pred_smote))"
   ]
  },
  {
   "cell_type": "code",
   "execution_count": null,
   "id": "21faa181",
   "metadata": {},
   "outputs": [],
   "source": [
    "## Visualizing the confustion matrix\n",
    "conf_mat = confusion_matrix(Y_test, RF_pred_smote)\n",
    "conf_mat_df = pd.DataFrame(conf_mat, index = ['No Coronary disease', 'Coronary disease'], columns = ['No Coronary disease', 'Coronary disease'])\n",
    "\n",
    "plt.figure(figsize = (10, 8))\n",
    "sns.heatmap(conf_mat_df, annot = True, fmt = 'g', cmap = 'Blues')\n",
    "plt.title('Random Forest \\n Accuracy:{0: .3f}'.format(accuracy_score(Y_test, RF_pred_smote)))\n",
    "plt.ylabel('True Labels')\n",
    "plt.xlabel('Predicted Labels')\n",
    "# plt.savefig('chapter1_plot5.pdf')\n",
    "plt.show()"
   ]
  },
  {
   "cell_type": "code",
   "execution_count": null,
   "id": "060b9073",
   "metadata": {},
   "outputs": [],
   "source": [
    "## Building a random forest model (including weights)\n",
    "RF_md = RandomForestClassifier(n_estimators = 100, max_depth = 3, class_weight = 'balanced').fit(X_train, Y_train)\n",
    "\n",
    "## Predicting on the test dataset\n",
    "RF_pred = RF_md.predict(X_test)\n",
    "\n",
    "## Printing the classification report \n",
    "print(classification_report(Y_test, RF_pred))"
   ]
  },
  {
   "cell_type": "code",
   "execution_count": null,
   "id": "5761bf9d",
   "metadata": {},
   "outputs": [],
   "source": [
    "## Visualizing the confustion matrix\n",
    "conf_mat = confusion_matrix(Y_test, RF_pred)\n",
    "conf_mat_df = pd.DataFrame(conf_mat, index = ['No Coronary disease', 'Coronary disease'], columns = ['No Coronary disease', 'Coronary disease'])\n",
    "\n",
    "plt.figure(figsize = (10, 8))\n",
    "sns.heatmap(conf_mat_df, annot = True, fmt = 'g', cmap = 'Blues')\n",
    "plt.title('Random Forest \\n Accuracy:{0: .3f}'.format(accuracy_score(Y_test, RF_pred)))\n",
    "plt.ylabel('True Labels')\n",
    "plt.xlabel('Predicted Labels')\n",
    "# plt.savefig('chapter1_plot2.pdf')\n",
    "plt.show()"
   ]
  }
 ],
 "metadata": {
  "kernelspec": {
   "display_name": "conda_python3",
   "language": "python",
   "name": "conda_python3"
  },
  "language_info": {
   "codemirror_mode": {
    "name": "ipython",
    "version": 3
   },
   "file_extension": ".py",
   "mimetype": "text/x-python",
   "name": "python",
   "nbconvert_exporter": "python",
   "pygments_lexer": "ipython3",
   "version": "3.6.13"
  }
 },
 "nbformat": 4,
 "nbformat_minor": 5
}
