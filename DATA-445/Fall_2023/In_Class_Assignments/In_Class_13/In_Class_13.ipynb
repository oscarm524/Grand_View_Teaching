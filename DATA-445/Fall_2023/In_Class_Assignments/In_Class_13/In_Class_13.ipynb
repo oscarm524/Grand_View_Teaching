{
 "cells": [
  {
   "cell_type": "code",
   "execution_count": 1,
   "id": "1f718bde-e924-4d4a-99c3-4b11f4037cbe",
   "metadata": {},
   "outputs": [],
   "source": [
    "import pandas as pd\n",
    "import numpy as np\n",
    "\n",
    "from sklearn.ensemble import RandomForestClassifier, ExtraTreesClassifier\n",
    "from sklearn.model_selection import train_test_split\n",
    "from sklearn.metrics import recall_score"
   ]
  },
  {
   "cell_type": "code",
   "execution_count": 2,
   "id": "31ecdfc5-a21f-4a9b-9c86-b54a57ac4a23",
   "metadata": {},
   "outputs": [],
   "source": [
    "heart = pd.read_csv('framingham.csv')\n",
    "heart = heart.dropna()"
   ]
  },
  {
   "cell_type": "code",
   "execution_count": 3,
   "id": "e47f9a1f-1a5e-4dff-bd02-f9bfd7ca4383",
   "metadata": {},
   "outputs": [],
   "source": [
    "## Defining the input and target variables\n",
    "X = heart[['age', 'currentSmoker', 'totChol', 'BMI', 'heartRate']] \n",
    "Y = heart['TenYearCHD']\n",
    "\n",
    "## Splitting the data \n",
    "X_train, X_test, Y_train, Y_test = train_test_split(X, Y, test_size = 0.2, stratify = Y)"
   ]
  },
  {
   "cell_type": "code",
   "execution_count": 6,
   "id": "f7d3ae71-7fb1-4e85-8671-71ca1cde03fc",
   "metadata": {},
   "outputs": [
    {
     "name": "stdout",
     "output_type": "stream",
     "text": [
      "The recall of the RF model is 0.875\n"
     ]
    }
   ],
   "source": [
    "## Random Forest\n",
    "RF_md = RandomForestClassifier(n_estimators = 500, \n",
    "                               max_depth = 5).fit(X_train, Y_train)\n",
    "\n",
    "RF_pred = RF_md.predict_proba(X_test)[:, 1]\n",
    "RF_label = np.where(RF_pred < 0.1, 0, 1)\n",
    "\n",
    "print(f\"The recall of the RF model is {recall_score(Y_test, RF_label)}\")"
   ]
  },
  {
   "cell_type": "code",
   "execution_count": 7,
   "id": "a32c4563-5153-4b48-bb5b-546bb2888180",
   "metadata": {},
   "outputs": [
    {
     "name": "stdout",
     "output_type": "stream",
     "text": [
      "The recall of the ET model is 0.9642857142857143\n"
     ]
    }
   ],
   "source": [
    "## Extra Trees\n",
    "ET_md = ExtraTreesClassifier(n_estimators = 500, \n",
    "                             max_depth = 5).fit(X_train, Y_train)\n",
    "\n",
    "ET_pred = ET_md.predict_proba(X_test)[:, 1]\n",
    "ET_label = np.where(ET_pred < 0.1, 0, 1)\n",
    "\n",
    "print(f\"The recall of the ET model is {recall_score(Y_test, ET_label)}\")"
   ]
  }
 ],
 "metadata": {
  "kernelspec": {
   "display_name": "Python 3 (ipykernel)",
   "language": "python",
   "name": "python3"
  },
  "language_info": {
   "codemirror_mode": {
    "name": "ipython",
    "version": 3
   },
   "file_extension": ".py",
   "mimetype": "text/x-python",
   "name": "python",
   "nbconvert_exporter": "python",
   "pygments_lexer": "ipython3",
   "version": "3.8.16"
  }
 },
 "nbformat": 4,
 "nbformat_minor": 5
}
