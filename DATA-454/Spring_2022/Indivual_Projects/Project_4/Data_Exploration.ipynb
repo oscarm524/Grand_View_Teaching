{
 "cells": [
  {
   "cell_type": "code",
   "execution_count": 1,
   "id": "01ce8120",
   "metadata": {},
   "outputs": [
    {
     "data": {
      "text/html": [
       "<div>\n",
       "<style scoped>\n",
       "    .dataframe tbody tr th:only-of-type {\n",
       "        vertical-align: middle;\n",
       "    }\n",
       "\n",
       "    .dataframe tbody tr th {\n",
       "        vertical-align: top;\n",
       "    }\n",
       "\n",
       "    .dataframe thead th {\n",
       "        text-align: right;\n",
       "    }\n",
       "</style>\n",
       "<table border=\"1\" class=\"dataframe\">\n",
       "  <thead>\n",
       "    <tr style=\"text-align: right;\">\n",
       "      <th></th>\n",
       "      <th>orderID|orderTime|userID|couponsReceived|couponID1|price1|basePrice1|reward1|premiumProduct1|brand1|productGroup1|categoryIDs1|couponID2|price2|basePrice2|reward2|premiumProduct2|brand2|productGroup2|categoryIDs2|couponID3|price3|basePrice3|reward3|premiumProduct3|brand3|productGroup3|categoryIDs3|coupon1Used|coupon2Used|coupon3Used|basketValue</th>\n",
       "    </tr>\n",
       "  </thead>\n",
       "  <tbody>\n",
       "    <tr>\n",
       "      <th>0</th>\n",
       "      <td>1|2015-01-06 09:38:35|f77fdea046ce0a40eb30ac35...</td>\n",
       "    </tr>\n",
       "    <tr>\n",
       "      <th>1</th>\n",
       "      <td>2|2015-01-06 10:03:19|49fb109b47d0cee1753b63c2...</td>\n",
       "    </tr>\n",
       "    <tr>\n",
       "      <th>2</th>\n",
       "      <td>3|2015-01-06 10:08:13|b767e0e5cda30fc2e7c39f80...</td>\n",
       "    </tr>\n",
       "    <tr>\n",
       "      <th>3</th>\n",
       "      <td>4|2015-01-06 13:23:23|cae358d7b2d59aafe8e41e70...</td>\n",
       "    </tr>\n",
       "    <tr>\n",
       "      <th>4</th>\n",
       "      <td>5|2015-01-06 13:37:22|9ddbc3f477d31b609f962555...</td>\n",
       "    </tr>\n",
       "  </tbody>\n",
       "</table>\n",
       "</div>"
      ],
      "text/plain": [
       "  orderID|orderTime|userID|couponsReceived|couponID1|price1|basePrice1|reward1|premiumProduct1|brand1|productGroup1|categoryIDs1|couponID2|price2|basePrice2|reward2|premiumProduct2|brand2|productGroup2|categoryIDs2|couponID3|price3|basePrice3|reward3|premiumProduct3|brand3|productGroup3|categoryIDs3|coupon1Used|coupon2Used|coupon3Used|basketValue\n",
       "0  1|2015-01-06 09:38:35|f77fdea046ce0a40eb30ac35...                                                                                                                                                                                                                                                                                                        \n",
       "1  2|2015-01-06 10:03:19|49fb109b47d0cee1753b63c2...                                                                                                                                                                                                                                                                                                        \n",
       "2  3|2015-01-06 10:08:13|b767e0e5cda30fc2e7c39f80...                                                                                                                                                                                                                                                                                                        \n",
       "3  4|2015-01-06 13:23:23|cae358d7b2d59aafe8e41e70...                                                                                                                                                                                                                                                                                                        \n",
       "4  5|2015-01-06 13:37:22|9ddbc3f477d31b609f962555...                                                                                                                                                                                                                                                                                                        "
      ]
     },
     "execution_count": 1,
     "metadata": {},
     "output_type": "execute_result"
    }
   ],
   "source": [
    "\n",
    "\n",
    "import boto3\n",
    "import pandas as pd\n",
    "import numpy as np\n",
    "import matplotlib.pyplot as plt\n",
    "from sklearn.preprocessing import MinMaxScaler\n",
    "from sklearn.model_selection import train_test_split, ParameterGrid, GridSearchCV, RandomizedSearchCV\n",
    "from sklearn.neighbors import KNeighborsRegressor\n",
    "from sklearn.svm import SVR\n",
    "from sklearn.tree import DecisionTreeRegressor\n",
    "from sklearn.ensemble import RandomForestRegressor\n",
    "from sklearn.metrics import mean_squared_error\n",
    "\n",
    "## Defining the s3 bucket\n",
    "s3 = boto3.resource('s3')\n",
    "bucket_name = 'data-454'\n",
    "bucket = s3.Bucket(bucket_name)\n",
    "\n",
    "## Defining the file to be read from s3 bucket\n",
    "file_key = 'Project_4/DMC_2015_orders_train.txt'\n",
    "\n",
    "bucket_object = bucket.Object(file_key)\n",
    "file_object = bucket_object.get()\n",
    "file_content_stream = file_object.get('Body')\n",
    "\n",
    "## Reading the csv file\n",
    "train = pd.read_csv(file_content_stream, sep = '|')\n",
    "train.head()"
   ]
  }
 ],
 "metadata": {
  "kernelspec": {
   "display_name": "conda_python3",
   "language": "python",
   "name": "conda_python3"
  },
  "language_info": {
   "codemirror_mode": {
    "name": "ipython",
    "version": 3
   },
   "file_extension": ".py",
   "mimetype": "text/x-python",
   "name": "python",
   "nbconvert_exporter": "python",
   "pygments_lexer": "ipython3",
   "version": "3.6.13"
  }
 },
 "nbformat": 4,
 "nbformat_minor": 5
}
