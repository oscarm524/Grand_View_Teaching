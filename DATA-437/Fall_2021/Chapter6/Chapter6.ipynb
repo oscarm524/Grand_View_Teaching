{
 "cells": [
  {
   "cell_type": "code",
   "execution_count": 1,
   "id": "64f8cfb8",
   "metadata": {},
   "outputs": [
    {
     "data": {
      "text/html": [
       "<div>\n",
       "<style scoped>\n",
       "    .dataframe tbody tr th:only-of-type {\n",
       "        vertical-align: middle;\n",
       "    }\n",
       "\n",
       "    .dataframe tbody tr th {\n",
       "        vertical-align: top;\n",
       "    }\n",
       "\n",
       "    .dataframe thead th {\n",
       "        text-align: right;\n",
       "    }\n",
       "</style>\n",
       "<table border=\"1\" class=\"dataframe\">\n",
       "  <thead>\n",
       "    <tr style=\"text-align: right;\">\n",
       "      <th></th>\n",
       "      <th>Team</th>\n",
       "      <th>Year</th>\n",
       "      <th>Runs</th>\n",
       "      <th>T</th>\n",
       "      <th>HR</th>\n",
       "      <th>SB</th>\n",
       "      <th>OPS</th>\n",
       "    </tr>\n",
       "  </thead>\n",
       "  <tbody>\n",
       "    <tr>\n",
       "      <th>0</th>\n",
       "      <td>Texas Rangers</td>\n",
       "      <td>2011</td>\n",
       "      <td>855</td>\n",
       "      <td>32</td>\n",
       "      <td>210</td>\n",
       "      <td>143</td>\n",
       "      <td>0.800</td>\n",
       "    </tr>\n",
       "    <tr>\n",
       "      <th>1</th>\n",
       "      <td>Boston Red Sox</td>\n",
       "      <td>2011</td>\n",
       "      <td>875</td>\n",
       "      <td>35</td>\n",
       "      <td>203</td>\n",
       "      <td>102</td>\n",
       "      <td>0.810</td>\n",
       "    </tr>\n",
       "    <tr>\n",
       "      <th>2</th>\n",
       "      <td>Detroit Tigers</td>\n",
       "      <td>2011</td>\n",
       "      <td>787</td>\n",
       "      <td>34</td>\n",
       "      <td>169</td>\n",
       "      <td>49</td>\n",
       "      <td>0.773</td>\n",
       "    </tr>\n",
       "    <tr>\n",
       "      <th>3</th>\n",
       "      <td>Kansas City Royals</td>\n",
       "      <td>2011</td>\n",
       "      <td>730</td>\n",
       "      <td>41</td>\n",
       "      <td>129</td>\n",
       "      <td>153</td>\n",
       "      <td>0.744</td>\n",
       "    </tr>\n",
       "    <tr>\n",
       "      <th>4</th>\n",
       "      <td>St. Louis Cardinals</td>\n",
       "      <td>2011</td>\n",
       "      <td>762</td>\n",
       "      <td>22</td>\n",
       "      <td>162</td>\n",
       "      <td>57</td>\n",
       "      <td>0.766</td>\n",
       "    </tr>\n",
       "  </tbody>\n",
       "</table>\n",
       "</div>"
      ],
      "text/plain": [
       "                  Team  Year  Runs   T   HR   SB    OPS\n",
       "0        Texas Rangers  2011   855  32  210  143  0.800\n",
       "1       Boston Red Sox  2011   875  35  203  102  0.810\n",
       "2       Detroit Tigers  2011   787  34  169   49  0.773\n",
       "3   Kansas City Royals  2011   730  41  129  153  0.744\n",
       "4  St. Louis Cardinals  2011   762  22  162   57  0.766"
      ]
     },
     "execution_count": 1,
     "metadata": {},
     "output_type": "execute_result"
    }
   ],
   "source": [
    "import pandas as pd\n",
    "import numpy as np\n",
    "import statsmodels.formula.api as smf\n",
    "import matplotlib.pyplot as plt\n",
    "\n",
    "## Reding the csv file \n",
    "baseball = pd.read_csv('Dataset_6_1.csv')\n",
    "baseball.head()"
   ]
  },
  {
   "cell_type": "code",
   "execution_count": 3,
   "id": "5c65976c",
   "metadata": {},
   "outputs": [
    {
     "data": {
      "image/png": "[encoded data removed]",
      "text/plain": [
       "<Figure size 432x288 with 1 Axes>"
      ]
     },
     "metadata": {
      "needs_background": "light"
     },
     "output_type": "display_data"
    }
   ],
   "source": [
    "## Plotting runs vs ops\n",
    "plt.plot('OPS', 'Runs', 'o', data = baseball)\n",
    "plt.xlabel('OPS')\n",
    "plt.ylabel('Runs Scored')\n",
    "plt.grid()\n",
    "# plt.savefig('chapter6_plot1.pdf')\n",
    "plt.show()"
   ]
  },
  {
   "cell_type": "markdown",
   "id": "2b5734d2",
   "metadata": {},
   "source": [
    "# Linear Regression"
   ]
  },
  {
   "cell_type": "code",
   "execution_count": 6,
   "id": "a689ab4c",
   "metadata": {},
   "outputs": [
    {
     "data": {
      "text/html": [
       "<table class=\"simpletable\">\n",
       "<caption>OLS Regression Results</caption>\n",
       "<tr>\n",
       "  <th>Dep. Variable:</th>          <td>Runs</td>       <th>  R-squared:         </th> <td>   0.917</td>\n",
       "</tr>\n",
       "<tr>\n",
       "  <th>Model:</th>                   <td>OLS</td>       <th>  Adj. R-squared:    </th> <td>   0.917</td>\n",
       "</tr>\n",
       "<tr>\n",
       "  <th>Method:</th>             <td>Least Squares</td>  <th>  F-statistic:       </th> <td>   1641.</td>\n",
       "</tr>\n",
       "<tr>\n",
       "  <th>Date:</th>             <td>Sat, 09 Oct 2021</td> <th>  Prob (F-statistic):</th> <td>5.49e-82</td>\n",
       "</tr>\n",
       "<tr>\n",
       "  <th>Time:</th>                 <td>18:51:45</td>     <th>  Log-Likelihood:    </th> <td> -681.48</td>\n",
       "</tr>\n",
       "<tr>\n",
       "  <th>No. Observations:</th>      <td>   150</td>      <th>  AIC:               </th> <td>   1367.</td>\n",
       "</tr>\n",
       "<tr>\n",
       "  <th>Df Residuals:</th>          <td>   148</td>      <th>  BIC:               </th> <td>   1373.</td>\n",
       "</tr>\n",
       "<tr>\n",
       "  <th>Df Model:</th>              <td>     1</td>      <th>                     </th>     <td> </td>   \n",
       "</tr>\n",
       "<tr>\n",
       "  <th>Covariance Type:</th>      <td>nonrobust</td>    <th>                     </th>     <td> </td>   \n",
       "</tr>\n",
       "</table>\n",
       "<table class=\"simpletable\">\n",
       "<tr>\n",
       "      <td></td>         <th>coef</th>     <th>std err</th>      <th>t</th>      <th>P>|t|</th>  <th>[0.025</th>    <th>0.975]</th>  \n",
       "</tr>\n",
       "<tr>\n",
       "  <th>Intercept</th> <td> -764.6958</td> <td>   37.099</td> <td>  -20.612</td> <td> 0.000</td> <td> -838.008</td> <td> -691.384</td>\n",
       "</tr>\n",
       "<tr>\n",
       "  <th>OPS</th>       <td> 2025.8635</td> <td>   50.009</td> <td>   40.510</td> <td> 0.000</td> <td> 1927.040</td> <td> 2124.687</td>\n",
       "</tr>\n",
       "</table>\n",
       "<table class=\"simpletable\">\n",
       "<tr>\n",
       "  <th>Omnibus:</th>       <td>12.632</td> <th>  Durbin-Watson:     </th> <td>   1.947</td>\n",
       "</tr>\n",
       "<tr>\n",
       "  <th>Prob(Omnibus):</th> <td> 0.002</td> <th>  Jarque-Bera (JB):  </th> <td>  13.824</td>\n",
       "</tr>\n",
       "<tr>\n",
       "  <th>Skew:</th>          <td> 0.615</td> <th>  Prob(JB):          </th> <td>0.000996</td>\n",
       "</tr>\n",
       "<tr>\n",
       "  <th>Kurtosis:</th>      <td> 3.836</td> <th>  Cond. No.          </th> <td>    41.4</td>\n",
       "</tr>\n",
       "</table><br/><br/>Notes:<br/>[1] Standard Errors assume that the covariance matrix of the errors is correctly specified."
      ],
      "text/plain": [
       "<class 'statsmodels.iolib.summary.Summary'>\n",
       "\"\"\"\n",
       "                            OLS Regression Results                            \n",
       "==============================================================================\n",
       "Dep. Variable:                   Runs   R-squared:                       0.917\n",
       "Model:                            OLS   Adj. R-squared:                  0.917\n",
       "Method:                 Least Squares   F-statistic:                     1641.\n",
       "Date:                Sat, 09 Oct 2021   Prob (F-statistic):           5.49e-82\n",
       "Time:                        18:51:45   Log-Likelihood:                -681.48\n",
       "No. Observations:                 150   AIC:                             1367.\n",
       "Df Residuals:                     148   BIC:                             1373.\n",
       "Df Model:                           1                                         \n",
       "Covariance Type:            nonrobust                                         \n",
       "==============================================================================\n",
       "                 coef    std err          t      P>|t|      [0.025      0.975]\n",
       "------------------------------------------------------------------------------\n",
       "Intercept   -764.6958     37.099    -20.612      0.000    -838.008    -691.384\n",
       "OPS         2025.8635     50.009     40.510      0.000    1927.040    2124.687\n",
       "==============================================================================\n",
       "Omnibus:                       12.632   Durbin-Watson:                   1.947\n",
       "Prob(Omnibus):                  0.002   Jarque-Bera (JB):               13.824\n",
       "Skew:                           0.615   Prob(JB):                     0.000996\n",
       "Kurtosis:                       3.836   Cond. No.                         41.4\n",
       "==============================================================================\n",
       "\n",
       "Notes:\n",
       "[1] Standard Errors assume that the covariance matrix of the errors is correctly specified.\n",
       "\"\"\""
      ]
     },
     "execution_count": 6,
     "metadata": {},
     "output_type": "execute_result"
    }
   ],
   "source": [
    "## Fitting the linear model\n",
    "lm_md = smf.ols(formula = 'Runs ~ OPS', data = baseball).fit()\n",
    "\n",
    "## Extracting model results\n",
    "lm_md.summary()"
   ]
  }
 ],
 "metadata": {
  "kernelspec": {
   "display_name": "conda_python3",
   "language": "python",
   "name": "conda_python3"
  },
  "language_info": {
   "codemirror_mode": {
    "name": "ipython",
    "version": 3
   },
   "file_extension": ".py",
   "mimetype": "text/x-python",
   "name": "python",
   "nbconvert_exporter": "python",
   "pygments_lexer": "ipython3",
   "version": "3.6.13"
  }
 },
 "nbformat": 4,
 "nbformat_minor": 5
}
