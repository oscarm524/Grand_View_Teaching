{
 "cells": [
  {
   "cell_type": "code",
   "execution_count": 1,
   "id": "e80f8f6d",
   "metadata": {},
   "outputs": [
    {
     "data": {
      "text/html": [
       "<div>\n",
       "<style scoped>\n",
       "    .dataframe tbody tr th:only-of-type {\n",
       "        vertical-align: middle;\n",
       "    }\n",
       "\n",
       "    .dataframe tbody tr th {\n",
       "        vertical-align: top;\n",
       "    }\n",
       "\n",
       "    .dataframe thead th {\n",
       "        text-align: right;\n",
       "    }\n",
       "</style>\n",
       "<table border=\"1\" class=\"dataframe\">\n",
       "  <thead>\n",
       "    <tr style=\"text-align: right;\">\n",
       "      <th></th>\n",
       "      <th>game_id</th>\n",
       "      <th>player_id</th>\n",
       "      <th>team_id</th>\n",
       "      <th>timeOnIce</th>\n",
       "      <th>assists</th>\n",
       "      <th>goals</th>\n",
       "      <th>pim</th>\n",
       "      <th>shots</th>\n",
       "      <th>saves</th>\n",
       "      <th>powerPlaySaves</th>\n",
       "      <th>shortHandedSaves</th>\n",
       "      <th>evenSaves</th>\n",
       "      <th>shortHandedShotsAgainst</th>\n",
       "      <th>evenShotsAgainst</th>\n",
       "      <th>powerPlayShotsAgainst</th>\n",
       "      <th>decision</th>\n",
       "      <th>savePercentage</th>\n",
       "      <th>powerPlaySavePercentage</th>\n",
       "      <th>evenStrengthSavePercentage</th>\n",
       "    </tr>\n",
       "  </thead>\n",
       "  <tbody>\n",
       "    <tr>\n",
       "      <th>0</th>\n",
       "      <td>2012030221</td>\n",
       "      <td>8468685</td>\n",
       "      <td>3</td>\n",
       "      <td>4540</td>\n",
       "      <td>0</td>\n",
       "      <td>0</td>\n",
       "      <td>0</td>\n",
       "      <td>48</td>\n",
       "      <td>45</td>\n",
       "      <td>10</td>\n",
       "      <td>1</td>\n",
       "      <td>34</td>\n",
       "      <td>1</td>\n",
       "      <td>36</td>\n",
       "      <td>11</td>\n",
       "      <td>L</td>\n",
       "      <td>93.750000</td>\n",
       "      <td>90.909091</td>\n",
       "      <td>94.444444</td>\n",
       "    </tr>\n",
       "    <tr>\n",
       "      <th>1</th>\n",
       "      <td>2012030221</td>\n",
       "      <td>8471695</td>\n",
       "      <td>6</td>\n",
       "      <td>4540</td>\n",
       "      <td>0</td>\n",
       "      <td>0</td>\n",
       "      <td>0</td>\n",
       "      <td>35</td>\n",
       "      <td>33</td>\n",
       "      <td>3</td>\n",
       "      <td>0</td>\n",
       "      <td>30</td>\n",
       "      <td>0</td>\n",
       "      <td>32</td>\n",
       "      <td>3</td>\n",
       "      <td>W</td>\n",
       "      <td>94.285714</td>\n",
       "      <td>100.000000</td>\n",
       "      <td>93.750000</td>\n",
       "    </tr>\n",
       "    <tr>\n",
       "      <th>2</th>\n",
       "      <td>2012030222</td>\n",
       "      <td>8468685</td>\n",
       "      <td>3</td>\n",
       "      <td>3600</td>\n",
       "      <td>0</td>\n",
       "      <td>0</td>\n",
       "      <td>0</td>\n",
       "      <td>32</td>\n",
       "      <td>27</td>\n",
       "      <td>1</td>\n",
       "      <td>2</td>\n",
       "      <td>24</td>\n",
       "      <td>2</td>\n",
       "      <td>29</td>\n",
       "      <td>1</td>\n",
       "      <td>L</td>\n",
       "      <td>84.375000</td>\n",
       "      <td>100.000000</td>\n",
       "      <td>82.758621</td>\n",
       "    </tr>\n",
       "    <tr>\n",
       "      <th>3</th>\n",
       "      <td>2012030222</td>\n",
       "      <td>8471695</td>\n",
       "      <td>6</td>\n",
       "      <td>3600</td>\n",
       "      <td>0</td>\n",
       "      <td>0</td>\n",
       "      <td>0</td>\n",
       "      <td>37</td>\n",
       "      <td>35</td>\n",
       "      <td>7</td>\n",
       "      <td>1</td>\n",
       "      <td>27</td>\n",
       "      <td>1</td>\n",
       "      <td>29</td>\n",
       "      <td>7</td>\n",
       "      <td>W</td>\n",
       "      <td>94.594595</td>\n",
       "      <td>100.000000</td>\n",
       "      <td>93.103448</td>\n",
       "    </tr>\n",
       "    <tr>\n",
       "      <th>4</th>\n",
       "      <td>2012030223</td>\n",
       "      <td>8471695</td>\n",
       "      <td>6</td>\n",
       "      <td>3600</td>\n",
       "      <td>0</td>\n",
       "      <td>0</td>\n",
       "      <td>0</td>\n",
       "      <td>24</td>\n",
       "      <td>23</td>\n",
       "      <td>2</td>\n",
       "      <td>0</td>\n",
       "      <td>21</td>\n",
       "      <td>0</td>\n",
       "      <td>22</td>\n",
       "      <td>2</td>\n",
       "      <td>W</td>\n",
       "      <td>95.833333</td>\n",
       "      <td>100.000000</td>\n",
       "      <td>95.454545</td>\n",
       "    </tr>\n",
       "  </tbody>\n",
       "</table>\n",
       "</div>"
      ],
      "text/plain": [
       "      game_id  player_id  team_id  timeOnIce  assists  goals  pim  shots  \\\n",
       "0  2012030221    8468685        3       4540        0      0    0     48   \n",
       "1  2012030221    8471695        6       4540        0      0    0     35   \n",
       "2  2012030222    8468685        3       3600        0      0    0     32   \n",
       "3  2012030222    8471695        6       3600        0      0    0     37   \n",
       "4  2012030223    8471695        6       3600        0      0    0     24   \n",
       "\n",
       "   saves  powerPlaySaves  shortHandedSaves  evenSaves  \\\n",
       "0     45              10                 1         34   \n",
       "1     33               3                 0         30   \n",
       "2     27               1                 2         24   \n",
       "3     35               7                 1         27   \n",
       "4     23               2                 0         21   \n",
       "\n",
       "   shortHandedShotsAgainst  evenShotsAgainst  powerPlayShotsAgainst decision  \\\n",
       "0                        1                36                     11        L   \n",
       "1                        0                32                      3        W   \n",
       "2                        2                29                      1        L   \n",
       "3                        1                29                      7        W   \n",
       "4                        0                22                      2        W   \n",
       "\n",
       "   savePercentage  powerPlaySavePercentage  evenStrengthSavePercentage  \n",
       "0       93.750000                90.909091                   94.444444  \n",
       "1       94.285714               100.000000                   93.750000  \n",
       "2       84.375000               100.000000                   82.758621  \n",
       "3       94.594595               100.000000                   93.103448  \n",
       "4       95.833333               100.000000                   95.454545  "
      ]
     },
     "execution_count": 1,
     "metadata": {},
     "output_type": "execute_result"
    }
   ],
   "source": [
    "import pandas as pd\n",
    "\n",
    "## Rading the csv file\n",
    "goalie_stats = pd.read_csv('game_goalie_stats.csv')\n",
    "goalie_stats.head()"
   ]
  },
  {
   "cell_type": "code",
   "execution_count": 2,
   "id": "618195e9",
   "metadata": {},
   "outputs": [
    {
     "data": {
      "text/plain": [
       "3012.2360662449237"
      ]
     },
     "execution_count": 2,
     "metadata": {},
     "output_type": "execute_result"
    }
   ],
   "source": [
    "## Reporting the average time of the average timeOnIce per goalie\n",
    "goalie_stats.groupby('player_id')['timeOnIce'].mean().mean()"
   ]
  },
  {
   "cell_type": "code",
   "execution_count": 3,
   "id": "212f418c",
   "metadata": {},
   "outputs": [
    {
     "data": {
      "text/plain": [
       "3257.508474576271"
      ]
     },
     "execution_count": 3,
     "metadata": {},
     "output_type": "execute_result"
    }
   ],
   "source": [
    "## Reporting the median time of the average timeOnIce per goalie\n",
    "goalie_stats.groupby('player_id')['timeOnIce'].mean().median()"
   ]
  },
  {
   "cell_type": "code",
   "execution_count": 4,
   "id": "7e1ca7d0",
   "metadata": {},
   "outputs": [],
   "source": [
    "## Since the mean < median, the distribution is left-skewed"
   ]
  },
  {
   "cell_type": "code",
   "execution_count": 5,
   "id": "e7e5845c",
   "metadata": {},
   "outputs": [
    {
     "data": {
      "text/plain": [
       "<AxesSubplot:>"
      ]
     },
     "execution_count": 5,
     "metadata": {},
     "output_type": "execute_result"
    },
    {
     "data": {
      "image/png": "[encoded data removed]",
      "text/plain": [
       "<Figure size 432x288 with 1 Axes>"
      ]
     },
     "metadata": {
      "needs_background": "light"
     },
     "output_type": "display_data"
    }
   ],
   "source": [
    "## Reporting the average time of the average timeOnIce per goalie\n",
    "goalie_stats.groupby('player_id')['timeOnIce'].mean().hist()"
   ]
  },
  {
   "cell_type": "code",
   "execution_count": 6,
   "id": "bb211187",
   "metadata": {},
   "outputs": [],
   "source": [
    "## From the above figure, we see that histogram of the average time on ice is left-skewed, which agrees with our conclusion from part (b)"
   ]
  }
 ],
 "metadata": {
  "kernelspec": {
   "display_name": "conda_python3",
   "language": "python",
   "name": "conda_python3"
  },
  "language_info": {
   "codemirror_mode": {
    "name": "ipython",
    "version": 3
   },
   "file_extension": ".py",
   "mimetype": "text/x-python",
   "name": "python",
   "nbconvert_exporter": "python",
   "pygments_lexer": "ipython3",
   "version": "3.6.13"
  }
 },
 "nbformat": 4,
 "nbformat_minor": 5
}
