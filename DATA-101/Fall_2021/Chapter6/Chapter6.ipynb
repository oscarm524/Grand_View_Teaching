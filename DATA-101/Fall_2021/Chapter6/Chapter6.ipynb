{
 "cells": [
  {
   "cell_type": "markdown",
   "id": "c2954ff9",
   "metadata": {},
   "source": [
    "# Evaluating k-NN Classifier"
   ]
  },
  {
   "cell_type": "code",
   "execution_count": 2,
   "id": "a5ff692f",
   "metadata": {},
   "outputs": [
    {
     "name": "stdout",
     "output_type": "stream",
     "text": [
      "The confusion matrix is:\n",
      "[[100   9]\n",
      " [  5  57]]\n",
      "The accuracy is:  0.9181286549707602\n",
      "Classification report:\n",
      "              precision    recall  f1-score   support\n",
      "\n",
      "           0       0.95      0.92      0.93       109\n",
      "           1       0.86      0.92      0.89        62\n",
      "\n",
      "    accuracy                           0.92       171\n",
      "   macro avg       0.91      0.92      0.91       171\n",
      "weighted avg       0.92      0.92      0.92       171\n",
      "\n"
     ]
    },
    {
     "name": "stderr",
     "output_type": "stream",
     "text": [
      "/home/ec2-user/anaconda3/envs/python3/lib/python3.6/site-packages/sklearn/neighbors/_classification.py:179: DataConversionWarning: A column-vector y was passed when a 1d array was expected. Please change the shape of y to (n_samples,), for example using ravel().\n",
      "  return self._fit(X, y)\n"
     ]
    }
   ],
   "source": [
    "from pandas import read_csv\n",
    "from sklearn.metrics import confusion_matrix\n",
    "from sklearn.metrics import accuracy_score\n",
    "from sklearn.metrics import classification_report\n",
    "from sklearn.model_selection import train_test_split\n",
    "from sklearn.neighbors import KNeighborsClassifier\n",
    "from sklearn.preprocessing import MinMaxScaler\n",
    "\n",
    "## Here we read the data \n",
    "breast_cancer = read_csv('wisconsin_breast_cancer.csv')\n",
    "\n",
    "## Here we select the variables of interest\n",
    "breast_cancer = breast_cancer[['diagnosis', 'area_worst', 'radius_worst',  \n",
    "                               'compactness_worst']]\n",
    "\n",
    "## Here we recode diagnosis\n",
    "breast_cancer['diagnosis'] = breast_cancer.diagnosis.map({'B':0, 'M':1})\n",
    "\n",
    "## Here we define the predictors and target \n",
    "X = breast_cancer[['area_worst', 'radius_worst', 'compactness_worst']]\n",
    "Y = breast_cancer[['diagnosis']]\n",
    "\n",
    "## Here we create the MinMaxScaler object\n",
    "scaler = MinMaxScaler()\n",
    "\n",
    "## Here we normalize the predictor variables\n",
    "X = scaler.fit_transform(X)\n",
    "\n",
    "## Here we split the data into training and testing\n",
    "X_train, X_test, Y_train, Y_test = train_test_split(X, Y, test_size = 0.3, \n",
    "                                                          random_state = 8)\n",
    "\n",
    "## Here we fit a three nearest neighbor to the data \n",
    "three_nearest_neighbors = KNeighborsClassifier(n_neighbors = 3).fit(X_train, \n",
    "                                                                    Y_train)\n",
    "\n",
    "## Here we predict on the testing data \n",
    "three_nearest_neighbors_preds = three_nearest_neighbors.predict(X_test)  \n",
    "\n",
    "## Here we evaluate the performance of the model\n",
    "print('The confusion matrix is:')\n",
    "print(confusion_matrix(three_nearest_neighbors_preds, Y_test))\n",
    "print('The accuracy is: ', accuracy_score(three_nearest_neighbors_preds, Y_test))\n",
    "print('Classification report:')\n",
    "print(classification_report(three_nearest_neighbors_preds, Y_test))"
   ]
  },
  {
   "cell_type": "markdown",
   "id": "d5a72b10",
   "metadata": {},
   "source": [
    "# Evaluating Random Forest Classifier"
   ]
  },
  {
   "cell_type": "code",
   "execution_count": 3,
   "id": "4619aeb4",
   "metadata": {},
   "outputs": [
    {
     "name": "stderr",
     "output_type": "stream",
     "text": [
      "/home/ec2-user/anaconda3/envs/python3/lib/python3.6/site-packages/ipykernel/__main__.py:7: DataConversionWarning: A column-vector y was passed when a 1d array was expected. Please change the shape of y to (n_samples,), for example using ravel().\n"
     ]
    },
    {
     "name": "stdout",
     "output_type": "stream",
     "text": [
      "The confusion matrix is:\n",
      "[[100   7]\n",
      " [  5  59]]\n",
      "The accuracy is:  0.9298245614035088\n",
      "Classification report:\n",
      "              precision    recall  f1-score   support\n",
      "\n",
      "           0       0.95      0.93      0.94       107\n",
      "           1       0.89      0.92      0.91        64\n",
      "\n",
      "    accuracy                           0.93       171\n",
      "   macro avg       0.92      0.93      0.93       171\n",
      "weighted avg       0.93      0.93      0.93       171\n",
      "\n"
     ]
    }
   ],
   "source": [
    "from sklearn.ensemble import RandomForestClassifier\n",
    "\n",
    "## Here we create the random forest object\n",
    "random_forest = RandomForestClassifier()\n",
    "\n",
    "## Here we fit the random forest to the training set\n",
    "rf_md = random_forest.fit(X_train, Y_train)\n",
    "\n",
    "## Here we use the random forest to predict on test set\n",
    "rf_preds = rf_md.predict(X_test)\n",
    "\n",
    "## Here we evaluate the performance of the model\n",
    "print('The confusion matrix is:')\n",
    "print(confusion_matrix(rf_preds, Y_test))\n",
    "print('The accuracy is: ', accuracy_score(rf_preds, Y_test))\n",
    "print('Classification report:')\n",
    "print(classification_report(rf_preds, Y_test))"
   ]
  },
  {
   "cell_type": "markdown",
   "id": "19261afd",
   "metadata": {},
   "source": [
    "# Evaluating Gradient Boosting Classifier"
   ]
  },
  {
   "cell_type": "code",
   "execution_count": 4,
   "id": "ecc9ca28",
   "metadata": {},
   "outputs": [
    {
     "name": "stderr",
     "output_type": "stream",
     "text": [
      "/home/ec2-user/anaconda3/envs/python3/lib/python3.6/site-packages/sklearn/utils/validation.py:63: DataConversionWarning: A column-vector y was passed when a 1d array was expected. Please change the shape of y to (n_samples, ), for example using ravel().\n",
      "  return f(*args, **kwargs)\n"
     ]
    },
    {
     "name": "stdout",
     "output_type": "stream",
     "text": [
      "The confusion matrix is:\n",
      "[[101   7]\n",
      " [  4  59]]\n",
      "The accuracy is:  0.935672514619883\n",
      "Classification report:\n",
      "              precision    recall  f1-score   support\n",
      "\n",
      "           0       0.96      0.94      0.95       108\n",
      "           1       0.89      0.94      0.91        63\n",
      "\n",
      "    accuracy                           0.94       171\n",
      "   macro avg       0.93      0.94      0.93       171\n",
      "weighted avg       0.94      0.94      0.94       171\n",
      "\n"
     ]
    }
   ],
   "source": [
    "from sklearn.ensemble import GradientBoostingClassifier\n",
    "\n",
    "## Here we create the gradient boost model object\n",
    "boosting_classifier = GradientBoostingClassifier(n_estimators = 500, \n",
    "                                                 max_depth = 3)\n",
    "\n",
    "## Here we fit the model to the training set \n",
    "gbm_md = boosting_classifier.fit(X_train, Y_train)\n",
    "\n",
    "## Here we predict on the testing data\n",
    "gbm_preds = gbm_md.predict(X_test)\n",
    "\n",
    "## Here we evaluate the performance of the model\n",
    "print('The confusion matrix is:')\n",
    "print(confusion_matrix(gbm_preds, Y_test))\n",
    "print('The accuracy is: ', accuracy_score(gbm_preds, Y_test))\n",
    "print('Classification report:')\n",
    "print(classification_report(gbm_preds, Y_test))"
   ]
  },
  {
   "cell_type": "markdown",
   "id": "c7ab4ec2",
   "metadata": {},
   "source": [
    "# Evaluating k-NN Regressor"
   ]
  },
  {
   "cell_type": "code",
   "execution_count": 5,
   "id": "8617763a",
   "metadata": {},
   "outputs": [
    {
     "name": "stdout",
     "output_type": "stream",
     "text": [
      "The RMSE of the 3-NN is:  4.18565616291213\n",
      "The RMSE of the 3-NN is:  3.1\n"
     ]
    }
   ],
   "source": [
    "from sklearn.neighbors import KNeighborsRegressor\n",
    "from numpy import sqrt\n",
    "from numpy import mean\n",
    "\n",
    "## Here we read the data \n",
    "auto = read_csv('auto.csv')\n",
    "\n",
    "## Here we define the predictors and target\n",
    "X = auto[['cylinders', 'displacement', 'horsepower', 'weight', 'acceleration']]\n",
    "Y = auto[['mpg']]\n",
    "Y = Y.values.reshape(-1, 1)\n",
    "\n",
    "## Here we create the MinMaxScaler object\n",
    "scaler = MinMaxScaler()\n",
    "\n",
    "## Here normalize the predictors\n",
    "X = scaler.fit_transform(X)\n",
    "\n",
    "## Here we split the data into training (70%) and testing (30%)\n",
    "X_train, X_test, Y_train, Y_test = train_test_split(X, Y, test_size = 0.3, \n",
    "                                                    random_state = 7)\n",
    "\n",
    "## Here we fit a three nearest neighbor to the data \n",
    "three_nearest_neighbors = KNeighborsRegressor(n_neighbors = 3).fit(X_train, \n",
    "                                                                   Y_train)\n",
    "\n",
    "## Here we predict on the testing data \n",
    "three_nearest_neighbors_preds = three_nearest_neighbors.predict(X_test)\n",
    "\n",
    "## Here we compute the RMSE\n",
    "RMSE_three_nearest_neighbors_preds = sqrt(mean((three_nearest_neighbors_preds - \n",
    "                                                Y_test)**2))\n",
    "print('The RMSE of the 3-NN is: ', RMSE_three_nearest_neighbors_preds)\n",
    "\n",
    "## Here we compute the MAE\n",
    "MAE_three_nearest_neighbors_preds = mean(abs(three_nearest_neighbors_preds - \n",
    "                                             Y_test))\n",
    "print('The RMSE of the 3-NN is: ', MAE_three_nearest_neighbors_preds)"
   ]
  }
 ],
 "metadata": {
  "kernelspec": {
   "display_name": "conda_python3",
   "language": "python",
   "name": "conda_python3"
  },
  "language_info": {
   "codemirror_mode": {
    "name": "ipython",
    "version": 3
   },
   "file_extension": ".py",
   "mimetype": "text/x-python",
   "name": "python",
   "nbconvert_exporter": "python",
   "pygments_lexer": "ipython3",
   "version": "3.6.13"
  }
 },
 "nbformat": 4,
 "nbformat_minor": 5
}
