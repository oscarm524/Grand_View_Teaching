{
 "cells": [
  {
   "cell_type": "code",
   "execution_count": 1,
   "id": "469f95ff",
   "metadata": {},
   "outputs": [
    {
     "data": {
      "text/plain": [
       "1.4444444444444444"
      ]
     },
     "execution_count": 1,
     "metadata": {},
     "output_type": "execute_result"
    }
   ],
   "source": [
    "## First we import the numpy library\n",
    "import numpy as np\n",
    "\n",
    "## Here we create the vector with the values using the \n",
    "## array function from numpy\n",
    "x = np.array([0, 1, 2, 0, 4, 0, 1, 2, 3])\n",
    "\n",
    "## Here we find the mean using the mean function from numpy\n",
    "np.mean(x)"
   ]
  },
  {
   "cell_type": "code",
   "execution_count": 2,
   "id": "ed1e9c74",
   "metadata": {},
   "outputs": [
    {
     "data": {
      "text/plain": [
       "70000.0"
      ]
     },
     "execution_count": 2,
     "metadata": {},
     "output_type": "execute_result"
    }
   ],
   "source": [
    "## Here we create the vector with the salaries using the \n",
    "## array function from numpy\n",
    "salaries = np.array([35000, 37000, 35000, 33000, 210000])\n",
    "\n",
    "## Here we find the mean using the mean function from numpy\n",
    "np.mean(salaries)"
   ]
  },
  {
   "cell_type": "code",
   "execution_count": 3,
   "id": "d0976b23",
   "metadata": {},
   "outputs": [
    {
     "data": {
      "text/plain": [
       "35000.0"
      ]
     },
     "execution_count": 3,
     "metadata": {},
     "output_type": "execute_result"
    }
   ],
   "source": [
    "## Here we create the vector with the salaries using the \n",
    "## array function from numpy\n",
    "salaries = np.array([35000, 37000, 35000, 33000])\n",
    "\n",
    "## Here we find the mean using the mean function from numpy\n",
    "np.mean(salaries)"
   ]
  },
  {
   "cell_type": "code",
   "execution_count": 4,
   "id": "c25eb10c",
   "metadata": {},
   "outputs": [
    {
     "data": {
      "text/plain": [
       "35000.0"
      ]
     },
     "execution_count": 4,
     "metadata": {},
     "output_type": "execute_result"
    }
   ],
   "source": [
    "## Here we create the vector with the salaries using the \n",
    "## array function from numpy\n",
    "salaries = np.array([35000, 37000, 35000, 33000, 210000])\n",
    "\n",
    "## Here we find the mean using the median function from numpy\n",
    "np.median(salaries)"
   ]
  },
  {
   "cell_type": "code",
   "execution_count": 5,
   "id": "bbf925e8",
   "metadata": {},
   "outputs": [
    {
     "data": {
      "text/plain": [
       "36000.0"
      ]
     },
     "execution_count": 5,
     "metadata": {},
     "output_type": "execute_result"
    }
   ],
   "source": [
    "## Here we create the vector with the salaries using the \n",
    "## array function from numpy\n",
    "salaries = np.array([35000, 37000, 35000, 33000, 210000, 39000])\n",
    "\n",
    "## Here we find the median using the median function from numpy\n",
    "np.median(salaries)"
   ]
  }
 ],
 "metadata": {
  "kernelspec": {
   "display_name": "conda_python3",
   "language": "python",
   "name": "conda_python3"
  },
  "language_info": {
   "codemirror_mode": {
    "name": "ipython",
    "version": 3
   },
   "file_extension": ".py",
   "mimetype": "text/x-python",
   "name": "python",
   "nbconvert_exporter": "python",
   "pygments_lexer": "ipython3",
   "version": "3.6.13"
  }
 },
 "nbformat": 4,
 "nbformat_minor": 5
}
