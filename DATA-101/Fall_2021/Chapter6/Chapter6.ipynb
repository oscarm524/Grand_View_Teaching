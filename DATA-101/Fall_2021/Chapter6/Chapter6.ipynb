{
 "cells": [
  {
   "cell_type": "markdown",
   "id": "8bad7d12",
   "metadata": {},
   "source": [
    "# Evaluating Classifiers"
   ]
  },
  {
   "cell_type": "code",
   "execution_count": 2,
   "id": "2e457732",
   "metadata": {},
   "outputs": [
    {
     "name": "stdout",
     "output_type": "stream",
     "text": [
      "The confusion matrix is:\n",
      "[[100   9]\n",
      " [  5  57]]\n",
      "The accuracy is:  0.9181286549707602\n",
      "Classification report:\n",
      "              precision    recall  f1-score   support\n",
      "\n",
      "           0       0.95      0.92      0.93       109\n",
      "           1       0.86      0.92      0.89        62\n",
      "\n",
      "    accuracy                           0.92       171\n",
      "   macro avg       0.91      0.92      0.91       171\n",
      "weighted avg       0.92      0.92      0.92       171\n",
      "\n"
     ]
    },
    {
     "name": "stderr",
     "output_type": "stream",
     "text": [
      "/home/ec2-user/anaconda3/envs/python3/lib/python3.6/site-packages/sklearn/neighbors/_classification.py:179: DataConversionWarning: A column-vector y was passed when a 1d array was expected. Please change the shape of y to (n_samples,), for example using ravel().\n",
      "  return self._fit(X, y)\n"
     ]
    }
   ],
   "source": [
    "from pandas import read_csv\n",
    "from sklearn.metrics import confusion_matrix\n",
    "from sklearn.metrics import accuracy_score\n",
    "from sklearn.metrics import classification_report\n",
    "from sklearn.model_selection import train_test_split\n",
    "from sklearn.neighbors import KNeighborsClassifier\n",
    "from sklearn.preprocessing import MinMaxScaler\n",
    "\n",
    "## Here we read the data \n",
    "breast_cancer = read_csv('wisconsin_breast_cancer.csv')\n",
    "\n",
    "## Here we select the variables of interest\n",
    "breast_cancer = breast_cancer[['diagnosis', 'area_worst', 'radius_worst',  \n",
    "                               'compactness_worst']]\n",
    "\n",
    "## Here we recode diagnosis\n",
    "breast_cancer['diagnosis'] = breast_cancer.diagnosis.map({'B':0, 'M':1})\n",
    "\n",
    "## Here we define the predictors and target \n",
    "X = breast_cancer[['area_worst', 'radius_worst', 'compactness_worst']]\n",
    "Y = breast_cancer[['diagnosis']]\n",
    "\n",
    "## Here we create the MinMaxScaler object\n",
    "scaler = MinMaxScaler()\n",
    "\n",
    "## Here we normalize the predictor variables\n",
    "X = scaler.fit_transform(X)\n",
    "\n",
    "## Here we split the data into training and testing\n",
    "X_train, X_test, Y_train, Y_test = train_test_split(X, Y, test_size = 0.3, \n",
    "                                                          random_state = 8)\n",
    "\n",
    "## Here we fit a three nearest neighbor to the data \n",
    "three_nearest_neighbors = KNeighborsClassifier(n_neighbors = 3).fit(X_train, \n",
    "                                                                    Y_train)\n",
    "\n",
    "## Here we predict on the testing data \n",
    "three_nearest_neighbors_preds = three_nearest_neighbors.predict(X_test)  \n",
    "\n",
    "## Here we evaluate the performance of the model\n",
    "print('The confusion matrix is:')\n",
    "print(confusion_matrix(three_nearest_neighbors_preds, Y_test))\n",
    "print('The accuracy is: ', accuracy_score(three_nearest_neighbors_preds, Y_test))\n",
    "print('Classification report:')\n",
    "print(classification_report(three_nearest_neighbors_preds, Y_test))"
   ]
  }
 ],
 "metadata": {
  "kernelspec": {
   "display_name": "conda_python3",
   "language": "python",
   "name": "conda_python3"
  },
  "language_info": {
   "codemirror_mode": {
    "name": "ipython",
    "version": 3
   },
   "file_extension": ".py",
   "mimetype": "text/x-python",
   "name": "python",
   "nbconvert_exporter": "python",
   "pygments_lexer": "ipython3",
   "version": "3.6.13"
  }
 },
 "nbformat": 4,
 "nbformat_minor": 5
}
