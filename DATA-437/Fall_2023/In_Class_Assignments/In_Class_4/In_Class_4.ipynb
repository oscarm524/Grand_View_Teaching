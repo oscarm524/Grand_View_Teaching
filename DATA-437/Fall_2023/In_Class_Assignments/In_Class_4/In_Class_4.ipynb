{
 "cells": [
  {
   "cell_type": "code",
   "execution_count": 1,
   "id": "0e1ae1ee-f837-4719-a139-deb15da33f2d",
   "metadata": {},
   "outputs": [
    {
     "data": {
      "text/html": [
       "<div>\n",
       "<style scoped>\n",
       "    .dataframe tbody tr th:only-of-type {\n",
       "        vertical-align: middle;\n",
       "    }\n",
       "\n",
       "    .dataframe tbody tr th {\n",
       "        vertical-align: top;\n",
       "    }\n",
       "\n",
       "    .dataframe thead th {\n",
       "        text-align: right;\n",
       "    }\n",
       "</style>\n",
       "<table border=\"1\" class=\"dataframe\">\n",
       "  <thead>\n",
       "    <tr style=\"text-align: right;\">\n",
       "      <th></th>\n",
       "      <th>game_id</th>\n",
       "      <th>player_id</th>\n",
       "      <th>team_id</th>\n",
       "      <th>timeOnIce</th>\n",
       "      <th>assists</th>\n",
       "      <th>goals</th>\n",
       "      <th>pim</th>\n",
       "      <th>shots</th>\n",
       "      <th>saves</th>\n",
       "      <th>powerPlaySaves</th>\n",
       "      <th>shortHandedSaves</th>\n",
       "      <th>evenSaves</th>\n",
       "      <th>shortHandedShotsAgainst</th>\n",
       "      <th>evenShotsAgainst</th>\n",
       "      <th>powerPlayShotsAgainst</th>\n",
       "      <th>decision</th>\n",
       "      <th>savePercentage</th>\n",
       "      <th>powerPlaySavePercentage</th>\n",
       "      <th>evenStrengthSavePercentage</th>\n",
       "    </tr>\n",
       "  </thead>\n",
       "  <tbody>\n",
       "    <tr>\n",
       "      <th>0</th>\n",
       "      <td>2012030221</td>\n",
       "      <td>8468685</td>\n",
       "      <td>3</td>\n",
       "      <td>4540</td>\n",
       "      <td>0</td>\n",
       "      <td>0</td>\n",
       "      <td>0</td>\n",
       "      <td>48</td>\n",
       "      <td>45</td>\n",
       "      <td>10</td>\n",
       "      <td>1</td>\n",
       "      <td>34</td>\n",
       "      <td>1</td>\n",
       "      <td>36</td>\n",
       "      <td>11</td>\n",
       "      <td>L</td>\n",
       "      <td>93.750000</td>\n",
       "      <td>90.909091</td>\n",
       "      <td>94.444444</td>\n",
       "    </tr>\n",
       "    <tr>\n",
       "      <th>1</th>\n",
       "      <td>2012030221</td>\n",
       "      <td>8471695</td>\n",
       "      <td>6</td>\n",
       "      <td>4540</td>\n",
       "      <td>0</td>\n",
       "      <td>0</td>\n",
       "      <td>0</td>\n",
       "      <td>35</td>\n",
       "      <td>33</td>\n",
       "      <td>3</td>\n",
       "      <td>0</td>\n",
       "      <td>30</td>\n",
       "      <td>0</td>\n",
       "      <td>32</td>\n",
       "      <td>3</td>\n",
       "      <td>W</td>\n",
       "      <td>94.285714</td>\n",
       "      <td>100.000000</td>\n",
       "      <td>93.750000</td>\n",
       "    </tr>\n",
       "    <tr>\n",
       "      <th>2</th>\n",
       "      <td>2012030222</td>\n",
       "      <td>8468685</td>\n",
       "      <td>3</td>\n",
       "      <td>3600</td>\n",
       "      <td>0</td>\n",
       "      <td>0</td>\n",
       "      <td>0</td>\n",
       "      <td>32</td>\n",
       "      <td>27</td>\n",
       "      <td>1</td>\n",
       "      <td>2</td>\n",
       "      <td>24</td>\n",
       "      <td>2</td>\n",
       "      <td>29</td>\n",
       "      <td>1</td>\n",
       "      <td>L</td>\n",
       "      <td>84.375000</td>\n",
       "      <td>100.000000</td>\n",
       "      <td>82.758621</td>\n",
       "    </tr>\n",
       "    <tr>\n",
       "      <th>3</th>\n",
       "      <td>2012030222</td>\n",
       "      <td>8471695</td>\n",
       "      <td>6</td>\n",
       "      <td>3600</td>\n",
       "      <td>0</td>\n",
       "      <td>0</td>\n",
       "      <td>0</td>\n",
       "      <td>37</td>\n",
       "      <td>35</td>\n",
       "      <td>7</td>\n",
       "      <td>1</td>\n",
       "      <td>27</td>\n",
       "      <td>1</td>\n",
       "      <td>29</td>\n",
       "      <td>7</td>\n",
       "      <td>W</td>\n",
       "      <td>94.594595</td>\n",
       "      <td>100.000000</td>\n",
       "      <td>93.103448</td>\n",
       "    </tr>\n",
       "    <tr>\n",
       "      <th>4</th>\n",
       "      <td>2012030223</td>\n",
       "      <td>8471695</td>\n",
       "      <td>6</td>\n",
       "      <td>3600</td>\n",
       "      <td>0</td>\n",
       "      <td>0</td>\n",
       "      <td>0</td>\n",
       "      <td>24</td>\n",
       "      <td>23</td>\n",
       "      <td>2</td>\n",
       "      <td>0</td>\n",
       "      <td>21</td>\n",
       "      <td>0</td>\n",
       "      <td>22</td>\n",
       "      <td>2</td>\n",
       "      <td>W</td>\n",
       "      <td>95.833333</td>\n",
       "      <td>100.000000</td>\n",
       "      <td>95.454545</td>\n",
       "    </tr>\n",
       "  </tbody>\n",
       "</table>\n",
       "</div>"
      ],
      "text/plain": [
       "      game_id  player_id  team_id  timeOnIce  assists  goals  pim  shots  \\\n",
       "0  2012030221    8468685        3       4540        0      0    0     48   \n",
       "1  2012030221    8471695        6       4540        0      0    0     35   \n",
       "2  2012030222    8468685        3       3600        0      0    0     32   \n",
       "3  2012030222    8471695        6       3600        0      0    0     37   \n",
       "4  2012030223    8471695        6       3600        0      0    0     24   \n",
       "\n",
       "   saves  powerPlaySaves  shortHandedSaves  evenSaves  \\\n",
       "0     45              10                 1         34   \n",
       "1     33               3                 0         30   \n",
       "2     27               1                 2         24   \n",
       "3     35               7                 1         27   \n",
       "4     23               2                 0         21   \n",
       "\n",
       "   shortHandedShotsAgainst  evenShotsAgainst  powerPlayShotsAgainst decision  \\\n",
       "0                        1                36                     11        L   \n",
       "1                        0                32                      3        W   \n",
       "2                        2                29                      1        L   \n",
       "3                        1                29                      7        W   \n",
       "4                        0                22                      2        W   \n",
       "\n",
       "   savePercentage  powerPlaySavePercentage  evenStrengthSavePercentage  \n",
       "0       93.750000                90.909091                   94.444444  \n",
       "1       94.285714               100.000000                   93.750000  \n",
       "2       84.375000               100.000000                   82.758621  \n",
       "3       94.594595               100.000000                   93.103448  \n",
       "4       95.833333               100.000000                   95.454545  "
      ]
     },
     "execution_count": 1,
     "metadata": {},
     "output_type": "execute_result"
    }
   ],
   "source": [
    "import pandas as pd\n",
    "import numpy as np\n",
    "\n",
    "import matplotlib.pyplot as plt; plt.style.use('ggplot')\n",
    "\n",
    "# Reading the csv file\n",
    "goalie_stats = pd.read_csv('game_goalie_stats.csv')\n",
    "goalie_stats.head()"
   ]
  },
  {
   "cell_type": "code",
   "execution_count": 4,
   "id": "4b56d301-f6f0-425b-8af6-304ba9d69796",
   "metadata": {},
   "outputs": [
    {
     "data": {
      "text/plain": [
       "3012.236066244924"
      ]
     },
     "execution_count": 4,
     "metadata": {},
     "output_type": "execute_result"
    }
   ],
   "source": [
    "goalie_stats.groupby('player_id')['timeOnIce'].mean().mean()"
   ]
  },
  {
   "cell_type": "code",
   "execution_count": 5,
   "id": "149b1207-8234-4c39-8ae0-2df596d858b1",
   "metadata": {},
   "outputs": [
    {
     "data": {
      "text/plain": [
       "3257.508474576271"
      ]
     },
     "execution_count": 5,
     "metadata": {},
     "output_type": "execute_result"
    }
   ],
   "source": [
    "goalie_stats.groupby('player_id')['timeOnIce'].mean().median()"
   ]
  },
  {
   "cell_type": "code",
   "execution_count": 6,
   "id": "25c908f8-8898-42da-b385-6ce59d809bc7",
   "metadata": {},
   "outputs": [],
   "source": [
    "# Since the mean < the median, we conclude the distribution of average timeOnIce is left-skewed."
   ]
  },
  {
   "cell_type": "code",
   "execution_count": 8,
   "id": "4936f24f-948c-4349-99b5-f332addf3028",
   "metadata": {},
   "outputs": [
    {
     "data": {
      "image/png": "[encoded data removed]",
      "text/plain": [
       "<Figure size 640x480 with 1 Axes>"
      ]
     },
     "metadata": {},
     "output_type": "display_data"
    }
   ],
   "source": [
    "goalie_stats.groupby('player_id')['timeOnIce'].mean().hist(color = 'steelblue')\n",
    "plt.xlabel('Average Time on Ice')\n",
    "plt.ylabel('Frequency');"
   ]
  },
  {
   "cell_type": "code",
   "execution_count": 15,
   "id": "505705f7-887d-4316-92b1-db2e29560a9d",
   "metadata": {},
   "outputs": [
    {
     "data": {
      "text/html": [
       "<div>\n",
       "<style scoped>\n",
       "    .dataframe tbody tr th:only-of-type {\n",
       "        vertical-align: middle;\n",
       "    }\n",
       "\n",
       "    .dataframe tbody tr th {\n",
       "        vertical-align: top;\n",
       "    }\n",
       "\n",
       "    .dataframe thead th {\n",
       "        text-align: right;\n",
       "    }\n",
       "</style>\n",
       "<table border=\"1\" class=\"dataframe\">\n",
       "  <thead>\n",
       "    <tr style=\"text-align: right;\">\n",
       "      <th></th>\n",
       "      <th>player_id</th>\n",
       "      <th>savePercentage</th>\n",
       "    </tr>\n",
       "  </thead>\n",
       "  <tbody>\n",
       "    <tr>\n",
       "      <th>52</th>\n",
       "      <td>8471712</td>\n",
       "      <td>100.000000</td>\n",
       "    </tr>\n",
       "    <tr>\n",
       "      <th>117</th>\n",
       "      <td>8476330</td>\n",
       "      <td>100.000000</td>\n",
       "    </tr>\n",
       "    <tr>\n",
       "      <th>141</th>\n",
       "      <td>8477084</td>\n",
       "      <td>98.000000</td>\n",
       "    </tr>\n",
       "    <tr>\n",
       "      <th>158</th>\n",
       "      <td>8477968</td>\n",
       "      <td>100.000000</td>\n",
       "    </tr>\n",
       "    <tr>\n",
       "      <th>162</th>\n",
       "      <td>8478965</td>\n",
       "      <td>96.296296</td>\n",
       "    </tr>\n",
       "    <tr>\n",
       "      <th>165</th>\n",
       "      <td>8479138</td>\n",
       "      <td>100.000000</td>\n",
       "    </tr>\n",
       "  </tbody>\n",
       "</table>\n",
       "</div>"
      ],
      "text/plain": [
       "     player_id  savePercentage\n",
       "52     8471712      100.000000\n",
       "117    8476330      100.000000\n",
       "141    8477084       98.000000\n",
       "158    8477968      100.000000\n",
       "162    8478965       96.296296\n",
       "165    8479138      100.000000"
      ]
     },
     "execution_count": 15,
     "metadata": {},
     "output_type": "execute_result"
    }
   ],
   "source": [
    "agg_data = pd.DataFrame(goalie_stats.groupby('player_id')['savePercentage'].mean()).reset_index()\n",
    "agg_data[agg_data['savePercentage'] > 95]"
   ]
  },
  {
   "cell_type": "code",
   "execution_count": 17,
   "id": "141b9017-6841-4414-9f2a-6b7b04685a7a",
   "metadata": {},
   "outputs": [
    {
     "data": {
      "text/plain": [
       "count    173.000000\n",
       "mean      92.843931\n",
       "std      114.362764\n",
       "min        1.000000\n",
       "25%        5.000000\n",
       "50%       32.000000\n",
       "75%      144.000000\n",
       "max      410.000000\n",
       "Name: game_id, dtype: float64"
      ]
     },
     "execution_count": 17,
     "metadata": {},
     "output_type": "execute_result"
    }
   ],
   "source": [
    "goalie_stats.groupby('player_id')['game_id'].count().describe()"
   ]
  },
  {
   "cell_type": "code",
   "execution_count": 18,
   "id": "e5aaa11c-d579-4148-b41a-47fc8acbff82",
   "metadata": {},
   "outputs": [
    {
     "data": {
      "text/plain": [
       "139.0"
      ]
     },
     "execution_count": 18,
     "metadata": {},
     "output_type": "execute_result"
    }
   ],
   "source": [
    "IQR = 144.000000 - 5.000000\n",
    "IQR"
   ]
  }
 ],
 "metadata": {
  "kernelspec": {
   "display_name": "Python 3 (ipykernel)",
   "language": "python",
   "name": "python3"
  },
  "language_info": {
   "codemirror_mode": {
    "name": "ipython",
    "version": 3
   },
   "file_extension": ".py",
   "mimetype": "text/x-python",
   "name": "python",
   "nbconvert_exporter": "python",
   "pygments_lexer": "ipython3",
   "version": "3.8.16"
  }
 },
 "nbformat": 4,
 "nbformat_minor": 5
}
