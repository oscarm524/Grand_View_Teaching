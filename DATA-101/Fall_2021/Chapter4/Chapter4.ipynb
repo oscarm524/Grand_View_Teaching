{
 "cells": [
  {
   "cell_type": "markdown",
   "id": "fd4546fa",
   "metadata": {},
   "source": [
    "# Euclidean distance"
   ]
  },
  {
   "cell_type": "code",
   "execution_count": 1,
   "id": "77e58bf3",
   "metadata": {},
   "outputs": [
    {
     "data": {
      "text/plain": [
       "18.81488772222678"
      ]
     },
     "execution_count": 1,
     "metadata": {},
     "output_type": "execute_result"
    }
   ],
   "source": [
    "## Here we import the numpy library\n",
    "import numpy as np\n",
    "   \n",
    "## Here we declare the vectors\n",
    "u = np.array([23, 2, 2])\n",
    "v = np.array([40, 10, 1])\n",
    "\n",
    "## Here we find the Euclidean distance\n",
    "np.sqrt(np.sum(np.power(u - v, 2)))"
   ]
  }
 ],
 "metadata": {
  "kernelspec": {
   "display_name": "conda_python3",
   "language": "python",
   "name": "conda_python3"
  },
  "language_info": {
   "codemirror_mode": {
    "name": "ipython",
    "version": 3
   },
   "file_extension": ".py",
   "mimetype": "text/x-python",
   "name": "python",
   "nbconvert_exporter": "python",
   "pygments_lexer": "ipython3",
   "version": "3.6.13"
  }
 },
 "nbformat": 4,
 "nbformat_minor": 5
}
