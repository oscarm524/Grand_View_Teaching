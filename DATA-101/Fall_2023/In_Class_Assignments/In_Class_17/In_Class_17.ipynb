{
 "cells": [
  {
   "cell_type": "code",
   "execution_count": null,
   "id": "2acab2e0-4aa1-40a5-b8ff-6dc1b096ef1a",
   "metadata": {},
   "outputs": [],
   "source": [
    "# 1. False\n",
    "# 2. False\n",
    "# 3. Model 1\n",
    "# 4. False"
   ]
  }
 ],
 "metadata": {
  "kernelspec": {
   "display_name": "Python 3 (ipykernel)",
   "language": "python",
   "name": "python3"
  },
  "language_info": {
   "codemirror_mode": {
    "name": "ipython",
    "version": 3
   },
   "file_extension": ".py",
   "mimetype": "text/x-python",
   "name": "python",
   "nbconvert_exporter": "python",
   "pygments_lexer": "ipython3",
   "version": "3.8.16"
  }
 },
 "nbformat": 4,
 "nbformat_minor": 5
}
