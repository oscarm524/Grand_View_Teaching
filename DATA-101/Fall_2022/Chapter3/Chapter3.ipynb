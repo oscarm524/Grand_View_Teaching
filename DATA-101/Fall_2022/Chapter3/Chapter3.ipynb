{
 "cells": [
  {
   "cell_type": "code",
   "execution_count": 1,
   "id": "b911f33c",
   "metadata": {},
   "outputs": [
    {
     "data": {
      "text/plain": [
       "1.4444444444444444"
      ]
     },
     "execution_count": 1,
     "metadata": {},
     "output_type": "execute_result"
    }
   ],
   "source": [
    "## First we import the numpy library\n",
    "import numpy as np\n",
    "\n",
    "## Here we create the vector with the values using the \n",
    "## array function from numpy\n",
    "x = np.array([0, 1, 2, 0, 4, 0, 1, 2, 3])\n",
    "\n",
    "## Here we find the mean using the mean function from numpy\n",
    "np.mean(x)"
   ]
  },
  {
   "cell_type": "code",
   "execution_count": 2,
   "id": "b961fe5a",
   "metadata": {},
   "outputs": [
    {
     "data": {
      "text/plain": [
       "70000.0"
      ]
     },
     "execution_count": 2,
     "metadata": {},
     "output_type": "execute_result"
    }
   ],
   "source": [
    "## Here we create the vector with the salaries using the \n",
    "## array function from numpy\n",
    "salaries = np.array([35000, 37000, 35000, 33000, 210000])\n",
    "\n",
    "## Here we find the mean using the mean function from numpy\n",
    "np.mean(salaries)"
   ]
  },
  {
   "cell_type": "code",
   "execution_count": 3,
   "id": "4e5830f3",
   "metadata": {},
   "outputs": [
    {
     "data": {
      "text/plain": [
       "35000.0"
      ]
     },
     "execution_count": 3,
     "metadata": {},
     "output_type": "execute_result"
    }
   ],
   "source": [
    "## Here we create the vector with the salaries using the \n",
    "## array function from numpy\n",
    "salaries = np.array([35000, 37000, 35000, 33000])\n",
    "\n",
    "## Here we find the mean using the mean function from numpy\n",
    "np.mean(salaries)"
   ]
  },
  {
   "cell_type": "code",
   "execution_count": 4,
   "id": "836b3255",
   "metadata": {},
   "outputs": [
    {
     "data": {
      "text/plain": [
       "35000.0"
      ]
     },
     "execution_count": 4,
     "metadata": {},
     "output_type": "execute_result"
    }
   ],
   "source": [
    "## Here we create the vector with the salaries using the \n",
    "## array function from numpy\n",
    "salaries = np.array([35000, 37000, 35000, 33000, 210000])\n",
    "\n",
    "## Here we find the mean using the median function from numpy\n",
    "np.median(salaries)"
   ]
  },
  {
   "cell_type": "code",
   "execution_count": 5,
   "id": "821d24d4",
   "metadata": {},
   "outputs": [
    {
     "data": {
      "text/plain": [
       "36000.0"
      ]
     },
     "execution_count": 5,
     "metadata": {},
     "output_type": "execute_result"
    }
   ],
   "source": [
    "## Here we create the vector with the salaries using the \n",
    "## array function from numpy\n",
    "salaries = np.array([35000, 37000, 35000, 33000, 210000, 39000])\n",
    "\n",
    "## Here we find the median using the median function from numpy\n",
    "np.median(salaries)"
   ]
  },
  {
   "cell_type": "code",
   "execution_count": 6,
   "id": "369e2e04",
   "metadata": {},
   "outputs": [
    {
     "data": {
      "text/plain": [
       "177000"
      ]
     },
     "execution_count": 6,
     "metadata": {},
     "output_type": "execute_result"
    }
   ],
   "source": [
    "## Here we create the vector with the salaries using the \n",
    "## array function from numpy\n",
    "salaries = np.array([35000, 37000, 35000, 33000, 210000])\n",
    "\n",
    "## Here we find the range using the max and min functions from numpy\n",
    "np.max(salaries) - np.min(salaries)"
   ]
  },
  {
   "cell_type": "code",
   "execution_count": 8,
   "id": "e050e007",
   "metadata": {},
   "outputs": [
    {
     "name": "stdout",
     "output_type": "stream",
     "text": [
      "7.158650000000013\n",
      "2.6755653608162917\n"
     ]
    }
   ],
   "source": [
    "## Here we create the vector with the salaries using the \n",
    "## array function from numpy\n",
    "heights = np.array([65.71, 72.30, 68.31, 67.05, 70.68])\n",
    "\n",
    "## Here we find the variance using the var function from numpy\n",
    "print(np.var(heights, ddof = 1))\n",
    "\n",
    "## Here we find the standard deviation using the std function from numpy\n",
    "print(np.std(heights, ddof = 1))"
   ]
  },
  {
   "cell_type": "code",
   "execution_count": 9,
   "id": "6bd9036f",
   "metadata": {},
   "outputs": [
    {
     "data": {
      "text/plain": [
       "array([-1.15863363,  1.30439721, -0.18687639, -0.6578049 ,  0.6989177 ])"
      ]
     },
     "execution_count": 9,
     "metadata": {},
     "output_type": "execute_result"
    }
   ],
   "source": [
    "## Here we create the vector with the salaries using the \n",
    "## array function from numpy\n",
    "heights = np.array([65.71, 72.30, 68.31, 67.05, 70.68])\n",
    "\n",
    "## Here we find the z scores\n",
    "(heights - np.mean(heights)) / np.std(heights, ddof = 1)"
   ]
  },
  {
   "cell_type": "code",
   "execution_count": 10,
   "id": "8076de09",
   "metadata": {},
   "outputs": [
    {
     "data": {
      "text/plain": [
       "array([65.71, 67.05, 68.31, 70.68, 72.3 ])"
      ]
     },
     "execution_count": 10,
     "metadata": {},
     "output_type": "execute_result"
    }
   ],
   "source": [
    "## Here we create the vector with the salaries using the \n",
    "## array function from numpy\n",
    "heights = np.array([65.71, 72.30, 68.31, 67.05, 70.68])\n",
    "\n",
    "## Here we find the five-number summary of heights\n",
    "np.percentile(heights, [0, 25, 50, 75, 100])"
   ]
  }
 ],
 "metadata": {
  "kernelspec": {
   "display_name": "conda_python3",
   "language": "python",
   "name": "conda_python3"
  },
  "language_info": {
   "codemirror_mode": {
    "name": "ipython",
    "version": 3
   },
   "file_extension": ".py",
   "mimetype": "text/x-python",
   "name": "python",
   "nbconvert_exporter": "python",
   "pygments_lexer": "ipython3",
   "version": "3.6.13"
  }
 },
 "nbformat": 4,
 "nbformat_minor": 5
}
