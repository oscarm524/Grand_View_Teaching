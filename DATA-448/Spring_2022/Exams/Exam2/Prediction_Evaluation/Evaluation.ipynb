{
 "cells": [
  {
   "cell_type": "code",
   "execution_count": 2,
   "id": "62c0dc35",
   "metadata": {},
   "outputs": [
    {
     "data": {
      "text/html": [
       "<div>\n",
       "<style scoped>\n",
       "    .dataframe tbody tr th:only-of-type {\n",
       "        vertical-align: middle;\n",
       "    }\n",
       "\n",
       "    .dataframe tbody tr th {\n",
       "        vertical-align: top;\n",
       "    }\n",
       "\n",
       "    .dataframe thead th {\n",
       "        text-align: right;\n",
       "    }\n",
       "</style>\n",
       "<table border=\"1\" class=\"dataframe\">\n",
       "  <thead>\n",
       "    <tr style=\"text-align: right;\">\n",
       "      <th></th>\n",
       "      <th>default payment next month</th>\n",
       "    </tr>\n",
       "  </thead>\n",
       "  <tbody>\n",
       "    <tr>\n",
       "      <th>0</th>\n",
       "      <td>1</td>\n",
       "    </tr>\n",
       "    <tr>\n",
       "      <th>1</th>\n",
       "      <td>0</td>\n",
       "    </tr>\n",
       "    <tr>\n",
       "      <th>2</th>\n",
       "      <td>0</td>\n",
       "    </tr>\n",
       "    <tr>\n",
       "      <th>3</th>\n",
       "      <td>0</td>\n",
       "    </tr>\n",
       "    <tr>\n",
       "      <th>4</th>\n",
       "      <td>0</td>\n",
       "    </tr>\n",
       "  </tbody>\n",
       "</table>\n",
       "</div>"
      ],
      "text/plain": [
       "   default payment next month\n",
       "0                           1\n",
       "1                           0\n",
       "2                           0\n",
       "3                           0\n",
       "4                           0"
      ]
     },
     "execution_count": 2,
     "metadata": {},
     "output_type": "execute_result"
    }
   ],
   "source": [
    "import pandas as pd\n",
    "import numpy as np\n",
    "import seaborn as sns\n",
    "from sklearn.metrics import classification_report\n",
    "\n",
    "## Reading true values\n",
    "Y_true = pd.read_csv('test_target.csv')\n",
    "Y_true.head()"
   ]
  },
  {
   "cell_type": "markdown",
   "id": "837ffaa8",
   "metadata": {},
   "source": [
    "## Bonnie"
   ]
  },
  {
   "cell_type": "code",
   "execution_count": 7,
   "id": "3db5a986",
   "metadata": {},
   "outputs": [
    {
     "name": "stdout",
     "output_type": "stream",
     "text": [
      "              precision    recall  f1-score   support\n",
      "\n",
      "           0       0.87      0.83      0.85      4673\n",
      "           1       0.49      0.58      0.53      1327\n",
      "\n",
      "    accuracy                           0.77      6000\n",
      "   macro avg       0.68      0.71      0.69      6000\n",
      "weighted avg       0.79      0.77      0.78      6000\n",
      "\n"
     ]
    }
   ],
   "source": [
    "## Reading likelihoods\n",
    "bonnie_likelihoods = pd.read_csv('Bonnie_likelihoods.csv')\n",
    "bonnie_likelihoods.columns = ['Likelihoods']\n",
    "\n",
    "## Changing likelihoods to labels\n",
    "bonnie_labels = np.where(bonnie_likelihoods['Likelihoods'] < 0.2779, 0, 1)\n",
    "\n",
    "## Computing classification report\n",
    "print(classification_report(Y_true, bonnie_labels))"
   ]
  },
  {
   "cell_type": "markdown",
   "id": "a30e56aa",
   "metadata": {},
   "source": [
    "## Christian"
   ]
  },
  {
   "cell_type": "code",
   "execution_count": 10,
   "id": "26371bf9",
   "metadata": {},
   "outputs": [
    {
     "name": "stdout",
     "output_type": "stream",
     "text": [
      "              precision    recall  f1-score   support\n",
      "\n",
      "           0       0.88      0.80      0.84      4673\n",
      "           1       0.47      0.61      0.53      1327\n",
      "\n",
      "    accuracy                           0.76      6000\n",
      "   macro avg       0.67      0.71      0.68      6000\n",
      "weighted avg       0.79      0.76      0.77      6000\n",
      "\n"
     ]
    }
   ],
   "source": [
    "## Reading likelihoods\n",
    "christian_likelihoods = pd.read_csv('Christian_likelihoods.csv')\n",
    "christian_likelihoods.columns = ['Likelihoods']\n",
    "\n",
    "## Changing likelihoods to labels\n",
    "christian_labels = np.where(christian_likelihoods['Likelihoods'] < 0.254, 0, 1)\n",
    "\n",
    "## Computing classification report\n",
    "print(classification_report(Y_true, christian_labels))"
   ]
  },
  {
   "cell_type": "markdown",
   "id": "f843da77",
   "metadata": {},
   "source": [
    "## Danny"
   ]
  },
  {
   "cell_type": "code",
   "execution_count": 11,
   "id": "1f4ba7cd",
   "metadata": {},
   "outputs": [
    {
     "name": "stdout",
     "output_type": "stream",
     "text": [
      "              precision    recall  f1-score   support\n",
      "\n",
      "           0       0.86      0.91      0.88      4673\n",
      "           1       0.60      0.47      0.53      1327\n",
      "\n",
      "    accuracy                           0.81      6000\n",
      "   macro avg       0.73      0.69      0.71      6000\n",
      "weighted avg       0.80      0.81      0.81      6000\n",
      "\n"
     ]
    }
   ],
   "source": [
    "## Reading likelihoods\n",
    "danny_likelihoods = pd.read_csv('Danny_likelihoods.csv')\n",
    "danny_likelihoods.columns = ['Likelihoods']\n",
    "\n",
    "## Changing likelihoods to labels\n",
    "danny_labels = np.where(danny_likelihoods['Likelihoods'] < 0.3727, 0, 1)\n",
    "\n",
    "## Computing classification report\n",
    "print(classification_report(Y_true, danny_labels))"
   ]
  },
  {
   "cell_type": "markdown",
   "id": "a9fd2c73",
   "metadata": {},
   "source": [
    "## Evan"
   ]
  },
  {
   "cell_type": "code",
   "execution_count": 12,
   "id": "1838f8a2",
   "metadata": {},
   "outputs": [
    {
     "name": "stdout",
     "output_type": "stream",
     "text": [
      "              precision    recall  f1-score   support\n",
      "\n",
      "           0       0.87      0.86      0.86      4673\n",
      "           1       0.52      0.54      0.53      1327\n",
      "\n",
      "    accuracy                           0.79      6000\n",
      "   macro avg       0.69      0.70      0.70      6000\n",
      "weighted avg       0.79      0.79      0.79      6000\n",
      "\n"
     ]
    }
   ],
   "source": [
    "## Reading likelihoods\n",
    "evan_likelihoods = pd.read_csv('Evan_likelihoods.csv')\n",
    "evan_likelihoods.columns = ['Likelihoods']\n",
    "\n",
    "## Changing likelihoods to labels\n",
    "evan_labels = np.where(evan_likelihoods['Likelihoods'] < 0.296, 0, 1)\n",
    "\n",
    "## Computing classification report\n",
    "print(classification_report(Y_true, evan_labels))"
   ]
  },
  {
   "cell_type": "markdown",
   "id": "28d2463c",
   "metadata": {},
   "source": [
    "## Gabriel De Medeiros"
   ]
  },
  {
   "cell_type": "code",
   "execution_count": 14,
   "id": "54463274",
   "metadata": {},
   "outputs": [
    {
     "name": "stdout",
     "output_type": "stream",
     "text": [
      "              precision    recall  f1-score   support\n",
      "\n",
      "           0       0.88      0.77      0.82      4673\n",
      "           1       0.44      0.65      0.53      1327\n",
      "\n",
      "    accuracy                           0.74      6000\n",
      "   macro avg       0.66      0.71      0.67      6000\n",
      "weighted avg       0.79      0.74      0.76      6000\n",
      "\n"
     ]
    }
   ],
   "source": [
    "## Reading likelihoods\n",
    "gabriel_likelihoods = pd.read_csv('Gabriel_De_Medeiros_likelihoods.csv')\n",
    "gabriel_likelihoods.columns = ['Likelihoods', 'cutoff']\n",
    "\n",
    "## Changing likelihoods to labels\n",
    "gabriel_labels = np.where(gabriel_likelihoods['Likelihoods'] < gabriel_likelihoods['cutoff'], 0, 1)\n",
    "\n",
    "## Computing classification report\n",
    "print(classification_report(Y_true, gabriel_labels))"
   ]
  },
  {
   "cell_type": "code",
   "execution_count": null,
   "id": "dfbbf9f8",
   "metadata": {},
   "outputs": [],
   "source": []
  }
 ],
 "metadata": {
  "kernelspec": {
   "display_name": "conda_python3",
   "language": "python",
   "name": "conda_python3"
  },
  "language_info": {
   "codemirror_mode": {
    "name": "ipython",
    "version": 3
   },
   "file_extension": ".py",
   "mimetype": "text/x-python",
   "name": "python",
   "nbconvert_exporter": "python",
   "pygments_lexer": "ipython3",
   "version": "3.6.13"
  }
 },
 "nbformat": 4,
 "nbformat_minor": 5
}
