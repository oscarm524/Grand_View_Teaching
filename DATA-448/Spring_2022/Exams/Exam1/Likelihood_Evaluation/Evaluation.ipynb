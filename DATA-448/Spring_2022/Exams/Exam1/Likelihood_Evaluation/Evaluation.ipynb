{
 "cells": [
  {
   "cell_type": "code",
   "execution_count": 3,
   "id": "e3f360a4",
   "metadata": {},
   "outputs": [
    {
     "data": {
      "text/html": [
       "<div>\n",
       "<style scoped>\n",
       "    .dataframe tbody tr th:only-of-type {\n",
       "        vertical-align: middle;\n",
       "    }\n",
       "\n",
       "    .dataframe tbody tr th {\n",
       "        vertical-align: top;\n",
       "    }\n",
       "\n",
       "    .dataframe thead th {\n",
       "        text-align: right;\n",
       "    }\n",
       "</style>\n",
       "<table border=\"1\" class=\"dataframe\">\n",
       "  <thead>\n",
       "    <tr style=\"text-align: right;\">\n",
       "      <th></th>\n",
       "      <th>default payment next month</th>\n",
       "    </tr>\n",
       "  </thead>\n",
       "  <tbody>\n",
       "    <tr>\n",
       "      <th>0</th>\n",
       "      <td>1</td>\n",
       "    </tr>\n",
       "    <tr>\n",
       "      <th>1</th>\n",
       "      <td>0</td>\n",
       "    </tr>\n",
       "    <tr>\n",
       "      <th>2</th>\n",
       "      <td>0</td>\n",
       "    </tr>\n",
       "    <tr>\n",
       "      <th>3</th>\n",
       "      <td>0</td>\n",
       "    </tr>\n",
       "    <tr>\n",
       "      <th>4</th>\n",
       "      <td>0</td>\n",
       "    </tr>\n",
       "  </tbody>\n",
       "</table>\n",
       "</div>"
      ],
      "text/plain": [
       "   default payment next month\n",
       "0                           1\n",
       "1                           0\n",
       "2                           0\n",
       "3                           0\n",
       "4                           0"
      ]
     },
     "execution_count": 3,
     "metadata": {},
     "output_type": "execute_result"
    }
   ],
   "source": [
    "import pandas as pd\n",
    "import numpy as np\n",
    "from sklearn.metrics import classification_report\n",
    "\n",
    "## Reading true values\n",
    "Y_true = pd.read_csv('test_target.csv')\n",
    "Y_true.head()"
   ]
  },
  {
   "cell_type": "markdown",
   "id": "d90a7d04",
   "metadata": {},
   "source": [
    "## Evan "
   ]
  },
  {
   "cell_type": "code",
   "execution_count": 5,
   "id": "ec3e50a9",
   "metadata": {},
   "outputs": [
    {
     "name": "stdout",
     "output_type": "stream",
     "text": [
      "              precision    recall  f1-score   support\n",
      "\n",
      "           0       0.87      0.88      0.87      4673\n",
      "           1       0.56      0.52      0.54      1327\n",
      "\n",
      "    accuracy                           0.80      6000\n",
      "   macro avg       0.71      0.70      0.71      6000\n",
      "weighted avg       0.80      0.80      0.80      6000\n",
      "\n"
     ]
    }
   ],
   "source": [
    "## Reading likelihoods\n",
    "evan_likelihoods = pd.read_csv('Evan_likelihoods.csv')\n",
    "\n",
    "## Changing likelihoods to labels\n",
    "evan_labels = np.where(evan_likelihoods['Likelihoods'] < 0.2374, 0, 1)\n",
    "\n",
    "## Computing classification report\n",
    "print(classification_report(Y_true, evan_labels))"
   ]
  },
  {
   "cell_type": "markdown",
   "id": "5b2b90b3",
   "metadata": {},
   "source": [
    "## Bonnie"
   ]
  },
  {
   "cell_type": "code",
   "execution_count": 8,
   "id": "736b116e",
   "metadata": {},
   "outputs": [
    {
     "name": "stdout",
     "output_type": "stream",
     "text": [
      "              precision    recall  f1-score   support\n",
      "\n",
      "           0       0.88      0.75      0.81      4673\n",
      "           1       0.42      0.65      0.51      1327\n",
      "\n",
      "    accuracy                           0.73      6000\n",
      "   macro avg       0.65      0.70      0.66      6000\n",
      "weighted avg       0.78      0.73      0.74      6000\n",
      "\n"
     ]
    }
   ],
   "source": [
    "## Reading likelihoods\n",
    "bonnie_likelihoods = pd.read_csv('exam1_preds_bhall.csv')\n",
    "\n",
    "## Changing likelihoods to labels\n",
    "bonnie_labels = np.where(bonnie_likelihoods < 0.234, 0, 1)\n",
    "\n",
    "## Computing classification report\n",
    "print(classification_report(Y_true, bonnie_labels))"
   ]
  },
  {
   "cell_type": "markdown",
   "id": "a2d5982c",
   "metadata": {},
   "source": [
    "## Gabriel Ferreira"
   ]
  },
  {
   "cell_type": "code",
   "execution_count": 10,
   "id": "411af41a",
   "metadata": {},
   "outputs": [
    {
     "name": "stdout",
     "output_type": "stream",
     "text": [
      "              precision    recall  f1-score   support\n",
      "\n",
      "           0       0.87      0.84      0.86      4673\n",
      "           1       0.51      0.57      0.54      1327\n",
      "\n",
      "    accuracy                           0.78      6000\n",
      "   macro avg       0.69      0.71      0.70      6000\n",
      "weighted avg       0.79      0.78      0.79      6000\n",
      "\n"
     ]
    }
   ],
   "source": [
    "## Reading likelihoods\n",
    "gabriel_likelihoods = pd.read_csv('Gabriel_F_Likelihoods.csv')\n",
    "\n",
    "## Changing likelihoods to labels\n",
    "gabriel_labels = np.where(gabriel_likelihoods['Likelyhoods'] < 0.26, 0, 1)\n",
    "\n",
    "## Computing classification report\n",
    "print(classification_report(Y_true, gabriel_labels))"
   ]
  },
  {
   "cell_type": "markdown",
   "id": "a9da6f54",
   "metadata": {},
   "source": [
    "## Oscar Aguilar"
   ]
  },
  {
   "cell_type": "code",
   "execution_count": null,
   "id": "5ce448b6",
   "metadata": {},
   "outputs": [],
   "source": [
    "## Reading likelihoods\n",
    "oscar_likelihoods = pd.read_csv()"
   ]
  }
 ],
 "metadata": {
  "kernelspec": {
   "display_name": "conda_python3",
   "language": "python",
   "name": "conda_python3"
  },
  "language_info": {
   "codemirror_mode": {
    "name": "ipython",
    "version": 3
   },
   "file_extension": ".py",
   "mimetype": "text/x-python",
   "name": "python",
   "nbconvert_exporter": "python",
   "pygments_lexer": "ipython3",
   "version": "3.6.13"
  }
 },
 "nbformat": 4,
 "nbformat_minor": 5
}
