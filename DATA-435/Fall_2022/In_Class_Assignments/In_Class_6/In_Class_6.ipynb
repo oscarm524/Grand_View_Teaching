{
 "cells": [
  {
   "cell_type": "code",
   "execution_count": 1,
   "id": "7afdbe8b-c7f0-4437-88bb-43bd33a8a00d",
   "metadata": {},
   "outputs": [],
   "source": [
    "# 1. We need to make sure all the input variables are on the same scale\n",
    "# so the Euclidean distance is unbiased."
   ]
  },
  {
   "cell_type": "code",
   "execution_count": 2,
   "id": "4e462d03-8801-4442-a065-012a5a7a5030",
   "metadata": {},
   "outputs": [],
   "source": [
    "# 2. 2"
   ]
  },
  {
   "cell_type": "code",
   "execution_count": 3,
   "id": "eef12617-6993-4fda-9325-a681fa402622",
   "metadata": {},
   "outputs": [],
   "source": [
    "# 3. False"
   ]
  },
  {
   "cell_type": "code",
   "execution_count": 6,
   "id": "9d4fd88d-4d58-41fd-826a-a9ac93957170",
   "metadata": {},
   "outputs": [
    {
     "data": {
      "text/plain": [
       "array([0.        , 0.16666667, 0.33333333, 0.5       , 1.        ])"
      ]
     },
     "execution_count": 6,
     "metadata": {},
     "output_type": "execute_result"
    }
   ],
   "source": [
    "import numpy as np\n",
    "\n",
    "## Defining the point A\n",
    "A = np.array([1, 3, 5, 7, 13])\n",
    "\n",
    "## min-max \n",
    "(A - np.min(A)) / (np.max(A) - np.min(A))"
   ]
  },
  {
   "cell_type": "code",
   "execution_count": 7,
   "id": "e719e47a-d4d7-4b5b-9f3a-a430df8930c6",
   "metadata": {},
   "outputs": [
    {
     "data": {
      "text/plain": [
       "array([-1.04249338, -0.60812114, -0.1737489 ,  0.26062335,  1.56374007])"
      ]
     },
     "execution_count": 7,
     "metadata": {},
     "output_type": "execute_result"
    }
   ],
   "source": [
    "## z-scores\n",
    "(A - np.mean(A)) / np.std(A, ddof = 1)"
   ]
  }
 ],
 "metadata": {
  "kernelspec": {
   "display_name": "Python 3 (ipykernel)",
   "language": "python",
   "name": "python3"
  },
  "language_info": {
   "codemirror_mode": {
    "name": "ipython",
    "version": 3
   },
   "file_extension": ".py",
   "mimetype": "text/x-python",
   "name": "python",
   "nbconvert_exporter": "python",
   "pygments_lexer": "ipython3",
   "version": "3.9.7"
  }
 },
 "nbformat": 4,
 "nbformat_minor": 5
}
