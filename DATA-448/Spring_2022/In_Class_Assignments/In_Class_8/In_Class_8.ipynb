{
 "cells": [
  {
   "cell_type": "code",
   "execution_count": 2,
   "id": "7109841a",
   "metadata": {},
   "outputs": [
    {
     "data": {
      "text/html": [
       "<div>\n",
       "<style scoped>\n",
       "    .dataframe tbody tr th:only-of-type {\n",
       "        vertical-align: middle;\n",
       "    }\n",
       "\n",
       "    .dataframe tbody tr th {\n",
       "        vertical-align: top;\n",
       "    }\n",
       "\n",
       "    .dataframe thead th {\n",
       "        text-align: right;\n",
       "    }\n",
       "</style>\n",
       "<table border=\"1\" class=\"dataframe\">\n",
       "  <thead>\n",
       "    <tr style=\"text-align: right;\">\n",
       "      <th></th>\n",
       "      <th>Order\\tPID\\tMS SubClass\\tMS Zoning\\tLot Frontage\\tLot Area\\tStreet\\tAlley\\tLot Shape\\tLand Contour\\tUtilities\\tLot Config\\tLand Slope\\tNeighborhood\\tCondition 1\\tCondition 2\\tBldg Type\\tHouse Style\\tOverall Qual\\tOverall Cond\\tYear Built\\tYear Remod/Add\\tRoof Style\\tRoof Matl\\tExterior 1st\\tExterior 2nd\\tMas Vnr Type\\tMas Vnr Area\\tExter Qual\\tExter Cond\\tFoundation\\tBsmt Qual\\tBsmt Cond\\tBsmt Exposure\\tBsmtFin Type 1\\tBsmtFin SF 1\\tBsmtFin Type 2\\tBsmtFin SF 2\\tBsmt Unf SF\\tTotal Bsmt SF\\tHeating\\tHeating QC\\tCentral Air\\tElectrical\\t1st Flr SF\\t2nd Flr SF\\tLow Qual Fin SF\\tGr Liv Area\\tBsmt Full Bath\\tBsmt Half Bath\\tFull Bath\\tHalf Bath\\tBedroom AbvGr\\tKitchen AbvGr\\tKitchen Qual\\tTotRms AbvGrd\\tFunctional\\tFireplaces\\tFireplace Qu\\tGarage Type\\tGarage Yr Blt\\tGarage Finish\\tGarage Cars\\tGarage Area\\tGarage Qual\\tGarage Cond\\tPaved Drive\\tWood Deck SF\\tOpen Porch SF\\tEnclosed Porch\\t3Ssn Porch\\tScreen Porch\\tPool Area\\tPool QC\\tFence\\tMisc Feature\\tMisc Val\\tMo Sold\\tYr Sold\\tSale Type\\tSale Condition\\tSalePrice</th>\n",
       "    </tr>\n",
       "  </thead>\n",
       "  <tbody>\n",
       "    <tr>\n",
       "      <th>0</th>\n",
       "      <td>1\\t0526301100\\t020\\tRL\\t141\\t31770\\tPave\\tNA\\t...</td>\n",
       "    </tr>\n",
       "    <tr>\n",
       "      <th>1</th>\n",
       "      <td>2\\t0526350040\\t020\\tRH\\t80\\t11622\\tPave\\tNA\\tR...</td>\n",
       "    </tr>\n",
       "    <tr>\n",
       "      <th>2</th>\n",
       "      <td>3\\t0526351010\\t020\\tRL\\t81\\t14267\\tPave\\tNA\\tI...</td>\n",
       "    </tr>\n",
       "    <tr>\n",
       "      <th>3</th>\n",
       "      <td>4\\t0526353030\\t020\\tRL\\t93\\t11160\\tPave\\tNA\\tR...</td>\n",
       "    </tr>\n",
       "    <tr>\n",
       "      <th>4</th>\n",
       "      <td>5\\t0527105010\\t060\\tRL\\t74\\t13830\\tPave\\tNA\\tI...</td>\n",
       "    </tr>\n",
       "  </tbody>\n",
       "</table>\n",
       "</div>"
      ],
      "text/plain": [
       "  Order\\tPID\\tMS SubClass\\tMS Zoning\\tLot Frontage\\tLot Area\\tStreet\\tAlley\\tLot Shape\\tLand Contour\\tUtilities\\tLot Config\\tLand Slope\\tNeighborhood\\tCondition 1\\tCondition 2\\tBldg Type\\tHouse Style\\tOverall Qual\\tOverall Cond\\tYear Built\\tYear Remod/Add\\tRoof Style\\tRoof Matl\\tExterior 1st\\tExterior 2nd\\tMas Vnr Type\\tMas Vnr Area\\tExter Qual\\tExter Cond\\tFoundation\\tBsmt Qual\\tBsmt Cond\\tBsmt Exposure\\tBsmtFin Type 1\\tBsmtFin SF 1\\tBsmtFin Type 2\\tBsmtFin SF 2\\tBsmt Unf SF\\tTotal Bsmt SF\\tHeating\\tHeating QC\\tCentral Air\\tElectrical\\t1st Flr SF\\t2nd Flr SF\\tLow Qual Fin SF\\tGr Liv Area\\tBsmt Full Bath\\tBsmt Half Bath\\tFull Bath\\tHalf Bath\\tBedroom AbvGr\\tKitchen AbvGr\\tKitchen Qual\\tTotRms AbvGrd\\tFunctional\\tFireplaces\\tFireplace Qu\\tGarage Type\\tGarage Yr Blt\\tGarage Finish\\tGarage Cars\\tGarage Area\\tGarage Qual\\tGarage Cond\\tPaved Drive\\tWood Deck SF\\tOpen Porch SF\\tEnclosed Porch\\t3Ssn Porch\\tScreen Porch\\tPool Area\\tPool QC\\tFence\\tMisc Feature\\tMisc Val\\tMo Sold\\tYr Sold\\tSale Type\\tSale Condition\\tSalePrice\n",
       "0  1\\t0526301100\\t020\\tRL\\t141\\t31770\\tPave\\tNA\\t...                                                                                                                                                                                                                                                                                                                                                                                                                                                                                                                                                                                                                                                                                                                                                                                                                                                                                                                                                                                                                    \n",
       "1  2\\t0526350040\\t020\\tRH\\t80\\t11622\\tPave\\tNA\\tR...                                                                                                                                                                                                                                                                                                                                                                                                                                                                                                                                                                                                                                                                                                                                                                                                                                                                                                                                                                                                                    \n",
       "2  3\\t0526351010\\t020\\tRL\\t81\\t14267\\tPave\\tNA\\tI...                                                                                                                                                                                                                                                                                                                                                                                                                                                                                                                                                                                                                                                                                                                                                                                                                                                                                                                                                                                                                    \n",
       "3  4\\t0526353030\\t020\\tRL\\t93\\t11160\\tPave\\tNA\\tR...                                                                                                                                                                                                                                                                                                                                                                                                                                                                                                                                                                                                                                                                                                                                                                                                                                                                                                                                                                                                                    \n",
       "4  5\\t0527105010\\t060\\tRL\\t74\\t13830\\tPave\\tNA\\tI...                                                                                                                                                                                                                                                                                                                                                                                                                                                                                                                                                                                                                                                                                                                                                                                                                                                                                                                                                                                                                    "
      ]
     },
     "execution_count": 2,
     "metadata": {},
     "output_type": "execute_result"
    }
   ],
   "source": [
    "import boto3\n",
    "import pandas as pd\n",
    "import numpy as np\n",
    "import matplotlib.pyplot as plt\n",
    "from sklearn.model_selection import train_test_split\n",
    "from sklearn.preprocessing import MinMaxScaler\n",
    "from scipy.stats import boxcox\n",
    "from sklearn.tree import DecisionTreeClassifier\n",
    "from sklearn.ensemble import RandomForestClassifier, AdaBoostClassifier\n",
    "from sklearn.metrics import classification_report\n",
    "\n",
    "## Defining the bucket \n",
    "s3 = boto3.resource('s3')\n",
    "bucket_name = 'data-448'\n",
    "bucket = s3.Bucket(bucket_name)\n",
    "\n",
    "## Defining the csv file \n",
    "file_key = 'In_Class_Assignments/AmesHousing.txt'\n",
    "\n",
    "bucket_object = bucket.Object(file_key)\n",
    "file_object = bucket_object.get()\n",
    "file_content_stream = file_object.get('Body')\n",
    "\n",
    "## Reading the csv file\n",
    "Ames_Housing = pd.read_csv(file_content_stream, sep = )\n",
    "Ames_Housing.head()"
   ]
  },
  {
   "cell_type": "code",
   "execution_count": null,
   "id": "1a722114",
   "metadata": {},
   "outputs": [],
   "source": []
  }
 ],
 "metadata": {
  "kernelspec": {
   "display_name": "conda_python3",
   "language": "python",
   "name": "conda_python3"
  },
  "language_info": {
   "codemirror_mode": {
    "name": "ipython",
    "version": 3
   },
   "file_extension": ".py",
   "mimetype": "text/x-python",
   "name": "python",
   "nbconvert_exporter": "python",
   "pygments_lexer": "ipython3",
   "version": "3.6.13"
  }
 },
 "nbformat": 4,
 "nbformat_minor": 5
}
