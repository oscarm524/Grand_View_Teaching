{
 "cells": [
  {
   "cell_type": "code",
   "execution_count": null,
   "id": "9f6a5ce8",
   "metadata": {},
   "outputs": [],
   "source": [
    "import boto3\n",
    "import pandas as pd; pd.set_option('display.max_columns', 50)\n",
    "import numpy as np\n",
    "import matplotlib.pyplot as plt\n",
    "from sklearn.preprocessing import MinMaxScaler\n",
    "from sklearn.model_selection import train_test_split, GridSearchCV, RandomizedSearchCV\n",
    "from sklearn.ensemble import AdaBoostClassifier\n",
    "from sklearn.tree import DecisionTreeClassifier\n",
    "from sklearn.metrics import confusion_matrix, make_scorer\n",
    "\n",
    "## Defining the bucket \n",
    "s3 = boto3.resource('s3')\n",
    "bucket_name = 'data-448'\n",
    "bucket = s3.Bucket(bucket_name)\n",
    "\n",
    "## Defining the csv file \n",
    "file_key = 'In_Class_Assignments/turnover.csv'\n",
    "\n",
    "bucket_object = bucket.Object(file_key)\n",
    "file_object = bucket_object.get()\n",
    "file_content_stream = file_object.get('Body')\n",
    "\n",
    "## Reading the csv file\n",
    "turnover = pd.read_csv(file_content_stream)\n",
    "turnover.head()"
   ]
  },
  {
   "cell_type": "code",
   "execution_count": null,
   "id": "88a1a977",
   "metadata": {},
   "outputs": [],
   "source": [
    "## Changing sales to dummy variables\n",
    "turnover = pd.concat([turnover.drop(columns = ['sales'], axis = 1), pd.get_dummies(turnover['sales'])], axis = 1)\n",
    "\n",
    "## Changing salary to dummy variables\n",
    "turnover = pd.concat([turnover, pd.get_dummies(turnover['salary'])], axis = 1)\n",
    "\n",
    "turnover.head()"
   ]
  },
  {
   "cell_type": "code",
   "execution_count": null,
   "id": "87306f24",
   "metadata": {},
   "outputs": [],
   "source": [
    "## Creating interactions/features from the decision tree\n",
    "turnover['interaction_1'] = np.where((turnover['satisfaction_level'] <= 0.465) & (turnover['number_project'] <= 2.5) & (turnover['last_evaluation'] <= 0.575), 1, 0)\n",
    "turnover['interaction_2'] = np.where((turnover['satisfaction_level'] <= 0.465) & (turnover['number_project'] >= 2.5) & (turnover['satisfaction_level'] >= 0.115), 1, 0)\n",
    "turnover['interaction_3'] = np.where((turnover['satisfaction_level'] >= 0.465) & (turnover['time_spend_company'] <= 4.5) & (turnover['average_montly_hours'] <= 290.5), 1, 0)\n",
    "\n",
    "turnover.head()"
   ]
  },
  {
   "cell_type": "code",
   "execution_count": null,
   "id": "b4ba53b9",
   "metadata": {},
   "outputs": [],
   "source": [
    "## Defining the input and target variables\n",
    "X = turnover.drop(columns = ['left', 'salary'], axis = 1)\n",
    "Y = turnover['left']\n",
    "\n",
    "## Spliting the data into train, validation, and test\n",
    "X_train, X_test, Y_train, Y_test = train_test_split(X, Y, test_size = 0.2, stratify = Y)"
   ]
  },
  {
   "cell_type": "code",
   "execution_count": null,
   "id": "4a5a9382",
   "metadata": {},
   "outputs": [],
   "source": [
    "def cost_function(Y_true, Y_pred):\n",
    "    \n",
    "    '''\n",
    "    \n",
    "    Y_true: true labels\n",
    "    Y_pred: likelihoods from the model\n",
    "    \n",
    "    '''\n",
    "    \n",
    "    ## Defining cutoff values in a data-frame\n",
    "    results = pd.DataFrame({'cutoffs': np.round(np.linspace(0.05, 0.95, num = 40, endpoint = True), 2)})\n",
    "    results['cost'] = np.nan\n",
    "    \n",
    "    for i in range(0, results.shape[0]):\n",
    "        \n",
    "        ## Changing likelihoods to labels\n",
    "        Y_pred_lab = np.where(Y_pred < results['cutoffs'][i], 0, 1)\n",
    "        \n",
    "        ## Computing confusion matrix and scoring based on description\n",
    "        X = confusion_matrix(Y_pred_lab, Y_true)\n",
    "        results['points'][i] = -1500 * X[1, 0] - 1000 * X[0, 1] + 500 * X[1, 1]\n",
    "        \n",
    "    ## Sorting results \n",
    "    results = results.sort_values(by = 'points', ascending = False).reset_index(drop = True)\n",
    "    \n",
    "    return results['points'][0]\n",
    "\n",
    "my_score_function = make_scorer(cost_function, greater_is_better = True, needs_prob = True)"
   ]
  },
  {
   "cell_type": "code",
   "execution_count": null,
   "id": "3ca74985",
   "metadata": {},
   "outputs": [],
   "source": [
    "## Defining hyper-paramerters for RF\n",
    "RF_param_grid = {'n_estimators': [100, 300, 500],\n",
    "                 'min_samples_split': [10, 15],\n",
    "                 'min_samples_leaf': [5, 7],\n",
    "                 'max_depth' : [3, 5, 7]}\n",
    "\n",
    "## Performing grid search with 3 folds\n",
    "RF_grid_search = GridSearchCV(RandomForestClassifier(), RF_param_grid, cv = 3, scoring = my_score_function, n_jobs = -1).fit(X_train, Y_train)\n",
    "\n",
    "## Extracting the best model \n",
    "RF_grid_search.best_params_"
   ]
  }
 ],
 "metadata": {
  "kernelspec": {
   "display_name": "conda_python3",
   "language": "python",
   "name": "conda_python3"
  },
  "language_info": {
   "codemirror_mode": {
    "name": "ipython",
    "version": 3
   },
   "file_extension": ".py",
   "mimetype": "text/x-python",
   "name": "python",
   "nbconvert_exporter": "python",
   "pygments_lexer": "ipython3",
   "version": "3.6.13"
  }
 },
 "nbformat": 4,
 "nbformat_minor": 5
}
