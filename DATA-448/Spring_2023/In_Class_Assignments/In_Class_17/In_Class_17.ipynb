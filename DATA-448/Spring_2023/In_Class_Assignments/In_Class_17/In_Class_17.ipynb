{
 "cells": [
  {
   "cell_type": "code",
   "execution_count": 1,
   "id": "12c28457",
   "metadata": {},
   "outputs": [
    {
     "name": "stdout",
     "output_type": "stream",
     "text": [
      "Collecting optuna\n",
      "  Downloading optuna-3.0.6-py3-none-any.whl (348 kB)\n",
      "     |████████████████████████████████| 348 kB 33.1 MB/s            \n",
      "\u001b[?25hCollecting cliff\n",
      "  Downloading cliff-3.10.1-py3-none-any.whl (81 kB)\n",
      "     |████████████████████████████████| 81 kB 13.7 MB/s            \n",
      "\u001b[?25hRequirement already satisfied: PyYAML in /home/ec2-user/anaconda3/envs/python3/lib/python3.6/site-packages (from optuna) (5.4.1)\n",
      "Requirement already satisfied: scipy!=1.4.0,<1.9.0 in /home/ec2-user/anaconda3/envs/python3/lib/python3.6/site-packages (from optuna) (1.5.3)\n",
      "Collecting cmaes>=0.8.2\n",
      "  Downloading cmaes-0.9.0-py3-none-any.whl (23 kB)\n",
      "Collecting alembic>=1.5.0\n",
      "  Downloading alembic-1.7.7-py3-none-any.whl (210 kB)\n",
      "     |████████████████████████████████| 210 kB 77.0 MB/s            \n",
      "\u001b[?25hRequirement already satisfied: sqlalchemy>=1.3.0 in /home/ec2-user/anaconda3/envs/python3/lib/python3.6/site-packages (from optuna) (1.3.23)\n",
      "Collecting colorlog\n",
      "  Downloading colorlog-6.7.0-py2.py3-none-any.whl (11 kB)\n",
      "Requirement already satisfied: importlib-metadata<5.0.0 in /home/ec2-user/anaconda3/envs/python3/lib/python3.6/site-packages (from optuna) (3.7.0)\n",
      "Requirement already satisfied: packaging>=20.0 in /home/ec2-user/anaconda3/envs/python3/lib/python3.6/site-packages (from optuna) (21.3)\n",
      "Requirement already satisfied: tqdm in /home/ec2-user/anaconda3/envs/python3/lib/python3.6/site-packages (from optuna) (4.62.3)\n",
      "Requirement already satisfied: numpy in /home/ec2-user/anaconda3/envs/python3/lib/python3.6/site-packages (from optuna) (1.19.5)\n",
      "Collecting Mako\n",
      "  Downloading Mako-1.1.6-py2.py3-none-any.whl (75 kB)\n",
      "     |████████████████████████████████| 75 kB 1.0 MB/s             \n",
      "\u001b[?25hCollecting importlib-resources\n",
      "  Downloading importlib_resources-5.4.0-py3-none-any.whl (28 kB)\n",
      "Requirement already satisfied: typing-extensions>=3.6.4 in /home/ec2-user/anaconda3/envs/python3/lib/python3.6/site-packages (from importlib-metadata<5.0.0->optuna) (4.0.1)\n",
      "Requirement already satisfied: zipp>=0.5 in /home/ec2-user/anaconda3/envs/python3/lib/python3.6/site-packages (from importlib-metadata<5.0.0->optuna) (3.4.0)\n",
      "Requirement already satisfied: pyparsing!=3.0.5,>=2.0.2 in /home/ec2-user/anaconda3/envs/python3/lib/python3.6/site-packages (from packaging>=20.0->optuna) (2.4.7)\n",
      "Collecting stevedore>=2.0.1\n",
      "  Downloading stevedore-3.5.2-py3-none-any.whl (50 kB)\n",
      "     |████████████████████████████████| 50 kB 3.6 MB/s            \n",
      "\u001b[?25hCollecting pbr!=2.1.0,>=2.0.0\n",
      "  Downloading pbr-5.11.1-py2.py3-none-any.whl (112 kB)\n",
      "     |████████████████████████████████| 112 kB 51.5 MB/s            \n",
      "\u001b[?25hCollecting autopage>=0.4.0\n",
      "  Downloading autopage-0.5.1-py3-none-any.whl (29 kB)\n",
      "Collecting cmd2>=1.0.0\n",
      "  Downloading cmd2-2.4.3-py3-none-any.whl (147 kB)\n",
      "     |████████████████████████████████| 147 kB 63.4 MB/s            \n",
      "\u001b[?25hCollecting PrettyTable>=0.7.2\n",
      "  Downloading prettytable-2.5.0-py3-none-any.whl (24 kB)\n",
      "Collecting pyperclip>=1.6\n",
      "  Downloading pyperclip-1.8.2.tar.gz (20 kB)\n",
      "  Preparing metadata (setup.py) ... \u001b[?25ldone\n",
      "\u001b[?25hRequirement already satisfied: attrs>=16.3.0 in /home/ec2-user/anaconda3/envs/python3/lib/python3.6/site-packages (from cmd2>=1.0.0->cliff->optuna) (20.3.0)\n",
      "Requirement already satisfied: wcwidth>=0.1.7 in /home/ec2-user/anaconda3/envs/python3/lib/python3.6/site-packages (from cmd2>=1.0.0->cliff->optuna) (0.2.5)\n",
      "Requirement already satisfied: MarkupSafe>=0.9.2 in /home/ec2-user/anaconda3/envs/python3/lib/python3.6/site-packages (from Mako->alembic>=1.5.0->optuna) (1.1.1)\n",
      "Building wheels for collected packages: pyperclip\n",
      "  Building wheel for pyperclip (setup.py) ... \u001b[?25ldone\n",
      "\u001b[?25h  Created wheel for pyperclip: filename=pyperclip-1.8.2-py3-none-any.whl size=11107 sha256=8ab9fcd458a81abd35fd643c80afd332003de83a7dcbf99d02827b053a56b52c\n",
      "  Stored in directory: /home/ec2-user/.cache/pip/wheels/95/38/95/e30a7f0b44cb90642de3469f211a3218f93f871789b4f4b46c\n",
      "Successfully built pyperclip\n",
      "Installing collected packages: pyperclip, pbr, stevedore, PrettyTable, Mako, importlib-resources, cmd2, autopage, colorlog, cmaes, cliff, alembic, optuna\n",
      "Successfully installed Mako-1.1.6 PrettyTable-2.5.0 alembic-1.7.7 autopage-0.5.1 cliff-3.10.1 cmaes-0.9.0 cmd2-2.4.3 colorlog-6.7.0 importlib-resources-5.4.0 optuna-3.0.6 pbr-5.11.1 pyperclip-1.8.2 stevedore-3.5.2\n",
      "Note: you may need to restart the kernel to use updated packages.\n"
     ]
    }
   ],
   "source": [
    "pip install optuna"
   ]
  },
  {
   "cell_type": "code",
   "execution_count": 5,
   "id": "5482afb0",
   "metadata": {},
   "outputs": [],
   "source": [
    "import boto3\n",
    "import pandas as pd\n",
    "import numpy as np\n",
    "import matplotlib.pyplot as plt\n",
    "from sklearn.model_selection import train_test_split, GridSearchCV, RandomizedSearchCV, StratifiedKFold\n",
    "from sklearn.preprocessing import MinMaxScaler\n",
    "from sklearn.linear_model import LogisticRegression\n",
    "from scipy.stats import boxcox\n",
    "from sklearn.tree import DecisionTreeClassifier, plot_tree\n",
    "from sklearn.ensemble import RandomForestClassifier, AdaBoostClassifier, GradientBoostingClassifier\n",
    "from sklearn.metrics import classification_report\n",
    "from sklearn.feature_selection import RFE, RFECV\n",
    "from sklearn.svm import SVC\n",
    "\n",
    "import optuna\n",
    "\n",
    "from cost_function import cost_function\n",
    "\n",
    "# Reading the data\n",
    "train = pd.read_csv('turnover_train.csv')\n",
    "validation = pd.read_csv('turnover_val.csv')\n",
    "test = pd.read_csv('turnover_test.csv')"
   ]
  },
  {
   "cell_type": "code",
   "execution_count": 6,
   "id": "85f0bd1d",
   "metadata": {},
   "outputs": [],
   "source": [
    "## Changing sales and salary to dummies\n",
    "train = pd.concat([train.drop(columns = ['sales', 'salary'], axis = 1), pd.get_dummies(train[['sales', 'salary']])], axis = 1)\n",
    "validation = pd.concat([validation.drop(columns = ['sales', 'salary'], axis = 1), pd.get_dummies(validation[['sales', 'salary']])], axis = 1)\n",
    "test = pd.concat([test.drop(columns = ['sales', 'salary'], axis = 1), pd.get_dummies(test[['sales', 'salary']])], axis = 1)"
   ]
  },
  {
   "cell_type": "code",
   "execution_count": 7,
   "id": "d645129b",
   "metadata": {},
   "outputs": [],
   "source": [
    "train['interaction_1'] = np.where(((train['satisfaction_level'] >= 0.115) & \n",
    "                                      (train['satisfaction_level'] <= 0.465) & \n",
    "                                      (train['number_project'] > 2.5)), 1, 0)\n",
    "\n",
    "train['interaction_2'] = np.where(((train['satisfaction_level'] <= 0.465) & \n",
    "                                      (train['number_project'] <= 2.5) & \n",
    "                                      (train['last_evaluation'] <= 0.575)), 1, 0)\n",
    "\n",
    "train['interaction_3'] = np.where(((train['satisfaction_level'] > 0.465) & \n",
    "                                      (train['time_spend_company'] <= 4.5) & \n",
    "                                      (train['average_montly_hours'] <= 290.5)), 1, 0)\n",
    "\n",
    "validation['interaction_1'] = np.where(((validation['satisfaction_level'] >= 0.115) & \n",
    "                                      (validation['satisfaction_level'] <= 0.465) & \n",
    "                                      (validation['number_project'] > 2.5)), 1, 0)\n",
    "\n",
    "validation['interaction_2'] = np.where(((validation['satisfaction_level'] <= 0.465) & \n",
    "                                      (validation['number_project'] <= 2.5) & \n",
    "                                      (validation['last_evaluation'] <= 0.575)), 1, 0)\n",
    "\n",
    "validation['interaction_3'] = np.where(((validation['satisfaction_level'] > 0.465) & \n",
    "                                      (validation['time_spend_company'] <= 4.5) & \n",
    "                                      (validation['average_montly_hours'] <= 290.5)), 1, 0)\n",
    "\n",
    "test['interaction_1'] = np.where(((test['satisfaction_level'] >= 0.115) & \n",
    "                                      (test['satisfaction_level'] <= 0.465) & \n",
    "                                      (test['number_project'] > 2.5)), 1, 0)\n",
    "\n",
    "test['interaction_2'] = np.where(((test['satisfaction_level'] <= 0.465) & \n",
    "                                      (test['number_project'] <= 2.5) & \n",
    "                                      (test['last_evaluation'] <= 0.575)), 1, 0)\n",
    "\n",
    "test['interaction_3'] = np.where(((test['satisfaction_level'] > 0.465) & \n",
    "                                      (test['time_spend_company'] <= 4.5) & \n",
    "                                      (test['average_montly_hours'] <= 290.5)), 1, 0)"
   ]
  },
  {
   "cell_type": "markdown",
   "id": "5d605dea",
   "metadata": {},
   "source": [
    "# Random Forest with Optuna"
   ]
  },
  {
   "cell_type": "code",
   "execution_count": 8,
   "id": "980a96dd",
   "metadata": {},
   "outputs": [],
   "source": [
    "X = train[['interaction_3', 'interaction_1', 'satisfaction_level', 'time_spend_company',\n",
    "           'number_project']]\n",
    "Y = train['left']\n",
    "\n",
    "class Objective:\n",
    "    \n",
    "    def __init__(self, seed):\n",
    "        self.seed = seed\n",
    "        \n",
    "    def __call__(self, trial):\n",
    "        \n",
    "        params = dict(n_estimators = trial.suggest_int('n_estimators', 100, 2000),\n",
    "                      min_samples_split = trial.suggest_int('min_samples_split', 5, 30),\n",
    "                      min_samples_leaf = trial.suggest_int('min_samples_leaf', 5, 30),\n",
    "                      max_depth = trial.suggest_int('max_depth', 2, 10)\n",
    "                      )\n",
    "        \n",
    "        scores = list()\n",
    "        \n",
    "        skf = StratifiedKFold(n_splits = 3, shuffle = True, random_state = self.seed)\n",
    "        \n",
    "        for train_idx, valid_idx in skf.split(X, Y):\n",
    "            \n",
    "            X_train, X_valid = X.iloc[train_idx], X.iloc[valid_idx]\n",
    "            Y_train, Y_valid = Y.iloc[train_idx], Y.iloc[valid_idx]\n",
    "            \n",
    "            RF_md = RandomForestClassifier(**params).fit(X_train, Y_train)\n",
    "            \n",
    "            pred_valid = RF_md.predict_proba(X_valid)[:, 1]\n",
    "            score = cost_function(Y_valid, pred_valid)\n",
    "            scores.append(score[0])\n",
    "            \n",
    "        return np.mean(scores)"
   ]
  },
  {
   "cell_type": "code",
   "execution_count": 10,
   "id": "53c17705",
   "metadata": {},
   "outputs": [
    {
     "name": "stderr",
     "output_type": "stream",
     "text": [
      "\u001b[32m[I 2023-03-24 17:43:35,953]\u001b[0m A new study created in memory with name: no-name-328d44d8-32d6-4a08-8ecc-aafef7bfb764\u001b[0m\n",
      "\u001b[32m[I 2023-03-24 17:43:48,881]\u001b[0m Trial 0 finished with value: 222166.66666666666 and parameters: {'n_estimators': 1319, 'min_samples_split': 30, 'min_samples_leaf': 11, 'max_depth': 4}. Best is trial 0 with value: 222166.66666666666.\u001b[0m\n",
      "\u001b[32m[I 2023-03-24 17:44:05,280]\u001b[0m Trial 1 finished with value: 221166.66666666666 and parameters: {'n_estimators': 1815, 'min_samples_split': 13, 'min_samples_leaf': 14, 'max_depth': 4}. Best is trial 0 with value: 222166.66666666666.\u001b[0m\n",
      "\u001b[32m[I 2023-03-24 17:44:20,019]\u001b[0m Trial 2 finished with value: 293166.6666666667 and parameters: {'n_estimators': 1221, 'min_samples_split': 8, 'min_samples_leaf': 9, 'max_depth': 10}. Best is trial 2 with value: 293166.6666666667.\u001b[0m\n",
      "\u001b[32m[I 2023-03-24 17:44:39,213]\u001b[0m Trial 3 finished with value: 288166.6666666667 and parameters: {'n_estimators': 1774, 'min_samples_split': 23, 'min_samples_leaf': 16, 'max_depth': 7}. Best is trial 2 with value: 293166.6666666667.\u001b[0m\n",
      "\u001b[32m[I 2023-03-24 17:44:46,074]\u001b[0m Trial 4 finished with value: 290166.6666666667 and parameters: {'n_estimators': 586, 'min_samples_split': 19, 'min_samples_leaf': 15, 'max_depth': 7}. Best is trial 2 with value: 293166.6666666667.\u001b[0m\n",
      "\u001b[32m[I 2023-03-24 17:45:06,625]\u001b[0m Trial 5 finished with value: 291666.6666666667 and parameters: {'n_estimators': 1961, 'min_samples_split': 14, 'min_samples_leaf': 6, 'max_depth': 6}. Best is trial 2 with value: 293166.6666666667.\u001b[0m\n",
      "\u001b[32m[I 2023-03-24 17:45:08,530]\u001b[0m Trial 6 finished with value: 261166.66666666666 and parameters: {'n_estimators': 165, 'min_samples_split': 30, 'min_samples_leaf': 27, 'max_depth': 6}. Best is trial 2 with value: 293166.6666666667.\u001b[0m\n",
      "\u001b[32m[I 2023-03-24 17:45:20,751]\u001b[0m Trial 7 finished with value: 292166.6666666667 and parameters: {'n_estimators': 1065, 'min_samples_split': 18, 'min_samples_leaf': 9, 'max_depth': 7}. Best is trial 2 with value: 293166.6666666667.\u001b[0m\n",
      "\u001b[32m[I 2023-03-24 17:45:26,439]\u001b[0m Trial 8 finished with value: 269166.6666666667 and parameters: {'n_estimators': 479, 'min_samples_split': 27, 'min_samples_leaf': 21, 'max_depth': 9}. Best is trial 2 with value: 293166.6666666667.\u001b[0m\n",
      "\u001b[32m[I 2023-03-24 17:45:27,981]\u001b[0m Trial 9 finished with value: 295166.6666666667 and parameters: {'n_estimators': 113, 'min_samples_split': 22, 'min_samples_leaf': 7, 'max_depth': 8}. Best is trial 9 with value: 295166.6666666667.\u001b[0m\n",
      "\u001b[32m[I 2023-03-24 17:45:29,703]\u001b[0m Trial 10 finished with value: 77666.66666666667 and parameters: {'n_estimators': 113, 'min_samples_split': 24, 'min_samples_leaf': 21, 'max_depth': 2}. Best is trial 9 with value: 295166.6666666667.\u001b[0m\n",
      "\u001b[32m[I 2023-03-24 17:45:51,259]\u001b[0m Trial 11 finished with value: 298666.6666666667 and parameters: {'n_estimators': 1400, 'min_samples_split': 6, 'min_samples_leaf': 5, 'max_depth': 10}. Best is trial 11 with value: 298666.6666666667.\u001b[0m\n",
      "\u001b[32m[I 2023-03-24 17:46:08,931]\u001b[0m Trial 12 finished with value: 298666.6666666667 and parameters: {'n_estimators': 1448, 'min_samples_split': 6, 'min_samples_leaf': 5, 'max_depth': 9}. Best is trial 11 with value: 298666.6666666667.\u001b[0m\n",
      "\u001b[32m[I 2023-03-24 17:46:26,289]\u001b[0m Trial 13 finished with value: 296666.6666666667 and parameters: {'n_estimators': 1435, 'min_samples_split': 5, 'min_samples_leaf': 6, 'max_depth': 10}. Best is trial 11 with value: 298666.6666666667.\u001b[0m\n",
      "\u001b[32m[I 2023-03-24 17:46:43,588]\u001b[0m Trial 14 finished with value: 261166.66666666666 and parameters: {'n_estimators': 1517, 'min_samples_split': 10, 'min_samples_leaf': 30, 'max_depth': 9}. Best is trial 11 with value: 298666.6666666667.\u001b[0m\n",
      "\u001b[32m[I 2023-03-24 17:46:53,843]\u001b[0m Trial 15 finished with value: 291666.6666666667 and parameters: {'n_estimators': 839, 'min_samples_split': 5, 'min_samples_leaf': 12, 'max_depth': 9}. Best is trial 11 with value: 298666.6666666667.\u001b[0m\n",
      "\u001b[32m[I 2023-03-24 17:47:13,394]\u001b[0m Trial 16 finished with value: 298666.6666666667 and parameters: {'n_estimators': 1586, 'min_samples_split': 10, 'min_samples_leaf': 5, 'max_depth': 10}. Best is trial 11 with value: 298666.6666666667.\u001b[0m\n",
      "\u001b[32m[I 2023-03-24 17:47:31,613]\u001b[0m Trial 17 finished with value: 277166.6666666667 and parameters: {'n_estimators': 1596, 'min_samples_split': 11, 'min_samples_leaf': 19, 'max_depth': 8}. Best is trial 11 with value: 298666.6666666667.\u001b[0m\n",
      "\u001b[32m[I 2023-03-24 17:47:42,233]\u001b[0m Trial 18 finished with value: 274166.6666666667 and parameters: {'n_estimators': 1063, 'min_samples_split': 15, 'min_samples_leaf': 9, 'max_depth': 5}. Best is trial 11 with value: 298666.6666666667.\u001b[0m\n",
      "\u001b[32m[I 2023-03-24 17:48:00,567]\u001b[0m Trial 19 finished with value: 266166.6666666667 and parameters: {'n_estimators': 1639, 'min_samples_split': 9, 'min_samples_leaf': 25, 'max_depth': 8}. Best is trial 11 with value: 298666.6666666667.\u001b[0m\n"
     ]
    }
   ],
   "source": [
    "SEED = 42\n",
    "N_TRIALS = 20\n",
    "\n",
    "study = optuna.create_study(direction = 'maximize')\n",
    "study.optimize(Objective(SEED), n_trials = N_TRIALS)"
   ]
  },
  {
   "cell_type": "code",
   "execution_count": 11,
   "id": "c891e5ca",
   "metadata": {},
   "outputs": [
    {
     "data": {
      "text/plain": [
       "{'n_estimators': 1400,\n",
       " 'min_samples_split': 6,\n",
       " 'min_samples_leaf': 5,\n",
       " 'max_depth': 10}"
      ]
     },
     "execution_count": 11,
     "metadata": {},
     "output_type": "execute_result"
    }
   ],
   "source": [
    "study.best_trial.params"
   ]
  },
  {
   "cell_type": "code",
   "execution_count": 14,
   "id": "32dafe2e",
   "metadata": {},
   "outputs": [
    {
     "name": "stdout",
     "output_type": "stream",
     "text": [
      "[[1125   18]\n",
      " [  28  329]]\n",
      "The cost of the RF is: 104500\n"
     ]
    }
   ],
   "source": [
    "from sklearn.metrics import confusion_matrix\n",
    "\n",
    "## Building the random forest model\n",
    "RF_md = RandomForestClassifier(**study.best_trial.params).fit(X, Y)\n",
    "\n",
    "## Predicting on validation and test\n",
    "X_val = validation[['interaction_3', 'interaction_1', 'satisfaction_level', 'time_spend_company',\n",
    "           'number_project']]\n",
    "X_test = test[['interaction_3', 'interaction_1', 'satisfaction_level', 'time_spend_company',\n",
    "           'number_project']]\n",
    "\n",
    "Y_val = validation['left']\n",
    "Y_test = test['left']\n",
    "\n",
    "RF_val_pred = RF_md.predict_proba(X_val)[:, 1]\n",
    "RF_test_pred = RF_md.predict_proba(X_test)[:, 1]\n",
    "\n",
    "## Identify the optimal cutoff\n",
    "opt_cutoff = cost_function(Y_val, RF_val_pred)[1]\n",
    "\n",
    "## Changing the likelihoods into labels\n",
    "RF_label = np.where(RF_test_pred < opt_cutoff, 0, 1)\n",
    "\n",
    "conf_mat = confusion_matrix(Y_test, RF_label)\n",
    "print(conf_mat)\n",
    "print('The cost of the RF is:', -1500 * conf_mat[1, 0] - 1000 * conf_mat[0, 1] + 500 * conf_mat[1, 1])"
   ]
  }
 ],
 "metadata": {
  "kernelspec": {
   "display_name": "conda_python3",
   "language": "python",
   "name": "conda_python3"
  },
  "language_info": {
   "codemirror_mode": {
    "name": "ipython",
    "version": 3
   },
   "file_extension": ".py",
   "mimetype": "text/x-python",
   "name": "python",
   "nbconvert_exporter": "python",
   "pygments_lexer": "ipython3",
   "version": "3.6.13"
  }
 },
 "nbformat": 4,
 "nbformat_minor": 5
}
