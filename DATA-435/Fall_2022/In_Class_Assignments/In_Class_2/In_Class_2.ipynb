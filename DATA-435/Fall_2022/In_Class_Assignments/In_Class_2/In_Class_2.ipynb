{
 "cells": [
  {
   "cell_type": "code",
   "execution_count": 1,
   "id": "3be91752-6593-4d7b-b27b-19433e36bda7",
   "metadata": {},
   "outputs": [
    {
     "data": {
      "text/html": [
       "<div>\n",
       "<style scoped>\n",
       "    .dataframe tbody tr th:only-of-type {\n",
       "        vertical-align: middle;\n",
       "    }\n",
       "\n",
       "    .dataframe tbody tr th {\n",
       "        vertical-align: top;\n",
       "    }\n",
       "\n",
       "    .dataframe thead th {\n",
       "        text-align: right;\n",
       "    }\n",
       "</style>\n",
       "<table border=\"1\" class=\"dataframe\">\n",
       "  <thead>\n",
       "    <tr style=\"text-align: right;\">\n",
       "      <th></th>\n",
       "      <th>Year</th>\n",
       "      <th>Product line</th>\n",
       "      <th>Product type</th>\n",
       "      <th>Product</th>\n",
       "      <th>Order method type</th>\n",
       "      <th>Retailer country</th>\n",
       "      <th>Revenue</th>\n",
       "      <th>Planned revenue</th>\n",
       "      <th>Product cost</th>\n",
       "      <th>Quantity</th>\n",
       "      <th>Unit cost</th>\n",
       "      <th>Unit price</th>\n",
       "      <th>Gross profit</th>\n",
       "      <th>Unit sale price</th>\n",
       "    </tr>\n",
       "  </thead>\n",
       "  <tbody>\n",
       "    <tr>\n",
       "      <th>0</th>\n",
       "      <td>2004</td>\n",
       "      <td>Golf Equipment</td>\n",
       "      <td>Golf Accessories</td>\n",
       "      <td>Course Pro Golf and Tee Set</td>\n",
       "      <td>Sales visit</td>\n",
       "      <td>United States</td>\n",
       "      <td>5819.70</td>\n",
       "      <td>6586.16</td>\n",
       "      <td>1733.2</td>\n",
       "      <td>619.0</td>\n",
       "      <td>2.8</td>\n",
       "      <td>10.64</td>\n",
       "      <td>4086.50</td>\n",
       "      <td>5.105</td>\n",
       "    </tr>\n",
       "    <tr>\n",
       "      <th>1</th>\n",
       "      <td>2004</td>\n",
       "      <td>Golf Equipment</td>\n",
       "      <td>Golf Accessories</td>\n",
       "      <td>Course Pro Golf and Tee Set</td>\n",
       "      <td>Sales visit</td>\n",
       "      <td>United Kingdom</td>\n",
       "      <td>NaN</td>\n",
       "      <td>NaN</td>\n",
       "      <td>NaN</td>\n",
       "      <td>NaN</td>\n",
       "      <td>NaN</td>\n",
       "      <td>NaN</td>\n",
       "      <td>NaN</td>\n",
       "      <td>NaN</td>\n",
       "    </tr>\n",
       "    <tr>\n",
       "      <th>2</th>\n",
       "      <td>2005</td>\n",
       "      <td>Golf Equipment</td>\n",
       "      <td>Golf Accessories</td>\n",
       "      <td>Course Pro Golf and Tee Set</td>\n",
       "      <td>Sales visit</td>\n",
       "      <td>United States</td>\n",
       "      <td>10904.28</td>\n",
       "      <td>11363.52</td>\n",
       "      <td>2990.4</td>\n",
       "      <td>1068.0</td>\n",
       "      <td>2.8</td>\n",
       "      <td>10.64</td>\n",
       "      <td>7913.88</td>\n",
       "      <td>10.210</td>\n",
       "    </tr>\n",
       "    <tr>\n",
       "      <th>3</th>\n",
       "      <td>2005</td>\n",
       "      <td>Golf Equipment</td>\n",
       "      <td>Golf Accessories</td>\n",
       "      <td>Course Pro Golf and Tee Set</td>\n",
       "      <td>Sales visit</td>\n",
       "      <td>United Kingdom</td>\n",
       "      <td>27987.84</td>\n",
       "      <td>28855.68</td>\n",
       "      <td>7593.6</td>\n",
       "      <td>2712.0</td>\n",
       "      <td>2.8</td>\n",
       "      <td>10.64</td>\n",
       "      <td>20394.24</td>\n",
       "      <td>10.320</td>\n",
       "    </tr>\n",
       "    <tr>\n",
       "      <th>4</th>\n",
       "      <td>2006</td>\n",
       "      <td>Golf Equipment</td>\n",
       "      <td>Golf Accessories</td>\n",
       "      <td>Course Pro Golf and Tee Set</td>\n",
       "      <td>Sales visit</td>\n",
       "      <td>United States</td>\n",
       "      <td>NaN</td>\n",
       "      <td>NaN</td>\n",
       "      <td>NaN</td>\n",
       "      <td>NaN</td>\n",
       "      <td>NaN</td>\n",
       "      <td>NaN</td>\n",
       "      <td>NaN</td>\n",
       "      <td>NaN</td>\n",
       "    </tr>\n",
       "  </tbody>\n",
       "</table>\n",
       "</div>"
      ],
      "text/plain": [
       "   Year    Product line      Product type                      Product  \\\n",
       "0  2004  Golf Equipment  Golf Accessories  Course Pro Golf and Tee Set   \n",
       "1  2004  Golf Equipment  Golf Accessories  Course Pro Golf and Tee Set   \n",
       "2  2005  Golf Equipment  Golf Accessories  Course Pro Golf and Tee Set   \n",
       "3  2005  Golf Equipment  Golf Accessories  Course Pro Golf and Tee Set   \n",
       "4  2006  Golf Equipment  Golf Accessories  Course Pro Golf and Tee Set   \n",
       "\n",
       "  Order method type Retailer country   Revenue  Planned revenue  Product cost  \\\n",
       "0       Sales visit    United States   5819.70          6586.16        1733.2   \n",
       "1       Sales visit   United Kingdom       NaN              NaN           NaN   \n",
       "2       Sales visit    United States  10904.28         11363.52        2990.4   \n",
       "3       Sales visit   United Kingdom  27987.84         28855.68        7593.6   \n",
       "4       Sales visit    United States       NaN              NaN           NaN   \n",
       "\n",
       "   Quantity  Unit cost  Unit price  Gross profit  Unit sale price  \n",
       "0     619.0        2.8       10.64       4086.50            5.105  \n",
       "1       NaN        NaN         NaN           NaN              NaN  \n",
       "2    1068.0        2.8       10.64       7913.88           10.210  \n",
       "3    2712.0        2.8       10.64      20394.24           10.320  \n",
       "4       NaN        NaN         NaN           NaN              NaN  "
      ]
     },
     "execution_count": 1,
     "metadata": {},
     "output_type": "execute_result"
    }
   ],
   "source": [
    "import pandas as pd\n",
    "\n",
    "## Reading the csv file\n",
    "sales = pd.read_csv('sales.csv')\n",
    "sales.head()"
   ]
  },
  {
   "cell_type": "code",
   "execution_count": 2,
   "id": "bda65b1d-8226-4a34-a7d7-049298a34d31",
   "metadata": {},
   "outputs": [
    {
     "data": {
      "text/plain": [
       "(17823, 14)"
      ]
     },
     "execution_count": 2,
     "metadata": {},
     "output_type": "execute_result"
    }
   ],
   "source": [
    "## Reporting the number of observations and variables\n",
    "sales.shape"
   ]
  },
  {
   "cell_type": "code",
   "execution_count": 4,
   "id": "8de0eb2e-8d84-4fbb-98e1-3ed3529ea241",
   "metadata": {},
   "outputs": [
    {
     "data": {
      "text/plain": [
       "Product\n",
       "Aloe Relief                          941.106918\n",
       "BugShield Extreme                  14405.405714\n",
       "BugShield Lotion                    4452.426829\n",
       "BugShield Lotion Lite               2631.617647\n",
       "BugShield Natural                   7164.901235\n",
       "BugShield Spray                     4495.664557\n",
       "Calamine Relief                      640.631579\n",
       "Compact Relief Kit                  1026.988166\n",
       "Course Pro Gloves                   5703.006849\n",
       "Course Pro Golf Bag                  545.210526\n",
       "Course Pro Golf and Tee Set         4338.993750\n",
       "Course Pro Umbrella                 4827.305732\n",
       "Deluxe Family Relief Kit            1197.180556\n",
       "Firefly Charger                     1858.228571\n",
       "Firefly Climbing Lamp               1270.700935\n",
       "Firefly Rechargeable Battery        8250.747573\n",
       "Granite Belay                       1618.833333\n",
       "Granite Carabiner                  19251.118812\n",
       "Granite Chalk Bag                   1208.537736\n",
       "Granite Pulley                      2419.876190\n",
       "Hibernator                          5596.428571\n",
       "Hibernator Camp Cot                 1460.000000\n",
       "Hibernator Extreme                  1434.811429\n",
       "Hibernator Lite                     2787.983333\n",
       "Hibernator Pad                      2461.069620\n",
       "Hibernator Pillow                   2156.099338\n",
       "Hibernator Self - Inflating Mat     1443.000000\n",
       "Insect Bite Relief                   995.704819\n",
       "TrailChef Canteen                   4598.680952\n",
       "TrailChef Cook Set                  3732.935780\n",
       "TrailChef Cup                       9152.136364\n",
       "TrailChef Deluxe Cook Set           2182.101010\n",
       "TrailChef Double Flame              1180.572115\n",
       "TrailChef Kettle                   12108.549223\n",
       "TrailChef Kitchen Kit               4585.550265\n",
       "TrailChef Single Flame              3222.971831\n",
       "TrailChef Utensils                  4390.904762\n",
       "TrailChef Water Bag                19948.277778\n",
       "Name: Quantity, dtype: float64"
      ]
     },
     "execution_count": 4,
     "metadata": {},
     "output_type": "execute_result"
    }
   ],
   "source": [
    "## Computing the average price by product\n",
    "sales.groupby('Product')['Quantity'].mean()"
   ]
  },
  {
   "cell_type": "code",
   "execution_count": 5,
   "id": "f27992ce-da4b-460a-8e9c-5318f8f802fc",
   "metadata": {},
   "outputs": [
    {
     "data": {
      "text/plain": [
       "Telephone      2547\n",
       "Web            2547\n",
       "Special        2547\n",
       "Mail           2547\n",
       "E-mail         2547\n",
       "Fax            2547\n",
       "Sales visit    2541\n",
       "Name: Order method type, dtype: int64"
      ]
     },
     "execution_count": 5,
     "metadata": {},
     "output_type": "execute_result"
    }
   ],
   "source": [
    "## Method type\n",
    "sales['Order method type'].value_counts()"
   ]
  },
  {
   "cell_type": "code",
   "execution_count": 6,
   "id": "479fccb3-596d-4405-90f1-09b96dbb4df1",
   "metadata": {},
   "outputs": [
    {
     "data": {
      "text/plain": [
       "Product\n",
       "Aloe Relief                          430621.58\n",
       "BugShield Extreme                  10501970.95\n",
       "BugShield Lotion                    3243762.97\n",
       "BugShield Lotion Lite               1786866.52\n",
       "BugShield Natural                   4522549.50\n",
       "BugShield Spray                     2771923.32\n",
       "Calamine Relief                      346881.06\n",
       "Compact Relief Kit                  2205323.06\n",
       "Course Pro Gloves                   4621161.67\n",
       "Course Pro Golf Bag                10509106.96\n",
       "Course Pro Golf and Tee Set         5052264.98\n",
       "Course Pro Umbrella                 4655034.55\n",
       "Deluxe Family Relief Kit            2040513.45\n",
       "Firefly Charger                     5746391.78\n",
       "Firefly Climbing Lamp               2062131.59\n",
       "Firefly Rechargeable Battery        3847773.43\n",
       "Granite Belay                       5239857.13\n",
       "Granite Carabiner                   3578264.20\n",
       "Granite Chalk Bag                   1193395.93\n",
       "Granite Pulley                      4723246.67\n",
       "Hibernator                          4007460.99\n",
       "Hibernator Camp Cot                 8247605.24\n",
       "Hibernator Extreme                 25093379.13\n",
       "Hibernator Lite                    12442031.09\n",
       "Hibernator Pad                      6280309.86\n",
       "Hibernator Pillow                   2545730.10\n",
       "Hibernator Self - Inflating Mat    18192996.57\n",
       "Insect Bite Relief                   527099.46\n",
       "TrailChef Canteen                   4725613.87\n",
       "TrailChef Cook Set                 12878820.69\n",
       "TrailChef Cup                       4157413.39\n",
       "TrailChef Deluxe Cook Set          17667348.61\n",
       "TrailChef Double Flame             15894249.84\n",
       "TrailChef Kettle                   13994981.90\n",
       "TrailChef Kitchen Kit               5927386.83\n",
       "TrailChef Single Flame             11350274.22\n",
       "TrailChef Utensils                  7346612.23\n",
       "TrailChef Water Bag                11765136.08\n",
       "Name: Gross profit, dtype: float64"
      ]
     },
     "execution_count": 6,
     "metadata": {},
     "output_type": "execute_result"
    }
   ],
   "source": [
    "## Total gross profit by product\n",
    "sales.groupby('Product')['Gross profit'].sum()"
   ]
  }
 ],
 "metadata": {
  "kernelspec": {
   "display_name": "Python 3 (ipykernel)",
   "language": "python",
   "name": "python3"
  },
  "language_info": {
   "codemirror_mode": {
    "name": "ipython",
    "version": 3
   },
   "file_extension": ".py",
   "mimetype": "text/x-python",
   "name": "python",
   "nbconvert_exporter": "python",
   "pygments_lexer": "ipython3",
   "version": "3.9.7"
  }
 },
 "nbformat": 4,
 "nbformat_minor": 5
}
