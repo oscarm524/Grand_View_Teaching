{
 "cells": [
  {
   "cell_type": "code",
   "execution_count": 1,
   "id": "3f6cd917",
   "metadata": {},
   "outputs": [
    {
     "data": {
      "text/html": [
       "<div>\n",
       "<style scoped>\n",
       "    .dataframe tbody tr th:only-of-type {\n",
       "        vertical-align: middle;\n",
       "    }\n",
       "\n",
       "    .dataframe tbody tr th {\n",
       "        vertical-align: top;\n",
       "    }\n",
       "\n",
       "    .dataframe thead th {\n",
       "        text-align: right;\n",
       "    }\n",
       "</style>\n",
       "<table border=\"1\" class=\"dataframe\">\n",
       "  <thead>\n",
       "    <tr style=\"text-align: right;\">\n",
       "      <th></th>\n",
       "      <th>spend</th>\n",
       "      <th>interactions</th>\n",
       "    </tr>\n",
       "  </thead>\n",
       "  <tbody>\n",
       "    <tr>\n",
       "      <th>0</th>\n",
       "      <td>5818</td>\n",
       "      <td>23</td>\n",
       "    </tr>\n",
       "    <tr>\n",
       "      <th>1</th>\n",
       "      <td>6255</td>\n",
       "      <td>15</td>\n",
       "    </tr>\n",
       "    <tr>\n",
       "      <th>2</th>\n",
       "      <td>6139</td>\n",
       "      <td>15</td>\n",
       "    </tr>\n",
       "    <tr>\n",
       "      <th>3</th>\n",
       "      <td>6070</td>\n",
       "      <td>19</td>\n",
       "    </tr>\n",
       "    <tr>\n",
       "      <th>4</th>\n",
       "      <td>4837</td>\n",
       "      <td>24</td>\n",
       "    </tr>\n",
       "  </tbody>\n",
       "</table>\n",
       "</div>"
      ],
      "text/plain": [
       "   spend  interactions\n",
       "0   5818            23\n",
       "1   6255            15\n",
       "2   6139            15\n",
       "3   6070            19\n",
       "4   4837            24"
      ]
     },
     "execution_count": 1,
     "metadata": {},
     "output_type": "execute_result"
    }
   ],
   "source": [
    "import pandas as pd\n",
    "\n",
    "## Reading the csv file \n",
    "interactions = pd.read_csv('customer_interactions.csv')\n",
    "interactions.head()"
   ]
  },
  {
   "cell_type": "code",
   "execution_count": 2,
   "id": "d7163fd6",
   "metadata": {},
   "outputs": [
    {
     "data": {
      "text/html": [
       "<div>\n",
       "<style scoped>\n",
       "    .dataframe tbody tr th:only-of-type {\n",
       "        vertical-align: middle;\n",
       "    }\n",
       "\n",
       "    .dataframe tbody tr th {\n",
       "        vertical-align: top;\n",
       "    }\n",
       "\n",
       "    .dataframe thead th {\n",
       "        text-align: right;\n",
       "    }\n",
       "</style>\n",
       "<table border=\"1\" class=\"dataframe\">\n",
       "  <thead>\n",
       "    <tr style=\"text-align: right;\">\n",
       "      <th></th>\n",
       "      <th>spend</th>\n",
       "      <th>interactions</th>\n",
       "      <th>z_spend</th>\n",
       "      <th>z_interactions</th>\n",
       "    </tr>\n",
       "  </thead>\n",
       "  <tbody>\n",
       "    <tr>\n",
       "      <th>0</th>\n",
       "      <td>5818</td>\n",
       "      <td>23</td>\n",
       "      <td>0.923351</td>\n",
       "      <td>0.647282</td>\n",
       "    </tr>\n",
       "    <tr>\n",
       "      <th>1</th>\n",
       "      <td>6255</td>\n",
       "      <td>15</td>\n",
       "      <td>1.145958</td>\n",
       "      <td>-0.809740</td>\n",
       "    </tr>\n",
       "    <tr>\n",
       "      <th>2</th>\n",
       "      <td>6139</td>\n",
       "      <td>15</td>\n",
       "      <td>1.086868</td>\n",
       "      <td>-0.809740</td>\n",
       "    </tr>\n",
       "    <tr>\n",
       "      <th>3</th>\n",
       "      <td>6070</td>\n",
       "      <td>19</td>\n",
       "      <td>1.051719</td>\n",
       "      <td>-0.081229</td>\n",
       "    </tr>\n",
       "    <tr>\n",
       "      <th>4</th>\n",
       "      <td>4837</td>\n",
       "      <td>24</td>\n",
       "      <td>0.423632</td>\n",
       "      <td>0.829410</td>\n",
       "    </tr>\n",
       "  </tbody>\n",
       "</table>\n",
       "</div>"
      ],
      "text/plain": [
       "   spend  interactions   z_spend  z_interactions\n",
       "0   5818            23  0.923351        0.647282\n",
       "1   6255            15  1.145958       -0.809740\n",
       "2   6139            15  1.086868       -0.809740\n",
       "3   6070            19  1.051719       -0.081229\n",
       "4   4837            24  0.423632        0.829410"
      ]
     },
     "execution_count": 2,
     "metadata": {},
     "output_type": "execute_result"
    }
   ],
   "source": [
    "## Computing z-scores\n",
    "interactions['z_spend'] = (interactions['spend'] - interactions['spend'].mean())/ interactions['spend'].std()\n",
    "interactions['z_interactions'] = (interactions['interactions'] - interactions['interactions'].mean())/ interactions['interactions'].std()\n",
    "interactions.head()"
   ]
  },
  {
   "cell_type": "code",
   "execution_count": 3,
   "id": "d7a7f57e",
   "metadata": {},
   "outputs": [
    {
     "data": {
      "text/html": [
       "<div>\n",
       "<style scoped>\n",
       "    .dataframe tbody tr th:only-of-type {\n",
       "        vertical-align: middle;\n",
       "    }\n",
       "\n",
       "    .dataframe tbody tr th {\n",
       "        vertical-align: top;\n",
       "    }\n",
       "\n",
       "    .dataframe thead th {\n",
       "        text-align: right;\n",
       "    }\n",
       "</style>\n",
       "<table border=\"1\" class=\"dataframe\">\n",
       "  <thead>\n",
       "    <tr style=\"text-align: right;\">\n",
       "      <th></th>\n",
       "      <th>spend</th>\n",
       "      <th>interactions</th>\n",
       "      <th>z_spend</th>\n",
       "      <th>z_interactions</th>\n",
       "      <th>cluster</th>\n",
       "    </tr>\n",
       "  </thead>\n",
       "  <tbody>\n",
       "    <tr>\n",
       "      <th>0</th>\n",
       "      <td>5818</td>\n",
       "      <td>23</td>\n",
       "      <td>0.923351</td>\n",
       "      <td>0.647282</td>\n",
       "      <td>0</td>\n",
       "    </tr>\n",
       "    <tr>\n",
       "      <th>1</th>\n",
       "      <td>6255</td>\n",
       "      <td>15</td>\n",
       "      <td>1.145958</td>\n",
       "      <td>-0.809740</td>\n",
       "      <td>3</td>\n",
       "    </tr>\n",
       "    <tr>\n",
       "      <th>2</th>\n",
       "      <td>6139</td>\n",
       "      <td>15</td>\n",
       "      <td>1.086868</td>\n",
       "      <td>-0.809740</td>\n",
       "      <td>3</td>\n",
       "    </tr>\n",
       "    <tr>\n",
       "      <th>3</th>\n",
       "      <td>6070</td>\n",
       "      <td>19</td>\n",
       "      <td>1.051719</td>\n",
       "      <td>-0.081229</td>\n",
       "      <td>3</td>\n",
       "    </tr>\n",
       "    <tr>\n",
       "      <th>4</th>\n",
       "      <td>4837</td>\n",
       "      <td>24</td>\n",
       "      <td>0.423632</td>\n",
       "      <td>0.829410</td>\n",
       "      <td>0</td>\n",
       "    </tr>\n",
       "  </tbody>\n",
       "</table>\n",
       "</div>"
      ],
      "text/plain": [
       "   spend  interactions   z_spend  z_interactions  cluster\n",
       "0   5818            23  0.923351        0.647282        0\n",
       "1   6255            15  1.145958       -0.809740        3\n",
       "2   6139            15  1.086868       -0.809740        3\n",
       "3   6070            19  1.051719       -0.081229        3\n",
       "4   4837            24  0.423632        0.829410        0"
      ]
     },
     "execution_count": 3,
     "metadata": {},
     "output_type": "execute_result"
    }
   ],
   "source": [
    "from sklearn.cluster import KMeans\n",
    "\n",
    "## Defining the model\n",
    "four_clusters = KMeans(n_clusters = 4, n_init = 20)\n",
    "\n",
    "## Applying k-means to the data \n",
    "interactions_clusters = four_clusters.fit(interactions[['z_spend', 'z_interactions']])\n",
    "\n",
    "## Appending cluster number\n",
    "interactions['cluster'] = interactions_clusters.labels_\n",
    "interactions.head()"
   ]
  },
  {
   "cell_type": "code",
   "execution_count": 4,
   "id": "c9627c6a",
   "metadata": {},
   "outputs": [
    {
     "data": {
      "image/png": "[encoded data removed]",
      "text/plain": [
       "<Figure size 432x288 with 1 Axes>"
      ]
     },
     "metadata": {
      "needs_background": "light"
     },
     "output_type": "display_data"
    }
   ],
   "source": [
    "import matplotlib.pyplot as plt\n",
    "\n",
    "## Visualizing data with cluster \n",
    "colors = ['black', 'red', 'green', 'blue']\n",
    "\n",
    "for c in interactions['cluster'].unique():\n",
    "    temp = interactions[interactions.cluster == c]\n",
    "    plt.scatter(temp['interactions'], temp['spend'], color = colors[c])"
   ]
  },
  {
   "cell_type": "code",
   "execution_count": 5,
   "id": "a18bd586",
   "metadata": {},
   "outputs": [
    {
     "data": {
      "image/png": "[encoded data removed]",
      "text/plain": [
       "<Figure size 432x288 with 1 Axes>"
      ]
     },
     "metadata": {
      "needs_background": "light"
     },
     "output_type": "display_data"
    }
   ],
   "source": [
    "## Importing hierachical clustering \n",
    "import scipy.cluster.hierarchy as sch\n",
    "\n",
    "dend = sch.dendrogram(sch.linkage(interactions[['z_spend', 'z_interactions']], \n",
    "                                  method = 'average'))\n",
    "plt.show()"
   ]
  }
 ],
 "metadata": {
  "kernelspec": {
   "display_name": "conda_python3",
   "language": "python",
   "name": "conda_python3"
  },
  "language_info": {
   "codemirror_mode": {
    "name": "ipython",
    "version": 3
   },
   "file_extension": ".py",
   "mimetype": "text/x-python",
   "name": "python",
   "nbconvert_exporter": "python",
   "pygments_lexer": "ipython3",
   "version": "3.6.13"
  }
 },
 "nbformat": 4,
 "nbformat_minor": 5
}
