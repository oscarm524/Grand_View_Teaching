{
 "cells": [
  {
   "cell_type": "code",
   "execution_count": 1,
   "id": "25302a03-c5c9-4696-9aa5-9e6d5d8b6726",
   "metadata": {},
   "outputs": [
    {
     "data": {
      "text/html": [
       "<div>\n",
       "<style scoped>\n",
       "    .dataframe tbody tr th:only-of-type {\n",
       "        vertical-align: middle;\n",
       "    }\n",
       "\n",
       "    .dataframe tbody tr th {\n",
       "        vertical-align: top;\n",
       "    }\n",
       "\n",
       "    .dataframe thead th {\n",
       "        text-align: right;\n",
       "    }\n",
       "</style>\n",
       "<table border=\"1\" class=\"dataframe\">\n",
       "  <thead>\n",
       "    <tr style=\"text-align: right;\">\n",
       "      <th></th>\n",
       "      <th>male</th>\n",
       "      <th>age</th>\n",
       "      <th>education</th>\n",
       "      <th>currentSmoker</th>\n",
       "      <th>cigsPerDay</th>\n",
       "      <th>BPMeds</th>\n",
       "      <th>prevalentStroke</th>\n",
       "      <th>prevalentHyp</th>\n",
       "      <th>diabetes</th>\n",
       "      <th>totChol</th>\n",
       "      <th>sysBP</th>\n",
       "      <th>diaBP</th>\n",
       "      <th>BMI</th>\n",
       "      <th>heartRate</th>\n",
       "      <th>glucose</th>\n",
       "      <th>TenYearCHD</th>\n",
       "    </tr>\n",
       "  </thead>\n",
       "  <tbody>\n",
       "    <tr>\n",
       "      <th>0</th>\n",
       "      <td>1</td>\n",
       "      <td>39</td>\n",
       "      <td>4.0</td>\n",
       "      <td>0</td>\n",
       "      <td>0.0</td>\n",
       "      <td>0.0</td>\n",
       "      <td>0</td>\n",
       "      <td>0</td>\n",
       "      <td>0</td>\n",
       "      <td>195.0</td>\n",
       "      <td>106.0</td>\n",
       "      <td>70.0</td>\n",
       "      <td>26.97</td>\n",
       "      <td>80.0</td>\n",
       "      <td>77.0</td>\n",
       "      <td>0</td>\n",
       "    </tr>\n",
       "    <tr>\n",
       "      <th>1</th>\n",
       "      <td>0</td>\n",
       "      <td>46</td>\n",
       "      <td>2.0</td>\n",
       "      <td>0</td>\n",
       "      <td>0.0</td>\n",
       "      <td>0.0</td>\n",
       "      <td>0</td>\n",
       "      <td>0</td>\n",
       "      <td>0</td>\n",
       "      <td>250.0</td>\n",
       "      <td>121.0</td>\n",
       "      <td>81.0</td>\n",
       "      <td>28.73</td>\n",
       "      <td>95.0</td>\n",
       "      <td>76.0</td>\n",
       "      <td>0</td>\n",
       "    </tr>\n",
       "    <tr>\n",
       "      <th>2</th>\n",
       "      <td>1</td>\n",
       "      <td>48</td>\n",
       "      <td>1.0</td>\n",
       "      <td>1</td>\n",
       "      <td>20.0</td>\n",
       "      <td>0.0</td>\n",
       "      <td>0</td>\n",
       "      <td>0</td>\n",
       "      <td>0</td>\n",
       "      <td>245.0</td>\n",
       "      <td>127.5</td>\n",
       "      <td>80.0</td>\n",
       "      <td>25.34</td>\n",
       "      <td>75.0</td>\n",
       "      <td>70.0</td>\n",
       "      <td>0</td>\n",
       "    </tr>\n",
       "    <tr>\n",
       "      <th>3</th>\n",
       "      <td>0</td>\n",
       "      <td>61</td>\n",
       "      <td>3.0</td>\n",
       "      <td>1</td>\n",
       "      <td>30.0</td>\n",
       "      <td>0.0</td>\n",
       "      <td>0</td>\n",
       "      <td>1</td>\n",
       "      <td>0</td>\n",
       "      <td>225.0</td>\n",
       "      <td>150.0</td>\n",
       "      <td>95.0</td>\n",
       "      <td>28.58</td>\n",
       "      <td>65.0</td>\n",
       "      <td>103.0</td>\n",
       "      <td>1</td>\n",
       "    </tr>\n",
       "    <tr>\n",
       "      <th>4</th>\n",
       "      <td>0</td>\n",
       "      <td>46</td>\n",
       "      <td>3.0</td>\n",
       "      <td>1</td>\n",
       "      <td>23.0</td>\n",
       "      <td>0.0</td>\n",
       "      <td>0</td>\n",
       "      <td>0</td>\n",
       "      <td>0</td>\n",
       "      <td>285.0</td>\n",
       "      <td>130.0</td>\n",
       "      <td>84.0</td>\n",
       "      <td>23.10</td>\n",
       "      <td>85.0</td>\n",
       "      <td>85.0</td>\n",
       "      <td>0</td>\n",
       "    </tr>\n",
       "  </tbody>\n",
       "</table>\n",
       "</div>"
      ],
      "text/plain": [
       "   male  age  education  currentSmoker  cigsPerDay  BPMeds  prevalentStroke  \\\n",
       "0     1   39        4.0              0         0.0     0.0                0   \n",
       "1     0   46        2.0              0         0.0     0.0                0   \n",
       "2     1   48        1.0              1        20.0     0.0                0   \n",
       "3     0   61        3.0              1        30.0     0.0                0   \n",
       "4     0   46        3.0              1        23.0     0.0                0   \n",
       "\n",
       "   prevalentHyp  diabetes  totChol  sysBP  diaBP    BMI  heartRate  glucose  \\\n",
       "0             0         0    195.0  106.0   70.0  26.97       80.0     77.0   \n",
       "1             0         0    250.0  121.0   81.0  28.73       95.0     76.0   \n",
       "2             0         0    245.0  127.5   80.0  25.34       75.0     70.0   \n",
       "3             1         0    225.0  150.0   95.0  28.58       65.0    103.0   \n",
       "4             0         0    285.0  130.0   84.0  23.10       85.0     85.0   \n",
       "\n",
       "   TenYearCHD  \n",
       "0           0  \n",
       "1           0  \n",
       "2           0  \n",
       "3           1  \n",
       "4           0  "
      ]
     },
     "execution_count": 1,
     "metadata": {},
     "output_type": "execute_result"
    }
   ],
   "source": [
    "import pandas as pd \n",
    "import numpy as np\n",
    "\n",
    "from tqdm.notebook import tqdm\n",
    "\n",
    "from sklearn.model_selection import train_test_split\n",
    "from sklearn.ensemble import RandomForestClassifier, ExtraTreesClassifier\n",
    "from sklearn.metrics import recall_score\n",
    "\n",
    "heart = pd.read_csv('framingham.csv')\n",
    "heart = heart.dropna()\n",
    "heart.head()"
   ]
  },
  {
   "cell_type": "code",
   "execution_count": 2,
   "id": "ad32c2b7-9e4d-479f-9618-112156144450",
   "metadata": {},
   "outputs": [],
   "source": [
    "X = heart.drop(columns = 'TenYearCHD', axis = 1)\n",
    "Y = heart['TenYearCHD']\n",
    "\n",
    "X_train, X_test, Y_train, Y_test = train_test_split(X, Y, test_size = 0.2, stratify = Y)"
   ]
  },
  {
   "cell_type": "markdown",
   "id": "8e8b5bfd-6ddf-4b45-97af-cefc124036b3",
   "metadata": {},
   "source": [
    "# Random Forest"
   ]
  },
  {
   "cell_type": "code",
   "execution_count": 3,
   "id": "96b62b0f-b172-4f2d-bed3-4247863b6da4",
   "metadata": {},
   "outputs": [
    {
     "data": {
      "application/vnd.jupyter.widget-view+json": {
       "model_id": "e7f2a680f68d4cadbc1ed0def207e2fb",
       "version_major": 2,
       "version_minor": 0
      },
      "text/plain": [
       "  0%|          | 0/100 [00:00<?, ?it/s]"
      ]
     },
     "metadata": {},
     "output_type": "display_data"
    },
    {
     "data": {
      "text/plain": [
       "sysBP              0.185250\n",
       "age                0.183328\n",
       "diaBP              0.132468\n",
       "glucose            0.114284\n",
       "BMI                0.078963\n",
       "totChol            0.066077\n",
       "prevalentHyp       0.065683\n",
       "heartRate          0.045348\n",
       "cigsPerDay         0.041303\n",
       "male               0.026444\n",
       "education          0.020449\n",
       "diabetes           0.016007\n",
       "BPMeds             0.011925\n",
       "currentSmoker      0.007582\n",
       "prevalentStroke    0.004890\n",
       "dtype: float64"
      ]
     },
     "execution_count": 3,
     "metadata": {},
     "output_type": "execute_result"
    }
   ],
   "source": [
    "RF_imp = list()\n",
    "\n",
    "for i in tqdm(range(0, 100)):\n",
    "\n",
    "    X_train_1, X_val, Y_train_1, Y_val = train_test_split(X_train, Y_train, test_size = 0.2, stratify = Y_train)\n",
    "\n",
    "    RF_md = RandomForestClassifier(n_estimators = 500,\n",
    "                                   max_depth = 5).fit(X_train_1, Y_train_1)\n",
    "\n",
    "    RF_imp.append(RF_md.feature_importances_)\n",
    "\n",
    "RF_imp = pd.DataFrame(RF_imp, columns = X.columns.tolist())\n",
    "RF_imp = RF_imp.apply(np.mean, axis = 0).sort_values(ascending = False)\n",
    "RF_imp"
   ]
  },
  {
   "cell_type": "code",
   "execution_count": 4,
   "id": "a3833bf6-7a5d-4be4-8884-b8a035c94ece",
   "metadata": {},
   "outputs": [
    {
     "name": "stdout",
     "output_type": "stream",
     "text": [
      "The recall of the RF model is 0.8125\n"
     ]
    }
   ],
   "source": [
    "to_select = ['sysBP', 'age', 'diaBP', 'glucose', 'BMI']\n",
    "\n",
    "RF_md = RandomForestClassifier(n_estimators = 500,\n",
    "                                   max_depth = 5).fit(X_train[to_select], Y_train)\n",
    "\n",
    "RF_pred = RF_md.predict_proba(X_test[to_select])[:, 1]\n",
    "RF_label = np.where(RF_pred < 0.1, 0, 1)\n",
    "\n",
    "print(f\"The recall of the RF model is {recall_score(Y_test, RF_label)}\")"
   ]
  },
  {
   "cell_type": "markdown",
   "id": "6ac6e0bd-cee4-411c-bf47-32fa90552429",
   "metadata": {},
   "source": [
    "# Extra Trees"
   ]
  },
  {
   "cell_type": "code",
   "execution_count": 5,
   "id": "62c42ac8-b028-4eb0-be96-35cf7fa62eb4",
   "metadata": {},
   "outputs": [
    {
     "data": {
      "application/vnd.jupyter.widget-view+json": {
       "model_id": "7206597367284d64ab54c35a2afd74af",
       "version_major": 2,
       "version_minor": 0
      },
      "text/plain": [
       "  0%|          | 0/100 [00:00<?, ?it/s]"
      ]
     },
     "metadata": {},
     "output_type": "display_data"
    },
    {
     "data": {
      "text/plain": [
       "prevalentHyp       0.233188\n",
       "age                0.180893\n",
       "sysBP              0.126073\n",
       "diaBP              0.085486\n",
       "glucose            0.072904\n",
       "male               0.060777\n",
       "diabetes           0.057644\n",
       "BPMeds             0.039570\n",
       "BMI                0.028601\n",
       "cigsPerDay         0.024245\n",
       "totChol            0.023216\n",
       "education          0.023079\n",
       "heartRate          0.016313\n",
       "currentSmoker      0.014363\n",
       "prevalentStroke    0.013647\n",
       "dtype: float64"
      ]
     },
     "execution_count": 5,
     "metadata": {},
     "output_type": "execute_result"
    }
   ],
   "source": [
    "ET_imp = list()\n",
    "\n",
    "for i in tqdm(range(0, 100)):\n",
    "\n",
    "    X_train_1, X_val, Y_train_1, Y_val = train_test_split(X_train, Y_train, test_size = 0.2, stratify = Y_train)\n",
    "\n",
    "    ET_md = ExtraTreesClassifier(n_estimators = 500,\n",
    "                                 max_depth = 5).fit(X_train_1, Y_train_1)\n",
    "\n",
    "    ET_imp.append(ET_md.feature_importances_)\n",
    "\n",
    "ET_imp = pd.DataFrame(ET_imp, columns = X.columns.tolist())\n",
    "ET_imp = ET_imp.apply(np.mean, axis = 0).sort_values(ascending = False)\n",
    "ET_imp"
   ]
  },
  {
   "cell_type": "code",
   "execution_count": 6,
   "id": "a04b4026-2f49-4400-8d31-26444aa25a75",
   "metadata": {},
   "outputs": [
    {
     "name": "stdout",
     "output_type": "stream",
     "text": [
      "The recall of the ET model is 0.8392857142857143\n"
     ]
    }
   ],
   "source": [
    "to_select = ['prevalentHyp', 'age', 'sysBP', 'diaBP', 'glucose']\n",
    "\n",
    "ET_md = ExtraTreesClassifier(n_estimators = 500,\n",
    "                             max_depth = 5).fit(X_train[to_select], Y_train)\n",
    "\n",
    "ET_pred = ET_md.predict_proba(X_test[to_select])[:, 1]\n",
    "ET_label = np.where(ET_pred < 0.1, 0, 1)\n",
    "\n",
    "print(f\"The recall of the ET model is {recall_score(Y_test, ET_label)}\")"
   ]
  },
  {
   "cell_type": "code",
   "execution_count": 7,
   "id": "8efda556-bdcb-478f-aaa1-42f0b9fc7383",
   "metadata": {},
   "outputs": [],
   "source": [
    "# From the above results, I would use Extra Trees to predict TenYearCHD"
   ]
  }
 ],
 "metadata": {
  "kernelspec": {
   "display_name": "Python 3 (ipykernel)",
   "language": "python",
   "name": "python3"
  },
  "language_info": {
   "codemirror_mode": {
    "name": "ipython",
    "version": 3
   },
   "file_extension": ".py",
   "mimetype": "text/x-python",
   "name": "python",
   "nbconvert_exporter": "python",
   "pygments_lexer": "ipython3",
   "version": "3.8.16"
  }
 },
 "nbformat": 4,
 "nbformat_minor": 5
}
