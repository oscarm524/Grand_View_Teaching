{
 "cells": [
  {
   "cell_type": "code",
   "execution_count": null,
   "id": "ed4a0bc4",
   "metadata": {},
   "outputs": [],
   "source": [
    "import pandas as pd\n",
    "import numpy as np\n",
    "from sklearn.preprocessing import StandardScaler\n",
    "from sklearn.utils import shuffle\n",
    "import matplotlib.pyplot as plt\n",
    "\n",
    "## setting the seed \n",
    "np.random.seed(805)\n",
    "\n",
    "numb_samples = 1000\n",
    "numb_obs = int(numb_samples / 4)\n",
    "\n",
    "## Defining X and Y \n",
    "X = np.zeros((numb_samples, 2))\n",
    "Y = np.zeros((numb_samples, ))\n",
    "\n",
    "X[0:numb_obs, :] = np.random.multivariate_normal([1.0, -1.0], np.diag([0.1, 0.1]), size = numb_obs)\n",
    "Y[0:numb_obs] = 0\n",
    "\n",
    "X[numb_obs:(2*numb_obs), :] = np.random.multivariate_normal([1.0, 1.0], np.diag([0.1, 0.1]), size = numb_obs)\n",
    "Y[numb_obs:(2*numb_obs)] = 1\n",
    "\n",
    "X[(2*numb_obs):(3*numb_obs), :] = np.random.multivariate_normal([-1.0, 1.0], np.diag([0.1, 0.1]), size = numb_obs)\n",
    "Y[(2*numb_obs):(3*numb_obs)] = 0\n",
    "\n",
    "X[(3*numb_obs):, :] = np.random.multivariate_normal([-1.0, -1.0], np.diag([0.1, 0.1]), size = numb_obs)\n",
    "Y[(3*numb_obs):] = 1\n",
    "\n",
    "## Standardizing X\n",
    "scaler = StandardScaler()\n",
    "X = scaler.fit_transform(X)\n",
    "\n",
    "X, Y = shuffle(X, Y, random_state = 805)\n",
    "data = pd.DataFrame({'X_0': X[:, 0], 'X_1': X[:, 1], 'Y': Y})\n",
    "data['Y'] = data['Y'].astype(int)\n",
    "\n",
    "fig = plt.figure(figsize = (12, 8))\n",
    "\n",
    "colors = ['lightblue', 'orange']\n",
    "\n",
    "for i in data['Y'].unique():\n",
    "\n",
    "    temp = data[data['Y'] == i]\n",
    "    plt.scatter(temp['X_0'], temp['X_1'], color = colors[i])\n",
    "\n",
    "params = {'mathtext.default': 'regular' }          \n",
    "plt.rcParams.update(params)\n",
    "plt.xlabel('$X_0$')\n",
    "plt.ylabel('$X_1$')\n",
    "plt.grid()\n",
    "plt.legend(loc = 'lower left', labels = ['Class 0', 'Class 1'])\n",
    "plt.show()\n",
    "\n",
    "# fig.savefig('chapter5_plot1.pdf')"
   ]
  },
  {
   "cell_type": "code",
   "execution_count": null,
   "id": "d832632a",
   "metadata": {},
   "outputs": [],
   "source": [
    "from sklearn.linear_model import Perceptron\n",
    "from sklearn.model_selection import train_test_split\n",
    "from sklearn.metrics import accuracy_score\n",
    "\n",
    "perceptron = Perceptron(penalty = 'l2', alpha = 0.1, random_state = 1205)\n",
    "\n",
    "## Splitting data into training a testing\n",
    "X_train, X_test, Y_train, Y_test = train_test_split(X, Y, test_size = 0.2, shuffle = True)\n",
    "\n",
    "## Fitting perceptron on training dataset\n",
    "perceptron_train = perceptron.fit(X_train, Y_train)\n",
    "\n",
    "## Predicting on the test dataset\n",
    "preds = perceptron_train.predict(X_test)\n",
    "\n",
    "## Computing accuracy\n",
    "accuracy_score(Y_test, preds)"
   ]
  },
  {
   "cell_type": "code",
   "execution_count": null,
   "id": "de60a08e",
   "metadata": {},
   "outputs": [],
   "source": [
    "import numpy as np\n",
    "import matplotlib.pyplot as plt\n",
    "\n",
    "x = np.linspace(-10, 10, 100)\n",
    "y_sigmoid = 1 / (1 + np.exp(-x))\n",
    "y_hyperbolic = (np.exp(x) - np.exp(-x)) / (np.exp(x) + np.exp(-x))\n",
    "\n",
    "fig, axs = plt.subplots(1, 2, figsize = (12, 7))\n",
    "axs[0].plot(x, y_sigmoid)\n",
    "axs[0].set_xlabel('x')\n",
    "axs[0].set_title('Sigmoid')\n",
    "axs[0].grid()\n",
    "\n",
    "axs[1].plot(x, y_hyperbolic)\n",
    "axs[1].set_xlabel('x')\n",
    "axs[1].set_title('Hyperbolic Tangent')\n",
    "axs[1].grid()\n",
    "\n",
    "fig.savefig('chapter5_plot2.pdf')"
   ]
  },
  {
   "cell_type": "code",
   "execution_count": null,
   "id": "ee83e2e4",
   "metadata": {},
   "outputs": [],
   "source": [
    "import numpy as np\n",
    "import matplotlib.pyplot as plt\n",
    "\n",
    "alpha = 0.1\n",
    "x = np.linspace(-10, 10, 100)\n",
    "y_relu = np.where(x < 0, 0, x)\n",
    "y_leakyrelu = np.where(x > 0, x, alpha*x)\n",
    "y_elu = np.where(x > 0, x, alpha*(np.exp(x) - 1))\n",
    "y_swish = x / (1 + np.exp(-x))\n",
    "\n",
    "fig, axs = plt.subplots(2, 2, figsize = (12, 10))\n",
    "axs[0, 0].plot(x, y_relu)\n",
    "axs[0, 0].set_xlabel('x')\n",
    "axs[0, 0].set_title('ReLU')\n",
    "axs[0, 0].grid()\n",
    "\n",
    "axs[0, 1].plot(x, y_leakyrelu)\n",
    "axs[0, 1].set_xlabel('x')\n",
    "axs[0, 1].set_title('Leaky ReLU')\n",
    "axs[0, 1].grid()\n",
    "\n",
    "axs[1, 0].plot(x, y_elu)\n",
    "axs[1, 0].set_xlabel('x')\n",
    "axs[1, 0].set_title('ELU')\n",
    "axs[1, 0].grid()\n",
    "\n",
    "axs[1, 1].plot(x, y_swish)\n",
    "axs[1, 1].set_xlabel('x')\n",
    "axs[1, 1].set_title('Swish')\n",
    "axs[1, 1].grid()\n",
    "\n",
    "# fig.savefig('chapter5_plot3.pdf')"
   ]
  },
  {
   "cell_type": "code",
   "execution_count": null,
   "id": "b1693b44",
   "metadata": {},
   "outputs": [],
   "source": [
    "pip install \"tensorflow>=2.0.0\""
   ]
  },
  {
   "cell_type": "code",
   "execution_count": 5,
   "id": "68796e6a",
   "metadata": {},
   "outputs": [],
   "source": [
    "import tensorflow as tf\n",
    "from sklearn.model_selection import train_test_split\n",
    "from sklearn.metrics import accuracy_score\n",
    "\n",
    "model = tf.keras.models.Sequential([\n",
    "        tf.keras.layers.Dense(4, input_dim = 2, activation = 'tanh'),\n",
    "        tf.keras.layers.Dense(2, activation = 'softmax')\n",
    "])\n",
    "\n",
    "model.compile(optimizer = 'adam', loss = 'categorical_crossentropy', metrics = ['accuracy'])\n",
    "\n",
    "## Splitting data into training a testing\n",
    "X_train, X_test, Y_train, Y_test = train_test_split(X, Y, test_size = 0.2, shuffle = True)"
   ]
  },
  {
   "cell_type": "code",
   "execution_count": 8,
   "id": "52eda99f",
   "metadata": {},
   "outputs": [
    {
     "data": {
      "text/plain": [
       "array([[-0.63460907,  0.7959659 ],\n",
       "       [-0.71280918, -1.04508916],\n",
       "       [ 0.90273405, -0.78363677],\n",
       "       ...,\n",
       "       [ 0.09558272,  1.05612547],\n",
       "       [-1.34829296,  0.49165538],\n",
       "       [-0.67238477, -1.30074103]])"
      ]
     },
     "execution_count": 8,
     "metadata": {},
     "output_type": "execute_result"
    }
   ],
   "source": [
    "X_train"
   ]
  }
 ],
 "metadata": {
  "kernelspec": {
   "display_name": "conda_python3",
   "language": "python",
   "name": "conda_python3"
  },
  "language_info": {
   "codemirror_mode": {
    "name": "ipython",
    "version": 3
   },
   "file_extension": ".py",
   "mimetype": "text/x-python",
   "name": "python",
   "nbconvert_exporter": "python",
   "pygments_lexer": "ipython3",
   "version": "3.6.13"
  }
 },
 "nbformat": 4,
 "nbformat_minor": 5
}
