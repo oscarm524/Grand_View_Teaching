{
 "cells": [
  {
   "cell_type": "code",
   "execution_count": 1,
   "id": "d9dffe71",
   "metadata": {},
   "outputs": [
    {
     "data": {
      "text/html": [
       "<div>\n",
       "<style scoped>\n",
       "    .dataframe tbody tr th:only-of-type {\n",
       "        vertical-align: middle;\n",
       "    }\n",
       "\n",
       "    .dataframe tbody tr th {\n",
       "        vertical-align: top;\n",
       "    }\n",
       "\n",
       "    .dataframe thead th {\n",
       "        text-align: right;\n",
       "    }\n",
       "</style>\n",
       "<table border=\"1\" class=\"dataframe\">\n",
       "  <thead>\n",
       "    <tr style=\"text-align: right;\">\n",
       "      <th></th>\n",
       "      <th>No</th>\n",
       "      <th>transaction_date</th>\n",
       "      <th>house_age</th>\n",
       "      <th>distance_to_the_nearest_MRT_station</th>\n",
       "      <th>number_of_convenience_stores</th>\n",
       "      <th>latitude</th>\n",
       "      <th>longitude</th>\n",
       "      <th>house_price_of_unit_area</th>\n",
       "    </tr>\n",
       "  </thead>\n",
       "  <tbody>\n",
       "    <tr>\n",
       "      <th>0</th>\n",
       "      <td>1</td>\n",
       "      <td>2012.917</td>\n",
       "      <td>32.0</td>\n",
       "      <td>84.87882</td>\n",
       "      <td>10</td>\n",
       "      <td>24.98298</td>\n",
       "      <td>121.54024</td>\n",
       "      <td>37.9</td>\n",
       "    </tr>\n",
       "    <tr>\n",
       "      <th>1</th>\n",
       "      <td>2</td>\n",
       "      <td>2012.917</td>\n",
       "      <td>19.5</td>\n",
       "      <td>306.59470</td>\n",
       "      <td>9</td>\n",
       "      <td>24.98034</td>\n",
       "      <td>121.53951</td>\n",
       "      <td>42.2</td>\n",
       "    </tr>\n",
       "    <tr>\n",
       "      <th>2</th>\n",
       "      <td>3</td>\n",
       "      <td>2013.583</td>\n",
       "      <td>13.3</td>\n",
       "      <td>561.98450</td>\n",
       "      <td>5</td>\n",
       "      <td>24.98746</td>\n",
       "      <td>121.54391</td>\n",
       "      <td>47.3</td>\n",
       "    </tr>\n",
       "    <tr>\n",
       "      <th>3</th>\n",
       "      <td>4</td>\n",
       "      <td>2013.500</td>\n",
       "      <td>13.3</td>\n",
       "      <td>561.98450</td>\n",
       "      <td>5</td>\n",
       "      <td>24.98746</td>\n",
       "      <td>121.54391</td>\n",
       "      <td>54.8</td>\n",
       "    </tr>\n",
       "    <tr>\n",
       "      <th>4</th>\n",
       "      <td>5</td>\n",
       "      <td>2012.833</td>\n",
       "      <td>5.0</td>\n",
       "      <td>390.56840</td>\n",
       "      <td>5</td>\n",
       "      <td>24.97937</td>\n",
       "      <td>121.54245</td>\n",
       "      <td>43.1</td>\n",
       "    </tr>\n",
       "  </tbody>\n",
       "</table>\n",
       "</div>"
      ],
      "text/plain": [
       "   No  transaction_date  house_age  distance_to_the_nearest_MRT_station  \\\n",
       "0   1          2012.917       32.0                             84.87882   \n",
       "1   2          2012.917       19.5                            306.59470   \n",
       "2   3          2013.583       13.3                            561.98450   \n",
       "3   4          2013.500       13.3                            561.98450   \n",
       "4   5          2012.833        5.0                            390.56840   \n",
       "\n",
       "   number_of_convenience_stores  latitude  longitude  house_price_of_unit_area  \n",
       "0                            10  24.98298  121.54024                      37.9  \n",
       "1                             9  24.98034  121.53951                      42.2  \n",
       "2                             5  24.98746  121.54391                      47.3  \n",
       "3                             5  24.98746  121.54391                      54.8  \n",
       "4                             5  24.97937  121.54245                      43.1  "
      ]
     },
     "execution_count": 1,
     "metadata": {},
     "output_type": "execute_result"
    }
   ],
   "source": [
    "import boto3\n",
    "import pandas as pd\n",
    "\n",
    "## Defining the bucket \n",
    "s3 = boto3.resource('s3')\n",
    "bucket_name = 'data-445'\n",
    "bucket = s3.Bucket(bucket_name)\n",
    "\n",
    "## Defining the csv file \n",
    "file_key = 'Fall_2021/In_Class_Assignments/Real_Estate.csv'\n",
    "\n",
    "bucket_object = bucket.Object(file_key)\n",
    "file_object = bucket_object.get()\n",
    "file_content_stream = file_object.get('Body')\n",
    "\n",
    "## Reading the csv file\n",
    "house_price = pd.read_csv(file_content_stream)\n",
    "house_price.head()"
   ]
  },
  {
   "cell_type": "code",
   "execution_count": 2,
   "id": "66ba6607",
   "metadata": {},
   "outputs": [
    {
     "data": {
      "text/html": [
       "<div>\n",
       "<style scoped>\n",
       "    .dataframe tbody tr th:only-of-type {\n",
       "        vertical-align: middle;\n",
       "    }\n",
       "\n",
       "    .dataframe tbody tr th {\n",
       "        vertical-align: top;\n",
       "    }\n",
       "\n",
       "    .dataframe thead th {\n",
       "        text-align: right;\n",
       "    }\n",
       "</style>\n",
       "<table border=\"1\" class=\"dataframe\">\n",
       "  <thead>\n",
       "    <tr style=\"text-align: right;\">\n",
       "      <th></th>\n",
       "      <th>transaction_date</th>\n",
       "      <th>house_age</th>\n",
       "      <th>distance_to_the_nearest_MRT_station</th>\n",
       "      <th>number_of_convenience_stores</th>\n",
       "      <th>latitude</th>\n",
       "      <th>longitude</th>\n",
       "      <th>house_price_of_unit_area</th>\n",
       "    </tr>\n",
       "  </thead>\n",
       "  <tbody>\n",
       "    <tr>\n",
       "      <th>0</th>\n",
       "      <td>2012.917</td>\n",
       "      <td>32.0</td>\n",
       "      <td>84.87882</td>\n",
       "      <td>10</td>\n",
       "      <td>24.98298</td>\n",
       "      <td>121.54024</td>\n",
       "      <td>37.9</td>\n",
       "    </tr>\n",
       "    <tr>\n",
       "      <th>1</th>\n",
       "      <td>2012.917</td>\n",
       "      <td>19.5</td>\n",
       "      <td>306.59470</td>\n",
       "      <td>9</td>\n",
       "      <td>24.98034</td>\n",
       "      <td>121.53951</td>\n",
       "      <td>42.2</td>\n",
       "    </tr>\n",
       "    <tr>\n",
       "      <th>2</th>\n",
       "      <td>2013.583</td>\n",
       "      <td>13.3</td>\n",
       "      <td>561.98450</td>\n",
       "      <td>5</td>\n",
       "      <td>24.98746</td>\n",
       "      <td>121.54391</td>\n",
       "      <td>47.3</td>\n",
       "    </tr>\n",
       "    <tr>\n",
       "      <th>3</th>\n",
       "      <td>2013.500</td>\n",
       "      <td>13.3</td>\n",
       "      <td>561.98450</td>\n",
       "      <td>5</td>\n",
       "      <td>24.98746</td>\n",
       "      <td>121.54391</td>\n",
       "      <td>54.8</td>\n",
       "    </tr>\n",
       "    <tr>\n",
       "      <th>4</th>\n",
       "      <td>2012.833</td>\n",
       "      <td>5.0</td>\n",
       "      <td>390.56840</td>\n",
       "      <td>5</td>\n",
       "      <td>24.97937</td>\n",
       "      <td>121.54245</td>\n",
       "      <td>43.1</td>\n",
       "    </tr>\n",
       "  </tbody>\n",
       "</table>\n",
       "</div>"
      ],
      "text/plain": [
       "   transaction_date  house_age  distance_to_the_nearest_MRT_station  \\\n",
       "0          2012.917       32.0                             84.87882   \n",
       "1          2012.917       19.5                            306.59470   \n",
       "2          2013.583       13.3                            561.98450   \n",
       "3          2013.500       13.3                            561.98450   \n",
       "4          2012.833        5.0                            390.56840   \n",
       "\n",
       "   number_of_convenience_stores  latitude  longitude  house_price_of_unit_area  \n",
       "0                            10  24.98298  121.54024                      37.9  \n",
       "1                             9  24.98034  121.53951                      42.2  \n",
       "2                             5  24.98746  121.54391                      47.3  \n",
       "3                             5  24.98746  121.54391                      54.8  \n",
       "4                             5  24.97937  121.54245                      43.1  "
      ]
     },
     "execution_count": 2,
     "metadata": {},
     "output_type": "execute_result"
    }
   ],
   "source": [
    "## Dropping No\n",
    "house_price = house_price.drop(columns = ['No'])\n",
    "house_price.head()"
   ]
  },
  {
   "cell_type": "code",
   "execution_count": 3,
   "id": "57f6038f",
   "metadata": {},
   "outputs": [
    {
     "data": {
      "image/png": "[encoded data removed]",
      "text/plain": [
       "<Figure size 432x288 with 1 Axes>"
      ]
     },
     "metadata": {
      "needs_background": "light"
     },
     "output_type": "display_data"
    }
   ],
   "source": [
    "import matplotlib.pyplot as plt\n",
    "\n",
    "plt.hist(house_price['house_age'])\n",
    "plt.xlabel('House Age')\n",
    "plt.ylabel('Frequency')\n",
    "plt.grid()\n",
    "plt.show()\n",
    "\n",
    "# The distribution is right-skewed bi-modal"
   ]
  },
  {
   "cell_type": "code",
   "execution_count": 4,
   "id": "5456d025",
   "metadata": {},
   "outputs": [
    {
     "data": {
      "image/png": "[encoded data removed]",
      "text/plain": [
       "<Figure size 432x288 with 1 Axes>"
      ]
     },
     "metadata": {
      "needs_background": "light"
     },
     "output_type": "display_data"
    }
   ],
   "source": [
    "plt.hist(house_price['distance_to_the_nearest_MRT_station'])\n",
    "plt.xlabel('distance to nearest MRT station')\n",
    "plt.ylabel('Frequency')\n",
    "plt.grid()\n",
    "plt.show()\n",
    "\n",
    "## The distribution is right-skewed with one peak."
   ]
  },
  {
   "cell_type": "code",
   "execution_count": 5,
   "id": "24ba99d9",
   "metadata": {},
   "outputs": [
    {
     "data": {
      "text/plain": [
       "array([-2.68916833e-01, -4.25908898e-03,  1.16302048e+00,  2.37767191e+02,\n",
       "       -7.80545273e+00])"
      ]
     },
     "execution_count": 5,
     "metadata": {},
     "output_type": "execute_result"
    }
   ],
   "source": [
    "from sklearn.linear_model import LinearRegression\n",
    "\n",
    "## Defining the input and target variables\n",
    "X = house_price[['house_age', 'distance_to_the_nearest_MRT_station', 'number_of_convenience_stores', 'latitude', 'longitude']]\n",
    "Y = house_price['house_price_of_unit_area']\n",
    "\n",
    "## Building the model\n",
    "lm_md = LinearRegression().fit(X, Y)\n",
    "lm_md.coef_"
   ]
  },
  {
   "cell_type": "code",
   "execution_count": 6,
   "id": "0d42d30b",
   "metadata": {},
   "outputs": [
    {
     "data": {
      "text/plain": [
       "array([45.55979721])"
      ]
     },
     "execution_count": 6,
     "metadata": {},
     "output_type": "execute_result"
    }
   ],
   "source": [
    "## Defining the characteritics of the new house\n",
    "new_house = [[5, 500, 3, 24.98, 121.49]]\n",
    "\n",
    "## Predicting the price of unit of area\n",
    "lm_md.predict(new_house)"
   ]
  }
 ],
 "metadata": {
  "kernelspec": {
   "display_name": "conda_python3",
   "language": "python",
   "name": "conda_python3"
  },
  "language_info": {
   "codemirror_mode": {
    "name": "ipython",
    "version": 3
   },
   "file_extension": ".py",
   "mimetype": "text/x-python",
   "name": "python",
   "nbconvert_exporter": "python",
   "pygments_lexer": "ipython3",
   "version": "3.6.13"
  }
 },
 "nbformat": 4,
 "nbformat_minor": 5
}
