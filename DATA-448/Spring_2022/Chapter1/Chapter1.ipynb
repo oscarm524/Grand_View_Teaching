{
 "cells": [
  {
   "cell_type": "code",
   "execution_count": null,
   "id": "5342a599",
   "metadata": {},
   "outputs": [],
   "source": [
    "pip install imblearn"
   ]
  },
  {
   "cell_type": "code",
   "execution_count": 1,
   "id": "1827cbf9",
   "metadata": {},
   "outputs": [
    {
     "data": {
      "text/html": [
       "<div>\n",
       "<style scoped>\n",
       "    .dataframe tbody tr th:only-of-type {\n",
       "        vertical-align: middle;\n",
       "    }\n",
       "\n",
       "    .dataframe tbody tr th {\n",
       "        vertical-align: top;\n",
       "    }\n",
       "\n",
       "    .dataframe thead th {\n",
       "        text-align: right;\n",
       "    }\n",
       "</style>\n",
       "<table border=\"1\" class=\"dataframe\">\n",
       "  <thead>\n",
       "    <tr style=\"text-align: right;\">\n",
       "      <th></th>\n",
       "      <th>male</th>\n",
       "      <th>age</th>\n",
       "      <th>education</th>\n",
       "      <th>currentSmoker</th>\n",
       "      <th>cigsPerDay</th>\n",
       "      <th>BPMeds</th>\n",
       "      <th>prevalentStroke</th>\n",
       "      <th>prevalentHyp</th>\n",
       "      <th>diabetes</th>\n",
       "      <th>totChol</th>\n",
       "      <th>sysBP</th>\n",
       "      <th>diaBP</th>\n",
       "      <th>BMI</th>\n",
       "      <th>heartRate</th>\n",
       "      <th>glucose</th>\n",
       "      <th>TenYearCHD</th>\n",
       "    </tr>\n",
       "  </thead>\n",
       "  <tbody>\n",
       "    <tr>\n",
       "      <th>0</th>\n",
       "      <td>1</td>\n",
       "      <td>39</td>\n",
       "      <td>4.0</td>\n",
       "      <td>0</td>\n",
       "      <td>0.0</td>\n",
       "      <td>0.0</td>\n",
       "      <td>0</td>\n",
       "      <td>0</td>\n",
       "      <td>0</td>\n",
       "      <td>195.0</td>\n",
       "      <td>106.0</td>\n",
       "      <td>70.0</td>\n",
       "      <td>26.97</td>\n",
       "      <td>80.0</td>\n",
       "      <td>77.0</td>\n",
       "      <td>0</td>\n",
       "    </tr>\n",
       "    <tr>\n",
       "      <th>1</th>\n",
       "      <td>0</td>\n",
       "      <td>46</td>\n",
       "      <td>2.0</td>\n",
       "      <td>0</td>\n",
       "      <td>0.0</td>\n",
       "      <td>0.0</td>\n",
       "      <td>0</td>\n",
       "      <td>0</td>\n",
       "      <td>0</td>\n",
       "      <td>250.0</td>\n",
       "      <td>121.0</td>\n",
       "      <td>81.0</td>\n",
       "      <td>28.73</td>\n",
       "      <td>95.0</td>\n",
       "      <td>76.0</td>\n",
       "      <td>0</td>\n",
       "    </tr>\n",
       "    <tr>\n",
       "      <th>2</th>\n",
       "      <td>1</td>\n",
       "      <td>48</td>\n",
       "      <td>1.0</td>\n",
       "      <td>1</td>\n",
       "      <td>20.0</td>\n",
       "      <td>0.0</td>\n",
       "      <td>0</td>\n",
       "      <td>0</td>\n",
       "      <td>0</td>\n",
       "      <td>245.0</td>\n",
       "      <td>127.5</td>\n",
       "      <td>80.0</td>\n",
       "      <td>25.34</td>\n",
       "      <td>75.0</td>\n",
       "      <td>70.0</td>\n",
       "      <td>0</td>\n",
       "    </tr>\n",
       "    <tr>\n",
       "      <th>3</th>\n",
       "      <td>0</td>\n",
       "      <td>61</td>\n",
       "      <td>3.0</td>\n",
       "      <td>1</td>\n",
       "      <td>30.0</td>\n",
       "      <td>0.0</td>\n",
       "      <td>0</td>\n",
       "      <td>1</td>\n",
       "      <td>0</td>\n",
       "      <td>225.0</td>\n",
       "      <td>150.0</td>\n",
       "      <td>95.0</td>\n",
       "      <td>28.58</td>\n",
       "      <td>65.0</td>\n",
       "      <td>103.0</td>\n",
       "      <td>1</td>\n",
       "    </tr>\n",
       "    <tr>\n",
       "      <th>4</th>\n",
       "      <td>0</td>\n",
       "      <td>46</td>\n",
       "      <td>3.0</td>\n",
       "      <td>1</td>\n",
       "      <td>23.0</td>\n",
       "      <td>0.0</td>\n",
       "      <td>0</td>\n",
       "      <td>0</td>\n",
       "      <td>0</td>\n",
       "      <td>285.0</td>\n",
       "      <td>130.0</td>\n",
       "      <td>84.0</td>\n",
       "      <td>23.10</td>\n",
       "      <td>85.0</td>\n",
       "      <td>85.0</td>\n",
       "      <td>0</td>\n",
       "    </tr>\n",
       "  </tbody>\n",
       "</table>\n",
       "</div>"
      ],
      "text/plain": [
       "   male  age  education  currentSmoker  cigsPerDay  BPMeds  prevalentStroke  \\\n",
       "0     1   39        4.0              0         0.0     0.0                0   \n",
       "1     0   46        2.0              0         0.0     0.0                0   \n",
       "2     1   48        1.0              1        20.0     0.0                0   \n",
       "3     0   61        3.0              1        30.0     0.0                0   \n",
       "4     0   46        3.0              1        23.0     0.0                0   \n",
       "\n",
       "   prevalentHyp  diabetes  totChol  sysBP  diaBP    BMI  heartRate  glucose  \\\n",
       "0             0         0    195.0  106.0   70.0  26.97       80.0     77.0   \n",
       "1             0         0    250.0  121.0   81.0  28.73       95.0     76.0   \n",
       "2             0         0    245.0  127.5   80.0  25.34       75.0     70.0   \n",
       "3             1         0    225.0  150.0   95.0  28.58       65.0    103.0   \n",
       "4             0         0    285.0  130.0   84.0  23.10       85.0     85.0   \n",
       "\n",
       "   TenYearCHD  \n",
       "0           0  \n",
       "1           0  \n",
       "2           0  \n",
       "3           1  \n",
       "4           0  "
      ]
     },
     "execution_count": 1,
     "metadata": {},
     "output_type": "execute_result"
    }
   ],
   "source": [
    "import boto3\n",
    "import pandas as pd\n",
    "import numpy as np\n",
    "import matplotlib.pyplot as plt\n",
    "import seaborn as sns\n",
    "from sklearn.model_selection import train_test_split\n",
    "from sklearn.ensemble import RandomForestClassifier\n",
    "from sklearn.metrics import classification_report, accuracy_score, confusion_matrix\n",
    "from imblearn.over_sampling import RandomOverSampler, SMOTE\n",
    "from imblearn.under_sampling import RandomUnderSampler\n",
    "\n",
    "## Defining the s3 bucket\n",
    "s3 = boto3.resource('s3')\n",
    "bucket_name = 'data-448'\n",
    "bucket = s3.Bucket(bucket_name)\n",
    "\n",
    "## Defining the file to be read from s3 bucket\n",
    "file_key = 'Chapter1/framingham.csv'\n",
    "\n",
    "bucket_object = bucket.Object(file_key)\n",
    "file_object = bucket_object.get()\n",
    "file_content_stream = file_object.get('Body')\n",
    "\n",
    "## Reading the csv file\n",
    "heart = pd.read_csv(file_content_stream)\n",
    "heart = heart.dropna()\n",
    "heart.head()"
   ]
  },
  {
   "cell_type": "markdown",
   "id": "e605cb61",
   "metadata": {},
   "source": [
    "## Classification on Inbalanced Data"
   ]
  },
  {
   "cell_type": "code",
   "execution_count": 2,
   "id": "27574f73",
   "metadata": {},
   "outputs": [
    {
     "data": {
      "text/plain": [
       "0    0.847648\n",
       "1    0.152352\n",
       "Name: TenYearCHD, dtype: float64"
      ]
     },
     "execution_count": 2,
     "metadata": {},
     "output_type": "execute_result"
    }
   ],
   "source": [
    "## frequency table of target \n",
    "heart['TenYearCHD'].value_counts() / heart.shape[0]"
   ]
  },
  {
   "cell_type": "code",
   "execution_count": 3,
   "id": "0e246e71",
   "metadata": {},
   "outputs": [
    {
     "name": "stdout",
     "output_type": "stream",
     "text": [
      "              precision    recall  f1-score   support\n",
      "\n",
      "           0       0.85      1.00      0.92       620\n",
      "           1       1.00      0.01      0.02       112\n",
      "\n",
      "    accuracy                           0.85       732\n",
      "   macro avg       0.92      0.50      0.47       732\n",
      "weighted avg       0.87      0.85      0.78       732\n",
      "\n"
     ]
    }
   ],
   "source": [
    "## Defining input and target variables\n",
    "X = heart[['age',  'totChol', 'sysBP', 'BMI', 'heartRate', 'glucose']]\n",
    "Y = heart['TenYearCHD']\n",
    "\n",
    "## Splitting the data \n",
    "X_train, X_test, Y_train, Y_test = train_test_split(X, Y, test_size = 0.2, stratify = Y)\n",
    "\n",
    "## Building a random forest model \n",
    "RF_md = RandomForestClassifier(n_estimators = 100, max_depth = 3).fit(X_train, Y_train)\n",
    "\n",
    "## Predicting on the test dataset\n",
    "RF_pred = RF_md.predict(X_test)\n",
    "\n",
    "## Printing the classification report \n",
    "print(classification_report(Y_test, RF_pred))"
   ]
  },
  {
   "cell_type": "code",
   "execution_count": 4,
   "id": "9d24e4b1",
   "metadata": {},
   "outputs": [
    {
     "data": {
      "image/png": "[encoded data removed]",
      "text/plain": [
       "<Figure size 720x576 with 2 Axes>"
      ]
     },
     "metadata": {
      "needs_background": "light"
     },
     "output_type": "display_data"
    }
   ],
   "source": [
    "## Visualizing the confustion matrix\n",
    "conf_mat = confusion_matrix(Y_test, RF_pred)\n",
    "conf_mat_df = pd.DataFrame(conf_mat, index = ['No Coronary disease', 'Coronary disease'], columns = ['No Coronary disease', 'Coronary disease'])\n",
    "\n",
    "plt.figure(figsize = (10, 8))\n",
    "sns.heatmap(conf_mat_df, annot = True, fmt = 'g', cmap = 'Blues')\n",
    "plt.title('Random Forest \\n Accuracy:{0: .3f}'.format(accuracy_score(Y_test, RF_pred)))\n",
    "plt.ylabel('True Labels')\n",
    "plt.xlabel('Predicted Labels')\n",
    "# plt.savefig('chapter1_plot1.pdf')\n",
    "plt.show()"
   ]
  },
  {
   "cell_type": "markdown",
   "id": "67729f52",
   "metadata": {},
   "source": [
    "## Dealing with Class-Imbalanced Data: Class Weights"
   ]
  },
  {
   "cell_type": "code",
   "execution_count": 31,
   "id": "ef2a8d78",
   "metadata": {},
   "outputs": [
    {
     "name": "stdout",
     "output_type": "stream",
     "text": [
      "              precision    recall  f1-score   support\n",
      "\n",
      "           0       0.91      0.65      0.76       620\n",
      "           1       0.25      0.64      0.36       112\n",
      "\n",
      "    accuracy                           0.65       732\n",
      "   macro avg       0.58      0.64      0.56       732\n",
      "weighted avg       0.81      0.65      0.69       732\n",
      "\n"
     ]
    }
   ],
   "source": [
    "## Building a random forest model (including weights)\n",
    "RF_md = RandomForestClassifier(n_estimators = 100, max_depth = 3, class_weight = 'balanced').fit(X_train, Y_train)\n",
    "\n",
    "## Predicting on the test dataset\n",
    "RF_pred = RF_md.predict(X_test)\n",
    "\n",
    "## Printing the classification report \n",
    "print(classification_report(Y_test, RF_pred))"
   ]
  },
  {
   "cell_type": "code",
   "execution_count": 33,
   "id": "2794342c",
   "metadata": {},
   "outputs": [
    {
     "data": {
      "image/png": "[encoded data removed]",
      "text/plain": [
       "<Figure size 720x576 with 2 Axes>"
      ]
     },
     "metadata": {
      "needs_background": "light"
     },
     "output_type": "display_data"
    }
   ],
   "source": [
    "## Visualizing the confustion matrix\n",
    "conf_mat = confusion_matrix(Y_test, RF_pred)\n",
    "conf_mat_df = pd.DataFrame(conf_mat, index = ['No Coronary disease', 'Coronary disease'], columns = ['No Coronary disease', 'Coronary disease'])\n",
    "\n",
    "plt.figure(figsize = (10, 8))\n",
    "sns.heatmap(conf_mat_df, annot = True, fmt = 'g', cmap = 'Blues')\n",
    "plt.title('Random Forest \\n Accuracy:{0: .3f}'.format(accuracy_score(Y_test, RF_pred)))\n",
    "plt.ylabel('True Labels')\n",
    "plt.xlabel('Predicted Labels')\n",
    "# plt.savefig('chapter1_plot2.pdf')\n",
    "plt.show()"
   ]
  },
  {
   "cell_type": "markdown",
   "id": "fde345d1",
   "metadata": {},
   "source": [
    "## Under-Sampling"
   ]
  },
  {
   "cell_type": "code",
   "execution_count": 17,
   "id": "f660a145",
   "metadata": {},
   "outputs": [
    {
     "name": "stdout",
     "output_type": "stream",
     "text": [
      "              precision    recall  f1-score   support\n",
      "\n",
      "           0       0.91      0.58      0.71       620\n",
      "           1       0.23      0.68      0.34       112\n",
      "\n",
      "    accuracy                           0.60       732\n",
      "   macro avg       0.57      0.63      0.53       732\n",
      "weighted avg       0.81      0.60      0.65       732\n",
      "\n"
     ]
    }
   ],
   "source": [
    "## Running under-sampling \n",
    "X_under, Y_under = RandomUnderSampler().fit_resample(X_train, Y_train)\n",
    "\n",
    "## Building the random forest model \n",
    "RF_under = RandomForestClassifier(n_estimators = 100, max_depth = 3).fit(X_under, Y_under)\n",
    "\n",
    "## Predicting on the test dataset\n",
    "RF_pred_under = RF_under.predict(X_test)\n",
    "\n",
    "## Printing the classification report \n",
    "print(classification_report(Y_test, RF_pred_under))"
   ]
  },
  {
   "cell_type": "code",
   "execution_count": 35,
   "id": "899b6b80",
   "metadata": {},
   "outputs": [
    {
     "data": {
      "image/png": "[encoded data removed]",
      "text/plain": [
       "<Figure size 720x576 with 2 Axes>"
      ]
     },
     "metadata": {
      "needs_background": "light"
     },
     "output_type": "display_data"
    }
   ],
   "source": [
    "## Visualizing the confustion matrix\n",
    "conf_mat = confusion_matrix(Y_test, RF_pred_under)\n",
    "conf_mat_df = pd.DataFrame(conf_mat, index = ['No Coronary disease', 'Coronary disease'], columns = ['No Coronary disease', 'Coronary disease'])\n",
    "\n",
    "plt.figure(figsize = (10, 8))\n",
    "sns.heatmap(conf_mat_df, annot = True, fmt = 'g', cmap = 'Blues')\n",
    "plt.title('Random Forest \\n Accuracy:{0: .3f}'.format(accuracy_score(Y_test, RF_pred_under)))\n",
    "plt.ylabel('True Labels')\n",
    "plt.xlabel('Predicted Labels')\n",
    "# plt.savefig('chapter1_plot3.pdf')\n",
    "plt.show()"
   ]
  },
  {
   "cell_type": "markdown",
   "id": "03881642",
   "metadata": {},
   "source": [
    "## Over-Sampling"
   ]
  },
  {
   "cell_type": "code",
   "execution_count": 23,
   "id": "c30d7d3a",
   "metadata": {},
   "outputs": [
    {
     "name": "stdout",
     "output_type": "stream",
     "text": [
      "              precision    recall  f1-score   support\n",
      "\n",
      "           0       0.91      0.60      0.72       620\n",
      "           1       0.23      0.65      0.34       112\n",
      "\n",
      "    accuracy                           0.61       732\n",
      "   macro avg       0.57      0.63      0.53       732\n",
      "weighted avg       0.80      0.61      0.67       732\n",
      "\n"
     ]
    }
   ],
   "source": [
    "## Running over-sampling \n",
    "X_over, Y_over = RandomOverSampler().fit_resample(X_train, Y_train)\n",
    "\n",
    "## Building the random forest model \n",
    "RF_over = RandomForestClassifier(n_estimators = 100, max_depth = 3).fit(X_over, Y_over)\n",
    "\n",
    "## Predicting on the test dataset\n",
    "RF_pred_over = RF_over.predict(X_test)\n",
    "\n",
    "## Printing the classification report \n",
    "print(classification_report(Y_test, RF_pred_over))"
   ]
  },
  {
   "cell_type": "code",
   "execution_count": 37,
   "id": "73e40c6f",
   "metadata": {},
   "outputs": [
    {
     "data": {
      "image/png": "[encoded data removed]",
      "text/plain": [
       "<Figure size 720x576 with 2 Axes>"
      ]
     },
     "metadata": {
      "needs_background": "light"
     },
     "output_type": "display_data"
    }
   ],
   "source": [
    "## Visualizing the confustion matrix\n",
    "conf_mat = confusion_matrix(Y_test, RF_pred_over)\n",
    "conf_mat_df = pd.DataFrame(conf_mat, index = ['No Coronary disease', 'Coronary disease'], columns = ['No Coronary disease', 'Coronary disease'])\n",
    "\n",
    "plt.figure(figsize = (10, 8))\n",
    "sns.heatmap(conf_mat_df, annot = True, fmt = 'g', cmap = 'Blues')\n",
    "plt.title('Random Forest \\n Accuracy:{0: .3f}'.format(accuracy_score(Y_test, RF_pred_over)))\n",
    "plt.ylabel('True Labels')\n",
    "plt.xlabel('Predicted Labels')\n",
    "# plt.savefig('chapter1_plot4.pdf')\n",
    "plt.show()"
   ]
  },
  {
   "cell_type": "markdown",
   "id": "3e6950dc",
   "metadata": {},
   "source": [
    "## SMOTE"
   ]
  },
  {
   "cell_type": "code",
   "execution_count": 30,
   "id": "b796e00e",
   "metadata": {},
   "outputs": [
    {
     "name": "stdout",
     "output_type": "stream",
     "text": [
      "              precision    recall  f1-score   support\n",
      "\n",
      "           0       0.91      0.60      0.72       620\n",
      "           1       0.23      0.65      0.34       112\n",
      "\n",
      "    accuracy                           0.61       732\n",
      "   macro avg       0.57      0.63      0.53       732\n",
      "weighted avg       0.80      0.61      0.67       732\n",
      "\n"
     ]
    }
   ],
   "source": [
    "## Running SMOTE\n",
    "X_smote, Y_smote = SMOTE().fit_resample(X_train, Y_train)\n",
    "\n",
    "## Building the random forest model \n",
    "RF_smote = RandomForestClassifier(n_estimators = 100, max_depth = 3).fit(X_smote, Y_smote)\n",
    "\n",
    "## Predicting on the test dataset\n",
    "RF_pred_smote = RF_over.predict(X_test)\n",
    "\n",
    "## Printing the classification report \n",
    "print(classification_report(Y_test, RF_pred_smote))"
   ]
  },
  {
   "cell_type": "code",
   "execution_count": 39,
   "id": "213fec0a",
   "metadata": {},
   "outputs": [
    {
     "data": {
      "image/png": "[encoded data removed]",
      "text/plain": [
       "<Figure size 720x576 with 2 Axes>"
      ]
     },
     "metadata": {
      "needs_background": "light"
     },
     "output_type": "display_data"
    }
   ],
   "source": [
    "## Visualizing the confustion matrix\n",
    "conf_mat = confusion_matrix(Y_test, RF_pred_smote)\n",
    "conf_mat_df = pd.DataFrame(conf_mat, index = ['No Coronary disease', 'Coronary disease'], columns = ['No Coronary disease', 'Coronary disease'])\n",
    "\n",
    "plt.figure(figsize = (10, 8))\n",
    "sns.heatmap(conf_mat_df, annot = True, fmt = 'g', cmap = 'Blues')\n",
    "plt.title('Random Forest \\n Accuracy:{0: .3f}'.format(accuracy_score(Y_test, RF_pred_smote)))\n",
    "plt.ylabel('True Labels')\n",
    "plt.xlabel('Predicted Labels')\n",
    "# plt.savefig('chapter1_plot5.pdf')\n",
    "plt.show()"
   ]
  }
 ],
 "metadata": {
  "kernelspec": {
   "display_name": "conda_python3",
   "language": "python",
   "name": "conda_python3"
  },
  "language_info": {
   "codemirror_mode": {
    "name": "ipython",
    "version": 3
   },
   "file_extension": ".py",
   "mimetype": "text/x-python",
   "name": "python",
   "nbconvert_exporter": "python",
   "pygments_lexer": "ipython3",
   "version": "3.6.13"
  }
 },
 "nbformat": 4,
 "nbformat_minor": 5
}
