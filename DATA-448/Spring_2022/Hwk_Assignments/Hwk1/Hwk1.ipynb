{
 "cells": [
  {
   "cell_type": "code",
   "execution_count": 5,
   "id": "cede4b4b",
   "metadata": {},
   "outputs": [
    {
     "name": "stdout",
     "output_type": "stream",
     "text": [
      "The number of observations in the train data-frame is  1879\n",
      "The number of observations in the test data-frame is  498121\n",
      "The frequency table of fraud is \n",
      " 0    0.944651\n",
      "1    0.055349\n",
      "Name: fraud, dtype: float64\n"
     ]
    }
   ],
   "source": [
    "import boto3\n",
    "import pandas as pd\n",
    "import numpy as np\n",
    "import matplotlib.pyplot as plt\n",
    "from sklearn.model_selection import train_test_split\n",
    "from sklearn.ensemble import RandomForestClassifier, AdaBoostClassifier\n",
    "from sklearn.tree import DecisionTreeClassifier\n",
    "from sklearn.preprocessing import MinMaxScaler\n",
    "from sklearn.metrics import precision_recall_curve, classification_report\n",
    "\n",
    "## Defining the bucket \n",
    "s3 = boto3.resource('s3')\n",
    "bucket_name = 'data-448'\n",
    "bucket = s3.Bucket(bucket_name)\n",
    "\n",
    "## Defining the csv files\n",
    "file_key_train = 'Hwk_Assignments/train.csv'\n",
    "file_key_test = 'Hwk_Assignments/test.csv'\n",
    "\n",
    "bucket_object_train = bucket.Object(file_key_train)\n",
    "file_object_train = bucket_object_train.get()\n",
    "file_content_stream_train = file_object_train.get('Body')\n",
    "\n",
    "bucket_object_test = bucket.Object(file_key_test)\n",
    "file_object_test = bucket_object_test.get()\n",
    "file_content_stream_test = file_object_test.get('Body')\n",
    "\n",
    "## Reading the train & test file\n",
    "train = pd.read_csv(file_content_stream_train, sep = '|')\n",
    "test = pd.read_csv(file_content_stream_test, sep = '|')\n",
    "\n",
    "## Reporting the number of observations in each of the data-frames\n",
    "print('The number of observations in the train data-frame is ', train.shape[0])\n",
    "print('The number of observations in the test data-frame is ', test.shape[0])\n",
    "\n",
    "## Frequency table of fraud \n",
    "print('The frequency table of fraud is \\n', train['fraud'].value_counts() /  train.shape[0])"
   ]
  },
  {
   "cell_type": "code",
   "execution_count": 6,
   "id": "aeee7823",
   "metadata": {},
   "outputs": [
    {
     "data": {
      "text/html": [
       "<div>\n",
       "<style scoped>\n",
       "    .dataframe tbody tr th:only-of-type {\n",
       "        vertical-align: middle;\n",
       "    }\n",
       "\n",
       "    .dataframe tbody tr th {\n",
       "        vertical-align: top;\n",
       "    }\n",
       "\n",
       "    .dataframe thead th {\n",
       "        text-align: right;\n",
       "    }\n",
       "</style>\n",
       "<table border=\"1\" class=\"dataframe\">\n",
       "  <thead>\n",
       "    <tr style=\"text-align: right;\">\n",
       "      <th></th>\n",
       "      <th>trustLevel</th>\n",
       "      <th>totalScanTimeInSeconds</th>\n",
       "      <th>grandTotal</th>\n",
       "      <th>lineItemVoids</th>\n",
       "      <th>scansWithoutRegistration</th>\n",
       "      <th>quantityModifications</th>\n",
       "      <th>scannedLineItemsPerSecond</th>\n",
       "      <th>valuePerSecond</th>\n",
       "      <th>lineItemVoidsPerPosition</th>\n",
       "      <th>fraud</th>\n",
       "    </tr>\n",
       "  </thead>\n",
       "  <tbody>\n",
       "    <tr>\n",
       "      <th>0</th>\n",
       "      <td>5</td>\n",
       "      <td>1054</td>\n",
       "      <td>54.70</td>\n",
       "      <td>7</td>\n",
       "      <td>0</td>\n",
       "      <td>3</td>\n",
       "      <td>0.027514</td>\n",
       "      <td>0.051898</td>\n",
       "      <td>0.241379</td>\n",
       "      <td>0</td>\n",
       "    </tr>\n",
       "    <tr>\n",
       "      <th>1</th>\n",
       "      <td>3</td>\n",
       "      <td>108</td>\n",
       "      <td>27.36</td>\n",
       "      <td>5</td>\n",
       "      <td>2</td>\n",
       "      <td>4</td>\n",
       "      <td>0.129630</td>\n",
       "      <td>0.253333</td>\n",
       "      <td>0.357143</td>\n",
       "      <td>0</td>\n",
       "    </tr>\n",
       "    <tr>\n",
       "      <th>2</th>\n",
       "      <td>3</td>\n",
       "      <td>1516</td>\n",
       "      <td>62.16</td>\n",
       "      <td>3</td>\n",
       "      <td>10</td>\n",
       "      <td>5</td>\n",
       "      <td>0.008575</td>\n",
       "      <td>0.041003</td>\n",
       "      <td>0.230769</td>\n",
       "      <td>0</td>\n",
       "    </tr>\n",
       "    <tr>\n",
       "      <th>3</th>\n",
       "      <td>6</td>\n",
       "      <td>1791</td>\n",
       "      <td>92.31</td>\n",
       "      <td>8</td>\n",
       "      <td>4</td>\n",
       "      <td>4</td>\n",
       "      <td>0.016192</td>\n",
       "      <td>0.051541</td>\n",
       "      <td>0.275862</td>\n",
       "      <td>0</td>\n",
       "    </tr>\n",
       "    <tr>\n",
       "      <th>4</th>\n",
       "      <td>5</td>\n",
       "      <td>430</td>\n",
       "      <td>81.53</td>\n",
       "      <td>3</td>\n",
       "      <td>7</td>\n",
       "      <td>2</td>\n",
       "      <td>0.062791</td>\n",
       "      <td>0.189605</td>\n",
       "      <td>0.111111</td>\n",
       "      <td>0</td>\n",
       "    </tr>\n",
       "  </tbody>\n",
       "</table>\n",
       "</div>"
      ],
      "text/plain": [
       "   trustLevel  totalScanTimeInSeconds  grandTotal  lineItemVoids  \\\n",
       "0           5                    1054       54.70              7   \n",
       "1           3                     108       27.36              5   \n",
       "2           3                    1516       62.16              3   \n",
       "3           6                    1791       92.31              8   \n",
       "4           5                     430       81.53              3   \n",
       "\n",
       "   scansWithoutRegistration  quantityModifications  scannedLineItemsPerSecond  \\\n",
       "0                         0                      3                   0.027514   \n",
       "1                         2                      4                   0.129630   \n",
       "2                        10                      5                   0.008575   \n",
       "3                         4                      4                   0.016192   \n",
       "4                         7                      2                   0.062791   \n",
       "\n",
       "   valuePerSecond  lineItemVoidsPerPosition  fraud  \n",
       "0        0.051898                  0.241379      0  \n",
       "1        0.253333                  0.357143      0  \n",
       "2        0.041003                  0.230769      0  \n",
       "3        0.051541                  0.275862      0  \n",
       "4        0.189605                  0.111111      0  "
      ]
     },
     "execution_count": 6,
     "metadata": {},
     "output_type": "execute_result"
    }
   ],
   "source": [
    "## Printing head of train\n",
    "train.head()"
   ]
  },
  {
   "cell_type": "markdown",
   "id": "7813499e",
   "metadata": {},
   "source": [
    "## Visualizations"
   ]
  },
  {
   "cell_type": "code",
   "execution_count": 16,
   "id": "06b0e1e7",
   "metadata": {},
   "outputs": [
    {
     "data": {
      "image/png": "[encoded data removed]",
      "text/plain": [
       "<Figure size 720x576 with 1 Axes>"
      ]
     },
     "metadata": {
      "needs_background": "light"
     },
     "output_type": "display_data"
    }
   ],
   "source": [
    "## Defining the figure size\n",
    "plt.figure(figsize = (10, 8))\n",
    "plt.grid()\n",
    "plt.xlabel('Trust Level')\n",
    "plt.ylabel('Total Scan Time in Seconds')\n",
    "\n",
    "colors = ['blue', 'red']\n",
    "\n",
    "for i in train['fraud'].unique():\n",
    "    \n",
    "    temp = train[train['fraud'] == i]\n",
    "    plt.scatter(temp['trustLevel'], temp['totalScanTimeInSeconds'])"
   ]
  },
  {
   "cell_type": "code",
   "execution_count": 15,
   "id": "a492071b",
   "metadata": {},
   "outputs": [],
   "source": [
    "## From the above chart, we clearly see that fraud cases happens when the \n",
    "## trust level is either 1 or 2."
   ]
  },
  {
   "cell_type": "code",
   "execution_count": 31,
   "id": "5b1622de",
   "metadata": {},
   "outputs": [
    {
     "data": {
      "image/png": "[encoded data removed]",
      "text/plain": [
       "<Figure size 720x576 with 1 Axes>"
      ]
     },
     "metadata": {
      "needs_background": "light"
     },
     "output_type": "display_data"
    }
   ],
   "source": [
    "## Defining the figure size\n",
    "plt.figure(figsize = (10, 8))\n",
    "plt.grid()\n",
    "plt.xlabel('Quantity Modification')\n",
    "plt.ylabel('Scan Line Items per Second')\n",
    "\n",
    "colors = ['blue', 'red']\n",
    "\n",
    "for i in train['fraud'].unique():\n",
    "    \n",
    "    temp = train[train['fraud'] == i]\n",
    "    plt.scatter(temp['quantityModifications'], temp['lineItemVoidsPerPosition'])"
   ]
  },
  {
   "cell_type": "markdown",
   "id": "56977db3",
   "metadata": {},
   "source": [
    "## Initial Modeling"
   ]
  },
  {
   "cell_type": "code",
   "execution_count": 33,
   "id": "b38993dc",
   "metadata": {},
   "outputs": [],
   "source": [
    "## Defining input and target variables\n",
    "X = train[['trustLevel', 'quantityModifications', 'scansWithoutRegistration']]\n",
    "Y = train['fraud']\n",
    "\n",
    "## Splitting the data into training and testing \n",
    "X_train, X_test, Y_train, Y_test = train_test_split(X, Y, test_size = 0.2, stratify = Y)"
   ]
  }
 ],
 "metadata": {
  "kernelspec": {
   "display_name": "conda_python3",
   "language": "python",
   "name": "conda_python3"
  },
  "language_info": {
   "codemirror_mode": {
    "name": "ipython",
    "version": 3
   },
   "file_extension": ".py",
   "mimetype": "text/x-python",
   "name": "python",
   "nbconvert_exporter": "python",
   "pygments_lexer": "ipython3",
   "version": "3.6.13"
  }
 },
 "nbformat": 4,
 "nbformat_minor": 5
}
