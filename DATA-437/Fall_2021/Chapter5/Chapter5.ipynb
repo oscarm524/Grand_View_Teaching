{
 "cells": [
  {
   "cell_type": "code",
   "execution_count": null,
   "id": "778483dc",
   "metadata": {},
   "outputs": [],
   "source": [
    "import pandas as pd\n",
    "import numpy as np\n",
    "import matplotlib.pyplot as plt\n",
    "\n",
    "## Reading the csv file \n",
    "mlb = pd.read_csv('Dataset_2_4.csv')\n",
    "mlb.head()"
   ]
  },
  {
   "cell_type": "code",
   "execution_count": null,
   "id": "7fe56db4",
   "metadata": {},
   "outputs": [],
   "source": [
    "## Visualizing Hits and Runs\n",
    "plt.figure(figsize = (10, 8))\n",
    "\n",
    "plt.plot(mlb['H'], mlb['R'], 'o')\n",
    "plt.xlabel('Hits')\n",
    "plt.ylabel('Runs')\n",
    "plt.grid()\n",
    "# plt.savefig('chapter5_plot1.pdf')\n",
    "plt.show()"
   ]
  },
  {
   "cell_type": "code",
   "execution_count": null,
   "id": "50c32337",
   "metadata": {},
   "outputs": [],
   "source": [
    "## Visualizing Hits and Runs\n",
    "plt.figure(figsize = (10, 8))\n",
    "\n",
    "plt.plot(mlb['H'], mlb['BB'], 'o')\n",
    "plt.xlabel('Hits')\n",
    "plt.ylabel('Walks')\n",
    "plt.grid()\n",
    "# plt.savefig('chapter5_plot1.pdf')\n",
    "plt.show()"
   ]
  }
 ],
 "metadata": {
  "kernelspec": {
   "display_name": "conda_python3",
   "language": "python",
   "name": "conda_python3"
  },
  "language_info": {
   "codemirror_mode": {
    "name": "ipython",
    "version": 3
   },
   "file_extension": ".py",
   "mimetype": "text/x-python",
   "name": "python",
   "nbconvert_exporter": "python",
   "pygments_lexer": "ipython3",
   "version": "3.6.13"
  }
 },
 "nbformat": 4,
 "nbformat_minor": 5
}
