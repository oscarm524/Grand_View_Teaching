{
 "cells": [
  {
   "cell_type": "code",
   "execution_count": 1,
   "id": "da46565c",
   "metadata": {},
   "outputs": [
    {
     "name": "stdout",
     "output_type": "stream",
     "text": [
      "[*********************100%***********************]  1 of 1 completed\n",
      "[*********************100%***********************]  1 of 1 completed\n",
      "[*********************100%***********************]  1 of 1 completed\n",
      "[*********************100%***********************]  1 of 1 completed\n",
      "[*********************100%***********************]  1 of 1 completed\n"
     ]
    },
    {
     "data": {
      "text/html": [
       "<div>\n",
       "<style scoped>\n",
       "    .dataframe tbody tr th:only-of-type {\n",
       "        vertical-align: middle;\n",
       "    }\n",
       "\n",
       "    .dataframe tbody tr th {\n",
       "        vertical-align: top;\n",
       "    }\n",
       "\n",
       "    .dataframe thead th {\n",
       "        text-align: right;\n",
       "    }\n",
       "</style>\n",
       "<table border=\"1\" class=\"dataframe\">\n",
       "  <thead>\n",
       "    <tr style=\"text-align: right;\">\n",
       "      <th></th>\n",
       "      <th>AMZN_tot_return</th>\n",
       "      <th>TSLA_tot_return</th>\n",
       "      <th>NFLX_tot_return</th>\n",
       "      <th>AAPL_tot_return</th>\n",
       "      <th>benchmark_return</th>\n",
       "      <th>Portfolio_return</th>\n",
       "    </tr>\n",
       "    <tr>\n",
       "      <th>Date</th>\n",
       "      <th></th>\n",
       "      <th></th>\n",
       "      <th></th>\n",
       "      <th></th>\n",
       "      <th></th>\n",
       "      <th></th>\n",
       "    </tr>\n",
       "  </thead>\n",
       "  <tbody>\n",
       "    <tr>\n",
       "      <th>2020-01-03</th>\n",
       "      <td>-0.012139</td>\n",
       "      <td>0.029633</td>\n",
       "      <td>-0.011855</td>\n",
       "      <td>-0.009722</td>\n",
       "      <td>-0.007060</td>\n",
       "      <td>0.002780</td>\n",
       "    </tr>\n",
       "    <tr>\n",
       "      <th>2020-01-06</th>\n",
       "      <td>0.014886</td>\n",
       "      <td>0.019255</td>\n",
       "      <td>0.030469</td>\n",
       "      <td>0.007968</td>\n",
       "      <td>0.003533</td>\n",
       "      <td>0.018840</td>\n",
       "    </tr>\n",
       "    <tr>\n",
       "      <th>2020-01-07</th>\n",
       "      <td>0.002092</td>\n",
       "      <td>0.038801</td>\n",
       "      <td>-0.015127</td>\n",
       "      <td>-0.004703</td>\n",
       "      <td>-0.002803</td>\n",
       "      <td>0.010817</td>\n",
       "    </tr>\n",
       "    <tr>\n",
       "      <th>2020-01-08</th>\n",
       "      <td>-0.007809</td>\n",
       "      <td>0.049205</td>\n",
       "      <td>0.025729</td>\n",
       "      <td>0.016086</td>\n",
       "      <td>0.004902</td>\n",
       "      <td>0.021243</td>\n",
       "    </tr>\n",
       "    <tr>\n",
       "      <th>2020-01-09</th>\n",
       "      <td>0.004799</td>\n",
       "      <td>-0.021945</td>\n",
       "      <td>-0.010611</td>\n",
       "      <td>0.021241</td>\n",
       "      <td>0.006655</td>\n",
       "      <td>-0.005999</td>\n",
       "    </tr>\n",
       "  </tbody>\n",
       "</table>\n",
       "</div>"
      ],
      "text/plain": [
       "            AMZN_tot_return  TSLA_tot_return  NFLX_tot_return  \\\n",
       "Date                                                            \n",
       "2020-01-03        -0.012139         0.029633        -0.011855   \n",
       "2020-01-06         0.014886         0.019255         0.030469   \n",
       "2020-01-07         0.002092         0.038801        -0.015127   \n",
       "2020-01-08        -0.007809         0.049205         0.025729   \n",
       "2020-01-09         0.004799        -0.021945        -0.010611   \n",
       "\n",
       "            AAPL_tot_return  benchmark_return  Portfolio_return  \n",
       "Date                                                             \n",
       "2020-01-03        -0.009722         -0.007060          0.002780  \n",
       "2020-01-06         0.007968          0.003533          0.018840  \n",
       "2020-01-07        -0.004703         -0.002803          0.010817  \n",
       "2020-01-08         0.016086          0.004902          0.021243  \n",
       "2020-01-09         0.021241          0.006655         -0.005999  "
      ]
     },
     "execution_count": 1,
     "metadata": {},
     "output_type": "execute_result"
    }
   ],
   "source": [
    "## Importing yahoo finance\n",
    "import yfinance as yf\n",
    "\n",
    "## Downloading Amazon stock price data \n",
    "amazon = yf.download('AMZN', start = '2020-01-01', end = '2020-12-31')\n",
    "\n",
    "## Downloading Tesla stock price data \n",
    "tesla = yf.download('TSLA', start = '2020-01-01', end = '2020-12-31')\n",
    "\n",
    "## Downloading Netflix stock price data \n",
    "netflix = yf.download('NFLX', start = '2020-01-01', end = '2020-12-31')\n",
    "\n",
    "## Downloading Apple stock price data \n",
    "apple = yf.download('AAPL', start = '2020-01-01', end = '2020-12-31')\n",
    "\n",
    "## Downloading S&P 500 stock price data \n",
    "sp = yf.download('^GSPC', start = '2020-01-01', end = '2020-12-31')\n",
    "\n",
    "## Importing pandas\n",
    "import pandas as pd\n",
    "\n",
    "## Computing the returns\n",
    "returns = pd.DataFrame({'AMZN_tot_return': amazon['Adj Close'].pct_change(), 'TSLA_tot_return': tesla['Adj Close'].pct_change(), 'NFLX_tot_return': netflix['Adj Close'].pct_change(), 'AAPL_tot_return': apple['Adj Close'].pct_change(), 'benchmark_return': sp['Adj Close'].pct_change()})\n",
    "returns = returns.dropna()\n",
    "\n",
    "## Computing portfolio return\n",
    "returns['Portfolio_return'] = 0.35*returns['AMZN_tot_return'] + 0.35*returns['TSLA_tot_return'] + 0.2*returns['NFLX_tot_return'] + 0.1*returns['AAPL_tot_return']\n",
    "returns.head()"
   ]
  },
  {
   "cell_type": "code",
   "execution_count": 2,
   "id": "e732eb5c",
   "metadata": {},
   "outputs": [
    {
     "data": {
      "text/plain": [
       "0.1662349986947667"
      ]
     },
     "execution_count": 2,
     "metadata": {},
     "output_type": "execute_result"
    }
   ],
   "source": [
    "## Computing the Sharpe Ratio of the portfolio\n",
    "daily_risk_free = 0.0008 / 365\n",
    "mu_portfolio = returns['Portfolio_return'].mean()\n",
    "sd_portfolio = returns['Portfolio_return'].std()\n",
    "Sharpe_Portfolio = (mu_portfolio - daily_risk_free) / sd_portfolio\n",
    "Sharpe_Portfolio"
   ]
  },
  {
   "cell_type": "code",
   "execution_count": 3,
   "id": "097f1641",
   "metadata": {},
   "outputs": [
    {
     "data": {
      "text/plain": [
       "0.035721019164626486"
      ]
     },
     "execution_count": 3,
     "metadata": {},
     "output_type": "execute_result"
    }
   ],
   "source": [
    "## Computing the Sharpe Ratio of the benchmark\n",
    "mu_benchmark = returns['benchmark_return'].mean()\n",
    "sd_benchmark = returns['benchmark_return'].std()\n",
    "Sharpe_Benchmark = (mu_benchmark - daily_risk_free) / sd_benchmark\n",
    "Sharpe_Benchmark"
   ]
  },
  {
   "cell_type": "code",
   "execution_count": 4,
   "id": "4e8a0664",
   "metadata": {},
   "outputs": [
    {
     "data": {
      "text/plain": [
       "0.16575096198714456"
      ]
     },
     "execution_count": 4,
     "metadata": {},
     "output_type": "execute_result"
    }
   ],
   "source": [
    "## Computing the Roy Ratio of the portfolio\n",
    "MAR = 0.0062 / 365\n",
    "mu_portfolio = returns['Portfolio_return'].mean()\n",
    "sd_portfolio = returns['Portfolio_return'].std()\n",
    "Roy_Portfolio = (mu_portfolio - MAR) / sd_portfolio\n",
    "Roy_Portfolio"
   ]
  },
  {
   "cell_type": "code",
   "execution_count": 5,
   "id": "40e1a17f",
   "metadata": {},
   "outputs": [
    {
     "data": {
      "text/plain": [
       "0.03504137040375143"
      ]
     },
     "execution_count": 5,
     "metadata": {},
     "output_type": "execute_result"
    }
   ],
   "source": [
    "## Computing the Roy Ratio of the benchmark\n",
    "mu_benchmark = returns['benchmark_return'].mean()\n",
    "sd_benchmark = returns['benchmark_return'].std()\n",
    "Roy_Benchmark = (mu_benchmark - MAR) / sd_benchmark\n",
    "Roy_Benchmark"
   ]
  },
  {
   "cell_type": "code",
   "execution_count": 6,
   "id": "eac54738",
   "metadata": {},
   "outputs": [
    {
     "data": {
      "text/plain": [
       "0.005569984193695777"
      ]
     },
     "execution_count": 6,
     "metadata": {},
     "output_type": "execute_result"
    }
   ],
   "source": [
    "## Importing statsmodels\n",
    "import statsmodels.formula.api as smf\n",
    "\n",
    "## Computing the beta\n",
    "reg = smf.ols(formula = 'Portfolio_return ~ benchmark_return', data = returns).fit()\n",
    "beta = reg.params[1]\n",
    "\n",
    "## Computing the Treynor Ratio of the portfolio\n",
    "daily_risk_free = 0.0008 / 365\n",
    "mu_portfolio = returns['Portfolio_return'].mean()\n",
    "Treynor_Portfolio = (mu_portfolio - daily_risk_free) / beta\n",
    "Treynor_Portfolio"
   ]
  },
  {
   "cell_type": "code",
   "execution_count": 7,
   "id": "89cc99f4",
   "metadata": {},
   "outputs": [
    {
     "data": {
      "text/plain": [
       "0.24672145288101827"
      ]
     },
     "execution_count": 7,
     "metadata": {},
     "output_type": "execute_result"
    }
   ],
   "source": [
    "## Importing numpy\n",
    "import numpy as np\n",
    "\n",
    "## Computing the Sortino Ratio of the portfolio\n",
    "MAR = 0.0062 / 365\n",
    "mu_portfolio = returns['Portfolio_return'].mean()\n",
    "\n",
    "returns['Portfolio_return_minus_MAR'] = returns['Portfolio_return'] - MAR\n",
    "DD_portfolio = np.sqrt((1/(returns.shape[0] - 1))*np.sum(returns['Portfolio_return_minus_MAR'][returns['Portfolio_return_minus_MAR'] < 0]**2))\n",
    "\n",
    "Sortino_Portfolio = (mu_portfolio - MAR) / DD_portfolio\n",
    "Sortino_Portfolio"
   ]
  },
  {
   "cell_type": "code",
   "execution_count": 8,
   "id": "5e770e29",
   "metadata": {},
   "outputs": [
    {
     "data": {
      "text/plain": [
       "0.04800192036538242"
      ]
     },
     "execution_count": 8,
     "metadata": {},
     "output_type": "execute_result"
    }
   ],
   "source": [
    "## Computing the Sortino Ratio of the benchmark\n",
    "mu_benchmark = returns['benchmark_return'].mean()\n",
    "\n",
    "returns['benchmark_return_minus_MAR'] = returns['benchmark_return'] - MAR\n",
    "DD_benchmark = np.sqrt((1/(returns.shape[0] - 1))*np.sum(returns['benchmark_return_minus_MAR'][returns['benchmark_return_minus_MAR'] < 0]**2))\n",
    "\n",
    "Sortino_Benchmark = (mu_benchmark - MAR) / DD_benchmark\n",
    "Sortino_Benchmark"
   ]
  },
  {
   "cell_type": "code",
   "execution_count": 9,
   "id": "e45b626e",
   "metadata": {},
   "outputs": [
    {
     "data": {
      "text/plain": [
       "0.18457805830277485"
      ]
     },
     "execution_count": 9,
     "metadata": {},
     "output_type": "execute_result"
    }
   ],
   "source": [
    "## Computing the Information Ratio of the portfolio\n",
    "returns['Active_Return'] = returns['Portfolio_return'] - returns['benchmark_return']\n",
    "alpha_portfolio = returns['Active_Return'].mean()\n",
    "sigma_active = returns['Active_Return'].std()\n",
    "IR = alpha_portfolio / sigma_active\n",
    "IR"
   ]
  }
 ],
 "metadata": {
  "kernelspec": {
   "display_name": "conda_python3",
   "language": "python",
   "name": "conda_python3"
  },
  "language_info": {
   "codemirror_mode": {
    "name": "ipython",
    "version": 3
   },
   "file_extension": ".py",
   "mimetype": "text/x-python",
   "name": "python",
   "nbconvert_exporter": "python",
   "pygments_lexer": "ipython3",
   "version": "3.6.13"
  }
 },
 "nbformat": 4,
 "nbformat_minor": 5
}
