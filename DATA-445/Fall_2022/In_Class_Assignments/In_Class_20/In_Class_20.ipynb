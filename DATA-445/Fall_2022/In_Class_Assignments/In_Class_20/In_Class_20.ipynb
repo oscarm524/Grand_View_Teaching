{
 "cells": [
  {
   "cell_type": "code",
   "execution_count": 1,
   "id": "0a3bc511",
   "metadata": {},
   "outputs": [
    {
     "name": "stderr",
     "output_type": "stream",
     "text": [
      "/home/ec2-user/anaconda3/envs/python3/lib/python3.6/site-packages/boto3/compat.py:88: PythonDeprecationWarning: Boto3 will no longer support Python 3.6 starting May 30, 2022. To continue receiving service updates, bug fixes, and security updates please upgrade to Python 3.7 or later. More information can be found here: https://aws.amazon.com/blogs/developer/python-support-policy-updates-for-aws-sdks-and-tools/\n",
      "  warnings.warn(warning, PythonDeprecationWarning)\n"
     ]
    },
    {
     "data": {
      "text/html": [
       "<div>\n",
       "<style scoped>\n",
       "    .dataframe tbody tr th:only-of-type {\n",
       "        vertical-align: middle;\n",
       "    }\n",
       "\n",
       "    .dataframe tbody tr th {\n",
       "        vertical-align: top;\n",
       "    }\n",
       "\n",
       "    .dataframe thead th {\n",
       "        text-align: right;\n",
       "    }\n",
       "</style>\n",
       "<table border=\"1\" class=\"dataframe\">\n",
       "  <thead>\n",
       "    <tr style=\"text-align: right;\">\n",
       "      <th></th>\n",
       "      <th>x</th>\n",
       "      <th>y</th>\n",
       "    </tr>\n",
       "  </thead>\n",
       "  <tbody>\n",
       "    <tr>\n",
       "      <th>0</th>\n",
       "      <td>0.421362</td>\n",
       "      <td>0.161185</td>\n",
       "    </tr>\n",
       "    <tr>\n",
       "      <th>1</th>\n",
       "      <td>-0.385647</td>\n",
       "      <td>0.449012</td>\n",
       "    </tr>\n",
       "    <tr>\n",
       "      <th>2</th>\n",
       "      <td>0.425654</td>\n",
       "      <td>-0.100170</td>\n",
       "    </tr>\n",
       "    <tr>\n",
       "      <th>3</th>\n",
       "      <td>-0.574566</td>\n",
       "      <td>0.741009</td>\n",
       "    </tr>\n",
       "    <tr>\n",
       "      <th>4</th>\n",
       "      <td>-0.255552</td>\n",
       "      <td>0.572340</td>\n",
       "    </tr>\n",
       "  </tbody>\n",
       "</table>\n",
       "</div>"
      ],
      "text/plain": [
       "          x         y\n",
       "0  0.421362  0.161185\n",
       "1 -0.385647  0.449012\n",
       "2  0.425654 -0.100170\n",
       "3 -0.574566  0.741009\n",
       "4 -0.255552  0.572340"
      ]
     },
     "execution_count": 1,
     "metadata": {},
     "output_type": "execute_result"
    }
   ],
   "source": [
    "import boto3\n",
    "import pandas as pd\n",
    "import numpy as np\n",
    "import matplotlib.pyplot as plt\n",
    "from sklearn.preprocessing import MinMaxScaler\n",
    "from sklearn.cluster import SpectralClustering\n",
    "\n",
    "## Defining the bucket \n",
    "s3 = boto3.resource('s3')\n",
    "bucket_name = 'data-445'\n",
    "bucket = s3.Bucket(bucket_name)\n",
    "\n",
    "## Defining the csv file \n",
    "file_key = 'Fall_2021/In_Class_Assignments/circle_data.csv'\n",
    "\n",
    "bucket_object = bucket.Object(file_key)\n",
    "file_object = bucket_object.get()\n",
    "file_content_stream = file_object.get('Body')\n",
    "\n",
    "## Reading the csv file\n",
    "circles = pd.read_csv(file_content_stream)\n",
    "circles.head()"
   ]
  },
  {
   "cell_type": "code",
   "execution_count": 5,
   "id": "1b1e9db7",
   "metadata": {},
   "outputs": [
    {
     "data": {
      "image/png": "[encoded data removed]",
      "text/plain": [
       "<Figure size 432x288 with 1 Axes>"
      ]
     },
     "metadata": {
      "needs_background": "light"
     },
     "output_type": "display_data"
    }
   ],
   "source": [
    "## Let's visualize the data \n",
    "plt.plot(circles['x'], circles['y'], 'o')\n",
    "plt.xlabel('x')\n",
    "plt.ylabel('y')\n",
    "plt.grid()\n",
    "plt.show()"
   ]
  },
  {
   "cell_type": "code",
   "execution_count": 6,
   "id": "2f5c8ca6",
   "metadata": {},
   "outputs": [
    {
     "data": {
      "text/html": [
       "<div>\n",
       "<style scoped>\n",
       "    .dataframe tbody tr th:only-of-type {\n",
       "        vertical-align: middle;\n",
       "    }\n",
       "\n",
       "    .dataframe tbody tr th {\n",
       "        vertical-align: top;\n",
       "    }\n",
       "\n",
       "    .dataframe thead th {\n",
       "        text-align: right;\n",
       "    }\n",
       "</style>\n",
       "<table border=\"1\" class=\"dataframe\">\n",
       "  <thead>\n",
       "    <tr style=\"text-align: right;\">\n",
       "      <th></th>\n",
       "      <th>x</th>\n",
       "      <th>y</th>\n",
       "      <th>x_0_1</th>\n",
       "      <th>y_0_1</th>\n",
       "    </tr>\n",
       "  </thead>\n",
       "  <tbody>\n",
       "    <tr>\n",
       "      <th>0</th>\n",
       "      <td>0.421362</td>\n",
       "      <td>0.161185</td>\n",
       "      <td>0.677955</td>\n",
       "      <td>0.562456</td>\n",
       "    </tr>\n",
       "    <tr>\n",
       "      <th>1</th>\n",
       "      <td>-0.385647</td>\n",
       "      <td>0.449012</td>\n",
       "      <td>0.313458</td>\n",
       "      <td>0.692048</td>\n",
       "    </tr>\n",
       "    <tr>\n",
       "      <th>2</th>\n",
       "      <td>0.425654</td>\n",
       "      <td>-0.100170</td>\n",
       "      <td>0.679893</td>\n",
       "      <td>0.444782</td>\n",
       "    </tr>\n",
       "    <tr>\n",
       "      <th>3</th>\n",
       "      <td>-0.574566</td>\n",
       "      <td>0.741009</td>\n",
       "      <td>0.228130</td>\n",
       "      <td>0.823518</td>\n",
       "    </tr>\n",
       "    <tr>\n",
       "      <th>4</th>\n",
       "      <td>-0.255552</td>\n",
       "      <td>0.572340</td>\n",
       "      <td>0.372217</td>\n",
       "      <td>0.747576</td>\n",
       "    </tr>\n",
       "  </tbody>\n",
       "</table>\n",
       "</div>"
      ],
      "text/plain": [
       "          x         y     x_0_1     y_0_1\n",
       "0  0.421362  0.161185  0.677955  0.562456\n",
       "1 -0.385647  0.449012  0.313458  0.692048\n",
       "2  0.425654 -0.100170  0.679893  0.444782\n",
       "3 -0.574566  0.741009  0.228130  0.823518\n",
       "4 -0.255552  0.572340  0.372217  0.747576"
      ]
     },
     "execution_count": 6,
     "metadata": {},
     "output_type": "execute_result"
    }
   ],
   "source": [
    "## Changing the scale \n",
    "scaler = MinMaxScaler()\n",
    "\n",
    "circles[['x_0_1', 'y_0_1']] = scaler.fit_transform(circles)\n",
    "circles.head()"
   ]
  },
  {
   "cell_type": "code",
   "execution_count": 7,
   "id": "c8d98e9a",
   "metadata": {},
   "outputs": [
    {
     "data": {
      "text/html": [
       "<div>\n",
       "<style scoped>\n",
       "    .dataframe tbody tr th:only-of-type {\n",
       "        vertical-align: middle;\n",
       "    }\n",
       "\n",
       "    .dataframe tbody tr th {\n",
       "        vertical-align: top;\n",
       "    }\n",
       "\n",
       "    .dataframe thead th {\n",
       "        text-align: right;\n",
       "    }\n",
       "</style>\n",
       "<table border=\"1\" class=\"dataframe\">\n",
       "  <thead>\n",
       "    <tr style=\"text-align: right;\">\n",
       "      <th></th>\n",
       "      <th>x</th>\n",
       "      <th>y</th>\n",
       "      <th>x_0_1</th>\n",
       "      <th>y_0_1</th>\n",
       "      <th>spectral_cluster</th>\n",
       "    </tr>\n",
       "  </thead>\n",
       "  <tbody>\n",
       "    <tr>\n",
       "      <th>0</th>\n",
       "      <td>0.421362</td>\n",
       "      <td>0.161185</td>\n",
       "      <td>0.677955</td>\n",
       "      <td>0.562456</td>\n",
       "      <td>0</td>\n",
       "    </tr>\n",
       "    <tr>\n",
       "      <th>1</th>\n",
       "      <td>-0.385647</td>\n",
       "      <td>0.449012</td>\n",
       "      <td>0.313458</td>\n",
       "      <td>0.692048</td>\n",
       "      <td>0</td>\n",
       "    </tr>\n",
       "    <tr>\n",
       "      <th>2</th>\n",
       "      <td>0.425654</td>\n",
       "      <td>-0.100170</td>\n",
       "      <td>0.679893</td>\n",
       "      <td>0.444782</td>\n",
       "      <td>0</td>\n",
       "    </tr>\n",
       "    <tr>\n",
       "      <th>3</th>\n",
       "      <td>-0.574566</td>\n",
       "      <td>0.741009</td>\n",
       "      <td>0.228130</td>\n",
       "      <td>0.823518</td>\n",
       "      <td>1</td>\n",
       "    </tr>\n",
       "    <tr>\n",
       "      <th>4</th>\n",
       "      <td>-0.255552</td>\n",
       "      <td>0.572340</td>\n",
       "      <td>0.372217</td>\n",
       "      <td>0.747576</td>\n",
       "      <td>0</td>\n",
       "    </tr>\n",
       "    <tr>\n",
       "      <th>5</th>\n",
       "      <td>0.214523</td>\n",
       "      <td>-0.500648</td>\n",
       "      <td>0.584533</td>\n",
       "      <td>0.264470</td>\n",
       "      <td>0</td>\n",
       "    </tr>\n",
       "    <tr>\n",
       "      <th>6</th>\n",
       "      <td>0.893340</td>\n",
       "      <td>0.266634</td>\n",
       "      <td>0.891130</td>\n",
       "      <td>0.609934</td>\n",
       "      <td>1</td>\n",
       "    </tr>\n",
       "    <tr>\n",
       "      <th>7</th>\n",
       "      <td>0.931335</td>\n",
       "      <td>0.179790</td>\n",
       "      <td>0.908291</td>\n",
       "      <td>0.570833</td>\n",
       "      <td>1</td>\n",
       "    </tr>\n",
       "    <tr>\n",
       "      <th>8</th>\n",
       "      <td>0.855901</td>\n",
       "      <td>-0.520083</td>\n",
       "      <td>0.874220</td>\n",
       "      <td>0.255720</td>\n",
       "      <td>1</td>\n",
       "    </tr>\n",
       "    <tr>\n",
       "      <th>9</th>\n",
       "      <td>-0.635288</td>\n",
       "      <td>-0.712810</td>\n",
       "      <td>0.200704</td>\n",
       "      <td>0.168945</td>\n",
       "      <td>1</td>\n",
       "    </tr>\n",
       "  </tbody>\n",
       "</table>\n",
       "</div>"
      ],
      "text/plain": [
       "          x         y     x_0_1     y_0_1  spectral_cluster\n",
       "0  0.421362  0.161185  0.677955  0.562456                 0\n",
       "1 -0.385647  0.449012  0.313458  0.692048                 0\n",
       "2  0.425654 -0.100170  0.679893  0.444782                 0\n",
       "3 -0.574566  0.741009  0.228130  0.823518                 1\n",
       "4 -0.255552  0.572340  0.372217  0.747576                 0\n",
       "5  0.214523 -0.500648  0.584533  0.264470                 0\n",
       "6  0.893340  0.266634  0.891130  0.609934                 1\n",
       "7  0.931335  0.179790  0.908291  0.570833                 1\n",
       "8  0.855901 -0.520083  0.874220  0.255720                 1\n",
       "9 -0.635288 -0.712810  0.200704  0.168945                 1"
      ]
     },
     "execution_count": 7,
     "metadata": {},
     "output_type": "execute_result"
    }
   ],
   "source": [
    "## Running spectral clustering (clusters = 2) \n",
    "spectral_clustering = SpectralClustering(n_clusters = 2, affinity = 'nearest_neighbors', n_neighbors = 20).fit(circles[['x_0_1', 'y_0_1']])\n",
    "\n",
    "## Appending the cluster labels \n",
    "circles['spectral_cluster'] = spectral_clustering.labels_\n",
    "circles.head(10)"
   ]
  },
  {
   "cell_type": "code",
   "execution_count": 8,
   "id": "e6fccb84",
   "metadata": {},
   "outputs": [
    {
     "data": {
      "image/png": "[encoded data removed]",
      "text/plain": [
       "<Figure size 864x576 with 1 Axes>"
      ]
     },
     "metadata": {
      "needs_background": "light"
     },
     "output_type": "display_data"
    }
   ],
   "source": [
    "## Visualizing the spectral clustering results\n",
    "colors = ['lightblue', 'orange']\n",
    "\n",
    "plt.figure(figsize = (12, 8))\n",
    "plt.xlabel('x')\n",
    "plt.ylabel('y')\n",
    "plt.grid()\n",
    "\n",
    "for i in circles['spectral_cluster'].unique():\n",
    "    \n",
    "    temp = circles[circles['spectral_cluster'] == i]\n",
    "    plt.scatter(temp['x'], temp['y'], color = colors[i])"
   ]
  }
 ],
 "metadata": {
  "kernelspec": {
   "display_name": "conda_python3",
   "language": "python",
   "name": "conda_python3"
  },
  "language_info": {
   "codemirror_mode": {
    "name": "ipython",
    "version": 3
   },
   "file_extension": ".py",
   "mimetype": "text/x-python",
   "name": "python",
   "nbconvert_exporter": "python",
   "pygments_lexer": "ipython3",
   "version": "3.6.13"
  }
 },
 "nbformat": 4,
 "nbformat_minor": 5
}
