{
 "cells": [
  {
   "cell_type": "code",
   "execution_count": 1,
   "id": "7b8ed37d",
   "metadata": {},
   "outputs": [
    {
     "data": {
      "text/html": [
       "<div>\n",
       "<style scoped>\n",
       "    .dataframe tbody tr th:only-of-type {\n",
       "        vertical-align: middle;\n",
       "    }\n",
       "\n",
       "    .dataframe tbody tr th {\n",
       "        vertical-align: top;\n",
       "    }\n",
       "\n",
       "    .dataframe thead th {\n",
       "        text-align: right;\n",
       "    }\n",
       "</style>\n",
       "<table border=\"1\" class=\"dataframe\">\n",
       "  <thead>\n",
       "    <tr style=\"text-align: right;\">\n",
       "      <th></th>\n",
       "      <th>Wine</th>\n",
       "      <th>Alcohol</th>\n",
       "      <th>Malic.acid</th>\n",
       "      <th>Ash</th>\n",
       "      <th>Acl</th>\n",
       "      <th>Mg</th>\n",
       "      <th>Phenols</th>\n",
       "      <th>Flavanoids</th>\n",
       "      <th>Nonflavanoid.phenols</th>\n",
       "      <th>Proanth</th>\n",
       "      <th>Color.int</th>\n",
       "      <th>Hue</th>\n",
       "      <th>OD</th>\n",
       "      <th>Proline</th>\n",
       "    </tr>\n",
       "  </thead>\n",
       "  <tbody>\n",
       "    <tr>\n",
       "      <th>0</th>\n",
       "      <td>1</td>\n",
       "      <td>14.23</td>\n",
       "      <td>1.71</td>\n",
       "      <td>2.43</td>\n",
       "      <td>15.6</td>\n",
       "      <td>127</td>\n",
       "      <td>2.80</td>\n",
       "      <td>3.06</td>\n",
       "      <td>0.28</td>\n",
       "      <td>2.29</td>\n",
       "      <td>5.64</td>\n",
       "      <td>1.04</td>\n",
       "      <td>3.92</td>\n",
       "      <td>1065</td>\n",
       "    </tr>\n",
       "    <tr>\n",
       "      <th>1</th>\n",
       "      <td>1</td>\n",
       "      <td>13.20</td>\n",
       "      <td>1.78</td>\n",
       "      <td>2.14</td>\n",
       "      <td>11.2</td>\n",
       "      <td>100</td>\n",
       "      <td>2.65</td>\n",
       "      <td>2.76</td>\n",
       "      <td>0.26</td>\n",
       "      <td>1.28</td>\n",
       "      <td>4.38</td>\n",
       "      <td>1.05</td>\n",
       "      <td>3.40</td>\n",
       "      <td>1050</td>\n",
       "    </tr>\n",
       "    <tr>\n",
       "      <th>2</th>\n",
       "      <td>1</td>\n",
       "      <td>13.16</td>\n",
       "      <td>2.36</td>\n",
       "      <td>2.67</td>\n",
       "      <td>18.6</td>\n",
       "      <td>101</td>\n",
       "      <td>2.80</td>\n",
       "      <td>3.24</td>\n",
       "      <td>0.30</td>\n",
       "      <td>2.81</td>\n",
       "      <td>5.68</td>\n",
       "      <td>1.03</td>\n",
       "      <td>3.17</td>\n",
       "      <td>1185</td>\n",
       "    </tr>\n",
       "    <tr>\n",
       "      <th>3</th>\n",
       "      <td>1</td>\n",
       "      <td>14.37</td>\n",
       "      <td>1.95</td>\n",
       "      <td>2.50</td>\n",
       "      <td>16.8</td>\n",
       "      <td>113</td>\n",
       "      <td>3.85</td>\n",
       "      <td>3.49</td>\n",
       "      <td>0.24</td>\n",
       "      <td>2.18</td>\n",
       "      <td>7.80</td>\n",
       "      <td>0.86</td>\n",
       "      <td>3.45</td>\n",
       "      <td>1480</td>\n",
       "    </tr>\n",
       "    <tr>\n",
       "      <th>4</th>\n",
       "      <td>1</td>\n",
       "      <td>13.24</td>\n",
       "      <td>2.59</td>\n",
       "      <td>2.87</td>\n",
       "      <td>21.0</td>\n",
       "      <td>118</td>\n",
       "      <td>2.80</td>\n",
       "      <td>2.69</td>\n",
       "      <td>0.39</td>\n",
       "      <td>1.82</td>\n",
       "      <td>4.32</td>\n",
       "      <td>1.04</td>\n",
       "      <td>2.93</td>\n",
       "      <td>735</td>\n",
       "    </tr>\n",
       "  </tbody>\n",
       "</table>\n",
       "</div>"
      ],
      "text/plain": [
       "   Wine  Alcohol  Malic.acid   Ash   Acl   Mg  Phenols  Flavanoids  \\\n",
       "0     1    14.23        1.71  2.43  15.6  127     2.80        3.06   \n",
       "1     1    13.20        1.78  2.14  11.2  100     2.65        2.76   \n",
       "2     1    13.16        2.36  2.67  18.6  101     2.80        3.24   \n",
       "3     1    14.37        1.95  2.50  16.8  113     3.85        3.49   \n",
       "4     1    13.24        2.59  2.87  21.0  118     2.80        2.69   \n",
       "\n",
       "   Nonflavanoid.phenols  Proanth  Color.int   Hue    OD  Proline  \n",
       "0                  0.28     2.29       5.64  1.04  3.92     1065  \n",
       "1                  0.26     1.28       4.38  1.05  3.40     1050  \n",
       "2                  0.30     2.81       5.68  1.03  3.17     1185  \n",
       "3                  0.24     2.18       7.80  0.86  3.45     1480  \n",
       "4                  0.39     1.82       4.32  1.04  2.93      735  "
      ]
     },
     "execution_count": 1,
     "metadata": {},
     "output_type": "execute_result"
    }
   ],
   "source": [
    "import boto3\n",
    "import pandas as pd\n",
    "import numpy as np\n",
    "import matplotlib.pyplot as plt\n",
    "from sklearn.model_selection import train_test_split\n",
    "from sklearn.preprocessing import MinMaxScaler\n",
    "from sklearn.multiclass import OneVsRestClassifier, OneVsOneClassifier\n",
    "from sklearn.ensemble import RandomForestClassifier\n",
    "from sklearn.svm import SVC\n",
    "\n",
    "## Defining the s3 bucket\n",
    "s3 = boto3.resource('s3')\n",
    "bucket_name = 'data-448'\n",
    "bucket = s3.Bucket(bucket_name)\n",
    "\n",
    "## Defining the file to be read from s3 bucket\n",
    "file_key = 'Chapter2/wine.csv'\n",
    "\n",
    "bucket_object = bucket.Object(file_key)\n",
    "file_object = bucket_object.get()\n",
    "file_content_stream = file_object.get('Body')\n",
    "\n",
    "## Reading the csv file\n",
    "wine = pd.read_csv(file_content_stream)\n",
    "wine.head()"
   ]
  },
  {
   "cell_type": "code",
   "execution_count": 15,
   "id": "1ea2c7fc",
   "metadata": {},
   "outputs": [
    {
     "data": {
      "text/plain": [
       "2    71\n",
       "1    59\n",
       "3    48\n",
       "Name: Wine, dtype: int64"
      ]
     },
     "execution_count": 15,
     "metadata": {},
     "output_type": "execute_result"
    }
   ],
   "source": [
    "wine['Wine'].value_counts()"
   ]
  },
  {
   "cell_type": "markdown",
   "id": "c4fec01e",
   "metadata": {},
   "source": [
    "## Data Splitting"
   ]
  },
  {
   "cell_type": "code",
   "execution_count": 16,
   "id": "210bd0e1",
   "metadata": {},
   "outputs": [],
   "source": [
    "## Defining input and target variables\n",
    "X = wine.drop(columns = 'Wine', axis = 1)\n",
    "Y = wine['Wine']\n",
    "\n",
    "## Splitting the data \n",
    "X_train, X_test, Y_train, Y_test = train_test_split(X, Y, test_size = 0.2, stratify = Y)\n",
    "\n",
    "## Standardizing the data \n",
    "scaler = MinMaxScaler()\n",
    "X_train = scaler.fit_transform(X_train)\n",
    "X_test = scaler.fit_transform(X_test)"
   ]
  },
  {
   "cell_type": "markdown",
   "id": "d46fac0d",
   "metadata": {},
   "source": [
    "## One-vs-all Classifier"
   ]
  },
  {
   "cell_type": "code",
   "execution_count": 20,
   "id": "bce535be",
   "metadata": {},
   "outputs": [
    {
     "data": {
      "text/plain": [
       "array([2, 3, 1, 1, 2, 3, 3, 3, 1, 1, 3, 3, 3, 2, 3, 2, 2, 2, 2, 2, 1, 3,\n",
       "       1, 1, 1, 1, 1, 2, 1, 2, 2, 1, 2, 3, 2, 3])"
      ]
     },
     "execution_count": 20,
     "metadata": {},
     "output_type": "execute_result"
    }
   ],
   "source": [
    "## Building the multi-classifier (using RF) \n",
    "one_vs_all_RF = OneVsRestClassifier(estimator = RandomForestClassifier(n_estimators = 500, max_depth = 3)).fit(X_train, Y_train)\n",
    "\n",
    "## Predicting on the test\n",
    "one_vs_all_RF_pred = one_vs_all_RF.predict_proba(X_test)\n",
    "one_vs_all_RF_pred = np.argmax(one_vs_all_RF_pred, axis = 1) + 1\n",
    "one_vs_all_RF_pred"
   ]
  },
  {
   "cell_type": "code",
   "execution_count": 17,
   "id": "77327292",
   "metadata": {},
   "outputs": [
    {
     "data": {
      "text/plain": [
       "array([2, 3, 1, 1, 2, 3, 3, 3, 1, 1, 3, 3, 3, 2, 3, 2, 2, 2, 2, 2, 2, 2,\n",
       "       1, 1, 1, 1, 1, 2, 2, 2, 2, 1, 2, 3, 2, 3])"
      ]
     },
     "execution_count": 17,
     "metadata": {},
     "output_type": "execute_result"
    }
   ],
   "source": [
    "## Building the multi-classifier (using SVM) \n",
    "one_vs_all_svm = OneVsRestClassifier(estimator = SVC(kernel = 'rbf', probability = True)).fit(X_train, Y_train)\n",
    "\n",
    "## Predicting on the test\n",
    "one_vs_all_svm_pred = one_vs_all_svm.predict_proba(X_test)\n",
    "one_vs_all_svm_pred = np.argmax(one_vs_all_svm_pred, axis = 1) + 1\n",
    "one_vs_all_svm_pred"
   ]
  },
  {
   "cell_type": "markdown",
   "id": "43252dc9",
   "metadata": {},
   "source": [
    "## One-vs-One Classifier"
   ]
  },
  {
   "cell_type": "code",
   "execution_count": 22,
   "id": "dbe6e9ef",
   "metadata": {},
   "outputs": [
    {
     "data": {
      "text/plain": [
       "array([2, 3, 1, 1, 2, 3, 3, 3, 1, 1, 3, 2, 3, 2, 3, 2, 2, 2, 2, 2, 1, 3,\n",
       "       1, 1, 1, 1, 1, 2, 1, 2, 2, 1, 2, 3, 2, 3])"
      ]
     },
     "execution_count": 22,
     "metadata": {},
     "output_type": "execute_result"
    }
   ],
   "source": [
    "## Building the multi-classifier (using RF) \n",
    "one_vs_one_RF = OneVsOneClassifier(estimator = RandomForestClassifier(n_estimators = 500, max_depth = 3)).fit(X_train, Y_train)\n",
    "\n",
    "## Predicting on the test\n",
    "one_vs_one_RF_pred = one_vs_one_RF.predict(X_test)\n",
    "one_vs_one_RF_pred"
   ]
  },
  {
   "cell_type": "code",
   "execution_count": 23,
   "id": "df28d8b5",
   "metadata": {},
   "outputs": [
    {
     "data": {
      "text/plain": [
       "array([[1.36110978e-01, 8.53085491e-01, 1.08035304e-02],\n",
       "       [2.41125977e-02, 4.44321565e-01, 5.31565837e-01],\n",
       "       [9.79041910e-01, 1.26473550e-02, 8.31073516e-03],\n",
       "       [7.94615604e-01, 1.82866024e-01, 2.25183722e-02],\n",
       "       [6.50305669e-03, 9.71164634e-01, 2.23323096e-02],\n",
       "       [1.03154790e-02, 3.64891595e-02, 9.53195361e-01],\n",
       "       [1.93249068e-02, 6.34990880e-02, 9.17176005e-01],\n",
       "       [8.26593164e-03, 4.41665705e-02, 9.47567498e-01],\n",
       "       [9.18579875e-01, 6.22919919e-02, 1.91281332e-02],\n",
       "       [9.81466709e-01, 9.09509504e-03, 9.43819623e-03],\n",
       "       [9.93331225e-03, 4.31800378e-03, 9.85748684e-01],\n",
       "       [2.17606298e-02, 2.27826493e-01, 7.50412877e-01],\n",
       "       [2.48556081e-02, 2.42439334e-02, 9.50900459e-01],\n",
       "       [6.47819525e-02, 9.09091056e-01, 2.61269915e-02],\n",
       "       [1.06393597e-02, 5.43707231e-03, 9.83923568e-01],\n",
       "       [1.51805428e-02, 9.75568667e-01, 9.25078980e-03],\n",
       "       [6.28884554e-03, 9.92684902e-01, 1.02625201e-03],\n",
       "       [5.35397867e-03, 9.88803009e-01, 5.84301224e-03],\n",
       "       [6.61114884e-03, 9.87403568e-01, 5.98528285e-03],\n",
       "       [2.61655918e-04, 9.98132266e-01, 1.60607830e-03],\n",
       "       [3.16411836e-01, 6.24486848e-01, 5.91013160e-02],\n",
       "       [2.83943139e-02, 5.07834012e-01, 4.63771674e-01],\n",
       "       [8.70807247e-01, 1.00721602e-01, 2.84711508e-02],\n",
       "       [9.59748340e-01, 2.85950250e-02, 1.16566351e-02],\n",
       "       [9.40238051e-01, 5.03063053e-02, 9.45564369e-03],\n",
       "       [7.90867629e-01, 1.79670478e-01, 2.94618924e-02],\n",
       "       [8.45683362e-01, 1.31083320e-01, 2.32333182e-02],\n",
       "       [1.22581590e-03, 9.88441975e-01, 1.03322092e-02],\n",
       "       [3.45836400e-01, 5.84052946e-01, 7.01106546e-02],\n",
       "       [7.02881996e-03, 9.70777724e-01, 2.21934563e-02],\n",
       "       [9.00568657e-03, 9.78481549e-01, 1.25127641e-02],\n",
       "       [9.89291021e-01, 4.87118331e-03, 5.83779527e-03],\n",
       "       [1.20952310e-02, 9.81701863e-01, 6.20290622e-03],\n",
       "       [1.69080886e-02, 2.07947876e-01, 7.75144036e-01],\n",
       "       [5.18615193e-03, 9.88363041e-01, 6.45080701e-03],\n",
       "       [2.69101841e-02, 2.20848238e-02, 9.51004992e-01]])"
      ]
     },
     "execution_count": 23,
     "metadata": {},
     "output_type": "execute_result"
    }
   ],
   "source": [
    "## Building the multi-classifier (using SVM) \n",
    "one_vs_one_svm = OneVsOneClassifier(estimator = SVC(kernel = 'rbf', probability = True)).fit(X_train, Y_train)\n",
    "\n",
    "## Predicting on the test\n",
    "one_vs_one_svm_pred = one_vs_all_svm.predict_proba(X_test)\n",
    "# one_vs_all_svm_pred = np.argmax(one_vs_one_svm_pred, axis = 1) + 1\n",
    "one_vs_one_svm_pred"
   ]
  }
 ],
 "metadata": {
  "kernelspec": {
   "display_name": "conda_python3",
   "language": "python",
   "name": "conda_python3"
  },
  "language_info": {
   "codemirror_mode": {
    "name": "ipython",
    "version": 3
   },
   "file_extension": ".py",
   "mimetype": "text/x-python",
   "name": "python",
   "nbconvert_exporter": "python",
   "pygments_lexer": "ipython3",
   "version": "3.6.13"
  }
 },
 "nbformat": 4,
 "nbformat_minor": 5
}
