{
 "cells": [
  {
   "cell_type": "code",
   "execution_count": 1,
   "id": "256bb0ae",
   "metadata": {},
   "outputs": [
    {
     "data": {
      "text/html": [
       "<div>\n",
       "<style scoped>\n",
       "    .dataframe tbody tr th:only-of-type {\n",
       "        vertical-align: middle;\n",
       "    }\n",
       "\n",
       "    .dataframe tbody tr th {\n",
       "        vertical-align: top;\n",
       "    }\n",
       "\n",
       "    .dataframe thead th {\n",
       "        text-align: right;\n",
       "    }\n",
       "</style>\n",
       "<table border=\"1\" class=\"dataframe\">\n",
       "  <thead>\n",
       "    <tr style=\"text-align: right;\">\n",
       "      <th></th>\n",
       "      <th>Name</th>\n",
       "      <th>R</th>\n",
       "      <th>H</th>\n",
       "      <th>D</th>\n",
       "      <th>T</th>\n",
       "      <th>HR</th>\n",
       "      <th>SB</th>\n",
       "      <th>BB</th>\n",
       "      <th>RBI</th>\n",
       "      <th>K</th>\n",
       "      <th>BA</th>\n",
       "      <th>SLG</th>\n",
       "      <th>Unnamed: 12</th>\n",
       "    </tr>\n",
       "  </thead>\n",
       "  <tbody>\n",
       "    <tr>\n",
       "      <th>0</th>\n",
       "      <td>Abreu</td>\n",
       "      <td>54</td>\n",
       "      <td>127</td>\n",
       "      <td>30</td>\n",
       "      <td>1</td>\n",
       "      <td>8</td>\n",
       "      <td>21</td>\n",
       "      <td>78</td>\n",
       "      <td>60</td>\n",
       "      <td>113</td>\n",
       "      <td>0.253</td>\n",
       "      <td>0.365</td>\n",
       "      <td>NaN</td>\n",
       "    </tr>\n",
       "    <tr>\n",
       "      <th>1</th>\n",
       "      <td>Andino</td>\n",
       "      <td>63</td>\n",
       "      <td>120</td>\n",
       "      <td>22</td>\n",
       "      <td>0</td>\n",
       "      <td>5</td>\n",
       "      <td>13</td>\n",
       "      <td>41</td>\n",
       "      <td>36</td>\n",
       "      <td>83</td>\n",
       "      <td>0.263</td>\n",
       "      <td>0.344</td>\n",
       "      <td>NaN</td>\n",
       "    </tr>\n",
       "    <tr>\n",
       "      <th>2</th>\n",
       "      <td>Andrus</td>\n",
       "      <td>96</td>\n",
       "      <td>164</td>\n",
       "      <td>27</td>\n",
       "      <td>3</td>\n",
       "      <td>5</td>\n",
       "      <td>37</td>\n",
       "      <td>56</td>\n",
       "      <td>60</td>\n",
       "      <td>74</td>\n",
       "      <td>0.279</td>\n",
       "      <td>0.361</td>\n",
       "      <td>NaN</td>\n",
       "    </tr>\n",
       "    <tr>\n",
       "      <th>3</th>\n",
       "      <td>Avila</td>\n",
       "      <td>63</td>\n",
       "      <td>137</td>\n",
       "      <td>33</td>\n",
       "      <td>4</td>\n",
       "      <td>19</td>\n",
       "      <td>3</td>\n",
       "      <td>73</td>\n",
       "      <td>82</td>\n",
       "      <td>131</td>\n",
       "      <td>0.295</td>\n",
       "      <td>0.506</td>\n",
       "      <td>NaN</td>\n",
       "    </tr>\n",
       "    <tr>\n",
       "      <th>4</th>\n",
       "      <td>Aybar</td>\n",
       "      <td>71</td>\n",
       "      <td>155</td>\n",
       "      <td>33</td>\n",
       "      <td>8</td>\n",
       "      <td>10</td>\n",
       "      <td>30</td>\n",
       "      <td>31</td>\n",
       "      <td>59</td>\n",
       "      <td>68</td>\n",
       "      <td>0.279</td>\n",
       "      <td>0.421</td>\n",
       "      <td>NaN</td>\n",
       "    </tr>\n",
       "  </tbody>\n",
       "</table>\n",
       "</div>"
      ],
      "text/plain": [
       "     Name   R    H   D  T  HR  SB  BB  RBI    K     BA    SLG  Unnamed: 12\n",
       "0   Abreu  54  127  30  1   8  21  78   60  113  0.253  0.365          NaN\n",
       "1  Andino  63  120  22  0   5  13  41   36   83  0.263  0.344          NaN\n",
       "2  Andrus  96  164  27  3   5  37  56   60   74  0.279  0.361          NaN\n",
       "3   Avila  63  137  33  4  19   3  73   82  131  0.295  0.506          NaN\n",
       "4   Aybar  71  155  33  8  10  30  31   59   68  0.279  0.421          NaN"
      ]
     },
     "execution_count": 1,
     "metadata": {},
     "output_type": "execute_result"
    }
   ],
   "source": [
    "import pandas as pd\n",
    "import numpy as np\n",
    "import matplotlib.pyplot as plt\n",
    "\n",
    "## Reading the csv file \n",
    "mlb = pd.read_csv('Dataset_2_4.csv')\n",
    "mlb.head()"
   ]
  },
  {
   "cell_type": "code",
   "execution_count": 2,
   "id": "c441c8cd",
   "metadata": {},
   "outputs": [
    {
     "data": {
      "image/png": "[encoded data removed]",
      "text/plain": [
       "<Figure size 720x576 with 1 Axes>"
      ]
     },
     "metadata": {
      "needs_background": "light"
     },
     "output_type": "display_data"
    }
   ],
   "source": [
    "## Visualizing Hits and Runs\n",
    "plt.figure(figsize = (10, 8))\n",
    "\n",
    "plt.plot(mlb['H'], mlb['R'], 'o')\n",
    "plt.xlabel('Hits')\n",
    "plt.ylabel('Runs')\n",
    "plt.grid()\n",
    "# plt.savefig('chapter5_plot1.pdf')\n",
    "plt.show()"
   ]
  },
  {
   "cell_type": "code",
   "execution_count": 4,
   "id": "b4d46442",
   "metadata": {},
   "outputs": [
    {
     "data": {
      "image/png": "[encoded data removed]",
      "text/plain": [
       "<Figure size 720x576 with 1 Axes>"
      ]
     },
     "metadata": {
      "needs_background": "light"
     },
     "output_type": "display_data"
    }
   ],
   "source": [
    "## Visualizing Hits and Runs\n",
    "plt.figure(figsize = (10, 8))\n",
    "\n",
    "plt.plot(mlb['H'], mlb['BB'], 'o')\n",
    "plt.xlabel('Hits')\n",
    "plt.ylabel('Walks')\n",
    "plt.grid()\n",
    "# plt.savefig('chapter5_plot2.pdf')\n",
    "plt.show()"
   ]
  },
  {
   "cell_type": "code",
   "execution_count": 5,
   "id": "6f615e2d",
   "metadata": {},
   "outputs": [
    {
     "data": {
      "text/html": [
       "<div>\n",
       "<style scoped>\n",
       "    .dataframe tbody tr th:only-of-type {\n",
       "        vertical-align: middle;\n",
       "    }\n",
       "\n",
       "    .dataframe tbody tr th {\n",
       "        vertical-align: top;\n",
       "    }\n",
       "\n",
       "    .dataframe thead th {\n",
       "        text-align: right;\n",
       "    }\n",
       "</style>\n",
       "<table border=\"1\" class=\"dataframe\">\n",
       "  <thead>\n",
       "    <tr style=\"text-align: right;\">\n",
       "      <th></th>\n",
       "      <th>ORPG</th>\n",
       "      <th>DRPG</th>\n",
       "    </tr>\n",
       "  </thead>\n",
       "  <tbody>\n",
       "    <tr>\n",
       "      <th>0</th>\n",
       "      <td>4.1</td>\n",
       "      <td>6.8</td>\n",
       "    </tr>\n",
       "    <tr>\n",
       "      <th>1</th>\n",
       "      <td>3.8</td>\n",
       "      <td>6.0</td>\n",
       "    </tr>\n",
       "    <tr>\n",
       "      <th>2</th>\n",
       "      <td>3.8</td>\n",
       "      <td>7.2</td>\n",
       "    </tr>\n",
       "    <tr>\n",
       "      <th>3</th>\n",
       "      <td>3.7</td>\n",
       "      <td>4.0</td>\n",
       "    </tr>\n",
       "    <tr>\n",
       "      <th>4</th>\n",
       "      <td>3.6</td>\n",
       "      <td>6.0</td>\n",
       "    </tr>\n",
       "  </tbody>\n",
       "</table>\n",
       "</div>"
      ],
      "text/plain": [
       "   ORPG  DRPG\n",
       "0   4.1   6.8\n",
       "1   3.8   6.0\n",
       "2   3.8   7.2\n",
       "3   3.7   4.0\n",
       "4   3.6   6.0"
      ]
     },
     "execution_count": 5,
     "metadata": {},
     "output_type": "execute_result"
    }
   ],
   "source": [
    "## Reading csv file\n",
    "nba = pd.read_csv('Dataset_5_1.csv')\n",
    "nba.head()"
   ]
  },
  {
   "cell_type": "code",
   "execution_count": 7,
   "id": "fd952f65",
   "metadata": {},
   "outputs": [
    {
     "data": {
      "image/png": "[encoded data removed]",
      "text/plain": [
       "<Figure size 720x576 with 1 Axes>"
      ]
     },
     "metadata": {
      "needs_background": "light"
     },
     "output_type": "display_data"
    }
   ],
   "source": [
    "## Visualizing defensive rebounds and offensive rebounds\n",
    "plt.figure(figsize = (10, 8))\n",
    "\n",
    "plt.plot(nba['DRPG'], nba['ORPG'], 'o')\n",
    "plt.xlabel('Defensive Rebounds per Game')\n",
    "plt.ylabel('Offensive Rebounds per Game')\n",
    "plt.grid()\n",
    "# plt.savefig('chapter5_plot3.pdf')\n",
    "plt.show()"
   ]
  },
  {
   "cell_type": "code",
   "execution_count": 9,
   "id": "f9c83bbe",
   "metadata": {},
   "outputs": [
    {
     "data": {
      "text/html": [
       "<div>\n",
       "<style scoped>\n",
       "    .dataframe tbody tr th:only-of-type {\n",
       "        vertical-align: middle;\n",
       "    }\n",
       "\n",
       "    .dataframe tbody tr th {\n",
       "        vertical-align: top;\n",
       "    }\n",
       "\n",
       "    .dataframe thead th {\n",
       "        text-align: right;\n",
       "    }\n",
       "</style>\n",
       "<table border=\"1\" class=\"dataframe\">\n",
       "  <thead>\n",
       "    <tr style=\"text-align: right;\">\n",
       "      <th></th>\n",
       "      <th>Name</th>\n",
       "      <th>ATT</th>\n",
       "      <th>TD</th>\n",
       "      <th>SCK</th>\n",
       "      <th>TD_attempt</th>\n",
       "      <th>SCK_attempt</th>\n",
       "    </tr>\n",
       "  </thead>\n",
       "  <tbody>\n",
       "    <tr>\n",
       "      <th>0</th>\n",
       "      <td>Matt Schaub</td>\n",
       "      <td>583</td>\n",
       "      <td>29</td>\n",
       "      <td>25</td>\n",
       "      <td>0.049743</td>\n",
       "      <td>0.042882</td>\n",
       "    </tr>\n",
       "    <tr>\n",
       "      <th>1</th>\n",
       "      <td>Peyton Manning</td>\n",
       "      <td>571</td>\n",
       "      <td>33</td>\n",
       "      <td>10</td>\n",
       "      <td>0.057793</td>\n",
       "      <td>0.017513</td>\n",
       "    </tr>\n",
       "    <tr>\n",
       "      <th>2</th>\n",
       "      <td>Tom Brady</td>\n",
       "      <td>565</td>\n",
       "      <td>28</td>\n",
       "      <td>16</td>\n",
       "      <td>0.049558</td>\n",
       "      <td>0.028319</td>\n",
       "    </tr>\n",
       "    <tr>\n",
       "      <th>3</th>\n",
       "      <td>Jay Cutler</td>\n",
       "      <td>555</td>\n",
       "      <td>27</td>\n",
       "      <td>35</td>\n",
       "      <td>0.048649</td>\n",
       "      <td>0.063063</td>\n",
       "    </tr>\n",
       "    <tr>\n",
       "      <th>4</th>\n",
       "      <td>Tony Romo</td>\n",
       "      <td>550</td>\n",
       "      <td>26</td>\n",
       "      <td>34</td>\n",
       "      <td>0.047273</td>\n",
       "      <td>0.061818</td>\n",
       "    </tr>\n",
       "  </tbody>\n",
       "</table>\n",
       "</div>"
      ],
      "text/plain": [
       "               Name  ATT  TD  SCK  TD_attempt  SCK_attempt\n",
       "0      Matt Schaub   583  29   25    0.049743     0.042882\n",
       "1   Peyton Manning   571  33   10    0.057793     0.017513\n",
       "2        Tom Brady   565  28   16    0.049558     0.028319\n",
       "3       Jay Cutler   555  27   35    0.048649     0.063063\n",
       "4        Tony Romo   550  26   34    0.047273     0.061818"
      ]
     },
     "execution_count": 9,
     "metadata": {},
     "output_type": "execute_result"
    }
   ],
   "source": [
    "## Reading the csv file \n",
    "nfl = pd.read_csv('Dataset_5_2.csv')\n",
    "nfl['TD_attempt'] = nfl['TD'] / nfl['ATT']\n",
    "nfl['SCK_attempt'] = nfl['SCK'] / nfl['ATT']\n",
    "nfl.head()"
   ]
  },
  {
   "cell_type": "code",
   "execution_count": 11,
   "id": "922378eb",
   "metadata": {},
   "outputs": [
    {
     "data": {
      "image/png": "[encoded data removed]",
      "text/plain": [
       "<Figure size 720x576 with 1 Axes>"
      ]
     },
     "metadata": {
      "needs_background": "light"
     },
     "output_type": "display_data"
    }
   ],
   "source": [
    "## Visualizing touchdowns and sacks\n",
    "plt.figure(figsize = (10, 8))\n",
    "\n",
    "plt.plot(nfl['SCK_attempt'], nfl['TD_attempt'], 'o')\n",
    "plt.xlabel('Sack per Attempt')\n",
    "plt.ylabel('Touch-down per Attempt')\n",
    "plt.grid()\n",
    "plt.savefig('chapter5_plot4.pdf')\n",
    "plt.show()"
   ]
  },
  {
   "cell_type": "code",
   "execution_count": 12,
   "id": "8bdd48b5",
   "metadata": {},
   "outputs": [
    {
     "data": {
      "text/html": [
       "<div>\n",
       "<style scoped>\n",
       "    .dataframe tbody tr th:only-of-type {\n",
       "        vertical-align: middle;\n",
       "    }\n",
       "\n",
       "    .dataframe tbody tr th {\n",
       "        vertical-align: top;\n",
       "    }\n",
       "\n",
       "    .dataframe thead th {\n",
       "        text-align: right;\n",
       "    }\n",
       "</style>\n",
       "<table border=\"1\" class=\"dataframe\">\n",
       "  <thead>\n",
       "    <tr style=\"text-align: right;\">\n",
       "      <th></th>\n",
       "      <th>TEAM</th>\n",
       "      <th>W2010</th>\n",
       "      <th>W2011</th>\n",
       "    </tr>\n",
       "  </thead>\n",
       "  <tbody>\n",
       "    <tr>\n",
       "      <th>0</th>\n",
       "      <td>Arizona Diamondbacks</td>\n",
       "      <td>65</td>\n",
       "      <td>94</td>\n",
       "    </tr>\n",
       "    <tr>\n",
       "      <th>1</th>\n",
       "      <td>Atlanta Braves</td>\n",
       "      <td>91</td>\n",
       "      <td>89</td>\n",
       "    </tr>\n",
       "    <tr>\n",
       "      <th>2</th>\n",
       "      <td>Baltimore Orioles</td>\n",
       "      <td>66</td>\n",
       "      <td>69</td>\n",
       "    </tr>\n",
       "    <tr>\n",
       "      <th>3</th>\n",
       "      <td>Boston Red Sox</td>\n",
       "      <td>89</td>\n",
       "      <td>90</td>\n",
       "    </tr>\n",
       "    <tr>\n",
       "      <th>4</th>\n",
       "      <td>Chicago Cubs</td>\n",
       "      <td>75</td>\n",
       "      <td>71</td>\n",
       "    </tr>\n",
       "  </tbody>\n",
       "</table>\n",
       "</div>"
      ],
      "text/plain": [
       "                   TEAM  W2010  W2011\n",
       "0  Arizona Diamondbacks     65     94\n",
       "1        Atlanta Braves     91     89\n",
       "2     Baltimore Orioles     66     69\n",
       "3        Boston Red Sox     89     90\n",
       "4          Chicago Cubs     75     71"
      ]
     },
     "execution_count": 12,
     "metadata": {},
     "output_type": "execute_result"
    }
   ],
   "source": [
    "## Reading the csv file \n",
    "mlb_wins = pd.read_csv('Dataset_5_3.csv')\n",
    "mlb_wins.head()"
   ]
  },
  {
   "cell_type": "code",
   "execution_count": 14,
   "id": "5eb01426",
   "metadata": {},
   "outputs": [
    {
     "data": {
      "image/png": "[encoded data removed]",
      "text/plain": [
       "<Figure size 720x576 with 1 Axes>"
      ]
     },
     "metadata": {
      "needs_background": "light"
     },
     "output_type": "display_data"
    }
   ],
   "source": [
    "## Visualizing touchdowns and sacks\n",
    "plt.figure(figsize = (10, 8))\n",
    "\n",
    "plt.plot(mlb_wins['W2010'], mlb_wins['W2011'], 'o')\n",
    "plt.xlabel('2010 Wins')\n",
    "plt.ylabel('2011 Wins')\n",
    "plt.grid()\n",
    "# plt.savefig('chapter5_plot5.pdf')\n",
    "plt.show()"
   ]
  }
 ],
 "metadata": {
  "kernelspec": {
   "display_name": "conda_python3",
   "language": "python",
   "name": "conda_python3"
  },
  "language_info": {
   "codemirror_mode": {
    "name": "ipython",
    "version": 3
   },
   "file_extension": ".py",
   "mimetype": "text/x-python",
   "name": "python",
   "nbconvert_exporter": "python",
   "pygments_lexer": "ipython3",
   "version": "3.6.13"
  }
 },
 "nbformat": 4,
 "nbformat_minor": 5
}
