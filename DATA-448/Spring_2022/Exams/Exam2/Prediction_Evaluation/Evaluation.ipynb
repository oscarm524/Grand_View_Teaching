{
 "cells": [
  {
   "cell_type": "code",
   "execution_count": 2,
   "id": "c7295cd6",
   "metadata": {},
   "outputs": [
    {
     "data": {
      "text/html": [
       "<div>\n",
       "<style scoped>\n",
       "    .dataframe tbody tr th:only-of-type {\n",
       "        vertical-align: middle;\n",
       "    }\n",
       "\n",
       "    .dataframe tbody tr th {\n",
       "        vertical-align: top;\n",
       "    }\n",
       "\n",
       "    .dataframe thead th {\n",
       "        text-align: right;\n",
       "    }\n",
       "</style>\n",
       "<table border=\"1\" class=\"dataframe\">\n",
       "  <thead>\n",
       "    <tr style=\"text-align: right;\">\n",
       "      <th></th>\n",
       "      <th>default payment next month</th>\n",
       "    </tr>\n",
       "  </thead>\n",
       "  <tbody>\n",
       "    <tr>\n",
       "      <th>0</th>\n",
       "      <td>1</td>\n",
       "    </tr>\n",
       "    <tr>\n",
       "      <th>1</th>\n",
       "      <td>0</td>\n",
       "    </tr>\n",
       "    <tr>\n",
       "      <th>2</th>\n",
       "      <td>0</td>\n",
       "    </tr>\n",
       "    <tr>\n",
       "      <th>3</th>\n",
       "      <td>0</td>\n",
       "    </tr>\n",
       "    <tr>\n",
       "      <th>4</th>\n",
       "      <td>0</td>\n",
       "    </tr>\n",
       "  </tbody>\n",
       "</table>\n",
       "</div>"
      ],
      "text/plain": [
       "   default payment next month\n",
       "0                           1\n",
       "1                           0\n",
       "2                           0\n",
       "3                           0\n",
       "4                           0"
      ]
     },
     "execution_count": 2,
     "metadata": {},
     "output_type": "execute_result"
    }
   ],
   "source": [
    "import pandas as pd\n",
    "import numpy as np\n",
    "import matplotlib.pyplot as plt\n",
    "import seaborn as sns\n",
    "from sklearn.metrics import classification_report\n",
    "\n",
    "## Reading true values\n",
    "Y_true = pd.read_csv('test_target.csv')\n",
    "Y_true.head()"
   ]
  },
  {
   "cell_type": "markdown",
   "id": "49d7f557",
   "metadata": {},
   "source": [
    "## Bonnie"
   ]
  },
  {
   "cell_type": "code",
   "execution_count": 7,
   "id": "f1f0778c",
   "metadata": {},
   "outputs": [
    {
     "name": "stdout",
     "output_type": "stream",
     "text": [
      "              precision    recall  f1-score   support\n",
      "\n",
      "           0       0.87      0.83      0.85      4673\n",
      "           1       0.49      0.58      0.53      1327\n",
      "\n",
      "    accuracy                           0.77      6000\n",
      "   macro avg       0.68      0.71      0.69      6000\n",
      "weighted avg       0.79      0.77      0.78      6000\n",
      "\n"
     ]
    }
   ],
   "source": [
    "## Reading likelihoods\n",
    "bonnie_likelihoods = pd.read_csv('Bonnie_likelihoods.csv')\n",
    "bonnie_likelihoods.columns = ['Likelihoods']\n",
    "\n",
    "## Changing likelihoods to labels\n",
    "bonnie_labels = np.where(bonnie_likelihoods['Likelihoods'] < 0.2779, 0, 1)\n",
    "\n",
    "## Computing classification report\n",
    "print(classification_report(Y_true, bonnie_labels))"
   ]
  },
  {
   "cell_type": "markdown",
   "id": "8f6992ad",
   "metadata": {},
   "source": [
    "## Christian"
   ]
  },
  {
   "cell_type": "code",
   "execution_count": 10,
   "id": "ec7d8416",
   "metadata": {},
   "outputs": [
    {
     "name": "stdout",
     "output_type": "stream",
     "text": [
      "              precision    recall  f1-score   support\n",
      "\n",
      "           0       0.88      0.80      0.84      4673\n",
      "           1       0.47      0.61      0.53      1327\n",
      "\n",
      "    accuracy                           0.76      6000\n",
      "   macro avg       0.67      0.71      0.68      6000\n",
      "weighted avg       0.79      0.76      0.77      6000\n",
      "\n"
     ]
    }
   ],
   "source": [
    "## Reading likelihoods\n",
    "christian_likelihoods = pd.read_csv('Christian_likelihoods.csv')\n",
    "christian_likelihoods.columns = ['Likelihoods']\n",
    "\n",
    "## Changing likelihoods to labels\n",
    "christian_labels = np.where(christian_likelihoods['Likelihoods'] < 0.254, 0, 1)\n",
    "\n",
    "## Computing classification report\n",
    "print(classification_report(Y_true, christian_labels))"
   ]
  },
  {
   "cell_type": "markdown",
   "id": "59477c54",
   "metadata": {},
   "source": [
    "## Danny"
   ]
  },
  {
   "cell_type": "code",
   "execution_count": 11,
   "id": "8779eb2e",
   "metadata": {},
   "outputs": [
    {
     "name": "stdout",
     "output_type": "stream",
     "text": [
      "              precision    recall  f1-score   support\n",
      "\n",
      "           0       0.86      0.91      0.88      4673\n",
      "           1       0.60      0.47      0.53      1327\n",
      "\n",
      "    accuracy                           0.81      6000\n",
      "   macro avg       0.73      0.69      0.71      6000\n",
      "weighted avg       0.80      0.81      0.81      6000\n",
      "\n"
     ]
    }
   ],
   "source": [
    "## Reading likelihoods\n",
    "danny_likelihoods = pd.read_csv('Danny_likelihoods.csv')\n",
    "danny_likelihoods.columns = ['Likelihoods']\n",
    "\n",
    "## Changing likelihoods to labels\n",
    "danny_labels = np.where(danny_likelihoods['Likelihoods'] < 0.3727, 0, 1)\n",
    "\n",
    "## Computing classification report\n",
    "print(classification_report(Y_true, danny_labels))"
   ]
  },
  {
   "cell_type": "markdown",
   "id": "a0169a72",
   "metadata": {},
   "source": [
    "## Evan"
   ]
  },
  {
   "cell_type": "code",
   "execution_count": 12,
   "id": "215e49d6",
   "metadata": {},
   "outputs": [
    {
     "name": "stdout",
     "output_type": "stream",
     "text": [
      "              precision    recall  f1-score   support\n",
      "\n",
      "           0       0.87      0.86      0.86      4673\n",
      "           1       0.52      0.54      0.53      1327\n",
      "\n",
      "    accuracy                           0.79      6000\n",
      "   macro avg       0.69      0.70      0.70      6000\n",
      "weighted avg       0.79      0.79      0.79      6000\n",
      "\n"
     ]
    }
   ],
   "source": [
    "## Reading likelihoods\n",
    "evan_likelihoods = pd.read_csv('Evan_likelihoods.csv')\n",
    "evan_likelihoods.columns = ['Likelihoods']\n",
    "\n",
    "## Changing likelihoods to labels\n",
    "evan_labels = np.where(evan_likelihoods['Likelihoods'] < 0.296, 0, 1)\n",
    "\n",
    "## Computing classification report\n",
    "print(classification_report(Y_true, evan_labels))"
   ]
  },
  {
   "cell_type": "markdown",
   "id": "fabd1089",
   "metadata": {},
   "source": [
    "## Gabriel De Medeiros"
   ]
  },
  {
   "cell_type": "code",
   "execution_count": 14,
   "id": "fe3b386f",
   "metadata": {},
   "outputs": [
    {
     "name": "stdout",
     "output_type": "stream",
     "text": [
      "              precision    recall  f1-score   support\n",
      "\n",
      "           0       0.88      0.77      0.82      4673\n",
      "           1       0.44      0.65      0.53      1327\n",
      "\n",
      "    accuracy                           0.74      6000\n",
      "   macro avg       0.66      0.71      0.67      6000\n",
      "weighted avg       0.79      0.74      0.76      6000\n",
      "\n"
     ]
    }
   ],
   "source": [
    "## Reading likelihoods\n",
    "gabriel_likelihoods = pd.read_csv('Gabriel_De_Medeiros_likelihoods.csv')\n",
    "gabriel_likelihoods.columns = ['Likelihoods', 'cutoff']\n",
    "\n",
    "## Changing likelihoods to labels\n",
    "gabriel_labels = np.where(gabriel_likelihoods['Likelihoods'] < gabriel_likelihoods['cutoff'], 0, 1)\n",
    "\n",
    "## Computing classification report\n",
    "print(classification_report(Y_true, gabriel_labels))"
   ]
  },
  {
   "cell_type": "markdown",
   "id": "984d9525",
   "metadata": {},
   "source": [
    "## Gabriel Ferreira"
   ]
  },
  {
   "cell_type": "code",
   "execution_count": 19,
   "id": "49defda2",
   "metadata": {},
   "outputs": [
    {
     "name": "stdout",
     "output_type": "stream",
     "text": [
      "              precision    recall  f1-score   support\n",
      "\n",
      "           0       0.87      0.88      0.87      4673\n",
      "           1       0.55      0.52      0.54      1327\n",
      "\n",
      "    accuracy                           0.80      6000\n",
      "   macro avg       0.71      0.70      0.70      6000\n",
      "weighted avg       0.80      0.80      0.80      6000\n",
      "\n"
     ]
    }
   ],
   "source": [
    "## Reading likelihoods\n",
    "gabriel_likelihoods = pd.read_csv('Gabriel_Ferreira_likelihoods.csv')\n",
    "gabriel_likelihoods.columns = ['Likelihoods']\n",
    "\n",
    "## Changing likelihoods to labels\n",
    "gabriel_labels = np.where(gabriel_likelihoods['Likelihoods'] < 0.2827, 0, 1)\n",
    "\n",
    "## Computing classification report\n",
    "print(classification_report(Y_true, gabriel_labels))"
   ]
  },
  {
   "cell_type": "markdown",
   "id": "ec63f4c5",
   "metadata": {},
   "source": [
    "## Ricky "
   ]
  },
  {
   "cell_type": "code",
   "execution_count": 20,
   "id": "7909defb",
   "metadata": {},
   "outputs": [
    {
     "name": "stdout",
     "output_type": "stream",
     "text": [
      "              precision    recall  f1-score   support\n",
      "\n",
      "           0       0.87      0.84      0.85      4673\n",
      "           1       0.49      0.55      0.52      1327\n",
      "\n",
      "    accuracy                           0.77      6000\n",
      "   macro avg       0.68      0.69      0.68      6000\n",
      "weighted avg       0.78      0.77      0.78      6000\n",
      "\n"
     ]
    }
   ],
   "source": [
    "## Reading likelihoods\n",
    "ricky_likelihoods = pd.read_csv('Ricky_likelihoods.csv')\n",
    "ricky_likelihoods.columns = ['Likelihoods']\n",
    "\n",
    "## Changing likelihoods to labels\n",
    "ricky_labels = np.where(ricky_likelihoods['Likelihoods'] < 0.325, 0, 1)\n",
    "\n",
    "## Computing classification report\n",
    "print(classification_report(Y_true, ricky_labels))"
   ]
  },
  {
   "cell_type": "markdown",
   "id": "834a6b06",
   "metadata": {},
   "source": [
    "## Visualizing F1-scores"
   ]
  },
  {
   "cell_type": "code",
   "execution_count": 31,
   "id": "2fb8acaf",
   "metadata": {},
   "outputs": [
    {
     "data": {
      "text/html": [
       "<div>\n",
       "<style scoped>\n",
       "    .dataframe tbody tr th:only-of-type {\n",
       "        vertical-align: middle;\n",
       "    }\n",
       "\n",
       "    .dataframe tbody tr th {\n",
       "        vertical-align: top;\n",
       "    }\n",
       "\n",
       "    .dataframe thead th {\n",
       "        text-align: right;\n",
       "    }\n",
       "</style>\n",
       "<table border=\"1\" class=\"dataframe\">\n",
       "  <thead>\n",
       "    <tr style=\"text-align: right;\">\n",
       "      <th></th>\n",
       "      <th>Student</th>\n",
       "      <th>F1_Score</th>\n",
       "      <th>Exam</th>\n",
       "    </tr>\n",
       "  </thead>\n",
       "  <tbody>\n",
       "    <tr>\n",
       "      <th>0</th>\n",
       "      <td>Bonnie</td>\n",
       "      <td>0.66</td>\n",
       "      <td>Exam_1</td>\n",
       "    </tr>\n",
       "    <tr>\n",
       "      <th>1</th>\n",
       "      <td>Bonnie</td>\n",
       "      <td>0.69</td>\n",
       "      <td>Exam_2</td>\n",
       "    </tr>\n",
       "    <tr>\n",
       "      <th>2</th>\n",
       "      <td>Christian</td>\n",
       "      <td>0.00</td>\n",
       "      <td>Exam_1</td>\n",
       "    </tr>\n",
       "    <tr>\n",
       "      <th>3</th>\n",
       "      <td>Christian</td>\n",
       "      <td>0.68</td>\n",
       "      <td>Exam_2</td>\n",
       "    </tr>\n",
       "    <tr>\n",
       "      <th>4</th>\n",
       "      <td>Danny</td>\n",
       "      <td>0.00</td>\n",
       "      <td>Exam_1</td>\n",
       "    </tr>\n",
       "    <tr>\n",
       "      <th>5</th>\n",
       "      <td>Danny</td>\n",
       "      <td>0.71</td>\n",
       "      <td>Exam_2</td>\n",
       "    </tr>\n",
       "    <tr>\n",
       "      <th>6</th>\n",
       "      <td>Evan</td>\n",
       "      <td>0.71</td>\n",
       "      <td>Exam_1</td>\n",
       "    </tr>\n",
       "    <tr>\n",
       "      <th>7</th>\n",
       "      <td>Evan</td>\n",
       "      <td>0.70</td>\n",
       "      <td>Exam_2</td>\n",
       "    </tr>\n",
       "    <tr>\n",
       "      <th>8</th>\n",
       "      <td>Gabriel_De_Medeiros</td>\n",
       "      <td>0.00</td>\n",
       "      <td>Exam_1</td>\n",
       "    </tr>\n",
       "    <tr>\n",
       "      <th>9</th>\n",
       "      <td>Gabriel_De_Medeiros</td>\n",
       "      <td>0.67</td>\n",
       "      <td>Exam_2</td>\n",
       "    </tr>\n",
       "    <tr>\n",
       "      <th>10</th>\n",
       "      <td>Gabriel_Ferreira</td>\n",
       "      <td>0.70</td>\n",
       "      <td>Exam_1</td>\n",
       "    </tr>\n",
       "    <tr>\n",
       "      <th>11</th>\n",
       "      <td>Gabriel_Ferreira</td>\n",
       "      <td>0.70</td>\n",
       "      <td>Exam_2</td>\n",
       "    </tr>\n",
       "    <tr>\n",
       "      <th>12</th>\n",
       "      <td>Ricky</td>\n",
       "      <td>0.00</td>\n",
       "      <td>Exam_1</td>\n",
       "    </tr>\n",
       "    <tr>\n",
       "      <th>13</th>\n",
       "      <td>Ricky</td>\n",
       "      <td>0.68</td>\n",
       "      <td>Exam_2</td>\n",
       "    </tr>\n",
       "  </tbody>\n",
       "</table>\n",
       "</div>"
      ],
      "text/plain": [
       "                Student  F1_Score    Exam\n",
       "0                Bonnie      0.66  Exam_1\n",
       "1                Bonnie      0.69  Exam_2\n",
       "2             Christian      0.00  Exam_1\n",
       "3             Christian      0.68  Exam_2\n",
       "4                 Danny      0.00  Exam_1\n",
       "5                 Danny      0.71  Exam_2\n",
       "6                  Evan      0.71  Exam_1\n",
       "7                  Evan      0.70  Exam_2\n",
       "8   Gabriel_De_Medeiros      0.00  Exam_1\n",
       "9   Gabriel_De_Medeiros      0.67  Exam_2\n",
       "10     Gabriel_Ferreira      0.70  Exam_1\n",
       "11     Gabriel_Ferreira      0.70  Exam_2\n",
       "12                Ricky      0.00  Exam_1\n",
       "13                Ricky      0.68  Exam_2"
      ]
     },
     "execution_count": 31,
     "metadata": {},
     "output_type": "execute_result"
    }
   ],
   "source": [
    "f1_scores = pd.DataFrame({'Student': np.repeat(['Bonnie', 'Christian', 'Danny', 'Evan', 'Gabriel_De_Medeiros', 'Gabriel_Ferreira', 'Ricky'], 2), 'F1_Score': [0.66, 0.69, 0, 0.68, 0, 0.71, 0.71, 0.70, 0, 0.67, 0.70, 0.70, 0, 0.68 ], 'Exam': ['Exam_1', 'Exam_2'] * 7})\n",
    "f1_scores"
   ]
  },
  {
   "cell_type": "code",
   "execution_count": 33,
   "id": "43f54186",
   "metadata": {},
   "outputs": [
    {
     "data": {
      "image/png": "[encoded data removed]",
      "text/plain": [
       "<Figure size 432x288 with 1 Axes>"
      ]
     },
     "metadata": {
      "needs_background": "light"
     },
     "output_type": "display_data"
    }
   ],
   "source": [
    "ax = sns.barplot(y = 'Student', x = 'F1_Score', hue = 'Exam', data = f1_scores)"
   ]
  },
  {
   "cell_type": "code",
   "execution_count": 25,
   "id": "8142e85f",
   "metadata": {},
   "outputs": [
    {
     "data": {
      "text/plain": [
       "array(['Bonnie', 'Bonnie', 'Christian', 'Christian', 'Danny', 'Danny',\n",
       "       'Evan', 'Evan', 'Gabriel_De_Medeiros', 'Gabriel_De_Medeiros',\n",
       "       'Gabriel_Ferreira', 'Gabriel_Ferreira', 'Ricky', 'Ricky'],\n",
       "      dtype='<U19')"
      ]
     },
     "execution_count": 25,
     "metadata": {},
     "output_type": "execute_result"
    }
   ],
   "source": [
    "np.repeat(['Bonnie', 'Christian', 'Danny', 'Evan', 'Gabriel_De_Medeiros', 'Gabriel_Ferreira', 'Ricky'], 2)"
   ]
  },
  {
   "cell_type": "code",
   "execution_count": 28,
   "id": "f3bbfc2a",
   "metadata": {},
   "outputs": [
    {
     "data": {
      "text/plain": [
       "array(['Exam_1', 'Exam_2', 'Exam_2'], dtype='<U6')"
      ]
     },
     "execution_count": 28,
     "metadata": {},
     "output_type": "execute_result"
    }
   ],
   "source": [
    "np.repeat(['Exam_1', 'Exam_2'], [1, 2])"
   ]
  },
  {
   "cell_type": "code",
   "execution_count": 30,
   "id": "553bf158",
   "metadata": {},
   "outputs": [
    {
     "data": {
      "text/plain": [
       "['Exam_1',\n",
       " 'Exam_2',\n",
       " 'Exam_1',\n",
       " 'Exam_2',\n",
       " 'Exam_1',\n",
       " 'Exam_2',\n",
       " 'Exam_1',\n",
       " 'Exam_2',\n",
       " 'Exam_1',\n",
       " 'Exam_2',\n",
       " 'Exam_1',\n",
       " 'Exam_2',\n",
       " 'Exam_1',\n",
       " 'Exam_2']"
      ]
     },
     "execution_count": 30,
     "metadata": {},
     "output_type": "execute_result"
    }
   ],
   "source": [
    "['Exam_1', 'Exam_2'] * 7"
   ]
  }
 ],
 "metadata": {
  "kernelspec": {
   "display_name": "conda_python3",
   "language": "python",
   "name": "conda_python3"
  },
  "language_info": {
   "codemirror_mode": {
    "name": "ipython",
    "version": 3
   },
   "file_extension": ".py",
   "mimetype": "text/x-python",
   "name": "python",
   "nbconvert_exporter": "python",
   "pygments_lexer": "ipython3",
   "version": "3.6.13"
  }
 },
 "nbformat": 4,
 "nbformat_minor": 5
}
