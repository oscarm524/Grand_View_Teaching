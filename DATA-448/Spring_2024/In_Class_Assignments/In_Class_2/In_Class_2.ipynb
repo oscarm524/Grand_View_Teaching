{
 "cells": [
  {
   "cell_type": "code",
   "execution_count": 1,
   "id": "4164a84b-d73a-48a0-b640-4bd08e401afd",
   "metadata": {},
   "outputs": [
    {
     "name": "stdout",
     "output_type": "stream",
     "text": [
      "Requirement already satisfied: imbalanced-learn in /Users/oscaraguilar/Library/jupyterlab-desktop/jlab_server/lib/python3.8/site-packages (0.11.0)\n",
      "Requirement already satisfied: numpy>=1.17.3 in /Users/oscaraguilar/Library/jupyterlab-desktop/jlab_server/lib/python3.8/site-packages (from imbalanced-learn) (1.24.3)\n",
      "Requirement already satisfied: scipy>=1.5.0 in /Users/oscaraguilar/Library/jupyterlab-desktop/jlab_server/lib/python3.8/site-packages (from imbalanced-learn) (1.10.1)\n",
      "Requirement already satisfied: scikit-learn>=1.0.2 in /Users/oscaraguilar/Library/jupyterlab-desktop/jlab_server/lib/python3.8/site-packages (from imbalanced-learn) (1.3.1)\n",
      "Requirement already satisfied: joblib>=1.1.1 in /Users/oscaraguilar/Library/jupyterlab-desktop/jlab_server/lib/python3.8/site-packages (from imbalanced-learn) (1.2.0)\n",
      "Requirement already satisfied: threadpoolctl>=2.0.0 in /Users/oscaraguilar/Library/jupyterlab-desktop/jlab_server/lib/python3.8/site-packages (from imbalanced-learn) (3.1.0)\n",
      "Note: you may need to restart the kernel to use updated packages.\n"
     ]
    }
   ],
   "source": [
    "pip install -U imbalanced-learn"
   ]
  },
  {
   "cell_type": "markdown",
   "id": "eb18e671-67e9-4a98-8e68-0558477307b6",
   "metadata": {},
   "source": [
    "# Loading Libraries"
   ]
  },
  {
   "cell_type": "code",
   "execution_count": 2,
   "id": "37341988-509f-4031-accf-18d3c595d354",
   "metadata": {},
   "outputs": [],
   "source": [
    "import pandas as pd\n",
    "import numpy as np\n",
    "\n",
    "from sklearn.model_selection import train_test_split\n",
    "from imblearn.over_sampling import RandomOverSampler\n",
    "from sklearn.ensemble import ExtraTreesClassifier, HistGradientBoostingClassifier\n",
    "from sklearn.metrics import roc_curve, classification_report"
   ]
  },
  {
   "cell_type": "markdown",
   "id": "ec53d8d6-44e2-4abb-9149-8bfdbcd3db04",
   "metadata": {},
   "source": [
    "# Reading the data"
   ]
  },
  {
   "cell_type": "code",
   "execution_count": 3,
   "id": "30887cbd-ab03-475c-a010-e05a786bb2ef",
   "metadata": {},
   "outputs": [
    {
     "data": {
      "text/html": [
       "<div>\n",
       "<style scoped>\n",
       "    .dataframe tbody tr th:only-of-type {\n",
       "        vertical-align: middle;\n",
       "    }\n",
       "\n",
       "    .dataframe tbody tr th {\n",
       "        vertical-align: top;\n",
       "    }\n",
       "\n",
       "    .dataframe thead th {\n",
       "        text-align: right;\n",
       "    }\n",
       "</style>\n",
       "<table border=\"1\" class=\"dataframe\">\n",
       "  <thead>\n",
       "    <tr style=\"text-align: right;\">\n",
       "      <th></th>\n",
       "      <th>Churn</th>\n",
       "      <th>AccountWeeks</th>\n",
       "      <th>ContractRenewal</th>\n",
       "      <th>DataPlan</th>\n",
       "      <th>DataUsage</th>\n",
       "      <th>CustServCalls</th>\n",
       "      <th>DayMins</th>\n",
       "      <th>DayCalls</th>\n",
       "      <th>MonthlyCharge</th>\n",
       "      <th>OverageFee</th>\n",
       "      <th>RoamMins</th>\n",
       "    </tr>\n",
       "  </thead>\n",
       "  <tbody>\n",
       "    <tr>\n",
       "      <th>0</th>\n",
       "      <td>0</td>\n",
       "      <td>128</td>\n",
       "      <td>1</td>\n",
       "      <td>1</td>\n",
       "      <td>2.7</td>\n",
       "      <td>1</td>\n",
       "      <td>265.1</td>\n",
       "      <td>110</td>\n",
       "      <td>89.0</td>\n",
       "      <td>9.87</td>\n",
       "      <td>10.0</td>\n",
       "    </tr>\n",
       "    <tr>\n",
       "      <th>1</th>\n",
       "      <td>0</td>\n",
       "      <td>107</td>\n",
       "      <td>1</td>\n",
       "      <td>1</td>\n",
       "      <td>3.7</td>\n",
       "      <td>1</td>\n",
       "      <td>161.6</td>\n",
       "      <td>123</td>\n",
       "      <td>82.0</td>\n",
       "      <td>9.78</td>\n",
       "      <td>13.7</td>\n",
       "    </tr>\n",
       "    <tr>\n",
       "      <th>2</th>\n",
       "      <td>0</td>\n",
       "      <td>137</td>\n",
       "      <td>1</td>\n",
       "      <td>0</td>\n",
       "      <td>0.0</td>\n",
       "      <td>0</td>\n",
       "      <td>243.4</td>\n",
       "      <td>114</td>\n",
       "      <td>52.0</td>\n",
       "      <td>6.06</td>\n",
       "      <td>12.2</td>\n",
       "    </tr>\n",
       "    <tr>\n",
       "      <th>3</th>\n",
       "      <td>0</td>\n",
       "      <td>84</td>\n",
       "      <td>0</td>\n",
       "      <td>0</td>\n",
       "      <td>0.0</td>\n",
       "      <td>2</td>\n",
       "      <td>299.4</td>\n",
       "      <td>71</td>\n",
       "      <td>57.0</td>\n",
       "      <td>3.10</td>\n",
       "      <td>6.6</td>\n",
       "    </tr>\n",
       "    <tr>\n",
       "      <th>4</th>\n",
       "      <td>0</td>\n",
       "      <td>75</td>\n",
       "      <td>0</td>\n",
       "      <td>0</td>\n",
       "      <td>0.0</td>\n",
       "      <td>3</td>\n",
       "      <td>166.7</td>\n",
       "      <td>113</td>\n",
       "      <td>41.0</td>\n",
       "      <td>7.42</td>\n",
       "      <td>10.1</td>\n",
       "    </tr>\n",
       "  </tbody>\n",
       "</table>\n",
       "</div>"
      ],
      "text/plain": [
       "   Churn  AccountWeeks  ContractRenewal  DataPlan  DataUsage  CustServCalls  \\\n",
       "0      0           128                1         1        2.7              1   \n",
       "1      0           107                1         1        3.7              1   \n",
       "2      0           137                1         0        0.0              0   \n",
       "3      0            84                0         0        0.0              2   \n",
       "4      0            75                0         0        0.0              3   \n",
       "\n",
       "   DayMins  DayCalls  MonthlyCharge  OverageFee  RoamMins  \n",
       "0    265.1       110           89.0        9.87      10.0  \n",
       "1    161.6       123           82.0        9.78      13.7  \n",
       "2    243.4       114           52.0        6.06      12.2  \n",
       "3    299.4        71           57.0        3.10       6.6  \n",
       "4    166.7       113           41.0        7.42      10.1  "
      ]
     },
     "execution_count": 3,
     "metadata": {},
     "output_type": "execute_result"
    }
   ],
   "source": [
    "churn_data = pd.read_csv('telecom_churn.csv')\n",
    "churn_data.head()"
   ]
  },
  {
   "cell_type": "code",
   "execution_count": 4,
   "id": "4822f017-fc79-4112-bb34-9e6e48ddefff",
   "metadata": {},
   "outputs": [
    {
     "data": {
      "text/plain": [
       "0    0.855086\n",
       "1    0.144914\n",
       "Name: Churn, dtype: float64"
      ]
     },
     "execution_count": 4,
     "metadata": {},
     "output_type": "execute_result"
    }
   ],
   "source": [
    "churn_data['Churn'].value_counts(normalize = True)"
   ]
  },
  {
   "cell_type": "markdown",
   "id": "fd408846-ee7c-4167-8261-c51e4ab2ac43",
   "metadata": {},
   "source": [
    "# Defining X and Y"
   ]
  },
  {
   "cell_type": "code",
   "execution_count": 5,
   "id": "b21b86ea-2d8d-4d32-a83e-d4e90ca0ed1e",
   "metadata": {},
   "outputs": [],
   "source": [
    "X = churn_data[['AccountWeeks', 'ContractRenewal', 'CustServCalls', 'DayMins', 'MonthlyCharge']]\n",
    "Y = churn_data['Churn']\n",
    "\n",
    "X_train, X_test, Y_train, Y_test = train_test_split(X, Y, test_size = 0.2, stratify = Y)"
   ]
  },
  {
   "cell_type": "markdown",
   "id": "30e2c258-522c-4bb8-bead-f2907130c709",
   "metadata": {},
   "source": [
    "# Over-Sampling"
   ]
  },
  {
   "cell_type": "code",
   "execution_count": 6,
   "id": "d6c29c6d-cbc3-46d8-8612-69c1f85ad462",
   "metadata": {},
   "outputs": [
    {
     "data": {
      "text/plain": [
       "0    0.855214\n",
       "1    0.144786\n",
       "Name: Churn, dtype: float64"
      ]
     },
     "execution_count": 6,
     "metadata": {},
     "output_type": "execute_result"
    }
   ],
   "source": [
    "Y_train.value_counts(normalize = True)"
   ]
  },
  {
   "cell_type": "code",
   "execution_count": 7,
   "id": "b28ec0ed-4a04-4339-a90f-fa4149e30bdc",
   "metadata": {},
   "outputs": [],
   "source": [
    "X_over, Y_over = RandomOverSampler().fit_resample(X_train, Y_train)"
   ]
  },
  {
   "cell_type": "code",
   "execution_count": 8,
   "id": "c61a8e8f-cf0f-4511-82ae-9d287ce7c49c",
   "metadata": {},
   "outputs": [
    {
     "data": {
      "text/plain": [
       "1    0.5\n",
       "0    0.5\n",
       "Name: Churn, dtype: float64"
      ]
     },
     "execution_count": 8,
     "metadata": {},
     "output_type": "execute_result"
    }
   ],
   "source": [
    "Y_over.value_counts(normalize = True)"
   ]
  },
  {
   "cell_type": "markdown",
   "id": "c5d5adbd-7a8c-43ed-8af2-6009e2368cce",
   "metadata": {},
   "source": [
    "# ExtraTrees"
   ]
  },
  {
   "cell_type": "code",
   "execution_count": 9,
   "id": "aa178996-fe32-471a-bcfb-ee875e59c7b9",
   "metadata": {},
   "outputs": [
    {
     "data": {
      "text/html": [
       "<div>\n",
       "<style scoped>\n",
       "    .dataframe tbody tr th:only-of-type {\n",
       "        vertical-align: middle;\n",
       "    }\n",
       "\n",
       "    .dataframe tbody tr th {\n",
       "        vertical-align: top;\n",
       "    }\n",
       "\n",
       "    .dataframe thead th {\n",
       "        text-align: right;\n",
       "    }\n",
       "</style>\n",
       "<table border=\"1\" class=\"dataframe\">\n",
       "  <thead>\n",
       "    <tr style=\"text-align: right;\">\n",
       "      <th></th>\n",
       "      <th>False_Positive</th>\n",
       "      <th>True_Positive</th>\n",
       "      <th>Cutoff</th>\n",
       "      <th>True_Positive_minus_1</th>\n",
       "      <th>Distance_to_perfect_model</th>\n",
       "    </tr>\n",
       "  </thead>\n",
       "  <tbody>\n",
       "    <tr>\n",
       "      <th>0</th>\n",
       "      <td>0.194737</td>\n",
       "      <td>0.845361</td>\n",
       "      <td>0.442571</td>\n",
       "      <td>-0.154639</td>\n",
       "      <td>0.248668</td>\n",
       "    </tr>\n",
       "    <tr>\n",
       "      <th>1</th>\n",
       "      <td>0.205263</td>\n",
       "      <td>0.855670</td>\n",
       "      <td>0.439081</td>\n",
       "      <td>-0.144330</td>\n",
       "      <td>0.250926</td>\n",
       "    </tr>\n",
       "    <tr>\n",
       "      <th>2</th>\n",
       "      <td>0.205263</td>\n",
       "      <td>0.845361</td>\n",
       "      <td>0.439378</td>\n",
       "      <td>-0.154639</td>\n",
       "      <td>0.256995</td>\n",
       "    </tr>\n",
       "    <tr>\n",
       "      <th>3</th>\n",
       "      <td>0.171930</td>\n",
       "      <td>0.804124</td>\n",
       "      <td>0.450035</td>\n",
       "      <td>-0.195876</td>\n",
       "      <td>0.260629</td>\n",
       "    </tr>\n",
       "    <tr>\n",
       "      <th>4</th>\n",
       "      <td>0.185965</td>\n",
       "      <td>0.814433</td>\n",
       "      <td>0.446378</td>\n",
       "      <td>-0.185567</td>\n",
       "      <td>0.262713</td>\n",
       "    </tr>\n",
       "  </tbody>\n",
       "</table>\n",
       "</div>"
      ],
      "text/plain": [
       "   False_Positive  True_Positive    Cutoff  True_Positive_minus_1  \\\n",
       "0        0.194737       0.845361  0.442571              -0.154639   \n",
       "1        0.205263       0.855670  0.439081              -0.144330   \n",
       "2        0.205263       0.845361  0.439378              -0.154639   \n",
       "3        0.171930       0.804124  0.450035              -0.195876   \n",
       "4        0.185965       0.814433  0.446378              -0.185567   \n",
       "\n",
       "   Distance_to_perfect_model  \n",
       "0                   0.248668  \n",
       "1                   0.250926  \n",
       "2                   0.256995  \n",
       "3                   0.260629  \n",
       "4                   0.262713  "
      ]
     },
     "execution_count": 9,
     "metadata": {},
     "output_type": "execute_result"
    }
   ],
   "source": [
    "ET_md = ExtraTreesClassifier(n_estimators = 500, \n",
    "                             max_depth = 3).fit(X_over, Y_over)\n",
    "\n",
    "ET_pred = ET_md.predict_proba(X_test)[:, 1]\n",
    "\n",
    "## Computing the ROC-curve\n",
    "fpr, tpr, thresholds = roc_curve(Y_test, ET_pred)\n",
    "\n",
    "## Finding the optimal threshold\n",
    "ET_cutoff = pd.DataFrame({'False_Positive': fpr,\n",
    "                          'True_Positive': tpr,\n",
    "                          'Cutoff': thresholds})\n",
    "\n",
    "ET_cutoff['True_Positive_minus_1'] = ET_cutoff['True_Positive'] - 1\n",
    "ET_cutoff['Distance_to_perfect_model'] = np.sqrt(ET_cutoff['False_Positive']**2 + ET_cutoff['True_Positive_minus_1']**2)\n",
    "\n",
    "## Sorting based on distance to perfect model \n",
    "ET_cutoff = ET_cutoff.sort_values(by = 'Distance_to_perfect_model').reset_index(drop = True)\n",
    "ET_cutoff.head()"
   ]
  },
  {
   "cell_type": "code",
   "execution_count": 11,
   "id": "02dc6b34-516c-4570-9c65-3e2e8e354c92",
   "metadata": {},
   "outputs": [
    {
     "name": "stdout",
     "output_type": "stream",
     "text": [
      "              precision    recall  f1-score   support\n",
      "\n",
      "           0       0.97      0.81      0.88       570\n",
      "           1       0.42      0.85      0.57        97\n",
      "\n",
      "    accuracy                           0.81       667\n",
      "   macro avg       0.70      0.83      0.72       667\n",
      "weighted avg       0.89      0.81      0.83       667\n",
      "\n"
     ]
    }
   ],
   "source": [
    "## Changing likelihoods to labels\n",
    "ET_label = np.where(ET_pred < 0.442571, 0, 1)\n",
    "\n",
    "print(classification_report(Y_test, ET_label))"
   ]
  },
  {
   "cell_type": "markdown",
   "id": "1c9e3956-0205-4e75-814d-ee02928b7205",
   "metadata": {},
   "source": [
    "# HistGradient"
   ]
  },
  {
   "cell_type": "code",
   "execution_count": 12,
   "id": "517779a9-5ca6-46f0-88b4-dbb097aafd41",
   "metadata": {},
   "outputs": [
    {
     "data": {
      "text/html": [
       "<div>\n",
       "<style scoped>\n",
       "    .dataframe tbody tr th:only-of-type {\n",
       "        vertical-align: middle;\n",
       "    }\n",
       "\n",
       "    .dataframe tbody tr th {\n",
       "        vertical-align: top;\n",
       "    }\n",
       "\n",
       "    .dataframe thead th {\n",
       "        text-align: right;\n",
       "    }\n",
       "</style>\n",
       "<table border=\"1\" class=\"dataframe\">\n",
       "  <thead>\n",
       "    <tr style=\"text-align: right;\">\n",
       "      <th></th>\n",
       "      <th>False_Positive</th>\n",
       "      <th>True_Positive</th>\n",
       "      <th>Cutoff</th>\n",
       "      <th>True_Positive_minus_1</th>\n",
       "      <th>Distance_to_perfect_model</th>\n",
       "    </tr>\n",
       "  </thead>\n",
       "  <tbody>\n",
       "    <tr>\n",
       "      <th>0</th>\n",
       "      <td>0.143860</td>\n",
       "      <td>0.876289</td>\n",
       "      <td>0.239967</td>\n",
       "      <td>-0.123711</td>\n",
       "      <td>0.189737</td>\n",
       "    </tr>\n",
       "    <tr>\n",
       "      <th>1</th>\n",
       "      <td>0.136842</td>\n",
       "      <td>0.865979</td>\n",
       "      <td>0.296713</td>\n",
       "      <td>-0.134021</td>\n",
       "      <td>0.191539</td>\n",
       "    </tr>\n",
       "    <tr>\n",
       "      <th>2</th>\n",
       "      <td>0.103509</td>\n",
       "      <td>0.835052</td>\n",
       "      <td>0.470932</td>\n",
       "      <td>-0.164948</td>\n",
       "      <td>0.194736</td>\n",
       "    </tr>\n",
       "    <tr>\n",
       "      <th>3</th>\n",
       "      <td>0.143860</td>\n",
       "      <td>0.865979</td>\n",
       "      <td>0.240089</td>\n",
       "      <td>-0.134021</td>\n",
       "      <td>0.196614</td>\n",
       "    </tr>\n",
       "    <tr>\n",
       "      <th>4</th>\n",
       "      <td>0.135088</td>\n",
       "      <td>0.855670</td>\n",
       "      <td>0.332338</td>\n",
       "      <td>-0.144330</td>\n",
       "      <td>0.197686</td>\n",
       "    </tr>\n",
       "  </tbody>\n",
       "</table>\n",
       "</div>"
      ],
      "text/plain": [
       "   False_Positive  True_Positive    Cutoff  True_Positive_minus_1  \\\n",
       "0        0.143860       0.876289  0.239967              -0.123711   \n",
       "1        0.136842       0.865979  0.296713              -0.134021   \n",
       "2        0.103509       0.835052  0.470932              -0.164948   \n",
       "3        0.143860       0.865979  0.240089              -0.134021   \n",
       "4        0.135088       0.855670  0.332338              -0.144330   \n",
       "\n",
       "   Distance_to_perfect_model  \n",
       "0                   0.189737  \n",
       "1                   0.191539  \n",
       "2                   0.194736  \n",
       "3                   0.196614  \n",
       "4                   0.197686  "
      ]
     },
     "execution_count": 12,
     "metadata": {},
     "output_type": "execute_result"
    }
   ],
   "source": [
    "HG_md = HistGradientBoostingClassifier(max_iter = 500, \n",
    "                                       max_depth = 3, \n",
    "                                       learning_rate = 0.01).fit(X_over, Y_over)\n",
    "\n",
    "HG_pred = HG_md.predict_proba(X_test)[:, 1]\n",
    "\n",
    "## Computing the ROC-curve\n",
    "fpr, tpr, thresholds = roc_curve(Y_test, HG_pred)\n",
    "\n",
    "## Finding the optimal threshold\n",
    "HG_cutoff = pd.DataFrame({'False_Positive': fpr,\n",
    "                          'True_Positive': tpr,\n",
    "                          'Cutoff': thresholds})\n",
    "\n",
    "HG_cutoff['True_Positive_minus_1'] = HG_cutoff['True_Positive'] - 1\n",
    "HG_cutoff['Distance_to_perfect_model'] = np.sqrt(HG_cutoff['False_Positive']**2 + HG_cutoff['True_Positive_minus_1']**2)\n",
    "\n",
    "## Sorting based on distance to perfect model \n",
    "HG_cutoff = HG_cutoff.sort_values(by = 'Distance_to_perfect_model').reset_index(drop = True)\n",
    "HG_cutoff.head()"
   ]
  },
  {
   "cell_type": "code",
   "execution_count": 13,
   "id": "c7ac966b-52ca-4940-aae0-aa7313353eda",
   "metadata": {},
   "outputs": [
    {
     "name": "stdout",
     "output_type": "stream",
     "text": [
      "              precision    recall  f1-score   support\n",
      "\n",
      "           0       0.97      0.86      0.91       570\n",
      "           1       0.51      0.87      0.64        97\n",
      "\n",
      "    accuracy                           0.86       667\n",
      "   macro avg       0.74      0.86      0.78       667\n",
      "weighted avg       0.91      0.86      0.87       667\n",
      "\n"
     ]
    }
   ],
   "source": [
    "## Changing likelihoods to labels\n",
    "HG_label = np.where(HG_pred < 0.239967, 0, 1)\n",
    "\n",
    "print(classification_report(Y_test, HG_label))"
   ]
  },
  {
   "cell_type": "code",
   "execution_count": null,
   "id": "9ff4c447-413f-48b3-9b05-b91c425ff0fc",
   "metadata": {},
   "outputs": [],
   "source": [
    "# Based on my results, I would use HistGradientBoosting to predict churn."
   ]
  }
 ],
 "metadata": {
  "kernelspec": {
   "display_name": "Python 3 (ipykernel)",
   "language": "python",
   "name": "python3"
  },
  "language_info": {
   "codemirror_mode": {
    "name": "ipython",
    "version": 3
   },
   "file_extension": ".py",
   "mimetype": "text/x-python",
   "name": "python",
   "nbconvert_exporter": "python",
   "pygments_lexer": "ipython3",
   "version": "3.8.16"
  }
 },
 "nbformat": 4,
 "nbformat_minor": 5
}
