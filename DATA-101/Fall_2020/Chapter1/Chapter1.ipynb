{
 "cells": [
  {
   "cell_type": "code",
   "execution_count": null,
   "id": "56c66cf3",
   "metadata": {},
   "outputs": [],
   "source": [
    "## Here we import the pandas library\n",
    "import pandas as pd\n",
    "\n",
    "## Here we read the time series data\n",
    "returns = pd.read_csv('time_series.csv')\n",
    "returns['Date'] = pd.to_datetime(returns['Date'], format = '%m/%d/%Y')\n",
    "\n",
    "## Here we print the first six observation in the data \n",
    "returns.head()\n",
    "\n",
    "## Here we visualize the time series data \n",
    "## First we need to import the matoplotlib library\n",
    "import matplotlib.pyplot as plt\n",
    "\n",
    "plt.plot('Date', 'Ann_Total_Return', data = returns)\n",
    "plt.xlabel('Date')\n",
    "plt.ylabel('Annual Return (%)')\n",
    "plt.grid()\n",
    "plt.legend()\n",
    "plt.show();"
   ]
  },
  {
   "cell_type": "code",
   "execution_count": null,
   "id": "a5296de5",
   "metadata": {},
   "outputs": [],
   "source": [
    "## Let's visualize the forecasted returns\n",
    "plt.plot('Date', 'Ann_Total_Return', data = returns)\n",
    "\n",
    "## Here we add the forecasted returns\n",
    "plt.plot('Date', 'Ann_Forecast_Total_Return', data = returns, color = 'orange')\n",
    "\n",
    "## Here we add the confidence region\n",
    "plt.plot('Date', 'Low_95_Bound', data = returns, color = 'gray')\n",
    "plt.plot('Date', 'Up_95_Bound', data = returns, color = 'gray')\n",
    "\n",
    "## Here we add axis labels, legend and grid\n",
    "plt.xlabel('Date')\n",
    "plt.ylabel('Annual Return (%)')\n",
    "plt.grid()\n",
    "plt.legend()\n",
    "plt.show();"
   ]
  }
 ],
 "metadata": {
  "kernelspec": {
   "display_name": "conda_python3",
   "language": "python",
   "name": "conda_python3"
  },
  "language_info": {
   "codemirror_mode": {
    "name": "ipython",
    "version": 3
   },
   "file_extension": ".py",
   "mimetype": "text/x-python",
   "name": "python",
   "nbconvert_exporter": "python",
   "pygments_lexer": "ipython3",
   "version": "3.6.13"
  }
 },
 "nbformat": 4,
 "nbformat_minor": 5
}
