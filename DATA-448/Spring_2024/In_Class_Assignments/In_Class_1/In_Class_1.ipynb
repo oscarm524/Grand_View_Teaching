{
 "cells": [
  {
   "cell_type": "markdown",
   "id": "023be874-ea47-4180-a3fe-593707310321",
   "metadata": {},
   "source": [
    "# Loading Libraries"
   ]
  },
  {
   "cell_type": "code",
   "execution_count": 1,
   "id": "c7a12108-72d3-4b51-9e0b-342e4e2a5bbf",
   "metadata": {},
   "outputs": [],
   "source": [
    "import pandas as pd\n",
    "import numpy as np\n",
    "from sklearn.model_selection import train_test_split\n",
    "from sklearn.ensemble import RandomForestClassifier, GradientBoostingClassifier\n",
    "from sklearn.metrics import roc_curve, classification_report"
   ]
  },
  {
   "cell_type": "markdown",
   "id": "c69a8814-1163-4552-bd5b-e9a1a43daadb",
   "metadata": {},
   "source": [
    "# Reading the data"
   ]
  },
  {
   "cell_type": "code",
   "execution_count": 2,
   "id": "afb0622c-c501-4d8b-b42f-57f3a752f40b",
   "metadata": {},
   "outputs": [
    {
     "data": {
      "text/html": [
       "<div>\n",
       "<style scoped>\n",
       "    .dataframe tbody tr th:only-of-type {\n",
       "        vertical-align: middle;\n",
       "    }\n",
       "\n",
       "    .dataframe tbody tr th {\n",
       "        vertical-align: top;\n",
       "    }\n",
       "\n",
       "    .dataframe thead th {\n",
       "        text-align: right;\n",
       "    }\n",
       "</style>\n",
       "<table border=\"1\" class=\"dataframe\">\n",
       "  <thead>\n",
       "    <tr style=\"text-align: right;\">\n",
       "      <th></th>\n",
       "      <th>Churn</th>\n",
       "      <th>AccountWeeks</th>\n",
       "      <th>ContractRenewal</th>\n",
       "      <th>DataPlan</th>\n",
       "      <th>DataUsage</th>\n",
       "      <th>CustServCalls</th>\n",
       "      <th>DayMins</th>\n",
       "      <th>DayCalls</th>\n",
       "      <th>MonthlyCharge</th>\n",
       "      <th>OverageFee</th>\n",
       "      <th>RoamMins</th>\n",
       "    </tr>\n",
       "  </thead>\n",
       "  <tbody>\n",
       "    <tr>\n",
       "      <th>0</th>\n",
       "      <td>0</td>\n",
       "      <td>128</td>\n",
       "      <td>1</td>\n",
       "      <td>1</td>\n",
       "      <td>2.7</td>\n",
       "      <td>1</td>\n",
       "      <td>265.1</td>\n",
       "      <td>110</td>\n",
       "      <td>89.0</td>\n",
       "      <td>9.87</td>\n",
       "      <td>10.0</td>\n",
       "    </tr>\n",
       "    <tr>\n",
       "      <th>1</th>\n",
       "      <td>0</td>\n",
       "      <td>107</td>\n",
       "      <td>1</td>\n",
       "      <td>1</td>\n",
       "      <td>3.7</td>\n",
       "      <td>1</td>\n",
       "      <td>161.6</td>\n",
       "      <td>123</td>\n",
       "      <td>82.0</td>\n",
       "      <td>9.78</td>\n",
       "      <td>13.7</td>\n",
       "    </tr>\n",
       "    <tr>\n",
       "      <th>2</th>\n",
       "      <td>0</td>\n",
       "      <td>137</td>\n",
       "      <td>1</td>\n",
       "      <td>0</td>\n",
       "      <td>0.0</td>\n",
       "      <td>0</td>\n",
       "      <td>243.4</td>\n",
       "      <td>114</td>\n",
       "      <td>52.0</td>\n",
       "      <td>6.06</td>\n",
       "      <td>12.2</td>\n",
       "    </tr>\n",
       "    <tr>\n",
       "      <th>3</th>\n",
       "      <td>0</td>\n",
       "      <td>84</td>\n",
       "      <td>0</td>\n",
       "      <td>0</td>\n",
       "      <td>0.0</td>\n",
       "      <td>2</td>\n",
       "      <td>299.4</td>\n",
       "      <td>71</td>\n",
       "      <td>57.0</td>\n",
       "      <td>3.10</td>\n",
       "      <td>6.6</td>\n",
       "    </tr>\n",
       "    <tr>\n",
       "      <th>4</th>\n",
       "      <td>0</td>\n",
       "      <td>75</td>\n",
       "      <td>0</td>\n",
       "      <td>0</td>\n",
       "      <td>0.0</td>\n",
       "      <td>3</td>\n",
       "      <td>166.7</td>\n",
       "      <td>113</td>\n",
       "      <td>41.0</td>\n",
       "      <td>7.42</td>\n",
       "      <td>10.1</td>\n",
       "    </tr>\n",
       "  </tbody>\n",
       "</table>\n",
       "</div>"
      ],
      "text/plain": [
       "   Churn  AccountWeeks  ContractRenewal  DataPlan  DataUsage  CustServCalls  \\\n",
       "0      0           128                1         1        2.7              1   \n",
       "1      0           107                1         1        3.7              1   \n",
       "2      0           137                1         0        0.0              0   \n",
       "3      0            84                0         0        0.0              2   \n",
       "4      0            75                0         0        0.0              3   \n",
       "\n",
       "   DayMins  DayCalls  MonthlyCharge  OverageFee  RoamMins  \n",
       "0    265.1       110           89.0        9.87      10.0  \n",
       "1    161.6       123           82.0        9.78      13.7  \n",
       "2    243.4       114           52.0        6.06      12.2  \n",
       "3    299.4        71           57.0        3.10       6.6  \n",
       "4    166.7       113           41.0        7.42      10.1  "
      ]
     },
     "execution_count": 2,
     "metadata": {},
     "output_type": "execute_result"
    }
   ],
   "source": [
    "churn_data = pd.read_csv('telecom_churn.csv')\n",
    "churn_data.head()"
   ]
  },
  {
   "cell_type": "code",
   "execution_count": 4,
   "id": "97120d86-04e5-46df-9463-924f341a3d95",
   "metadata": {},
   "outputs": [
    {
     "data": {
      "text/plain": [
       "0    0.855086\n",
       "1    0.144914\n",
       "Name: Churn, dtype: float64"
      ]
     },
     "execution_count": 4,
     "metadata": {},
     "output_type": "execute_result"
    }
   ],
   "source": [
    "churn_data['Churn'].value_counts(normalize = True)"
   ]
  },
  {
   "cell_type": "code",
   "execution_count": 5,
   "id": "36c17432-41bd-48f2-8b63-b85399ff1e42",
   "metadata": {},
   "outputs": [],
   "source": [
    "X = churn_data[['AccountWeeks', 'ContractRenewal', 'CustServCalls', 'DayMins', 'MonthlyCharge']]\n",
    "Y = churn_data['Churn']\n",
    "\n",
    "X_train, X_test, Y_train, Y_test = train_test_split(X, Y, test_size = 0.2, stratify = Y)"
   ]
  },
  {
   "cell_type": "markdown",
   "id": "cd2cb0aa-60e8-45b9-bdc9-9ff33db07a02",
   "metadata": {},
   "source": [
    "# Random Forest"
   ]
  },
  {
   "cell_type": "code",
   "execution_count": 9,
   "id": "9b3f9bc7-6c58-4268-8425-72f4a7c43662",
   "metadata": {},
   "outputs": [
    {
     "data": {
      "text/html": [
       "<div>\n",
       "<style scoped>\n",
       "    .dataframe tbody tr th:only-of-type {\n",
       "        vertical-align: middle;\n",
       "    }\n",
       "\n",
       "    .dataframe tbody tr th {\n",
       "        vertical-align: top;\n",
       "    }\n",
       "\n",
       "    .dataframe thead th {\n",
       "        text-align: right;\n",
       "    }\n",
       "</style>\n",
       "<table border=\"1\" class=\"dataframe\">\n",
       "  <thead>\n",
       "    <tr style=\"text-align: right;\">\n",
       "      <th></th>\n",
       "      <th>False_Positive</th>\n",
       "      <th>True_Positive</th>\n",
       "      <th>Cutoff</th>\n",
       "      <th>True_Positive_minus_1</th>\n",
       "      <th>Distance_to_perfect_model</th>\n",
       "    </tr>\n",
       "  </thead>\n",
       "  <tbody>\n",
       "    <tr>\n",
       "      <th>0</th>\n",
       "      <td>0.138596</td>\n",
       "      <td>0.886598</td>\n",
       "      <td>0.150428</td>\n",
       "      <td>-0.113402</td>\n",
       "      <td>0.179078</td>\n",
       "    </tr>\n",
       "    <tr>\n",
       "      <th>1</th>\n",
       "      <td>0.136842</td>\n",
       "      <td>0.865979</td>\n",
       "      <td>0.155983</td>\n",
       "      <td>-0.134021</td>\n",
       "      <td>0.191539</td>\n",
       "    </tr>\n",
       "    <tr>\n",
       "      <th>2</th>\n",
       "      <td>0.138596</td>\n",
       "      <td>0.865979</td>\n",
       "      <td>0.155069</td>\n",
       "      <td>-0.134021</td>\n",
       "      <td>0.192797</td>\n",
       "    </tr>\n",
       "    <tr>\n",
       "      <th>3</th>\n",
       "      <td>0.177193</td>\n",
       "      <td>0.896907</td>\n",
       "      <td>0.116760</td>\n",
       "      <td>-0.103093</td>\n",
       "      <td>0.205001</td>\n",
       "    </tr>\n",
       "    <tr>\n",
       "      <th>4</th>\n",
       "      <td>0.177193</td>\n",
       "      <td>0.886598</td>\n",
       "      <td>0.118149</td>\n",
       "      <td>-0.113402</td>\n",
       "      <td>0.210374</td>\n",
       "    </tr>\n",
       "  </tbody>\n",
       "</table>\n",
       "</div>"
      ],
      "text/plain": [
       "   False_Positive  True_Positive    Cutoff  True_Positive_minus_1  \\\n",
       "0        0.138596       0.886598  0.150428              -0.113402   \n",
       "1        0.136842       0.865979  0.155983              -0.134021   \n",
       "2        0.138596       0.865979  0.155069              -0.134021   \n",
       "3        0.177193       0.896907  0.116760              -0.103093   \n",
       "4        0.177193       0.886598  0.118149              -0.113402   \n",
       "\n",
       "   Distance_to_perfect_model  \n",
       "0                   0.179078  \n",
       "1                   0.191539  \n",
       "2                   0.192797  \n",
       "3                   0.205001  \n",
       "4                   0.210374  "
      ]
     },
     "execution_count": 9,
     "metadata": {},
     "output_type": "execute_result"
    }
   ],
   "source": [
    "RF_md = RandomForestClassifier(n_estimators = 500, \n",
    "                               max_depth = 3).fit(X_train, Y_train)\n",
    "\n",
    "RF_pred = RF_md.predict_proba(X_test)[:, 1]\n",
    "\n",
    "## Computing the ROC-curve\n",
    "fpr, tpr, thresholds = roc_curve(Y_test, RF_pred)\n",
    "\n",
    "## Finding the optimal threshold\n",
    "RF_cutoff = pd.DataFrame({'False_Positive': fpr,\n",
    "                          'True_Positive': tpr,\n",
    "                          'Cutoff': thresholds})\n",
    "\n",
    "RF_cutoff['True_Positive_minus_1'] = RF_cutoff['True_Positive'] - 1\n",
    "RF_cutoff['Distance_to_perfect_model'] = np.sqrt(RF_cutoff['False_Positive']**2 + RF_cutoff['True_Positive_minus_1']**2)\n",
    "\n",
    "## Sorting based on distance to perfect model \n",
    "RF_cutoff = RF_cutoff.sort_values(by = 'Distance_to_perfect_model').reset_index(drop = True)\n",
    "RF_cutoff.head()"
   ]
  },
  {
   "cell_type": "code",
   "execution_count": 10,
   "id": "dfe31ad9-0ff2-4f6a-9c66-daeba73bfd9e",
   "metadata": {},
   "outputs": [
    {
     "name": "stdout",
     "output_type": "stream",
     "text": [
      "              precision    recall  f1-score   support\n",
      "\n",
      "           0       0.98      0.86      0.92       570\n",
      "           1       0.52      0.89      0.66        97\n",
      "\n",
      "    accuracy                           0.87       667\n",
      "   macro avg       0.75      0.87      0.79       667\n",
      "weighted avg       0.91      0.87      0.88       667\n",
      "\n"
     ]
    }
   ],
   "source": [
    "# Changing likelihoods to labels\n",
    "RF_pred_label = np.where(RF_pred < 0.150428, 0, 1)\n",
    "\n",
    "## Classification report\n",
    "print(classification_report(Y_test, RF_pred_label))"
   ]
  },
  {
   "cell_type": "markdown",
   "id": "910c3fd9-517c-46cf-bd8b-290d8085a447",
   "metadata": {},
   "source": [
    "# Gradient Boosting"
   ]
  },
  {
   "cell_type": "code",
   "execution_count": 11,
   "id": "682f89ba-2f6b-4cf5-9972-5f7ee6df0e91",
   "metadata": {},
   "outputs": [
    {
     "data": {
      "text/html": [
       "<div>\n",
       "<style scoped>\n",
       "    .dataframe tbody tr th:only-of-type {\n",
       "        vertical-align: middle;\n",
       "    }\n",
       "\n",
       "    .dataframe tbody tr th {\n",
       "        vertical-align: top;\n",
       "    }\n",
       "\n",
       "    .dataframe thead th {\n",
       "        text-align: right;\n",
       "    }\n",
       "</style>\n",
       "<table border=\"1\" class=\"dataframe\">\n",
       "  <thead>\n",
       "    <tr style=\"text-align: right;\">\n",
       "      <th></th>\n",
       "      <th>False_Positive</th>\n",
       "      <th>True_Positive</th>\n",
       "      <th>Cutoff</th>\n",
       "      <th>True_Positive_minus_1</th>\n",
       "      <th>Distance_to_perfect_model</th>\n",
       "    </tr>\n",
       "  </thead>\n",
       "  <tbody>\n",
       "    <tr>\n",
       "      <th>0</th>\n",
       "      <td>0.098246</td>\n",
       "      <td>0.876289</td>\n",
       "      <td>0.230591</td>\n",
       "      <td>-0.123711</td>\n",
       "      <td>0.157977</td>\n",
       "    </tr>\n",
       "    <tr>\n",
       "      <th>1</th>\n",
       "      <td>0.087719</td>\n",
       "      <td>0.865979</td>\n",
       "      <td>0.247903</td>\n",
       "      <td>-0.134021</td>\n",
       "      <td>0.160176</td>\n",
       "    </tr>\n",
       "    <tr>\n",
       "      <th>2</th>\n",
       "      <td>0.115789</td>\n",
       "      <td>0.886598</td>\n",
       "      <td>0.116273</td>\n",
       "      <td>-0.113402</td>\n",
       "      <td>0.162072</td>\n",
       "    </tr>\n",
       "    <tr>\n",
       "      <th>3</th>\n",
       "      <td>0.096491</td>\n",
       "      <td>0.865979</td>\n",
       "      <td>0.235602</td>\n",
       "      <td>-0.134021</td>\n",
       "      <td>0.165143</td>\n",
       "    </tr>\n",
       "    <tr>\n",
       "      <th>4</th>\n",
       "      <td>0.110526</td>\n",
       "      <td>0.876289</td>\n",
       "      <td>0.132474</td>\n",
       "      <td>-0.123711</td>\n",
       "      <td>0.165893</td>\n",
       "    </tr>\n",
       "  </tbody>\n",
       "</table>\n",
       "</div>"
      ],
      "text/plain": [
       "   False_Positive  True_Positive    Cutoff  True_Positive_minus_1  \\\n",
       "0        0.098246       0.876289  0.230591              -0.123711   \n",
       "1        0.087719       0.865979  0.247903              -0.134021   \n",
       "2        0.115789       0.886598  0.116273              -0.113402   \n",
       "3        0.096491       0.865979  0.235602              -0.134021   \n",
       "4        0.110526       0.876289  0.132474              -0.123711   \n",
       "\n",
       "   Distance_to_perfect_model  \n",
       "0                   0.157977  \n",
       "1                   0.160176  \n",
       "2                   0.162072  \n",
       "3                   0.165143  \n",
       "4                   0.165893  "
      ]
     },
     "execution_count": 11,
     "metadata": {},
     "output_type": "execute_result"
    }
   ],
   "source": [
    "GB_md = GradientBoostingClassifier(n_estimators = 500, \n",
    "                                   max_depth = 3,\n",
    "                                   learning_rate = 0.01).fit(X_train, Y_train)\n",
    "\n",
    "GB_pred = GB_md.predict_proba(X_test)[:, 1]\n",
    "\n",
    "## Computing the ROC-curve\n",
    "fpr, tpr, thresholds = roc_curve(Y_test, GB_pred)\n",
    "\n",
    "## Finding the optimal threshold\n",
    "GB_cutoff = pd.DataFrame({'False_Positive': fpr,\n",
    "                          'True_Positive': tpr,\n",
    "                          'Cutoff': thresholds})\n",
    "\n",
    "GB_cutoff['True_Positive_minus_1'] = GB_cutoff['True_Positive'] - 1\n",
    "GB_cutoff['Distance_to_perfect_model'] = np.sqrt(GB_cutoff['False_Positive']**2 + GB_cutoff['True_Positive_minus_1']**2)\n",
    "\n",
    "## Sorting based on distance to perfect model \n",
    "GB_cutoff = GB_cutoff.sort_values(by = 'Distance_to_perfect_model').reset_index(drop = True)\n",
    "GB_cutoff.head()"
   ]
  },
  {
   "cell_type": "code",
   "execution_count": 12,
   "id": "9c989625-3769-448e-96aa-a262b1b172f0",
   "metadata": {},
   "outputs": [
    {
     "name": "stdout",
     "output_type": "stream",
     "text": [
      "              precision    recall  f1-score   support\n",
      "\n",
      "           0       0.98      0.90      0.94       570\n",
      "           1       0.60      0.87      0.71        97\n",
      "\n",
      "    accuracy                           0.90       667\n",
      "   macro avg       0.79      0.88      0.82       667\n",
      "weighted avg       0.92      0.90      0.91       667\n",
      "\n"
     ]
    }
   ],
   "source": [
    "# Changing likelihoods to labels\n",
    "GB_pred_label = np.where(GB_pred < 0.230591, 0, 1)\n",
    "\n",
    "## Classification report\n",
    "print(classification_report(Y_test, GB_pred_label))"
   ]
  },
  {
   "cell_type": "code",
   "execution_count": null,
   "id": "6b399cc3-32c6-4887-9d6e-f280b7d9e13b",
   "metadata": {},
   "outputs": [],
   "source": [
    "# From the above results, I would use Gradient Boosting to predict Churn."
   ]
  }
 ],
 "metadata": {
  "kernelspec": {
   "display_name": "Python 3 (ipykernel)",
   "language": "python",
   "name": "python3"
  },
  "language_info": {
   "codemirror_mode": {
    "name": "ipython",
    "version": 3
   },
   "file_extension": ".py",
   "mimetype": "text/x-python",
   "name": "python",
   "nbconvert_exporter": "python",
   "pygments_lexer": "ipython3",
   "version": "3.8.16"
  }
 },
 "nbformat": 4,
 "nbformat_minor": 5
}
