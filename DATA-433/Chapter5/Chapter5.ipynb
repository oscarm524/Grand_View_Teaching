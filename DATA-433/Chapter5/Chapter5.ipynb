{
 "cells": [
  {
   "cell_type": "code",
   "execution_count": 1,
   "id": "59310d47",
   "metadata": {},
   "outputs": [
    {
     "name": "stdout",
     "output_type": "stream",
     "text": [
      "[*********************100%***********************]  1 of 1 completed\n"
     ]
    },
    {
     "data": {
      "text/html": [
       "<div>\n",
       "<style scoped>\n",
       "    .dataframe tbody tr th:only-of-type {\n",
       "        vertical-align: middle;\n",
       "    }\n",
       "\n",
       "    .dataframe tbody tr th {\n",
       "        vertical-align: top;\n",
       "    }\n",
       "\n",
       "    .dataframe thead th {\n",
       "        text-align: right;\n",
       "    }\n",
       "</style>\n",
       "<table border=\"1\" class=\"dataframe\">\n",
       "  <thead>\n",
       "    <tr style=\"text-align: right;\">\n",
       "      <th></th>\n",
       "      <th>Open</th>\n",
       "      <th>High</th>\n",
       "      <th>Low</th>\n",
       "      <th>Close</th>\n",
       "      <th>Adj Close</th>\n",
       "      <th>Volume</th>\n",
       "    </tr>\n",
       "    <tr>\n",
       "      <th>Date</th>\n",
       "      <th></th>\n",
       "      <th></th>\n",
       "      <th></th>\n",
       "      <th></th>\n",
       "      <th></th>\n",
       "      <th></th>\n",
       "    </tr>\n",
       "  </thead>\n",
       "  <tbody>\n",
       "    <tr>\n",
       "      <th>2020-01-02</th>\n",
       "      <td>1875.000000</td>\n",
       "      <td>1898.010010</td>\n",
       "      <td>1864.150024</td>\n",
       "      <td>1898.010010</td>\n",
       "      <td>1898.010010</td>\n",
       "      <td>4029000</td>\n",
       "    </tr>\n",
       "    <tr>\n",
       "      <th>2020-01-03</th>\n",
       "      <td>1864.500000</td>\n",
       "      <td>1886.199951</td>\n",
       "      <td>1864.500000</td>\n",
       "      <td>1874.969971</td>\n",
       "      <td>1874.969971</td>\n",
       "      <td>3764400</td>\n",
       "    </tr>\n",
       "    <tr>\n",
       "      <th>2020-01-06</th>\n",
       "      <td>1860.000000</td>\n",
       "      <td>1903.689941</td>\n",
       "      <td>1860.000000</td>\n",
       "      <td>1902.880005</td>\n",
       "      <td>1902.880005</td>\n",
       "      <td>4061800</td>\n",
       "    </tr>\n",
       "    <tr>\n",
       "      <th>2020-01-07</th>\n",
       "      <td>1904.500000</td>\n",
       "      <td>1913.890015</td>\n",
       "      <td>1892.040039</td>\n",
       "      <td>1906.859985</td>\n",
       "      <td>1906.859985</td>\n",
       "      <td>4044900</td>\n",
       "    </tr>\n",
       "    <tr>\n",
       "      <th>2020-01-08</th>\n",
       "      <td>1898.040039</td>\n",
       "      <td>1911.000000</td>\n",
       "      <td>1886.439941</td>\n",
       "      <td>1891.969971</td>\n",
       "      <td>1891.969971</td>\n",
       "      <td>3508000</td>\n",
       "    </tr>\n",
       "  </tbody>\n",
       "</table>\n",
       "</div>"
      ],
      "text/plain": [
       "                   Open         High          Low        Close    Adj Close  \\\n",
       "Date                                                                          \n",
       "2020-01-02  1875.000000  1898.010010  1864.150024  1898.010010  1898.010010   \n",
       "2020-01-03  1864.500000  1886.199951  1864.500000  1874.969971  1874.969971   \n",
       "2020-01-06  1860.000000  1903.689941  1860.000000  1902.880005  1902.880005   \n",
       "2020-01-07  1904.500000  1913.890015  1892.040039  1906.859985  1906.859985   \n",
       "2020-01-08  1898.040039  1911.000000  1886.439941  1891.969971  1891.969971   \n",
       "\n",
       "             Volume  \n",
       "Date                 \n",
       "2020-01-02  4029000  \n",
       "2020-01-03  3764400  \n",
       "2020-01-06  4061800  \n",
       "2020-01-07  4044900  \n",
       "2020-01-08  3508000  "
      ]
     },
     "execution_count": 1,
     "metadata": {},
     "output_type": "execute_result"
    }
   ],
   "source": [
    "## Importing yahoo finance\n",
    "import yfinance as yf\n",
    "\n",
    "## Downloading Amazon stock price data \n",
    "amazon = yf.download('AMZN', start = '2020-01-01', end = '2020-12-31')\n",
    "amazon.head()"
   ]
  },
  {
   "cell_type": "code",
   "execution_count": 2,
   "id": "f782b570",
   "metadata": {},
   "outputs": [
    {
     "data": {
      "text/html": [
       "<div>\n",
       "<style scoped>\n",
       "    .dataframe tbody tr th:only-of-type {\n",
       "        vertical-align: middle;\n",
       "    }\n",
       "\n",
       "    .dataframe tbody tr th {\n",
       "        vertical-align: top;\n",
       "    }\n",
       "\n",
       "    .dataframe thead th {\n",
       "        text-align: right;\n",
       "    }\n",
       "</style>\n",
       "<table border=\"1\" class=\"dataframe\">\n",
       "  <thead>\n",
       "    <tr style=\"text-align: right;\">\n",
       "      <th></th>\n",
       "      <th>Open</th>\n",
       "      <th>High</th>\n",
       "      <th>Low</th>\n",
       "      <th>Close</th>\n",
       "      <th>Adj Close</th>\n",
       "      <th>Volume</th>\n",
       "      <th>tot_return</th>\n",
       "    </tr>\n",
       "    <tr>\n",
       "      <th>Date</th>\n",
       "      <th></th>\n",
       "      <th></th>\n",
       "      <th></th>\n",
       "      <th></th>\n",
       "      <th></th>\n",
       "      <th></th>\n",
       "      <th></th>\n",
       "    </tr>\n",
       "  </thead>\n",
       "  <tbody>\n",
       "    <tr>\n",
       "      <th>2020-01-02</th>\n",
       "      <td>1875.000000</td>\n",
       "      <td>1898.010010</td>\n",
       "      <td>1864.150024</td>\n",
       "      <td>1898.010010</td>\n",
       "      <td>1898.010010</td>\n",
       "      <td>4029000</td>\n",
       "      <td>NaN</td>\n",
       "    </tr>\n",
       "    <tr>\n",
       "      <th>2020-01-03</th>\n",
       "      <td>1864.500000</td>\n",
       "      <td>1886.199951</td>\n",
       "      <td>1864.500000</td>\n",
       "      <td>1874.969971</td>\n",
       "      <td>1874.969971</td>\n",
       "      <td>3764400</td>\n",
       "      <td>-0.012139</td>\n",
       "    </tr>\n",
       "    <tr>\n",
       "      <th>2020-01-06</th>\n",
       "      <td>1860.000000</td>\n",
       "      <td>1903.689941</td>\n",
       "      <td>1860.000000</td>\n",
       "      <td>1902.880005</td>\n",
       "      <td>1902.880005</td>\n",
       "      <td>4061800</td>\n",
       "      <td>0.014886</td>\n",
       "    </tr>\n",
       "    <tr>\n",
       "      <th>2020-01-07</th>\n",
       "      <td>1904.500000</td>\n",
       "      <td>1913.890015</td>\n",
       "      <td>1892.040039</td>\n",
       "      <td>1906.859985</td>\n",
       "      <td>1906.859985</td>\n",
       "      <td>4044900</td>\n",
       "      <td>0.002092</td>\n",
       "    </tr>\n",
       "    <tr>\n",
       "      <th>2020-01-08</th>\n",
       "      <td>1898.040039</td>\n",
       "      <td>1911.000000</td>\n",
       "      <td>1886.439941</td>\n",
       "      <td>1891.969971</td>\n",
       "      <td>1891.969971</td>\n",
       "      <td>3508000</td>\n",
       "      <td>-0.007809</td>\n",
       "    </tr>\n",
       "  </tbody>\n",
       "</table>\n",
       "</div>"
      ],
      "text/plain": [
       "                   Open         High          Low        Close    Adj Close  \\\n",
       "Date                                                                          \n",
       "2020-01-02  1875.000000  1898.010010  1864.150024  1898.010010  1898.010010   \n",
       "2020-01-03  1864.500000  1886.199951  1864.500000  1874.969971  1874.969971   \n",
       "2020-01-06  1860.000000  1903.689941  1860.000000  1902.880005  1902.880005   \n",
       "2020-01-07  1904.500000  1913.890015  1892.040039  1906.859985  1906.859985   \n",
       "2020-01-08  1898.040039  1911.000000  1886.439941  1891.969971  1891.969971   \n",
       "\n",
       "             Volume  tot_return  \n",
       "Date                             \n",
       "2020-01-02  4029000         NaN  \n",
       "2020-01-03  3764400   -0.012139  \n",
       "2020-01-06  4061800    0.014886  \n",
       "2020-01-07  4044900    0.002092  \n",
       "2020-01-08  3508000   -0.007809  "
      ]
     },
     "execution_count": 2,
     "metadata": {},
     "output_type": "execute_result"
    }
   ],
   "source": [
    "## Computing the total returns \n",
    "amazon['tot_return'] = amazon['Adj Close'].pct_change()\n",
    "amazon.head()"
   ]
  },
  {
   "cell_type": "code",
   "execution_count": 3,
   "id": "ef954c03",
   "metadata": {},
   "outputs": [
    {
     "data": {
      "text/plain": [
       "0.0005903771928720667"
      ]
     },
     "execution_count": 3,
     "metadata": {},
     "output_type": "execute_result"
    }
   ],
   "source": [
    "## Computing the variance of the total returns\n",
    "amazon['tot_return'].var()"
   ]
  },
  {
   "cell_type": "code",
   "execution_count": 4,
   "id": "087a0406",
   "metadata": {},
   "outputs": [
    {
     "data": {
      "text/plain": [
       "0.0242976787548125"
      ]
     },
     "execution_count": 4,
     "metadata": {},
     "output_type": "execute_result"
    }
   ],
   "source": [
    "## Computing the standard deviation of the total returns\n",
    "amazon['tot_return'].std()"
   ]
  },
  {
   "cell_type": "code",
   "execution_count": 5,
   "id": "15475f40",
   "metadata": {},
   "outputs": [
    {
     "name": "stdout",
     "output_type": "stream",
     "text": [
      "[*********************100%***********************]  1 of 1 completed\n",
      "[*********************100%***********************]  1 of 1 completed\n"
     ]
    },
    {
     "data": {
      "text/plain": [
       "0.0004712702335428186"
      ]
     },
     "execution_count": 5,
     "metadata": {},
     "output_type": "execute_result"
    }
   ],
   "source": [
    "## Importing yahoo finance\n",
    "import yfinance as yf\n",
    "\n",
    "## Downloading Amazon stock price data \n",
    "amazon = yf.download('AMZN', start = '2020-01-01', end = '2020-12-31')\n",
    "\n",
    "## Downloading IBM stock price data\n",
    "ibm = yf.download('IBM', start = '2020-01-01', end = '2020-12-31')\n",
    "\n",
    "## Computing the total returns\n",
    "amazon['tot_return'] = amazon['Adj Close'].pct_change()\n",
    "ibm['tot_return'] = ibm['Adj Close'].pct_change()\n",
    "\n",
    "## Computing the variance of the total returns\n",
    "amazon_var = amazon['tot_return'].var()\n",
    "ibm_var = ibm['tot_return'].var()\n",
    "\n",
    "## Importing pandas\n",
    "import pandas as pd\n",
    "\n",
    "## Computing the covariance\n",
    "return_data = pd.DataFrame({'AMZN_tot_return': amazon['tot_return'], 'IBM_tot_return': ibm['tot_return']})\n",
    "amazon_ibm_cov = return_data.cov()\n",
    "\n",
    "## Computing the portfolio variance\n",
    "portfolio_risk = 0.75**2*amazon_var + 0.25**2*ibm_var + 2*0.75*0.25*0.000260\n",
    "portfolio_risk"
   ]
  },
  {
   "cell_type": "code",
   "execution_count": 6,
   "id": "820fbc0c",
   "metadata": {},
   "outputs": [
    {
     "name": "stdout",
     "output_type": "stream",
     "text": [
      "[*********************100%***********************]  1 of 1 completed\n",
      "[*********************100%***********************]  1 of 1 completed\n"
     ]
    },
    {
     "data": {
      "text/plain": [
       "0.00047125357597874276"
      ]
     },
     "execution_count": 6,
     "metadata": {},
     "output_type": "execute_result"
    }
   ],
   "source": [
    "## Importing yahoo finance\n",
    "import yfinance as yf\n",
    "\n",
    "## Downloading Amazon stock price data \n",
    "amazon = yf.download('AMZN', start = '2020-01-01', end = '2020-12-31')\n",
    "\n",
    "## Downloading IBM stock price data\n",
    "ibm = yf.download('IBM', start = '2020-01-01', end = '2020-12-31')\n",
    "\n",
    "## Computing the total returns\n",
    "amazon['tot_return'] = amazon['Adj Close'].pct_change()\n",
    "ibm['tot_return'] = ibm['Adj Close'].pct_change()\n",
    "\n",
    "## Computing the variance of the total returns\n",
    "amazon_var = amazon['tot_return'].var()\n",
    "ibm_var = ibm['tot_return'].var()\n",
    "\n",
    "## Importing pandas and numpy\n",
    "import pandas as pd\n",
    "import numpy as np\n",
    "\n",
    "## Computing the variance-covariance matrix\n",
    "returns = pd.DataFrame({'AMZN_tot_return': amazon['tot_return'], 'IBM_tot_return': ibm['tot_return']})\n",
    "returns_cov = returns.cov()\n",
    "\n",
    "## Defining the vector of weights\n",
    "w = np.array([0.75, 0.25])\n",
    "\n",
    "## Computing the variance of the portfolio\n",
    "portfolio_var = np.dot(np.dot(np.transpose(w), returns_cov), w)\n",
    "portfolio_var"
   ]
  },
  {
   "cell_type": "code",
   "execution_count": 7,
   "id": "1c061392",
   "metadata": {},
   "outputs": [
    {
     "name": "stdout",
     "output_type": "stream",
     "text": [
      "[*********************100%***********************]  1 of 1 completed\n",
      "[*********************100%***********************]  1 of 1 completed\n",
      "[*********************100%***********************]  1 of 1 completed\n",
      "[*********************100%***********************]  1 of 1 completed\n"
     ]
    },
    {
     "data": {
      "text/plain": [
       "0.0009052485130435616"
      ]
     },
     "execution_count": 7,
     "metadata": {},
     "output_type": "execute_result"
    }
   ],
   "source": [
    "## Importing yahoo finance\n",
    "import yfinance as yf\n",
    "\n",
    "## Downloading Amazon stock price data \n",
    "amazon = yf.download('AMZN', start = '2020-01-01', end = '2020-12-31')\n",
    "\n",
    "## Downloading Tesla stock price data \n",
    "tesla = yf.download('TSLA', start = '2020-01-01', end = '2020-12-31')\n",
    "\n",
    "## Downloading Apple stock price data\n",
    "apple = yf.download('AAPL', start = '2020-01-01', end = '2020-12-31')\n",
    "\n",
    "## Downloading IBM stock price data\n",
    "ibm = yf.download('IBM', start = '2020-01-01', end = '2020-12-31')\n",
    "\n",
    "## Computing the total returns\n",
    "amazon['tot_return'] = amazon['Adj Close'].pct_change()\n",
    "tesla['tot_return'] = tesla['Adj Close'].pct_change()\n",
    "apple['tot_return'] = apple['Adj Close'].pct_change()\n",
    "ibm['tot_return'] = ibm['Adj Close'].pct_change()\n",
    "\n",
    "## Importing pandas and numpy\n",
    "import pandas as pd\n",
    "import numpy as np\n",
    "\n",
    "## Computing the variance-covariance matrix\n",
    "returns = pd.DataFrame({'AMZN_tot_return': amazon['tot_return'], 'TSLA_tot_return': tesla['tot_return'], 'AAPL_tot_return': apple['tot_return'], 'IBM_tot_return': ibm['tot_return']})\n",
    "returns_cov = returns.cov()\n",
    "\n",
    "## Defining the vector of weights\n",
    "w = np.array([0.35, 0.35, 0.20, 0.10])\n",
    "\n",
    "## Computing the variance of the portfolio\n",
    "portfolio_var = np.dot(np.dot(np.transpose(w), returns_cov), w)\n",
    "portfolio_var"
   ]
  },
  {
   "cell_type": "code",
   "execution_count": 8,
   "id": "b220c430",
   "metadata": {},
   "outputs": [
    {
     "name": "stdout",
     "output_type": "stream",
     "text": [
      "[*********************100%***********************]  1 of 1 completed\n",
      "[*********************100%***********************]  1 of 1 completed\n",
      "[*********************100%***********************]  1 of 1 completed\n"
     ]
    },
    {
     "data": {
      "text/plain": [
       "4358.959289856853"
      ]
     },
     "execution_count": 8,
     "metadata": {},
     "output_type": "execute_result"
    }
   ],
   "source": [
    "## Importing yahoo finance\n",
    "import yfinance as yf \n",
    "\n",
    "## Downloading Amazon stock price data \n",
    "amazon = yf.download('AMZN', start = '2020-01-01', end = '2020-12-31')\n",
    "\n",
    "## Downloading Netflix stock price data \n",
    "netflix = yf.download('NFLX', start = '2020-01-01', end = '2020-12-31')\n",
    "\n",
    "## Downloading Tesla stock price data \n",
    "tesla = yf.download('TSLA',start = '2020-01-01', end = '2020-12-31')\n",
    "\n",
    "## Importing pandas\n",
    "import pandas as pd\n",
    "\n",
    "## Defining the returns data-frame\n",
    "returns = pd.DataFrame({'AMZN_tot_return': amazon['Adj Close'].pct_change(), 'NFLX_tot_return': netflix['Adj Close'].pct_change(), 'TSLA_tot_return': tesla['Adj Close'].pct_change()})\n",
    "returns = returns.dropna()\n",
    "\n",
    "## Computing the portfolio returns \n",
    "returns['portfolio_return'] = 0.35*returns['AMZN_tot_return'] + 0.35*returns['NFLX_tot_return'] + 0.3*returns['TSLA_tot_return']\n",
    "\n",
    "## Computing the portfolio mean return\n",
    "mu = returns['portfolio_return'].mean()\n",
    "\n",
    "## Computing the portfolio standard deviation\n",
    "sigma = returns['portfolio_return'].std()\n",
    "\n",
    "## Importing norm \n",
    "from scipy.stats import norm\n",
    "\n",
    "## Computing the VaR\n",
    "VaR = -(mu + sigma*norm.ppf(0.05))*100000\n",
    "VaR"
   ]
  },
  {
   "cell_type": "code",
   "execution_count": 9,
   "id": "a8db0f60",
   "metadata": {},
   "outputs": [
    {
     "name": "stdout",
     "output_type": "stream",
     "text": [
      "[*********************100%***********************]  1 of 1 completed\n",
      "[*********************100%***********************]  1 of 1 completed\n",
      "[*********************100%***********************]  1 of 1 completed\n"
     ]
    },
    {
     "data": {
      "text/plain": [
       "-21223.25368832433"
      ]
     },
     "execution_count": 9,
     "metadata": {},
     "output_type": "execute_result"
    }
   ],
   "source": [
    "## Importing yahoo finance\n",
    "import yfinance as yf \n",
    "\n",
    "## Downloading Amazon stock price data \n",
    "amazon = yf.download('AMZN', start = '2018-01-01', end = '2020-12-31')\n",
    "\n",
    "## Downloading Netflix stock price data \n",
    "netflix = yf.download('NFLX', start = '2018-01-01', end = '2020-12-31')\n",
    "\n",
    "## Downloading Tesla stock price data \n",
    "tesla = yf.download('TSLA',start = '2018-01-01', end = '2020-12-31')\n",
    "\n",
    "## Importing pandas and numpy\n",
    "import pandas as pd\n",
    "import numpy as np\n",
    "\n",
    "## Defining the returns data-frame\n",
    "returns = pd.DataFrame({'AMZN_tot_return': amazon['Adj Close'].pct_change(), 'NFLX_tot_return': netflix['Adj Close'].pct_change(), 'TSLA_tot_return': tesla['Adj Close'].pct_change()})\n",
    "returns = returns.dropna()\n",
    "\n",
    "## Computing value of each security\n",
    "returns['AMZN_gross_return'] = 1 + returns['AMZN_tot_return']\n",
    "returns['AMZN_cum_return'] = returns['AMZN_gross_return'].cumprod()\n",
    "AMZN_current_value = 0.35*returns['AMZN_cum_return'][-1]*100000\n",
    "\n",
    "returns['NFLX_gross_return'] = 1 + returns['NFLX_tot_return']\n",
    "returns['NFLX_cum_return'] = returns['NFLX_gross_return'].cumprod()\n",
    "NFLX_current_value = 0.35*returns['NFLX_cum_return'][-1]*100000\n",
    "\n",
    "returns['TSLA_gross_return'] = 1 + returns['TSLA_tot_return']\n",
    "returns['TSLA_cum_return'] = returns['TSLA_gross_return'].cumprod()\n",
    "TSLA_current_value = 0.30*returns['TSLA_cum_return'][-1]*100000\n",
    "\n",
    "## Simulating portfolio returns\n",
    "sim_portfolio = AMZN_current_value*returns['AMZN_tot_return'] + NFLX_current_value*returns['NFLX_tot_return'] + TSLA_current_value*returns['TSLA_tot_return']\n",
    "\n",
    "## Computing the 5% historical VaR\n",
    "VaR = np.percentile(sim_portfolio, 5)\n",
    "VaR"
   ]
  },
  {
   "cell_type": "code",
   "execution_count": 10,
   "id": "308f9bef",
   "metadata": {},
   "outputs": [
    {
     "name": "stdout",
     "output_type": "stream",
     "text": [
      "[*********************100%***********************]  1 of 1 completed\n",
      "[*********************100%***********************]  1 of 1 completed\n",
      "[*********************100%***********************]  1 of 1 completed\n"
     ]
    },
    {
     "data": {
      "text/plain": [
       "6514.387731847249"
      ]
     },
     "execution_count": 10,
     "metadata": {},
     "output_type": "execute_result"
    }
   ],
   "source": [
    "## Importing yahoo finance\n",
    "import yfinance as yf \n",
    "\n",
    "## Downloading Amazon stock price data \n",
    "amazon = yf.download('AMZN', start = '2020-01-01', end = '2020-12-31')\n",
    "\n",
    "## Downloading Netflix stock price data \n",
    "netflix = yf.download('NFLX', start = '2020-01-01', end = '2020-12-31')\n",
    "\n",
    "## Downloading Tesla stock price data \n",
    "tesla = yf.download('TSLA',start = '2020-01-01', end = '2020-12-31')\n",
    "\n",
    "## Importing pandas\n",
    "import pandas as pd\n",
    "\n",
    "## Defining the returns data-frame\n",
    "returns = pd.DataFrame({'AMZN_tot_return': amazon['Adj Close'].pct_change(), 'NFLX_tot_return': netflix['Adj Close'].pct_change(), 'TSLA_tot_return': tesla['Adj Close'].pct_change()})\n",
    "returns = returns.dropna()\n",
    "\n",
    "## Computing the portfolio returns \n",
    "returns['portfolio_return'] = 0.35*returns['AMZN_tot_return'] + 0.35*returns['NFLX_tot_return'] + 0.3*returns['TSLA_tot_return']\n",
    "\n",
    "## Computing the portfolio mean return\n",
    "mu = returns['portfolio_return'].mean()\n",
    "\n",
    "## Computing the portfolio standard deviation\n",
    "sigma = returns['portfolio_return'].std()\n",
    "\n",
    "## Importing norm \n",
    "from scipy.stats import norm\n",
    "\n",
    "## Computing the VaR\n",
    "ES = (mu + sigma*norm.pdf(norm.ppf(0.05))/0.05)*100000\n",
    "ES"
   ]
  },
  {
   "cell_type": "code",
   "execution_count": 11,
   "id": "1cbf00cb",
   "metadata": {},
   "outputs": [
    {
     "name": "stdout",
     "output_type": "stream",
     "text": [
      "[*********************100%***********************]  1 of 1 completed\n",
      "[*********************100%***********************]  1 of 1 completed\n",
      "[*********************100%***********************]  1 of 1 completed\n"
     ]
    },
    {
     "data": {
      "text/plain": [
       "-36235.99577607297"
      ]
     },
     "execution_count": 11,
     "metadata": {},
     "output_type": "execute_result"
    }
   ],
   "source": [
    "## Importing yahoo finance\n",
    "import yfinance as yf \n",
    "\n",
    "## Downloading Amazon stock price data \n",
    "amazon = yf.download('AMZN', start = '2018-01-01', end = '2020-12-31')\n",
    "\n",
    "## Downloading Netflix stock price data \n",
    "netflix = yf.download('NFLX', start = '2018-01-01', end = '2020-12-31')\n",
    "\n",
    "## Downloading Tesla stock price data \n",
    "tesla = yf.download('TSLA',start = '2018-01-01', end = '2020-12-31')\n",
    "\n",
    "## Importing pandas and numpy\n",
    "import pandas as pd\n",
    "import numpy as np\n",
    "\n",
    "## Defining the returns data-frame\n",
    "returns = pd.DataFrame({'AMZN_tot_return': amazon['Adj Close'].pct_change(), 'NFLX_tot_return': netflix['Adj Close'].pct_change(), 'TSLA_tot_return': tesla['Adj Close'].pct_change()})\n",
    "returns = returns.dropna()\n",
    "\n",
    "## Computing value of each security\n",
    "returns['AMZN_gross_return'] = 1 + returns['AMZN_tot_return']\n",
    "returns['AMZN_cum_return'] = returns['AMZN_gross_return'].cumprod()\n",
    "AMZN_current_value = 0.35*returns['AMZN_cum_return'][-1]*100000\n",
    "\n",
    "returns['NFLX_gross_return'] = 1 + returns['NFLX_tot_return']\n",
    "returns['NFLX_cum_return'] = returns['NFLX_gross_return'].cumprod()\n",
    "NFLX_current_value = 0.35*returns['NFLX_cum_return'][-1]*100000\n",
    "\n",
    "returns['TSLA_gross_return'] = 1 + returns['TSLA_tot_return']\n",
    "returns['TSLA_cum_return'] = returns['TSLA_gross_return'].cumprod()\n",
    "TSLA_current_value = 0.30*returns['TSLA_cum_return'][-1]*100000\n",
    "\n",
    "## Simulating portfolio returns\n",
    "sim_portfolio = AMZN_current_value*returns['AMZN_tot_return'] + NFLX_current_value*returns['NFLX_tot_return'] + TSLA_current_value*returns['TSLA_tot_return']\n",
    "\n",
    "## Computing the 5% historical VaR\n",
    "VaR = np.percentile(sim_portfolio, 5)\n",
    "\n",
    "## Computing the average of the of losses in excess of VaR\n",
    "ES = sim_portfolio[sim_portfolio < VaR].mean()\n",
    "ES"
   ]
  },
  {
   "cell_type": "code",
   "execution_count": 12,
   "id": "cb66f74f",
   "metadata": {},
   "outputs": [
    {
     "name": "stdout",
     "output_type": "stream",
     "text": [
      "[*********************100%***********************]  1 of 1 completed\n"
     ]
    },
    {
     "data": {
      "text/plain": [
       "0.019112787349087494"
      ]
     },
     "execution_count": 12,
     "metadata": {},
     "output_type": "execute_result"
    }
   ],
   "source": [
    "## Importing yahoo finance\n",
    "import yfinance as yf \n",
    "\n",
    "## Downloading Amazon stock price data \n",
    "amazon = yf.download('AMZN', start = '2020-01-01', end = '2020-12-31')\n",
    "\n",
    "## Importing numpy\n",
    "import numpy as np\n",
    "\n",
    "## Computing the log(h_t/l_t)\n",
    "amazon['log_high_low'] = np.log(amazon['High'] / amazon['Low'])\n",
    "\n",
    "## Computing log-square\n",
    "amazon['log_square'] = amazon['log_high_low']**2\n",
    "\n",
    "## Computing the sum of log-square\n",
    "log_square_sum = np.sum(amazon['log_square'])\n",
    "\n",
    "## Computing the Parkinson volatility measure\n",
    "Parkinson = np.sqrt((1/(4*amazon.shape[0]*np.log(2))) * log_square_sum)\n",
    "Parkinson"
   ]
  },
  {
   "cell_type": "code",
   "execution_count": 13,
   "id": "b4b56ffc",
   "metadata": {},
   "outputs": [
    {
     "name": "stdout",
     "output_type": "stream",
     "text": [
      "[*********************100%***********************]  1 of 1 completed\n"
     ]
    },
    {
     "data": {
      "text/plain": [
       "0.022497910783343223"
      ]
     },
     "execution_count": 13,
     "metadata": {},
     "output_type": "execute_result"
    }
   ],
   "source": [
    "## Importing yahoo finance\n",
    "import yfinance as yf \n",
    "\n",
    "## Downloading Amazon stock price data \n",
    "amazon = yf.download('AMZN', start = '2020-01-01', end = '2020-12-31')\n",
    "\n",
    "## Importing numpy\n",
    "import numpy as np\n",
    "\n",
    "## Computing the log(h_t/l_t) and its square\n",
    "amazon['log_high_low'] = np.log(amazon['High'] / amazon['Low'])\n",
    "amazon['log_high_low_square'] = amazon['log_high_low']**2\n",
    "\n",
    "## Computing the log(c_t/o_t) and its square\n",
    "amazon['log_close_open'] = np.log(amazon['Close'] / amazon['Open'])\n",
    "amazon['log_close_open_square'] = amazon['log_close_open']**2\n",
    "\n",
    "## Computing the Garman-Klass volatility measure\n",
    "Garman_Klass = np.sqrt((1/(2*amazon.shape[0]))*np.sum(amazon['log_high_low_square'] - ((2*np.log(2) - 1)/amazon.shape[0])*amazon['log_close_open_square']))\n",
    "Garman_Klass"
   ]
  },
  {
   "cell_type": "code",
   "execution_count": 14,
   "id": "0d9e8229",
   "metadata": {},
   "outputs": [
    {
     "name": "stdout",
     "output_type": "stream",
     "text": [
      "[*********************100%***********************]  1 of 1 completed\n"
     ]
    },
    {
     "data": {
      "text/plain": [
       "0.019670108899349153"
      ]
     },
     "execution_count": 14,
     "metadata": {},
     "output_type": "execute_result"
    }
   ],
   "source": [
    "## Importing yahoo finance\n",
    "import yfinance as yf \n",
    "\n",
    "## Downloading Amazon stock price data \n",
    "amazon = yf.download('AMZN', start = '2020-01-01', end = '2020-12-31')\n",
    "\n",
    "## Importing numpy\n",
    "import numpy as np\n",
    "\n",
    "## Computing the log(h_t/c_t) \n",
    "amazon['log_high_close'] = np.log(amazon['High'] / amazon['Close'])\n",
    "\n",
    "## Computing the log(h_t/o_t)\n",
    "amazon['log_high_open'] = np.log(amazon['High'] / amazon['Open'])\n",
    "\n",
    "## Computing the log(l_t/c_t)\n",
    "amazon['log_low_close'] = np.log(amazon['Low'] / amazon['Close'])\n",
    "\n",
    "## Computing the log(l_t/o_t)\n",
    "amazon['log_low_open'] = np.log(amazon['Low'] / amazon['Open'])\n",
    "\n",
    "## Computing the RSY volatility measure\n",
    "RSY = np.sqrt((1/amazon.shape[0])*np.sum(amazon['log_high_close']*amazon['log_high_open'] + amazon['log_low_close']*amazon['log_low_open']))\n",
    "RSY"
   ]
  },
  {
   "cell_type": "code",
   "execution_count": 15,
   "id": "87432bf5",
   "metadata": {},
   "outputs": [
    {
     "name": "stdout",
     "output_type": "stream",
     "text": [
      "[*********************100%***********************]  1 of 1 completed\n"
     ]
    },
    {
     "data": {
      "text/plain": [
       "0.026684235685920373"
      ]
     },
     "execution_count": 15,
     "metadata": {},
     "output_type": "execute_result"
    }
   ],
   "source": [
    "## Importing yahoo finance\n",
    "import yfinance as yf \n",
    "\n",
    "## Downloading Amazon stock price data \n",
    "amazon = yf.download('AMZN', start = '2020-01-01', end = '2020-12-31')\n",
    "\n",
    "## Importing numpy\n",
    "import numpy as np\n",
    "\n",
    "## Computing the log(h_t/c_t) \n",
    "amazon['log_high_close'] = np.log(amazon['High'] / amazon['Close'])\n",
    "\n",
    "## Computing the log(h_t/o_t)\n",
    "amazon['log_high_open'] = np.log(amazon['High'] / amazon['Open'])\n",
    "\n",
    "## Computing the log(l_t/c_t)\n",
    "amazon['log_low_close'] = np.log(amazon['Low'] / amazon['Close'])\n",
    "\n",
    "## Computing the log(l_t/o_t)\n",
    "amazon['log_low_open'] = np.log(amazon['Low'] / amazon['Open'])\n",
    "\n",
    "## Computing the RSY volatility measure\n",
    "RSY = np.sqrt((1/amazon.shape[0])*np.sum(amazon['log_high_close']*amazon['log_high_open'] + amazon['log_low_close']*amazon['log_low_open']))\n",
    "\n",
    "## Computing sigma^2 close-to-open\n",
    "sigma_square_close_to_open = (1/(amazon.shape[0]-1))*np.sum((np.log(amazon['Open'].iloc[1:] / amazon['Close'].iloc[:-1]) - (1/amazon.shape[0])*np.sum(np.log(amazon['Open'].iloc[1:] / amazon['Close'].iloc[:-1])))**2)\n",
    "\n",
    "## Computing sigma^2 open-to-close\n",
    "sigma_square_open_to_close = (1/(amazon.shape[0]-1))*np.sum((np.log(amazon['Close'] / amazon['Open']) - (1/amazon.shape[0])*np.sum(np.log(amazon['Close'] / amazon['Open'])))**2)\n",
    "\n",
    "## Computing k\n",
    "k = 0.34 / (1.34 + ((amazon.shape[0] + 1) / (amazon.shape[0] - 1)))\n",
    "\n",
    "## Computing the Yang-Zhang volatility measure\n",
    "Yang_Zhang = np.sqrt(sigma_square_close_to_open + k*sigma_square_open_to_close + (1-k)*RSY**2)\n",
    "Yang_Zhang"
   ]
  }
 ],
 "metadata": {
  "kernelspec": {
   "display_name": "conda_python3",
   "language": "python",
   "name": "conda_python3"
  },
  "language_info": {
   "codemirror_mode": {
    "name": "ipython",
    "version": 3
   },
   "file_extension": ".py",
   "mimetype": "text/x-python",
   "name": "python",
   "nbconvert_exporter": "python",
   "pygments_lexer": "ipython3",
   "version": "3.6.13"
  }
 },
 "nbformat": 4,
 "nbformat_minor": 5
}
