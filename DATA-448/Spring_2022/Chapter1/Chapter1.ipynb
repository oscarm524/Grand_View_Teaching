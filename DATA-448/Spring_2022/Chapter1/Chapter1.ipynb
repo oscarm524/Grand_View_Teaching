{
 "cells": [
  {
   "cell_type": "code",
   "execution_count": null,
   "id": "10b22552",
   "metadata": {},
   "outputs": [],
   "source": [
    "pip install imblearn"
   ]
  },
  {
   "cell_type": "code",
   "execution_count": 40,
   "id": "6b400586",
   "metadata": {},
   "outputs": [
    {
     "data": {
      "text/html": [
       "<div>\n",
       "<style scoped>\n",
       "    .dataframe tbody tr th:only-of-type {\n",
       "        vertical-align: middle;\n",
       "    }\n",
       "\n",
       "    .dataframe tbody tr th {\n",
       "        vertical-align: top;\n",
       "    }\n",
       "\n",
       "    .dataframe thead th {\n",
       "        text-align: right;\n",
       "    }\n",
       "</style>\n",
       "<table border=\"1\" class=\"dataframe\">\n",
       "  <thead>\n",
       "    <tr style=\"text-align: right;\">\n",
       "      <th></th>\n",
       "      <th>male</th>\n",
       "      <th>age</th>\n",
       "      <th>education</th>\n",
       "      <th>currentSmoker</th>\n",
       "      <th>cigsPerDay</th>\n",
       "      <th>BPMeds</th>\n",
       "      <th>prevalentStroke</th>\n",
       "      <th>prevalentHyp</th>\n",
       "      <th>diabetes</th>\n",
       "      <th>totChol</th>\n",
       "      <th>sysBP</th>\n",
       "      <th>diaBP</th>\n",
       "      <th>BMI</th>\n",
       "      <th>heartRate</th>\n",
       "      <th>glucose</th>\n",
       "      <th>TenYearCHD</th>\n",
       "    </tr>\n",
       "  </thead>\n",
       "  <tbody>\n",
       "    <tr>\n",
       "      <th>0</th>\n",
       "      <td>1</td>\n",
       "      <td>39</td>\n",
       "      <td>4.0</td>\n",
       "      <td>0</td>\n",
       "      <td>0.0</td>\n",
       "      <td>0.0</td>\n",
       "      <td>0</td>\n",
       "      <td>0</td>\n",
       "      <td>0</td>\n",
       "      <td>195.0</td>\n",
       "      <td>106.0</td>\n",
       "      <td>70.0</td>\n",
       "      <td>26.97</td>\n",
       "      <td>80.0</td>\n",
       "      <td>77.0</td>\n",
       "      <td>0</td>\n",
       "    </tr>\n",
       "    <tr>\n",
       "      <th>1</th>\n",
       "      <td>0</td>\n",
       "      <td>46</td>\n",
       "      <td>2.0</td>\n",
       "      <td>0</td>\n",
       "      <td>0.0</td>\n",
       "      <td>0.0</td>\n",
       "      <td>0</td>\n",
       "      <td>0</td>\n",
       "      <td>0</td>\n",
       "      <td>250.0</td>\n",
       "      <td>121.0</td>\n",
       "      <td>81.0</td>\n",
       "      <td>28.73</td>\n",
       "      <td>95.0</td>\n",
       "      <td>76.0</td>\n",
       "      <td>0</td>\n",
       "    </tr>\n",
       "    <tr>\n",
       "      <th>2</th>\n",
       "      <td>1</td>\n",
       "      <td>48</td>\n",
       "      <td>1.0</td>\n",
       "      <td>1</td>\n",
       "      <td>20.0</td>\n",
       "      <td>0.0</td>\n",
       "      <td>0</td>\n",
       "      <td>0</td>\n",
       "      <td>0</td>\n",
       "      <td>245.0</td>\n",
       "      <td>127.5</td>\n",
       "      <td>80.0</td>\n",
       "      <td>25.34</td>\n",
       "      <td>75.0</td>\n",
       "      <td>70.0</td>\n",
       "      <td>0</td>\n",
       "    </tr>\n",
       "    <tr>\n",
       "      <th>3</th>\n",
       "      <td>0</td>\n",
       "      <td>61</td>\n",
       "      <td>3.0</td>\n",
       "      <td>1</td>\n",
       "      <td>30.0</td>\n",
       "      <td>0.0</td>\n",
       "      <td>0</td>\n",
       "      <td>1</td>\n",
       "      <td>0</td>\n",
       "      <td>225.0</td>\n",
       "      <td>150.0</td>\n",
       "      <td>95.0</td>\n",
       "      <td>28.58</td>\n",
       "      <td>65.0</td>\n",
       "      <td>103.0</td>\n",
       "      <td>1</td>\n",
       "    </tr>\n",
       "    <tr>\n",
       "      <th>4</th>\n",
       "      <td>0</td>\n",
       "      <td>46</td>\n",
       "      <td>3.0</td>\n",
       "      <td>1</td>\n",
       "      <td>23.0</td>\n",
       "      <td>0.0</td>\n",
       "      <td>0</td>\n",
       "      <td>0</td>\n",
       "      <td>0</td>\n",
       "      <td>285.0</td>\n",
       "      <td>130.0</td>\n",
       "      <td>84.0</td>\n",
       "      <td>23.10</td>\n",
       "      <td>85.0</td>\n",
       "      <td>85.0</td>\n",
       "      <td>0</td>\n",
       "    </tr>\n",
       "  </tbody>\n",
       "</table>\n",
       "</div>"
      ],
      "text/plain": [
       "   male  age  education  currentSmoker  cigsPerDay  BPMeds  prevalentStroke  \\\n",
       "0     1   39        4.0              0         0.0     0.0                0   \n",
       "1     0   46        2.0              0         0.0     0.0                0   \n",
       "2     1   48        1.0              1        20.0     0.0                0   \n",
       "3     0   61        3.0              1        30.0     0.0                0   \n",
       "4     0   46        3.0              1        23.0     0.0                0   \n",
       "\n",
       "   prevalentHyp  diabetes  totChol  sysBP  diaBP    BMI  heartRate  glucose  \\\n",
       "0             0         0    195.0  106.0   70.0  26.97       80.0     77.0   \n",
       "1             0         0    250.0  121.0   81.0  28.73       95.0     76.0   \n",
       "2             0         0    245.0  127.5   80.0  25.34       75.0     70.0   \n",
       "3             1         0    225.0  150.0   95.0  28.58       65.0    103.0   \n",
       "4             0         0    285.0  130.0   84.0  23.10       85.0     85.0   \n",
       "\n",
       "   TenYearCHD  \n",
       "0           0  \n",
       "1           0  \n",
       "2           0  \n",
       "3           1  \n",
       "4           0  "
      ]
     },
     "execution_count": 40,
     "metadata": {},
     "output_type": "execute_result"
    }
   ],
   "source": [
    "import boto3\n",
    "import pandas as pd\n",
    "import numpy as np\n",
    "import matplotlib.pyplot as plt\n",
    "import seaborn as sns\n",
    "from sklearn.model_selection import train_test_split\n",
    "from sklearn.ensemble import RandomForestClassifier\n",
    "from sklearn.metrics import classification_report, accuracy_score, confusion_matrix, roc_curve\n",
    "from imblearn.over_sampling import RandomOverSampler, SMOTE\n",
    "from imblearn.under_sampling import RandomUnderSampler\n",
    "\n",
    "## Defining the s3 bucket\n",
    "s3 = boto3.resource('s3')\n",
    "bucket_name = 'data-448'\n",
    "bucket = s3.Bucket(bucket_name)\n",
    "\n",
    "## Defining the file to be read from s3 bucket\n",
    "file_key = 'Chapter1/framingham.csv'\n",
    "\n",
    "bucket_object = bucket.Object(file_key)\n",
    "file_object = bucket_object.get()\n",
    "file_content_stream = file_object.get('Body')\n",
    "\n",
    "## Reading the csv file\n",
    "heart = pd.read_csv(file_content_stream)\n",
    "heart = heart.dropna()\n",
    "heart.head()"
   ]
  },
  {
   "cell_type": "markdown",
   "id": "c674dc6e",
   "metadata": {},
   "source": [
    "## Classification on Inbalanced Data"
   ]
  },
  {
   "cell_type": "code",
   "execution_count": 41,
   "id": "81e8ffb1",
   "metadata": {},
   "outputs": [
    {
     "data": {
      "text/plain": [
       "0    0.847648\n",
       "1    0.152352\n",
       "Name: TenYearCHD, dtype: float64"
      ]
     },
     "execution_count": 41,
     "metadata": {},
     "output_type": "execute_result"
    }
   ],
   "source": [
    "## frequency table of target \n",
    "heart['TenYearCHD'].value_counts() / heart.shape[0]"
   ]
  },
  {
   "cell_type": "code",
   "execution_count": 3,
   "id": "053eba6d",
   "metadata": {},
   "outputs": [
    {
     "name": "stdout",
     "output_type": "stream",
     "text": [
      "              precision    recall  f1-score   support\n",
      "\n",
      "           0       0.85      1.00      0.92       620\n",
      "           1       1.00      0.01      0.02       112\n",
      "\n",
      "    accuracy                           0.85       732\n",
      "   macro avg       0.92      0.50      0.47       732\n",
      "weighted avg       0.87      0.85      0.78       732\n",
      "\n"
     ]
    }
   ],
   "source": [
    "## Defining input and target variables\n",
    "X = heart[['age',  'totChol', 'sysBP', 'BMI', 'heartRate', 'glucose']]\n",
    "Y = heart['TenYearCHD']\n",
    "\n",
    "## Splitting the data \n",
    "X_train, X_test, Y_train, Y_test = train_test_split(X, Y, test_size = 0.2, stratify = Y)\n",
    "\n",
    "## Building a random forest model \n",
    "RF_md = RandomForestClassifier(n_estimators = 100, max_depth = 3).fit(X_train, Y_train)\n",
    "\n",
    "## Predicting on the test dataset\n",
    "RF_pred = RF_md.predict(X_test)\n",
    "\n",
    "## Printing the classification report \n",
    "print(classification_report(Y_test, RF_pred))"
   ]
  },
  {
   "cell_type": "code",
   "execution_count": 4,
   "id": "4708c3f0",
   "metadata": {},
   "outputs": [
    {
     "data": {
      "image/png": "[encoded data removed]",
      "text/plain": [
       "<Figure size 720x576 with 2 Axes>"
      ]
     },
     "metadata": {
      "needs_background": "light"
     },
     "output_type": "display_data"
    }
   ],
   "source": [
    "## Visualizing the confustion matrix\n",
    "conf_mat = confusion_matrix(Y_test, RF_pred)\n",
    "conf_mat_df = pd.DataFrame(conf_mat, index = ['No Coronary disease', 'Coronary disease'], columns = ['No Coronary disease', 'Coronary disease'])\n",
    "\n",
    "plt.figure(figsize = (10, 8))\n",
    "sns.heatmap(conf_mat_df, annot = True, fmt = 'g', cmap = 'Blues')\n",
    "plt.title('Random Forest \\n Accuracy:{0: .3f}'.format(accuracy_score(Y_test, RF_pred)))\n",
    "plt.ylabel('True Labels')\n",
    "plt.xlabel('Predicted Labels')\n",
    "# plt.savefig('chapter1_plot1.pdf')\n",
    "plt.show()"
   ]
  },
  {
   "cell_type": "markdown",
   "id": "f4c14509",
   "metadata": {},
   "source": [
    "## Alternate Cutoffs"
   ]
  },
  {
   "cell_type": "code",
   "execution_count": 50,
   "id": "c2b31477",
   "metadata": {},
   "outputs": [
    {
     "data": {
      "image/png": "[encoded data removed]",
      "text/plain": [
       "<Figure size 720x576 with 1 Axes>"
      ]
     },
     "metadata": {
      "needs_background": "light"
     },
     "output_type": "display_data"
    }
   ],
   "source": [
    "## Building a random forest model\n",
    "RF_md = RandomForestClassifier(n_estimators = 100, max_depth = 3).fit(X_train, Y_train)\n",
    "\n",
    "## Predicting on the test dataset\n",
    "RF_pred = RF_md.predict_proba(X_test)[:, 1]\n",
    "\n",
    "## Computing the ROC-curve\n",
    "fpr, tpr, thresholds = roc_curve(Y_test, RF_pred)\n",
    "\n",
    "## Visualizing the ROC-curve\n",
    "plt.figure(figsize = (10, 8))\n",
    "plt.plot(fpr, tpr)\n",
    "plt.xlabel('False Positive Rate')\n",
    "plt.ylabel('True Positive Rate')\n",
    "plt.grid()\n",
    "# plt.savefig('chapter1_plot2.pdf')\n",
    "plt.show()"
   ]
  },
  {
   "cell_type": "markdown",
   "id": "4d4144ac",
   "metadata": {},
   "source": [
    "## Estimating cutoff based on shortest distance to perfect model "
   ]
  },
  {
   "cell_type": "code",
   "execution_count": 54,
   "id": "4e2c1d2b",
   "metadata": {},
   "outputs": [
    {
     "data": {
      "text/html": [
       "<div>\n",
       "<style scoped>\n",
       "    .dataframe tbody tr th:only-of-type {\n",
       "        vertical-align: middle;\n",
       "    }\n",
       "\n",
       "    .dataframe tbody tr th {\n",
       "        vertical-align: top;\n",
       "    }\n",
       "\n",
       "    .dataframe thead th {\n",
       "        text-align: right;\n",
       "    }\n",
       "</style>\n",
       "<table border=\"1\" class=\"dataframe\">\n",
       "  <thead>\n",
       "    <tr style=\"text-align: right;\">\n",
       "      <th></th>\n",
       "      <th>False_Positive</th>\n",
       "      <th>True_Positive</th>\n",
       "      <th>Cutoff</th>\n",
       "      <th>True_Positive_minus_1</th>\n",
       "      <th>Distance_to_perfect_model</th>\n",
       "    </tr>\n",
       "  </thead>\n",
       "  <tbody>\n",
       "    <tr>\n",
       "      <th>106</th>\n",
       "      <td>0.406452</td>\n",
       "      <td>0.705357</td>\n",
       "      <td>0.145875</td>\n",
       "      <td>-0.294643</td>\n",
       "      <td>0.502013</td>\n",
       "    </tr>\n",
       "    <tr>\n",
       "      <th>108</th>\n",
       "      <td>0.412903</td>\n",
       "      <td>0.714286</td>\n",
       "      <td>0.144271</td>\n",
       "      <td>-0.285714</td>\n",
       "      <td>0.502117</td>\n",
       "    </tr>\n",
       "    <tr>\n",
       "      <th>98</th>\n",
       "      <td>0.362903</td>\n",
       "      <td>0.651786</td>\n",
       "      <td>0.159347</td>\n",
       "      <td>-0.348214</td>\n",
       "      <td>0.502943</td>\n",
       "    </tr>\n",
       "    <tr>\n",
       "      <th>104</th>\n",
       "      <td>0.401613</td>\n",
       "      <td>0.696429</td>\n",
       "      <td>0.148129</td>\n",
       "      <td>-0.303571</td>\n",
       "      <td>0.503437</td>\n",
       "    </tr>\n",
       "    <tr>\n",
       "      <th>100</th>\n",
       "      <td>0.380645</td>\n",
       "      <td>0.669643</td>\n",
       "      <td>0.153787</td>\n",
       "      <td>-0.330357</td>\n",
       "      <td>0.504010</td>\n",
       "    </tr>\n",
       "    <tr>\n",
       "      <th>...</th>\n",
       "      <td>...</td>\n",
       "      <td>...</td>\n",
       "      <td>...</td>\n",
       "      <td>...</td>\n",
       "      <td>...</td>\n",
       "    </tr>\n",
       "    <tr>\n",
       "      <th>1</th>\n",
       "      <td>0.000000</td>\n",
       "      <td>0.008929</td>\n",
       "      <td>0.510780</td>\n",
       "      <td>-0.991071</td>\n",
       "      <td>0.991071</td>\n",
       "    </tr>\n",
       "    <tr>\n",
       "      <th>172</th>\n",
       "      <td>0.993548</td>\n",
       "      <td>1.000000</td>\n",
       "      <td>0.070550</td>\n",
       "      <td>0.000000</td>\n",
       "      <td>0.993548</td>\n",
       "    </tr>\n",
       "    <tr>\n",
       "      <th>173</th>\n",
       "      <td>0.996774</td>\n",
       "      <td>1.000000</td>\n",
       "      <td>0.070300</td>\n",
       "      <td>0.000000</td>\n",
       "      <td>0.996774</td>\n",
       "    </tr>\n",
       "    <tr>\n",
       "      <th>0</th>\n",
       "      <td>0.000000</td>\n",
       "      <td>0.000000</td>\n",
       "      <td>1.510780</td>\n",
       "      <td>-1.000000</td>\n",
       "      <td>1.000000</td>\n",
       "    </tr>\n",
       "    <tr>\n",
       "      <th>174</th>\n",
       "      <td>1.000000</td>\n",
       "      <td>1.000000</td>\n",
       "      <td>0.068951</td>\n",
       "      <td>0.000000</td>\n",
       "      <td>1.000000</td>\n",
       "    </tr>\n",
       "  </tbody>\n",
       "</table>\n",
       "<p>175 rows × 5 columns</p>\n",
       "</div>"
      ],
      "text/plain": [
       "     False_Positive  True_Positive    Cutoff  True_Positive_minus_1  \\\n",
       "106        0.406452       0.705357  0.145875              -0.294643   \n",
       "108        0.412903       0.714286  0.144271              -0.285714   \n",
       "98         0.362903       0.651786  0.159347              -0.348214   \n",
       "104        0.401613       0.696429  0.148129              -0.303571   \n",
       "100        0.380645       0.669643  0.153787              -0.330357   \n",
       "..              ...            ...       ...                    ...   \n",
       "1          0.000000       0.008929  0.510780              -0.991071   \n",
       "172        0.993548       1.000000  0.070550               0.000000   \n",
       "173        0.996774       1.000000  0.070300               0.000000   \n",
       "0          0.000000       0.000000  1.510780              -1.000000   \n",
       "174        1.000000       1.000000  0.068951               0.000000   \n",
       "\n",
       "     Distance_to_perfect_model  \n",
       "106                   0.502013  \n",
       "108                   0.502117  \n",
       "98                    0.502943  \n",
       "104                   0.503437  \n",
       "100                   0.504010  \n",
       "..                         ...  \n",
       "1                     0.991071  \n",
       "172                   0.993548  \n",
       "173                   0.996774  \n",
       "0                     1.000000  \n",
       "174                   1.000000  \n",
       "\n",
       "[175 rows x 5 columns]"
      ]
     },
     "execution_count": 54,
     "metadata": {},
     "output_type": "execute_result"
    }
   ],
   "source": [
    "cutoff_values = pd.DataFrame({'False_Positive': fpr, 'True_Positive': tpr, 'Cutoff': thresholds})\n",
    "cutoff_values['True_Positive_minus_1'] = cutoff_values['True_Positive'] - 1\n",
    "cutoff_values['Distance_to_perfect_model'] = np.sqrt(cutoff_values['False_Positive']**2 + cutoff_values['True_Positive_minus_1']**2)\n",
    "\n",
    "## Sorting based on the distance to perfect model \n",
    "cutoff_values = cutoff_values.sort_values(by = 'Distance_to_perfect_model')\n",
    "cutoff_values"
   ]
  },
  {
   "cell_type": "code",
   "execution_count": 55,
   "id": "d8e93729",
   "metadata": {},
   "outputs": [
    {
     "name": "stdout",
     "output_type": "stream",
     "text": [
      "              precision    recall  f1-score   support\n",
      "\n",
      "           0       0.92      0.60      0.72       620\n",
      "           1       0.24      0.70      0.35       112\n",
      "\n",
      "    accuracy                           0.61       732\n",
      "   macro avg       0.58      0.65      0.54       732\n",
      "weighted avg       0.81      0.61      0.67       732\n",
      "\n"
     ]
    }
   ],
   "source": [
    "## Predicting on the test dataset (using optimal cutoff)\n",
    "RF_pred = np.where(RF_pred < 0.146, 0, 1)\n",
    "\n",
    "## Printing the classification report \n",
    "print(classification_report(Y_test, RF_pred))"
   ]
  },
  {
   "cell_type": "code",
   "execution_count": 57,
   "id": "b62f4bca",
   "metadata": {},
   "outputs": [
    {
     "data": {
      "image/png": "[encoded data removed]",
      "text/plain": [
       "<Figure size 720x576 with 2 Axes>"
      ]
     },
     "metadata": {
      "needs_background": "light"
     },
     "output_type": "display_data"
    }
   ],
   "source": [
    "## Visualizing the confustion matrix\n",
    "conf_mat = confusion_matrix(Y_test, RF_pred)\n",
    "conf_mat_df = pd.DataFrame(conf_mat, index = ['No Coronary disease', 'Coronary disease'], columns = ['No Coronary disease', 'Coronary disease'])\n",
    "\n",
    "plt.figure(figsize = (10, 8))\n",
    "sns.heatmap(conf_mat_df, annot = True, fmt = 'g', cmap = 'Blues')\n",
    "plt.title('Random Forest \\n Accuracy:{0: .3f}'.format(accuracy_score(Y_test, RF_pred)))\n",
    "plt.ylabel('True Labels')\n",
    "plt.xlabel('Predicted Labels')\n",
    "# plt.savefig('chapter1_plot3.pdf')\n",
    "plt.show()"
   ]
  },
  {
   "cell_type": "markdown",
   "id": "1c6f5785",
   "metadata": {},
   "source": [
    "## Estimating Cutoff Based on Younden's Index"
   ]
  },
  {
   "cell_type": "code",
   "execution_count": 61,
   "id": "79461536",
   "metadata": {},
   "outputs": [
    {
     "data": {
      "text/html": [
       "<div>\n",
       "<style scoped>\n",
       "    .dataframe tbody tr th:only-of-type {\n",
       "        vertical-align: middle;\n",
       "    }\n",
       "\n",
       "    .dataframe tbody tr th {\n",
       "        vertical-align: top;\n",
       "    }\n",
       "\n",
       "    .dataframe thead th {\n",
       "        text-align: right;\n",
       "    }\n",
       "</style>\n",
       "<table border=\"1\" class=\"dataframe\">\n",
       "  <thead>\n",
       "    <tr style=\"text-align: right;\">\n",
       "      <th></th>\n",
       "      <th>False_Positive</th>\n",
       "      <th>True_Positive</th>\n",
       "      <th>Cutoff</th>\n",
       "      <th>TPR_minus_FPR</th>\n",
       "    </tr>\n",
       "  </thead>\n",
       "  <tbody>\n",
       "    <tr>\n",
       "      <th>108</th>\n",
       "      <td>0.412903</td>\n",
       "      <td>0.714286</td>\n",
       "      <td>0.144271</td>\n",
       "      <td>0.301382</td>\n",
       "    </tr>\n",
       "    <tr>\n",
       "      <th>118</th>\n",
       "      <td>0.467742</td>\n",
       "      <td>0.767857</td>\n",
       "      <td>0.132469</td>\n",
       "      <td>0.300115</td>\n",
       "    </tr>\n",
       "    <tr>\n",
       "      <th>106</th>\n",
       "      <td>0.406452</td>\n",
       "      <td>0.705357</td>\n",
       "      <td>0.145875</td>\n",
       "      <td>0.298906</td>\n",
       "    </tr>\n",
       "    <tr>\n",
       "      <th>82</th>\n",
       "      <td>0.264516</td>\n",
       "      <td>0.562500</td>\n",
       "      <td>0.183958</td>\n",
       "      <td>0.297984</td>\n",
       "    </tr>\n",
       "    <tr>\n",
       "      <th>74</th>\n",
       "      <td>0.229032</td>\n",
       "      <td>0.526786</td>\n",
       "      <td>0.190344</td>\n",
       "      <td>0.297753</td>\n",
       "    </tr>\n",
       "    <tr>\n",
       "      <th>...</th>\n",
       "      <td>...</td>\n",
       "      <td>...</td>\n",
       "      <td>...</td>\n",
       "      <td>...</td>\n",
       "    </tr>\n",
       "    <tr>\n",
       "      <th>1</th>\n",
       "      <td>0.000000</td>\n",
       "      <td>0.008929</td>\n",
       "      <td>0.510780</td>\n",
       "      <td>0.008929</td>\n",
       "    </tr>\n",
       "    <tr>\n",
       "      <th>172</th>\n",
       "      <td>0.993548</td>\n",
       "      <td>1.000000</td>\n",
       "      <td>0.070550</td>\n",
       "      <td>0.006452</td>\n",
       "    </tr>\n",
       "    <tr>\n",
       "      <th>173</th>\n",
       "      <td>0.996774</td>\n",
       "      <td>1.000000</td>\n",
       "      <td>0.070300</td>\n",
       "      <td>0.003226</td>\n",
       "    </tr>\n",
       "    <tr>\n",
       "      <th>0</th>\n",
       "      <td>0.000000</td>\n",
       "      <td>0.000000</td>\n",
       "      <td>1.510780</td>\n",
       "      <td>0.000000</td>\n",
       "    </tr>\n",
       "    <tr>\n",
       "      <th>174</th>\n",
       "      <td>1.000000</td>\n",
       "      <td>1.000000</td>\n",
       "      <td>0.068951</td>\n",
       "      <td>0.000000</td>\n",
       "    </tr>\n",
       "  </tbody>\n",
       "</table>\n",
       "<p>175 rows × 4 columns</p>\n",
       "</div>"
      ],
      "text/plain": [
       "     False_Positive  True_Positive    Cutoff  TPR_minus_FPR\n",
       "108        0.412903       0.714286  0.144271       0.301382\n",
       "118        0.467742       0.767857  0.132469       0.300115\n",
       "106        0.406452       0.705357  0.145875       0.298906\n",
       "82         0.264516       0.562500  0.183958       0.297984\n",
       "74         0.229032       0.526786  0.190344       0.297753\n",
       "..              ...            ...       ...            ...\n",
       "1          0.000000       0.008929  0.510780       0.008929\n",
       "172        0.993548       1.000000  0.070550       0.006452\n",
       "173        0.996774       1.000000  0.070300       0.003226\n",
       "0          0.000000       0.000000  1.510780       0.000000\n",
       "174        1.000000       1.000000  0.068951       0.000000\n",
       "\n",
       "[175 rows x 4 columns]"
      ]
     },
     "execution_count": 61,
     "metadata": {},
     "output_type": "execute_result"
    }
   ],
   "source": [
    "cutoff_values = pd.DataFrame({'False_Positive': fpr, 'True_Positive': tpr, 'Cutoff': thresholds})\n",
    "cutoff_values['TPR_minus_FPR'] = cutoff_values['True_Positive'] - cutoff_values['False_Positive']\n",
    "\n",
    "## Sorting based on TPR minus FPR\n",
    "cutoff_values = cutoff_values.sort_values(by = 'TPR_minus_FPR', ascending = False)\n",
    "cutoff_values"
   ]
  },
  {
   "cell_type": "markdown",
   "id": "1a519e4b",
   "metadata": {},
   "source": [
    "## Dealing with Class-Imbalanced Data: Class Weights"
   ]
  },
  {
   "cell_type": "code",
   "execution_count": 65,
   "id": "3b4e164e",
   "metadata": {},
   "outputs": [],
   "source": [
    "## Building a random forest model (including weights)\n",
    "RF_md = RandomForestClassifier(n_estimators = 100, max_depth = 3, class_weight = 'balanced').fit(X_train, Y_train)\n",
    "\n",
    "## Predicting on the test dataset\n",
    "RF_pred = RF_md.predict_proba(X_test)[:, 1]"
   ]
  },
  {
   "cell_type": "code",
   "execution_count": 66,
   "id": "161f35e7",
   "metadata": {},
   "outputs": [
    {
     "data": {
      "text/html": [
       "<div>\n",
       "<style scoped>\n",
       "    .dataframe tbody tr th:only-of-type {\n",
       "        vertical-align: middle;\n",
       "    }\n",
       "\n",
       "    .dataframe tbody tr th {\n",
       "        vertical-align: top;\n",
       "    }\n",
       "\n",
       "    .dataframe thead th {\n",
       "        text-align: right;\n",
       "    }\n",
       "</style>\n",
       "<table border=\"1\" class=\"dataframe\">\n",
       "  <thead>\n",
       "    <tr style=\"text-align: right;\">\n",
       "      <th></th>\n",
       "      <th>False_Positive</th>\n",
       "      <th>True_Positive</th>\n",
       "      <th>Cutoff</th>\n",
       "      <th>True_Positive_minus_1</th>\n",
       "      <th>Distance_to_perfect_model</th>\n",
       "    </tr>\n",
       "  </thead>\n",
       "  <tbody>\n",
       "    <tr>\n",
       "      <th>118</th>\n",
       "      <td>0.369355</td>\n",
       "      <td>0.678571</td>\n",
       "      <td>0.492182</td>\n",
       "      <td>-0.321429</td>\n",
       "      <td>0.489632</td>\n",
       "    </tr>\n",
       "    <tr>\n",
       "      <th>120</th>\n",
       "      <td>0.377419</td>\n",
       "      <td>0.687500</td>\n",
       "      <td>0.488262</td>\n",
       "      <td>-0.312500</td>\n",
       "      <td>0.490002</td>\n",
       "    </tr>\n",
       "    <tr>\n",
       "      <th>119</th>\n",
       "      <td>0.377419</td>\n",
       "      <td>0.678571</td>\n",
       "      <td>0.489142</td>\n",
       "      <td>-0.321429</td>\n",
       "      <td>0.495744</td>\n",
       "    </tr>\n",
       "    <tr>\n",
       "      <th>116</th>\n",
       "      <td>0.366129</td>\n",
       "      <td>0.660714</td>\n",
       "      <td>0.496626</td>\n",
       "      <td>-0.339286</td>\n",
       "      <td>0.499165</td>\n",
       "    </tr>\n",
       "    <tr>\n",
       "      <th>117</th>\n",
       "      <td>0.369355</td>\n",
       "      <td>0.660714</td>\n",
       "      <td>0.494228</td>\n",
       "      <td>-0.339286</td>\n",
       "      <td>0.501535</td>\n",
       "    </tr>\n",
       "    <tr>\n",
       "      <th>...</th>\n",
       "      <td>...</td>\n",
       "      <td>...</td>\n",
       "      <td>...</td>\n",
       "      <td>...</td>\n",
       "      <td>...</td>\n",
       "    </tr>\n",
       "    <tr>\n",
       "      <th>4</th>\n",
       "      <td>0.006452</td>\n",
       "      <td>0.044643</td>\n",
       "      <td>0.705078</td>\n",
       "      <td>-0.955357</td>\n",
       "      <td>0.955379</td>\n",
       "    </tr>\n",
       "    <tr>\n",
       "      <th>1</th>\n",
       "      <td>0.000000</td>\n",
       "      <td>0.008929</td>\n",
       "      <td>0.772355</td>\n",
       "      <td>-0.991071</td>\n",
       "      <td>0.991071</td>\n",
       "    </tr>\n",
       "    <tr>\n",
       "      <th>2</th>\n",
       "      <td>0.001613</td>\n",
       "      <td>0.008929</td>\n",
       "      <td>0.749453</td>\n",
       "      <td>-0.991071</td>\n",
       "      <td>0.991073</td>\n",
       "    </tr>\n",
       "    <tr>\n",
       "      <th>0</th>\n",
       "      <td>0.000000</td>\n",
       "      <td>0.000000</td>\n",
       "      <td>1.772355</td>\n",
       "      <td>-1.000000</td>\n",
       "      <td>1.000000</td>\n",
       "    </tr>\n",
       "    <tr>\n",
       "      <th>184</th>\n",
       "      <td>1.000000</td>\n",
       "      <td>1.000000</td>\n",
       "      <td>0.246350</td>\n",
       "      <td>0.000000</td>\n",
       "      <td>1.000000</td>\n",
       "    </tr>\n",
       "  </tbody>\n",
       "</table>\n",
       "<p>185 rows × 5 columns</p>\n",
       "</div>"
      ],
      "text/plain": [
       "     False_Positive  True_Positive    Cutoff  True_Positive_minus_1  \\\n",
       "118        0.369355       0.678571  0.492182              -0.321429   \n",
       "120        0.377419       0.687500  0.488262              -0.312500   \n",
       "119        0.377419       0.678571  0.489142              -0.321429   \n",
       "116        0.366129       0.660714  0.496626              -0.339286   \n",
       "117        0.369355       0.660714  0.494228              -0.339286   \n",
       "..              ...            ...       ...                    ...   \n",
       "4          0.006452       0.044643  0.705078              -0.955357   \n",
       "1          0.000000       0.008929  0.772355              -0.991071   \n",
       "2          0.001613       0.008929  0.749453              -0.991071   \n",
       "0          0.000000       0.000000  1.772355              -1.000000   \n",
       "184        1.000000       1.000000  0.246350               0.000000   \n",
       "\n",
       "     Distance_to_perfect_model  \n",
       "118                   0.489632  \n",
       "120                   0.490002  \n",
       "119                   0.495744  \n",
       "116                   0.499165  \n",
       "117                   0.501535  \n",
       "..                         ...  \n",
       "4                     0.955379  \n",
       "1                     0.991071  \n",
       "2                     0.991073  \n",
       "0                     1.000000  \n",
       "184                   1.000000  \n",
       "\n",
       "[185 rows x 5 columns]"
      ]
     },
     "execution_count": 66,
     "metadata": {},
     "output_type": "execute_result"
    }
   ],
   "source": [
    "## Computing the ROC-curve\n",
    "fpr, tpr, thresholds = roc_curve(Y_test, RF_pred)\n",
    "\n",
    "cutoff_values = pd.DataFrame({'False_Positive': fpr, 'True_Positive': tpr, 'Cutoff': thresholds})\n",
    "cutoff_values['True_Positive_minus_1'] = cutoff_values['True_Positive'] - 1\n",
    "cutoff_values['Distance_to_perfect_model'] = np.sqrt(cutoff_values['False_Positive']**2 + cutoff_values['True_Positive_minus_1']**2)\n",
    "\n",
    "## Sorting based on the distance to perfect model \n",
    "cutoff_values = cutoff_values.sort_values(by = 'Distance_to_perfect_model')\n",
    "cutoff_values"
   ]
  },
  {
   "cell_type": "code",
   "execution_count": 67,
   "id": "f49c9457",
   "metadata": {},
   "outputs": [
    {
     "name": "stdout",
     "output_type": "stream",
     "text": [
      "              precision    recall  f1-score   support\n",
      "\n",
      "           0       0.92      0.63      0.75       620\n",
      "           1       0.25      0.68      0.36       112\n",
      "\n",
      "    accuracy                           0.64       732\n",
      "   macro avg       0.58      0.65      0.56       732\n",
      "weighted avg       0.81      0.64      0.69       732\n",
      "\n"
     ]
    }
   ],
   "source": [
    "## Changing likelihoods to labels (cutoff = 0.492)\n",
    "RF_pred = np.where(RF_pred < 0.492, 0, 1)\n",
    "\n",
    "## Printing the classification report \n",
    "print(classification_report(Y_test, RF_pred))"
   ]
  },
  {
   "cell_type": "code",
   "execution_count": 69,
   "id": "536ac566",
   "metadata": {},
   "outputs": [
    {
     "data": {
      "image/png": "[encoded data removed]",
      "text/plain": [
       "<Figure size 720x576 with 2 Axes>"
      ]
     },
     "metadata": {
      "needs_background": "light"
     },
     "output_type": "display_data"
    }
   ],
   "source": [
    "## Visualizing the confustion matrix\n",
    "conf_mat = confusion_matrix(Y_test, RF_pred)\n",
    "conf_mat_df = pd.DataFrame(conf_mat, index = ['No Coronary disease', 'Coronary disease'], columns = ['No Coronary disease', 'Coronary disease'])\n",
    "\n",
    "plt.figure(figsize = (10, 8))\n",
    "sns.heatmap(conf_mat_df, annot = True, fmt = 'g', cmap = 'Blues')\n",
    "plt.title('Random Forest \\n Accuracy:{0: .3f}'.format(accuracy_score(Y_test, RF_pred)))\n",
    "plt.ylabel('True Labels')\n",
    "plt.xlabel('Predicted Labels')\n",
    "plt.savefig('chapter1_plot4.pdf')\n",
    "plt.show()"
   ]
  },
  {
   "cell_type": "markdown",
   "id": "352525f0",
   "metadata": {},
   "source": [
    "## Under-Sampling"
   ]
  },
  {
   "cell_type": "code",
   "execution_count": 17,
   "id": "21457dbe",
   "metadata": {},
   "outputs": [
    {
     "name": "stdout",
     "output_type": "stream",
     "text": [
      "              precision    recall  f1-score   support\n",
      "\n",
      "           0       0.91      0.58      0.71       620\n",
      "           1       0.23      0.68      0.34       112\n",
      "\n",
      "    accuracy                           0.60       732\n",
      "   macro avg       0.57      0.63      0.53       732\n",
      "weighted avg       0.81      0.60      0.65       732\n",
      "\n"
     ]
    }
   ],
   "source": [
    "## Running under-sampling \n",
    "X_under, Y_under = RandomUnderSampler().fit_resample(X_train, Y_train)\n",
    "\n",
    "## Building the random forest model \n",
    "RF_under = RandomForestClassifier(n_estimators = 100, max_depth = 3).fit(X_under, Y_under)\n",
    "\n",
    "## Predicting on the test dataset\n",
    "RF_pred_under = RF_under.predict(X_test)\n",
    "\n",
    "## Printing the classification report \n",
    "print(classification_report(Y_test, RF_pred_under))"
   ]
  },
  {
   "cell_type": "code",
   "execution_count": 35,
   "id": "3e436b1e",
   "metadata": {},
   "outputs": [
    {
     "data": {
      "image/png": "[encoded data removed]",
      "text/plain": [
       "<Figure size 720x576 with 2 Axes>"
      ]
     },
     "metadata": {
      "needs_background": "light"
     },
     "output_type": "display_data"
    }
   ],
   "source": [
    "## Visualizing the confustion matrix\n",
    "conf_mat = confusion_matrix(Y_test, RF_pred_under)\n",
    "conf_mat_df = pd.DataFrame(conf_mat, index = ['No Coronary disease', 'Coronary disease'], columns = ['No Coronary disease', 'Coronary disease'])\n",
    "\n",
    "plt.figure(figsize = (10, 8))\n",
    "sns.heatmap(conf_mat_df, annot = True, fmt = 'g', cmap = 'Blues')\n",
    "plt.title('Random Forest \\n Accuracy:{0: .3f}'.format(accuracy_score(Y_test, RF_pred_under)))\n",
    "plt.ylabel('True Labels')\n",
    "plt.xlabel('Predicted Labels')\n",
    "# plt.savefig('chapter1_plot3.pdf')\n",
    "plt.show()"
   ]
  },
  {
   "cell_type": "markdown",
   "id": "355dc5ca",
   "metadata": {},
   "source": [
    "## Over-Sampling"
   ]
  },
  {
   "cell_type": "code",
   "execution_count": 23,
   "id": "2328927e",
   "metadata": {},
   "outputs": [
    {
     "name": "stdout",
     "output_type": "stream",
     "text": [
      "              precision    recall  f1-score   support\n",
      "\n",
      "           0       0.91      0.60      0.72       620\n",
      "           1       0.23      0.65      0.34       112\n",
      "\n",
      "    accuracy                           0.61       732\n",
      "   macro avg       0.57      0.63      0.53       732\n",
      "weighted avg       0.80      0.61      0.67       732\n",
      "\n"
     ]
    }
   ],
   "source": [
    "## Running over-sampling \n",
    "X_over, Y_over = RandomOverSampler().fit_resample(X_train, Y_train)\n",
    "\n",
    "## Building the random forest model \n",
    "RF_over = RandomForestClassifier(n_estimators = 100, max_depth = 3).fit(X_over, Y_over)\n",
    "\n",
    "## Predicting on the test dataset\n",
    "RF_pred_over = RF_over.predict(X_test)\n",
    "\n",
    "## Printing the classification report \n",
    "print(classification_report(Y_test, RF_pred_over))"
   ]
  },
  {
   "cell_type": "code",
   "execution_count": 37,
   "id": "298fb5b0",
   "metadata": {},
   "outputs": [
    {
     "data": {
      "image/png": "[encoded data removed]",
      "text/plain": [
       "<Figure size 720x576 with 2 Axes>"
      ]
     },
     "metadata": {
      "needs_background": "light"
     },
     "output_type": "display_data"
    }
   ],
   "source": [
    "## Visualizing the confustion matrix\n",
    "conf_mat = confusion_matrix(Y_test, RF_pred_over)\n",
    "conf_mat_df = pd.DataFrame(conf_mat, index = ['No Coronary disease', 'Coronary disease'], columns = ['No Coronary disease', 'Coronary disease'])\n",
    "\n",
    "plt.figure(figsize = (10, 8))\n",
    "sns.heatmap(conf_mat_df, annot = True, fmt = 'g', cmap = 'Blues')\n",
    "plt.title('Random Forest \\n Accuracy:{0: .3f}'.format(accuracy_score(Y_test, RF_pred_over)))\n",
    "plt.ylabel('True Labels')\n",
    "plt.xlabel('Predicted Labels')\n",
    "# plt.savefig('chapter1_plot4.pdf')\n",
    "plt.show()"
   ]
  },
  {
   "cell_type": "markdown",
   "id": "025cd1c7",
   "metadata": {},
   "source": [
    "## SMOTE"
   ]
  },
  {
   "cell_type": "code",
   "execution_count": 30,
   "id": "8fcdefa9",
   "metadata": {},
   "outputs": [
    {
     "name": "stdout",
     "output_type": "stream",
     "text": [
      "              precision    recall  f1-score   support\n",
      "\n",
      "           0       0.91      0.60      0.72       620\n",
      "           1       0.23      0.65      0.34       112\n",
      "\n",
      "    accuracy                           0.61       732\n",
      "   macro avg       0.57      0.63      0.53       732\n",
      "weighted avg       0.80      0.61      0.67       732\n",
      "\n"
     ]
    }
   ],
   "source": [
    "## Running SMOTE\n",
    "X_smote, Y_smote = SMOTE().fit_resample(X_train, Y_train)\n",
    "\n",
    "## Building the random forest model \n",
    "RF_smote = RandomForestClassifier(n_estimators = 100, max_depth = 3).fit(X_smote, Y_smote)\n",
    "\n",
    "## Predicting on the test dataset\n",
    "RF_pred_smote = RF_over.predict(X_test)\n",
    "\n",
    "## Printing the classification report \n",
    "print(classification_report(Y_test, RF_pred_smote))"
   ]
  },
  {
   "cell_type": "code",
   "execution_count": 39,
   "id": "42e5fa56",
   "metadata": {},
   "outputs": [
    {
     "data": {
      "image/png": "[encoded data removed]",
      "text/plain": [
       "<Figure size 720x576 with 2 Axes>"
      ]
     },
     "metadata": {
      "needs_background": "light"
     },
     "output_type": "display_data"
    }
   ],
   "source": [
    "## Visualizing the confustion matrix\n",
    "conf_mat = confusion_matrix(Y_test, RF_pred_smote)\n",
    "conf_mat_df = pd.DataFrame(conf_mat, index = ['No Coronary disease', 'Coronary disease'], columns = ['No Coronary disease', 'Coronary disease'])\n",
    "\n",
    "plt.figure(figsize = (10, 8))\n",
    "sns.heatmap(conf_mat_df, annot = True, fmt = 'g', cmap = 'Blues')\n",
    "plt.title('Random Forest \\n Accuracy:{0: .3f}'.format(accuracy_score(Y_test, RF_pred_smote)))\n",
    "plt.ylabel('True Labels')\n",
    "plt.xlabel('Predicted Labels')\n",
    "# plt.savefig('chapter1_plot5.pdf')\n",
    "plt.show()"
   ]
  },
  {
   "cell_type": "code",
   "execution_count": null,
   "id": "6533be1d",
   "metadata": {},
   "outputs": [],
   "source": [
    "## Building a random forest model (including weights)\n",
    "RF_md = RandomForestClassifier(n_estimators = 100, max_depth = 3, class_weight = 'balanced').fit(X_train, Y_train)\n",
    "\n",
    "## Predicting on the test dataset\n",
    "RF_pred = RF_md.predict(X_test)\n",
    "\n",
    "## Printing the classification report \n",
    "print(classification_report(Y_test, RF_pred))"
   ]
  },
  {
   "cell_type": "code",
   "execution_count": null,
   "id": "fe7c45dc",
   "metadata": {},
   "outputs": [],
   "source": [
    "## Visualizing the confustion matrix\n",
    "conf_mat = confusion_matrix(Y_test, RF_pred)\n",
    "conf_mat_df = pd.DataFrame(conf_mat, index = ['No Coronary disease', 'Coronary disease'], columns = ['No Coronary disease', 'Coronary disease'])\n",
    "\n",
    "plt.figure(figsize = (10, 8))\n",
    "sns.heatmap(conf_mat_df, annot = True, fmt = 'g', cmap = 'Blues')\n",
    "plt.title('Random Forest \\n Accuracy:{0: .3f}'.format(accuracy_score(Y_test, RF_pred)))\n",
    "plt.ylabel('True Labels')\n",
    "plt.xlabel('Predicted Labels')\n",
    "# plt.savefig('chapter1_plot2.pdf')\n",
    "plt.show()"
   ]
  }
 ],
 "metadata": {
  "kernelspec": {
   "display_name": "conda_python3",
   "language": "python",
   "name": "conda_python3"
  },
  "language_info": {
   "codemirror_mode": {
    "name": "ipython",
    "version": 3
   },
   "file_extension": ".py",
   "mimetype": "text/x-python",
   "name": "python",
   "nbconvert_exporter": "python",
   "pygments_lexer": "ipython3",
   "version": "3.6.13"
  }
 },
 "nbformat": 4,
 "nbformat_minor": 5
}
