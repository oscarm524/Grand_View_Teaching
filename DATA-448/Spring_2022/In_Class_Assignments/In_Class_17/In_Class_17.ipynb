{
 "cells": [
  {
   "cell_type": "code",
   "execution_count": 1,
   "id": "fe661d0d",
   "metadata": {},
   "outputs": [],
   "source": [
    "import boto3\n",
    "import pandas as pd; pd.set_option('display.max_columns', 50)\n",
    "import numpy as np\n",
    "import matplotlib.pyplot as plt\n",
    "from sklearn.preprocessing import MinMaxScaler\n",
    "from sklearn.model_selection import train_test_split, GridSearchCV\n",
    "from sklearn.ensemble import RandomForestClassifier\n",
    "from sklearn.svm import SVC\n",
    "from sklearn.metrics import confusion_matrix, make_scorer\n",
    "from cost_function import cost_function, cost_function_cutoff\n",
    "\n",
    "## Defining the bucket \n",
    "s3 = boto3.resource('s3')\n",
    "bucket_name = 'data-448'\n",
    "bucket = s3.Bucket(bucket_name)\n",
    "\n",
    "## Defining the csv file \n",
    "file_key_train = 'In_Class_Assignments/turnover_train.csv'\n",
    "file_key_val = 'In_Class_Assignments/turnover_val.csv'\n",
    "file_key_test = 'In_Class_Assignments/turnover_test.csv'\n",
    "\n",
    "bucket_object_train = bucket.Object(file_key_train)\n",
    "file_object_train = bucket_object_train.get()\n",
    "file_content_stream_train = file_object_train.get('Body')\n",
    "\n",
    "bucket_object_val = bucket.Object(file_key_val)\n",
    "file_object_val = bucket_object_val.get()\n",
    "file_content_stream_val = file_object_val.get('Body')\n",
    "\n",
    "bucket_object_test = bucket.Object(file_key_test)\n",
    "file_object_test = bucket_object_test.get()\n",
    "file_content_stream_test = file_object_test.get('Body')\n",
    "\n",
    "## Reading the csv file\n",
    "train = pd.read_csv(file_content_stream_train)\n",
    "validation = pd.read_csv(file_content_stream_val)\n",
    "test = pd.read_csv(file_content_stream_test)"
   ]
  },
  {
   "cell_type": "code",
   "execution_count": 2,
   "id": "eaa05f85",
   "metadata": {},
   "outputs": [],
   "source": [
    "## Changing sales to dummy variables\n",
    "train = pd.concat([train.drop(columns = ['sales'], axis = 1), pd.get_dummies(train['sales'])], axis = 1)\n",
    "validation = pd.concat([validation.drop(columns = ['sales'], axis = 1), pd.get_dummies(validation['sales'])], axis = 1)\n",
    "test = pd.concat([test.drop(columns = ['sales'], axis = 1), pd.get_dummies(test['sales'])], axis = 1)\n",
    "\n",
    "## Changing salary to dummy variables\n",
    "train = pd.concat([train, pd.get_dummies(train['salary'])], axis = 1)\n",
    "validation = pd.concat([validation, pd.get_dummies(validation['salary'])], axis = 1)\n",
    "test = pd.concat([test, pd.get_dummies(test['salary'])], axis = 1)"
   ]
  },
  {
   "cell_type": "code",
   "execution_count": 3,
   "id": "3ab4dd92",
   "metadata": {},
   "outputs": [],
   "source": [
    "## Creating interactions/features from the decision tree\n",
    "train['interaction_1'] = np.where((train['satisfaction_level'] <= 0.465) & (train['number_project'] <= 2.5) & (train['last_evaluation'] <= 0.575), 1, 0)\n",
    "train['interaction_2'] = np.where((train['satisfaction_level'] <= 0.465) & (train['number_project'] >= 2.5) & (train['satisfaction_level'] >= 0.115), 1, 0)\n",
    "train['interaction_3'] = np.where((train['satisfaction_level'] >= 0.465) & (train['time_spend_company'] <= 4.5) & (train['average_montly_hours'] <= 290.5), 1, 0)\n",
    "\n",
    "validation['interaction_1'] = np.where((validation['satisfaction_level'] <= 0.465) & (validation['number_project'] <= 2.5) & (validation['last_evaluation'] <= 0.575), 1, 0)\n",
    "validation['interaction_2'] = np.where((validation['satisfaction_level'] <= 0.465) & (validation['number_project'] >= 2.5) & (validation['satisfaction_level'] >= 0.115), 1, 0)\n",
    "validation['interaction_3'] = np.where((validation['satisfaction_level'] >= 0.465) & (validation['time_spend_company'] <= 4.5) & (validation['average_montly_hours'] <= 290.5), 1, 0)\n",
    "\n",
    "test['interaction_1'] = np.where((test['satisfaction_level'] <= 0.465) & (test['number_project'] <= 2.5) & (test['last_evaluation'] <= 0.575), 1, 0)\n",
    "test['interaction_2'] = np.where((test['satisfaction_level'] <= 0.465) & (test['number_project'] >= 2.5) & (test['satisfaction_level'] >= 0.115), 1, 0)\n",
    "test['interaction_3'] = np.where((test['satisfaction_level'] >= 0.465) & (test['time_spend_company'] <= 4.5) & (test['average_montly_hours'] <= 290.5), 1, 0)"
   ]
  },
  {
   "cell_type": "code",
   "execution_count": 4,
   "id": "9efadd44",
   "metadata": {},
   "outputs": [],
   "source": [
    "## Defining the input and target variables\n",
    "X_train = train[['interaction_3', 'interaction_1', 'satisfaction_level', 'time_spend_company', 'number_project']]\n",
    "Y_train = train['left']\n",
    "\n",
    "X_val = validation[['interaction_3', 'interaction_1', 'satisfaction_level', 'time_spend_company', 'number_project']]\n",
    "Y_val = validation['left']\n",
    "\n",
    "X_test = test[['interaction_3', 'interaction_1', 'satisfaction_level', 'time_spend_company', 'number_project']]\n",
    "Y_test = test['left']\n",
    "\n",
    "## Changing the scale\n",
    "scaler = MinMaxScaler()\n",
    "X_train = scaler.fit_transform(X_train)\n",
    "X_val = scaler.fit_transform(X_val)\n",
    "X_test = scaler.fit_transform(X_test)"
   ]
  },
  {
   "cell_type": "markdown",
   "id": "ef2e8f2d",
   "metadata": {},
   "source": [
    "## Random Forest"
   ]
  },
  {
   "cell_type": "code",
   "execution_count": 5,
   "id": "762b16de",
   "metadata": {},
   "outputs": [],
   "source": [
    "## Defining the hyper-parameters\n",
    "RF_param_grid = {'n_estimators': [100, 300, 500],\n",
    "                 'min_samples_split' : [10, 15],\n",
    "                 'min_samples_leaf' : [5, 7],\n",
    "                 'max_depth' : [3, 5, 7]}\n",
    "\n",
    "## Defining the customized scoring function \n",
    "my_score_function = make_scorer(cost_function, greater_is_better = True, needs_proba = True)\n",
    "\n",
    "## Performing grid search\n",
    "RF_grid_search = GridSearchCV(RandomForestClassifier(), RF_param_grid, cv = 3, scoring = my_score_function, n_jobs = -1).fit(X_train, Y_train)\n",
    "\n",
    "## Extraciting the best model \n",
    "RF_md = RF_grid_search.best_estimator_"
   ]
  },
  {
   "cell_type": "code",
   "execution_count": 7,
   "id": "2cffa4fe",
   "metadata": {},
   "outputs": [
    {
     "name": "stdout",
     "output_type": "stream",
     "text": [
      "[[1130   13]\n",
      " [  28  329]]\n",
      "The cost of the RF model is: 109500\n"
     ]
    }
   ],
   "source": [
    "## Predicting on validation and test \n",
    "RF_val_pred = RF_md.predict_proba(X_val)[:, 1]\n",
    "RF_test_pred = RF_md.predict_proba(X_test)[:, 1]\n",
    "\n",
    "## Identifying the optimal cut-off value\n",
    "opt_cutoff = cost_function_cutoff(Y_val, RF_val_pred)\n",
    "\n",
    "## Changing the likleihoods to labels\n",
    "RF_label = np.where(RF_test_pred < opt_cutoff, 0, 1)\n",
    "\n",
    "## Computing the confusion matrix\n",
    "X = confusion_matrix(Y_test, RF_label)\n",
    "print(X)\n",
    "print('The cost of the RF model is:', -1500*X[1,0] - 1000*X[0, 1] + 500*X[1, 1])"
   ]
  },
  {
   "cell_type": "markdown",
   "id": "15ab23b1",
   "metadata": {},
   "source": [
    "## Support Vector Machine "
   ]
  },
  {
   "cell_type": "code",
   "execution_count": 8,
   "id": "bde3792d",
   "metadata": {},
   "outputs": [],
   "source": [
    "## Defining the hyper-parameters\n",
    "SVM_param_grid = {'kernel': ['rbf', 'poly', 'sigmoid'],\n",
    "                  'C': [0.01, 0.1, 1, 10],\n",
    "                  'gamma': [0.01, 0.1, 1]}\n",
    "\n",
    "## Performing grid search\n",
    "svm_grid_search = GridSearchCV(SVC(probability = True), SVM_param_grid, cv = 3, scoring = my_score_function, n_jobs = -1).fit(X_train, Y_train)\n",
    "\n",
    "## Extraciting the best model \n",
    "svm_md = svm_grid_search.best_estimator_"
   ]
  },
  {
   "cell_type": "code",
   "execution_count": 9,
   "id": "bcf403aa",
   "metadata": {},
   "outputs": [
    {
     "name": "stdout",
     "output_type": "stream",
     "text": [
      "[[1121   22]\n",
      " [  33  324]]\n",
      "The cost of the SVM model is: 90500\n"
     ]
    }
   ],
   "source": [
    "## Predicting on validation and test \n",
    "svm_val_pred = svm_md.predict_proba(X_val)[:, 1]\n",
    "svm_test_pred = svm_md.predict_proba(X_test)[:, 1]\n",
    "\n",
    "## Identifying the optimal cut-off value\n",
    "opt_cutoff = cost_function_cutoff(Y_val, svm_val_pred)\n",
    "\n",
    "## Changing the likleihoods to labels\n",
    "svm_label = np.where(svm_test_pred < opt_cutoff, 0, 1)\n",
    "\n",
    "## Computing the confusion matrix\n",
    "X = confusion_matrix(Y_test, svm_label)\n",
    "print(X)\n",
    "print('The cost of the SVM model is:', -1500*X[1,0] - 1000*X[0, 1] + 500*X[1, 1])"
   ]
  },
  {
   "cell_type": "markdown",
   "id": "e5318d08",
   "metadata": {},
   "source": [
    "## Ensemble"
   ]
  },
  {
   "cell_type": "code",
   "execution_count": 10,
   "id": "9326935e",
   "metadata": {},
   "outputs": [
    {
     "name": "stdout",
     "output_type": "stream",
     "text": [
      "[[1132   11]\n",
      " [  33  324]]\n",
      "The cost of the ensemble model is: 101500\n"
     ]
    }
   ],
   "source": [
    "## Building the ensemble\n",
    "X_ensemble = pd.concat([pd.DataFrame(RF_val_pred), pd.DataFrame(svm_val_pred)], axis = 1)\n",
    "\n",
    "## Performing grid search with 3 folds \n",
    "RF_grid_search_ensemble = GridSearchCV(RandomForestClassifier(), RF_param_grid, cv = 3, scoring = my_score_function, n_jobs = -1).fit(X_ensemble, Y_val)\n",
    "\n",
    "## Extracting the best model \n",
    "RF_md_ensemble = RF_grid_search_ensemble.best_estimator_\n",
    "\n",
    "## Identifying the optimal cutoff\n",
    "opt_cutoff = cost_function_cutoff(Y_val, RF_md_ensemble.predict_proba(X_ensemble)[:, 1])\n",
    "\n",
    "## Consolidating prediction for the ensemble\n",
    "X = pd.concat([pd.DataFrame(RF_test_pred), pd.DataFrame(svm_test_pred)], axis = 1)\n",
    "\n",
    "## Predicting \n",
    "ensemble_pred = RF_md_ensemble.predict_proba(X)[:, 1]\n",
    "ensemble_label = np.where(ensemble_pred < opt_cutoff, 0, 1)\n",
    "\n",
    "## Creating the confusion matrix \n",
    "X = confusion_matrix(Y_test, ensemble_label)\n",
    "print(X)\n",
    "print('The cost of the ensemble model is:', -1500*X[1,0] - 1000*X[0, 1] + 500*X[1, 1])"
   ]
  },
  {
   "cell_type": "code",
   "execution_count": null,
   "id": "41dee4c6",
   "metadata": {},
   "outputs": [],
   "source": [
    "## Based on my result, I would use the random forest model to predict left."
   ]
  }
 ],
 "metadata": {
  "kernelspec": {
   "display_name": "conda_python3",
   "language": "python",
   "name": "conda_python3"
  },
  "language_info": {
   "codemirror_mode": {
    "name": "ipython",
    "version": 3
   },
   "file_extension": ".py",
   "mimetype": "text/x-python",
   "name": "python",
   "nbconvert_exporter": "python",
   "pygments_lexer": "ipython3",
   "version": "3.6.13"
  }
 },
 "nbformat": 4,
 "nbformat_minor": 5
}
