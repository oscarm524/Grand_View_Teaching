{
 "cells": [
  {
   "cell_type": "code",
   "execution_count": null,
   "id": "2e0d1c9e",
   "metadata": {},
   "outputs": [],
   "source": [
    "import boto3\n",
    "import pandas as pd\n",
    "import numpy as np\n",
    "from sklearn.model_selection import train_test_split\n",
    "\n",
    "## Defining the s3 bucket\n",
    "s3 = boto3.resource('s3')\n",
    "bucket_name = 'data-445'\n",
    "bucket = s3.Bucket(bucket_name)\n",
    "\n",
    "## Defining the file to be read from s3 bucket\n",
    "file_key = 'Chapter4/credit.csv'\n",
    "\n",
    "bucket_object = bucket.Object(file_key)\n",
    "file_object = bucket_object.get()\n",
    "file_content_stream = file_object.get('Body')\n",
    "\n",
    "## Reading the csv file\n",
    "credit = pd.read_csv(file_content_stream)\n",
    "credit.head()"
   ]
  },
  {
   "cell_type": "code",
   "execution_count": null,
   "id": "cffaaf5f",
   "metadata": {},
   "outputs": [],
   "source": [
    "## Defining the input variables and target\n",
    "X = credit[['Income', 'Limit', 'Rating', 'Age']]\n",
    "Y = credit['Balance']\n",
    "\n",
    "## Importing Ridge\n",
    "from sklearn.linear_model import Ridge\n",
    "\n",
    "## Fitting Ridge regression with alpha = 1\n",
    "ridge_md = Ridge(alpha = 1, normalize = True).fit(X,Y)\n",
    "ridge_md.coef_"
   ]
  },
  {
   "cell_type": "code",
   "execution_count": null,
   "id": "91d65752",
   "metadata": {},
   "outputs": [],
   "source": [
    "## Defining the input variables and target\n",
    "X = credit[['Income', 'Limit', 'Rating', 'Age']]\n",
    "Y = credit['Balance']\n",
    "\n",
    "## Importing Lasso\n",
    "from sklearn.linear_model import Lasso\n",
    "\n",
    "## Fitting Ridge regression with alpha = 1\n",
    "lasso_md = Lasso(alpha = 1, normalize = True).fit(X,Y)\n",
    "lasso_md.coef_"
   ]
  },
  {
   "cell_type": "code",
   "execution_count": null,
   "id": "0339e8f8",
   "metadata": {},
   "outputs": [],
   "source": [
    "## Defining the input variables and target\n",
    "X = credit[['Income', 'Limit', 'Rating', 'Age']]\n",
    "Y = credit['Balance']\n",
    "\n",
    "## Importing Ridge and RidgeCV\n",
    "from sklearn.linear_model import Ridge, RidgeCV\n",
    "\n",
    "## Running cross-validation with different values for lambda (using 5-folds)\n",
    "ridge_cv = RidgeCV(alphas = [0.001, 0.01, 0.1, 1, 10], normalize = True, cv = 5).fit(X,Y)\n",
    "\n",
    "## Extracting the optimal alpha\n",
    "CV_alpha = ridge_cv.alpha_\n",
    "\n",
    "## Re-fitting the model with optimal alpha\n",
    "ridge_md = Ridge(alpha = CV_alpha, normalize = True).fit(X, Y)\n",
    "ridge_md.coef_"
   ]
  },
  {
   "cell_type": "code",
   "execution_count": null,
   "id": "0d3f9d06",
   "metadata": {},
   "outputs": [],
   "source": [
    "## Defining the input variables and target\n",
    "X = credit[['Income', 'Limit', 'Rating', 'Age']]\n",
    "Y = credit['Balance']\n",
    "\n",
    "## Importing Ridge and RidgeCV\n",
    "from sklearn.linear_model import Lasso, LassoCV\n",
    "\n",
    "## Running cross-validation with different values for lambda (using 5-folds)\n",
    "lasso_cv = LassoCV(alphas = [0.001, 0.01, 0.1, 1, 10], normalize = True, cv = 5).fit(X,Y)\n",
    "\n",
    "## Extracting the optimal alpha\n",
    "CV_alpha = lasso_cv.alpha_\n",
    "\n",
    "## Re-fitting the model with optimal alpha\n",
    "lasso_md = Lasso(alpha = CV_alpha, normalize = True).fit(X, Y)\n",
    "lasso_md.coef_"
   ]
  }
 ],
 "metadata": {
  "kernelspec": {
   "display_name": "conda_python3",
   "language": "python",
   "name": "conda_python3"
  },
  "language_info": {
   "codemirror_mode": {
    "name": "ipython",
    "version": 3
   },
   "file_extension": ".py",
   "mimetype": "text/x-python",
   "name": "python",
   "nbconvert_exporter": "python",
   "pygments_lexer": "ipython3",
   "version": "3.6.13"
  }
 },
 "nbformat": 4,
 "nbformat_minor": 5
}
