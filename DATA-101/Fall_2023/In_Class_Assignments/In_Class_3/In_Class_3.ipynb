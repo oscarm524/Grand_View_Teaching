{
 "cells": [
  {
   "cell_type": "code",
   "execution_count": 1,
   "id": "f7eb4de8-5097-4d37-9277-c288f892ac10",
   "metadata": {},
   "outputs": [
    {
     "data": {
      "text/html": [
       "<div>\n",
       "<style scoped>\n",
       "    .dataframe tbody tr th:only-of-type {\n",
       "        vertical-align: middle;\n",
       "    }\n",
       "\n",
       "    .dataframe tbody tr th {\n",
       "        vertical-align: top;\n",
       "    }\n",
       "\n",
       "    .dataframe thead th {\n",
       "        text-align: right;\n",
       "    }\n",
       "</style>\n",
       "<table border=\"1\" class=\"dataframe\">\n",
       "  <thead>\n",
       "    <tr style=\"text-align: right;\">\n",
       "      <th></th>\n",
       "      <th>index</th>\n",
       "      <th>company</th>\n",
       "      <th>body-style</th>\n",
       "      <th>wheel-base</th>\n",
       "      <th>length</th>\n",
       "      <th>engine-type</th>\n",
       "      <th>num-of-cylinders</th>\n",
       "      <th>horsepower</th>\n",
       "      <th>average-mileage</th>\n",
       "      <th>price</th>\n",
       "    </tr>\n",
       "  </thead>\n",
       "  <tbody>\n",
       "    <tr>\n",
       "      <th>0</th>\n",
       "      <td>0</td>\n",
       "      <td>alfa-romero</td>\n",
       "      <td>convertible</td>\n",
       "      <td>88.6</td>\n",
       "      <td>168.8</td>\n",
       "      <td>dohc</td>\n",
       "      <td>four</td>\n",
       "      <td>111</td>\n",
       "      <td>21</td>\n",
       "      <td>13495.0</td>\n",
       "    </tr>\n",
       "    <tr>\n",
       "      <th>1</th>\n",
       "      <td>1</td>\n",
       "      <td>alfa-romero</td>\n",
       "      <td>convertible</td>\n",
       "      <td>88.6</td>\n",
       "      <td>168.8</td>\n",
       "      <td>dohc</td>\n",
       "      <td>four</td>\n",
       "      <td>111</td>\n",
       "      <td>21</td>\n",
       "      <td>16500.0</td>\n",
       "    </tr>\n",
       "    <tr>\n",
       "      <th>2</th>\n",
       "      <td>2</td>\n",
       "      <td>alfa-romero</td>\n",
       "      <td>hatchback</td>\n",
       "      <td>94.5</td>\n",
       "      <td>171.2</td>\n",
       "      <td>ohcv</td>\n",
       "      <td>six</td>\n",
       "      <td>154</td>\n",
       "      <td>19</td>\n",
       "      <td>16500.0</td>\n",
       "    </tr>\n",
       "    <tr>\n",
       "      <th>3</th>\n",
       "      <td>3</td>\n",
       "      <td>audi</td>\n",
       "      <td>sedan</td>\n",
       "      <td>99.8</td>\n",
       "      <td>176.6</td>\n",
       "      <td>ohc</td>\n",
       "      <td>four</td>\n",
       "      <td>102</td>\n",
       "      <td>24</td>\n",
       "      <td>13950.0</td>\n",
       "    </tr>\n",
       "    <tr>\n",
       "      <th>4</th>\n",
       "      <td>4</td>\n",
       "      <td>audi</td>\n",
       "      <td>sedan</td>\n",
       "      <td>99.4</td>\n",
       "      <td>176.6</td>\n",
       "      <td>ohc</td>\n",
       "      <td>five</td>\n",
       "      <td>115</td>\n",
       "      <td>18</td>\n",
       "      <td>17450.0</td>\n",
       "    </tr>\n",
       "  </tbody>\n",
       "</table>\n",
       "</div>"
      ],
      "text/plain": [
       "   index      company   body-style  wheel-base  length engine-type  \\\n",
       "0      0  alfa-romero  convertible        88.6   168.8        dohc   \n",
       "1      1  alfa-romero  convertible        88.6   168.8        dohc   \n",
       "2      2  alfa-romero    hatchback        94.5   171.2        ohcv   \n",
       "3      3         audi        sedan        99.8   176.6         ohc   \n",
       "4      4         audi        sedan        99.4   176.6         ohc   \n",
       "\n",
       "  num-of-cylinders  horsepower  average-mileage    price  \n",
       "0             four         111               21  13495.0  \n",
       "1             four         111               21  16500.0  \n",
       "2              six         154               19  16500.0  \n",
       "3             four         102               24  13950.0  \n",
       "4             five         115               18  17450.0  "
      ]
     },
     "execution_count": 1,
     "metadata": {},
     "output_type": "execute_result"
    }
   ],
   "source": [
    "import pandas as pd\n",
    "import numpy as np\n",
    "\n",
    "# Reading the csv file \n",
    "autos = pd.read_csv('Automobile_data.csv')\n",
    "autos.head()"
   ]
  },
  {
   "cell_type": "code",
   "execution_count": 3,
   "id": "4b8ddd8d-b9df-46ae-b6b7-bf0fbb3243e4",
   "metadata": {},
   "outputs": [
    {
     "data": {
      "text/plain": [
       "15387.0"
      ]
     },
     "execution_count": 3,
     "metadata": {},
     "output_type": "execute_result"
    }
   ],
   "source": [
    "# Computing the mean price\n",
    "autos['price'].mean()"
   ]
  },
  {
   "cell_type": "code",
   "execution_count": 4,
   "id": "043a86e6-6c7f-4963-8291-b0e0f660f83b",
   "metadata": {},
   "outputs": [
    {
     "data": {
      "text/plain": [
       "11095.0"
      ]
     },
     "execution_count": 4,
     "metadata": {},
     "output_type": "execute_result"
    }
   ],
   "source": [
    "# Computing the median price\n",
    "autos['price'].median()"
   ]
  },
  {
   "cell_type": "code",
   "execution_count": 5,
   "id": "b471a06c-2317-4492-8c70-3807e4eb5e20",
   "metadata": {},
   "outputs": [],
   "source": [
    "# Since the mean is greater than the median, the car price distribution \n",
    "# is right-skewed"
   ]
  },
  {
   "cell_type": "code",
   "execution_count": 6,
   "id": "164609f2-5c57-47df-8859-580f36ae93da",
   "metadata": {},
   "outputs": [
    {
     "data": {
      "text/plain": [
       "128148282.87719299"
      ]
     },
     "execution_count": 6,
     "metadata": {},
     "output_type": "execute_result"
    }
   ],
   "source": [
    "# Computing the variance price\n",
    "autos['price'].var()"
   ]
  },
  {
   "cell_type": "code",
   "execution_count": 7,
   "id": "0652e3a3-5649-4a9d-97ca-8cc88cb3a60a",
   "metadata": {},
   "outputs": [
    {
     "data": {
      "text/plain": [
       "0     13495.0\n",
       "1     16500.0\n",
       "2     16500.0\n",
       "3     13950.0\n",
       "4     17450.0\n",
       "       ...   \n",
       "56     7975.0\n",
       "57     7995.0\n",
       "58     9995.0\n",
       "59    12940.0\n",
       "60    13415.0\n",
       "Name: price, Length: 61, dtype: float64"
      ]
     },
     "execution_count": 7,
     "metadata": {},
     "output_type": "execute_result"
    }
   ],
   "source": [
    "# Computing the mean of log(price)\n",
    "autos['price']"
   ]
  },
  {
   "cell_type": "code",
   "execution_count": 8,
   "id": "be694397-1fd2-40ed-b893-d0a60a6bd423",
   "metadata": {},
   "outputs": [
    {
     "data": {
      "text/plain": [
       "0     9.510075\n",
       "1     9.711116\n",
       "2     9.711116\n",
       "3     9.543235\n",
       "4     9.767095\n",
       "        ...   \n",
       "56    8.984067\n",
       "57    8.986572\n",
       "58    9.209840\n",
       "59    9.468079\n",
       "60    9.504129\n",
       "Name: price, Length: 61, dtype: float64"
      ]
     },
     "execution_count": 8,
     "metadata": {},
     "output_type": "execute_result"
    }
   ],
   "source": [
    "np.log(autos['price'])"
   ]
  },
  {
   "cell_type": "code",
   "execution_count": 9,
   "id": "5e46aeb6-a4ed-4b8b-ba01-5ac563c70d79",
   "metadata": {},
   "outputs": [
    {
     "data": {
      "text/plain": [
       "9.410946825351903"
      ]
     },
     "execution_count": 9,
     "metadata": {},
     "output_type": "execute_result"
    }
   ],
   "source": [
    "np.log(autos['price']).mean()"
   ]
  },
  {
   "cell_type": "code",
   "execution_count": 10,
   "id": "0c5bc11a-99c2-45ef-a692-60eba3c34a6e",
   "metadata": {},
   "outputs": [
    {
     "data": {
      "text/plain": [
       "9.410946825351903"
      ]
     },
     "execution_count": 10,
     "metadata": {},
     "output_type": "execute_result"
    }
   ],
   "source": [
    "np.mean(np.log(autos['price']))"
   ]
  }
 ],
 "metadata": {
  "kernelspec": {
   "display_name": "Python 3 (ipykernel)",
   "language": "python",
   "name": "python3"
  },
  "language_info": {
   "codemirror_mode": {
    "name": "ipython",
    "version": 3
   },
   "file_extension": ".py",
   "mimetype": "text/x-python",
   "name": "python",
   "nbconvert_exporter": "python",
   "pygments_lexer": "ipython3",
   "version": "3.8.16"
  }
 },
 "nbformat": 4,
 "nbformat_minor": 5
}
