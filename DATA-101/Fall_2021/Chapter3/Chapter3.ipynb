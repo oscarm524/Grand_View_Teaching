{
 "cells": [
  {
   "cell_type": "markdown",
   "id": "831709f0",
   "metadata": {},
   "source": [
    "# Mean"
   ]
  },
  {
   "cell_type": "code",
   "execution_count": 1,
   "id": "a4ca5eba",
   "metadata": {},
   "outputs": [
    {
     "data": {
      "text/plain": [
       "1.4444444444444444"
      ]
     },
     "execution_count": 1,
     "metadata": {},
     "output_type": "execute_result"
    }
   ],
   "source": [
    "## First we import the numpy library\n",
    "import numpy as np\n",
    "\n",
    "## Here we create the vector with the values using the \n",
    "## array function from numpy\n",
    "x = np.array([0, 1, 2, 0, 4, 0, 1, 2, 3])\n",
    "\n",
    "## Here we find the mean using the mean function from numpy\n",
    "np.mean(x)"
   ]
  },
  {
   "cell_type": "code",
   "execution_count": 2,
   "id": "ed155bff",
   "metadata": {},
   "outputs": [
    {
     "data": {
      "text/plain": [
       "70000.0"
      ]
     },
     "execution_count": 2,
     "metadata": {},
     "output_type": "execute_result"
    }
   ],
   "source": [
    "## Here we create the vector with the salaries using the \n",
    "## array function from numpy\n",
    "salaries = np.array([35000, 37000, 35000, 33000, 210000])\n",
    "\n",
    "## Here we find the mean using the mean function from numpy\n",
    "np.mean(salaries)"
   ]
  },
  {
   "cell_type": "code",
   "execution_count": 3,
   "id": "57b8f71b",
   "metadata": {},
   "outputs": [
    {
     "data": {
      "text/plain": [
       "35000.0"
      ]
     },
     "execution_count": 3,
     "metadata": {},
     "output_type": "execute_result"
    }
   ],
   "source": [
    "## Here we create the vector with the salaries using the \n",
    "## array function from numpy\n",
    "salaries = np.array([35000, 37000, 35000, 33000])\n",
    "\n",
    "## Here we find the mean using the mean function from numpy\n",
    "np.mean(salaries)"
   ]
  },
  {
   "cell_type": "markdown",
   "id": "f4257df7",
   "metadata": {},
   "source": [
    "# Median"
   ]
  },
  {
   "cell_type": "code",
   "execution_count": 4,
   "id": "7ea80b31",
   "metadata": {},
   "outputs": [
    {
     "data": {
      "text/plain": [
       "35000.0"
      ]
     },
     "execution_count": 4,
     "metadata": {},
     "output_type": "execute_result"
    }
   ],
   "source": [
    "## Here we create the vector with the salaries using the \n",
    "## array function from numpy\n",
    "salaries = np.array([35000, 37000, 35000, 33000, 210000])\n",
    "\n",
    "## Here we find the mean using the median function from numpy\n",
    "np.median(salaries)"
   ]
  },
  {
   "cell_type": "code",
   "execution_count": 5,
   "id": "195a38a9",
   "metadata": {},
   "outputs": [
    {
     "data": {
      "text/plain": [
       "36000.0"
      ]
     },
     "execution_count": 5,
     "metadata": {},
     "output_type": "execute_result"
    }
   ],
   "source": [
    "## Here we create the vector with the salaries using the \n",
    "## array function from numpy\n",
    "salaries = np.array([35000, 37000, 35000, 33000, 210000, 39000])\n",
    "\n",
    "## Here we find the median using the median function from numpy\n",
    "np.median(salaries)"
   ]
  },
  {
   "cell_type": "markdown",
   "id": "95550376",
   "metadata": {},
   "source": [
    "# Range"
   ]
  },
  {
   "cell_type": "code",
   "execution_count": 6,
   "id": "35f48b14",
   "metadata": {},
   "outputs": [
    {
     "data": {
      "text/plain": [
       "177000"
      ]
     },
     "execution_count": 6,
     "metadata": {},
     "output_type": "execute_result"
    }
   ],
   "source": [
    "## Here we create the vector with the salaries using the \n",
    "## array function from numpy\n",
    "salaries = np.array([35000, 37000, 35000, 33000, 210000])\n",
    "\n",
    "## Here we find the range using the max and min functions from numpy\n",
    "np.max(salaries) - np.min(salaries)"
   ]
  },
  {
   "cell_type": "markdown",
   "id": "da130377",
   "metadata": {},
   "source": [
    "# Variance"
   ]
  },
  {
   "cell_type": "code",
   "execution_count": 7,
   "id": "d050d77d",
   "metadata": {},
   "outputs": [
    {
     "data": {
      "text/plain": [
       "7.158650000000013"
      ]
     },
     "execution_count": 7,
     "metadata": {},
     "output_type": "execute_result"
    }
   ],
   "source": [
    "## Here we create the vector with the salaries using the \n",
    "## array function from numpy\n",
    "heights = np.array([65.71, 72.30, 68.31, 67.05, 70.68])\n",
    "\n",
    "## Here we find the variance using the var function from numpy\n",
    "np.var(heights, ddof = 1)"
   ]
  },
  {
   "cell_type": "markdown",
   "id": "2540cecf",
   "metadata": {},
   "source": [
    "# Z-score"
   ]
  },
  {
   "cell_type": "code",
   "execution_count": 8,
   "id": "2b024623",
   "metadata": {},
   "outputs": [
    {
     "data": {
      "text/plain": [
       "array([-1.15863363,  1.30439721, -0.18687639, -0.6578049 ,  0.6989177 ])"
      ]
     },
     "execution_count": 8,
     "metadata": {},
     "output_type": "execute_result"
    }
   ],
   "source": [
    "## Here we create the vector with the salaries using the \n",
    "## array function from numpy\n",
    "heights = np.array([65.71, 72.30, 68.31, 67.05, 70.68])\n",
    "\n",
    "## Here we find the z scores\n",
    "(heights - np.mean(heights)) / np.std(heights, ddof = 1)"
   ]
  },
  {
   "cell_type": "markdown",
   "id": "873d03d2",
   "metadata": {},
   "source": [
    "# Five number summary"
   ]
  },
  {
   "cell_type": "code",
   "execution_count": 9,
   "id": "1659e308",
   "metadata": {},
   "outputs": [
    {
     "data": {
      "text/plain": [
       "array([65.71, 67.05, 68.31, 70.68, 72.3 ])"
      ]
     },
     "execution_count": 9,
     "metadata": {},
     "output_type": "execute_result"
    }
   ],
   "source": [
    "## Here we create the vector with the salaries using the \n",
    "## array function from numpy\n",
    "heights = np.array([65.71, 72.30, 68.31, 67.05, 70.68])\n",
    "\n",
    "## Here we find the five-number summary of heights\n",
    "np.percentile(heights, [0, 25, 50, 75, 100])"
   ]
  },
  {
   "cell_type": "markdown",
   "id": "006ca30f",
   "metadata": {},
   "source": [
    "# Vertical Bar Chart"
   ]
  },
  {
   "cell_type": "code",
   "execution_count": 10,
   "id": "5346d49e",
   "metadata": {},
   "outputs": [
    {
     "data": {
      "image/png": "[encoded data removed]",
      "text/plain": [
       "<Figure size 432x288 with 1 Axes>"
      ]
     },
     "metadata": {
      "needs_background": "light"
     },
     "output_type": "display_data"
    }
   ],
   "source": [
    "## First we import the libraries\n",
    "import matplotlib.pyplot as plt\n",
    "\n",
    "## Here we manually create the data\n",
    "classes = ('First', 'Second', 'Third', 'Crew')\n",
    "y_pos = np.arange(len(classes))\n",
    "passengers = [325, 285, 706, 885]\n",
    "\n",
    "## Here we use the bar function from matplotlib to create the vertical \n",
    "## bar chart\n",
    "plt.bar(y_pos, passengers, align = 'center')\n",
    "plt.xticks(y_pos, classes)\n",
    "plt.ylabel('Passengers')\n",
    "plt.title('Titanic Data')\n",
    "plt.show();"
   ]
  },
  {
   "cell_type": "markdown",
   "id": "d489864d",
   "metadata": {},
   "source": [
    "# Horizontal Bar Chart"
   ]
  },
  {
   "cell_type": "code",
   "execution_count": 11,
   "id": "49303942",
   "metadata": {},
   "outputs": [
    {
     "data": {
      "image/png": "[encoded data removed]",
      "text/plain": [
       "<Figure size 432x288 with 1 Axes>"
      ]
     },
     "metadata": {
      "needs_background": "light"
     },
     "output_type": "display_data"
    }
   ],
   "source": [
    "## Here we use the barh function form matplotlib to create the \n",
    "## horizontal bar chart\n",
    "plt.barh(y_pos, passengers, align = 'center')\n",
    "plt.yticks(y_pos, classes)\n",
    "plt.xlabel('Passengers')\n",
    "plt.title('Titanic Data')\n",
    "plt.show()"
   ]
  },
  {
   "cell_type": "markdown",
   "id": "6d6af538",
   "metadata": {},
   "source": [
    "# Pie Chart"
   ]
  },
  {
   "cell_type": "code",
   "execution_count": 12,
   "id": "55336330",
   "metadata": {},
   "outputs": [
    {
     "data": {
      "image/png": "[encoded data removed]",
      "text/plain": [
       "<Figure size 432x288 with 1 Axes>"
      ]
     },
     "metadata": {},
     "output_type": "display_data"
    }
   ],
   "source": [
    "## Here we manually create the data\n",
    "labels = ('First', 'Second', 'Third', 'Crew')\n",
    "sizes = [325, 285, 706, 885]\n",
    "\n",
    "## Here we declare the colors\n",
    "colors = ['gold', 'yellowgreen', 'lightcoral', 'lightskyblue']\n",
    "\n",
    "# Here we create the pie chart\n",
    "plt.pie(sizes, labels=labels, autopct = '%1.1f%%', colors = colors)\n",
    "\n",
    "plt.axis('equal')\n",
    "plt.show();"
   ]
  },
  {
   "cell_type": "markdown",
   "id": "6d6c171e",
   "metadata": {},
   "source": [
    "# Histogram"
   ]
  },
  {
   "cell_type": "code",
   "execution_count": 13,
   "id": "2269cca3",
   "metadata": {},
   "outputs": [
    {
     "data": {
      "image/png": "[encoded data removed]",
      "text/plain": [
       "<Figure size 432x288 with 1 Axes>"
      ]
     },
     "metadata": {
      "needs_background": "light"
     },
     "output_type": "display_data"
    }
   ],
   "source": [
    "## Here we create the stock prices\n",
    "stock = [11.88, 6.27, 5.49, 4.81, 4.40, 3.78, 3.44, 3.11, 2.88, 2.68,\n",
    "          7.99, 6.07, 5.26, 4.79, 4.05, 3.69, 3.36, 3.03, 2.74, 2.63,\n",
    "          7.15, 5.98, 5.07, 4.55, 3.94, 3.62, 3.26, 2.99, 2.74, 2.62,\n",
    "          7.13, 5.91, 4.94, 4.43, 3.93, 3.48, 3.20, 2.89, 2.69, 2.61]\n",
    "\n",
    "## Here we create the histogram of stock prices using\n",
    "## the hist function from matplotlib      \n",
    "plt.hist(stock, color = 'gray')\n",
    "plt.show();"
   ]
  },
  {
   "cell_type": "markdown",
   "id": "1c6f185c",
   "metadata": {},
   "source": [
    "# Boxplot"
   ]
  },
  {
   "cell_type": "code",
   "execution_count": 14,
   "id": "0dab2315",
   "metadata": {},
   "outputs": [
    {
     "data": {
      "image/png": "[encoded data removed]",
      "text/plain": [
       "<Figure size 432x288 with 1 Axes>"
      ]
     },
     "metadata": {
      "needs_background": "light"
     },
     "output_type": "display_data"
    }
   ],
   "source": [
    "## Here we create the stock prices\n",
    "stock = [11.88, 6.27, 5.49, 4.81, 4.40, 3.78, 3.44, 3.11, 2.88, 2.68,\n",
    "          7.99, 6.07, 5.26, 4.79, 4.05, 3.69, 3.36, 3.03, 2.74, 2.63,\n",
    "          7.15, 5.98, 5.07, 4.55, 3.94, 3.62, 3.26, 2.99, 2.74, 2.62,\n",
    "          7.13, 5.91, 4.94, 4.43, 3.93, 3.48, 3.20, 2.89, 2.69, 2.61]\n",
    "\n",
    "## Here we create the histogram of stock prices using\n",
    "## the boxplot function from matplotlib      \n",
    "plt.boxplot(stock)\n",
    "plt.ylabel('Stock Prices')\n",
    "plt.show();"
   ]
  },
  {
   "cell_type": "markdown",
   "id": "57357654",
   "metadata": {},
   "source": [
    "# Scatter Plot"
   ]
  },
  {
   "cell_type": "code",
   "execution_count": 15,
   "id": "614286f3",
   "metadata": {},
   "outputs": [
    {
     "data": {
      "image/png": "[encoded data removed]",
      "text/plain": [
       "<Figure size 432x288 with 1 Axes>"
      ]
     },
     "metadata": {
      "needs_background": "light"
     },
     "output_type": "display_data"
    }
   ],
   "source": [
    "## Here we create the variables \n",
    "x = np.linspace(0, 10, 30)\n",
    "y = np.sin(x)\n",
    "\n",
    "## Here we create the scatter plot between x and y\n",
    "plt.plot(x, y, 'o', color = 'black')\n",
    "plt.xlabel('x')\n",
    "plt.ylabel('y')\n",
    "plt.grid()\n",
    "plt.show();"
   ]
  },
  {
   "cell_type": "markdown",
   "id": "f0dcade8",
   "metadata": {},
   "source": [
    "# Time Series Plot"
   ]
  },
  {
   "cell_type": "code",
   "execution_count": 16,
   "id": "11e6dc95",
   "metadata": {},
   "outputs": [
    {
     "data": {
      "image/png": "[encoded data removed]",
      "text/plain": [
       "<Figure size 432x288 with 1 Axes>"
      ]
     },
     "metadata": {
      "needs_background": "light"
     },
     "output_type": "display_data"
    }
   ],
   "source": [
    "## Importing pandas\n",
    "import pandas as pd\n",
    "\n",
    "## Here we read the data \n",
    "apple = pd.read_csv('AAPL.csv')\n",
    "\n",
    "## Here we put the Date variable in the right format\n",
    "apple['Date'] = pd.to_datetime(apple['Date'], format = '%Y-%m-%d')\n",
    "\n",
    "## Here we crete the time series plot\n",
    "plt.plot('Date', 'Adj Close', data = apple)\n",
    "plt.xlabel('Date')\n",
    "plt.ylabel('Stock Price ($)')\n",
    "plt.xticks(rotation = 30)\n",
    "plt.grid()\n",
    "plt.show();"
   ]
  }
 ],
 "metadata": {
  "kernelspec": {
   "display_name": "conda_python3",
   "language": "python",
   "name": "conda_python3"
  },
  "language_info": {
   "codemirror_mode": {
    "name": "ipython",
    "version": 3
   },
   "file_extension": ".py",
   "mimetype": "text/x-python",
   "name": "python",
   "nbconvert_exporter": "python",
   "pygments_lexer": "ipython3",
   "version": "3.6.13"
  }
 },
 "nbformat": 4,
 "nbformat_minor": 5
}
