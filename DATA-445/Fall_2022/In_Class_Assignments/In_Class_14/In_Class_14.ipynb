{
 "cells": [
  {
   "cell_type": "code",
   "execution_count": null,
   "id": "c39d22d5",
   "metadata": {},
   "outputs": [],
   "source": [
    "import boto3\n",
    "import pandas as pd; pd.set_option('display.max_columns', 100)\n",
    "import numpy as np\n",
    "\n",
    "from sklearn.preprocessing import MinMaxScaler\n",
    "from sklearn.model_selection import train_test_split\n",
    "from sklearn.linear_model import LogisticRegression, Lasso, LassoCV\n",
    "from sklearn.ensemble import RandomForestClassifier\n",
    "from sklearn.metrics import recall_score\n",
    "\n",
    "s3 = boto3.resource('s3')\n",
    "bucket_name = 'data-445'\n",
    "bucket = s3.Bucket(bucket_name)\n",
    "\n",
    "file_key = 'framingham.csv'\n",
    "\n",
    "bucket_object = bucket.Object(file_key)\n",
    "file_object = bucket_object.get()\n",
    "file_content_stream = file_object.get('Body')\n",
    "\n",
    "# Reading the data-file\n",
    "heart = pd.read_csv(file_content_stream)\n",
    "heart.head()"
   ]
  },
  {
   "cell_type": "code",
   "execution_count": null,
   "id": "3f0584d0",
   "metadata": {},
   "outputs": [],
   "source": [
    "## Removing observations with NA\n",
    "heart = heart.dropna()"
   ]
  },
  {
   "cell_type": "code",
   "execution_count": null,
   "id": "4641957a",
   "metadata": {},
   "outputs": [],
   "source": [
    "## Defining the input and target variables\n",
    "X = heart[['male', 'age', 'currentSmoker', 'totChol', 'BMI', 'heartRate', 'sysBP', 'glucose']]\n",
    "Y = heart['TenYearCHD']\n",
    "\n",
    "## Splitting the data \n",
    "X_train, X_test, Y_train, Y_test = train_test_split(X, Y, test_size = 0.2, stratify = Y)"
   ]
  },
  {
   "cell_type": "code",
   "execution_count": null,
   "id": "69237b10",
   "metadata": {},
   "outputs": [],
   "source": [
    "Y_train.value_counts() / Y_train.shape[0]"
   ]
  },
  {
   "cell_type": "code",
   "execution_count": null,
   "id": "b8615c58",
   "metadata": {},
   "outputs": [],
   "source": [
    "Y_test.value_counts() / Y_test.shape[0]"
   ]
  },
  {
   "cell_type": "code",
   "execution_count": null,
   "id": "a2997e96",
   "metadata": {},
   "outputs": [],
   "source": [
    "## Scaling the data \n",
    "scaler = MinMaxScaler()\n",
    "\n",
    "X_train = pd.DataFrame(scaler.fit_transform(X_train), columns = X_train.columns)\n",
    "X_test = pd.DataFrame(scaler.fit_transform(X_test), columns = X_test.columns)"
   ]
  },
  {
   "cell_type": "markdown",
   "id": "a6480735",
   "metadata": {},
   "source": [
    "# Logistic Regression"
   ]
  },
  {
   "cell_type": "code",
   "execution_count": null,
   "id": "99679f17",
   "metadata": {},
   "outputs": [],
   "source": [
    "## Indentifying important variables with lasso\n",
    "lasso_md = LassoCV().fit(X_train, Y_train)\n",
    "\n",
    "## Extracting the best lambda\n",
    "lasso_lambda = lasso_md.alpha_\n",
    "\n",
    "## Fitting LASSO with best lambda\n",
    "lasso_md = Lasso(alpha = lasso_lambda).fit(X_train, Y_train)\n",
    "lasso_md.coef_"
   ]
  },
  {
   "cell_type": "code",
   "execution_count": null,
   "id": "b92b19eb",
   "metadata": {},
   "outputs": [],
   "source": [
    "## Defining the input and target variables for logistic\n",
    "X_train_logit = X_train[['male', 'age', 'currentSmoker', 'sysBP', 'glucose']]\n",
    "X_test_logit = X_test[['male', 'age', 'currentSmoker', 'sysBP', 'glucose']]\n",
    "\n",
    "## Building the logistic regression model \n",
    "logit_md = LogisticRegression().fit(X_train_logit, Y_train)\n",
    "\n",
    "## Predicting on test\n",
    "logit_pred = logit_md.predict_proba(X_test_logit)[:, 1]\n",
    "\n",
    "## Changing likelihoods to labels\n",
    "logit_label = np.where(logit_pred < 0.1, 0, 1)\n",
    "\n",
    "## Computing the recall\n",
    "recall_score(Y_test, logit_label)"
   ]
  },
  {
   "cell_type": "markdown",
   "id": "5ec600b0",
   "metadata": {},
   "source": [
    "# Random Forest"
   ]
  },
  {
   "cell_type": "code",
   "execution_count": null,
   "id": "24c465c5",
   "metadata": {},
   "outputs": [],
   "source": [
    "## Building the model\n",
    "RF_md = RandomForestClassifier(n_estimators = 500).fit(X_train, Y_train)\n",
    "\n",
    "## Extracting the feature importances\n",
    "importances = pd.DataFrame({'Feature': X_train.columns, 'Importance': RF_md.feature_importances_})\n",
    "importances = importances.sort_values(by = 'Importance', ascending = False)\n",
    "importances"
   ]
  },
  {
   "cell_type": "code",
   "execution_count": null,
   "id": "9bd1bbf8",
   "metadata": {},
   "outputs": [],
   "source": [
    "## Defining the input and target variables for logistic\n",
    "X_train_RF = X_train[['sysBP', 'BMI', 'totChol', 'age', 'glucose']]\n",
    "X_test_RF = X_test[['sysBP', 'BMI', 'totChol', 'age', 'glucose']]\n",
    "\n",
    "## Building the random forest model with top 5 featues\n",
    "RF_md = RandomForestClassifier(n_estimators = 500).fit(X_train_RF, Y_train)\n",
    "\n",
    "## Predicting on test\n",
    "RF_pred = RF_md.predict_proba(X_test_RF)[:, 1]\n",
    "\n",
    "## Changing likelihoods to labels\n",
    "RF_label = np.where(RF_pred < 0.1, 0, 1)\n",
    "\n",
    "## Computing the recall\n",
    "recall_score(Y_test, RF_label)"
   ]
  },
  {
   "cell_type": "code",
   "execution_count": null,
   "id": "72348330",
   "metadata": {},
   "outputs": [],
   "source": []
  }
 ],
 "metadata": {
  "kernelspec": {
   "display_name": "conda_python3",
   "language": "python",
   "name": "conda_python3"
  },
  "language_info": {
   "codemirror_mode": {
    "name": "ipython",
    "version": 3
   },
   "file_extension": ".py",
   "mimetype": "text/x-python",
   "name": "python",
   "nbconvert_exporter": "python",
   "pygments_lexer": "ipython3",
   "version": "3.6.13"
  }
 },
 "nbformat": 4,
 "nbformat_minor": 5
}
