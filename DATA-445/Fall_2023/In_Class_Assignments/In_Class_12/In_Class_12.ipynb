{
 "cells": [
  {
   "cell_type": "code",
   "execution_count": 2,
   "id": "00ec6124-ba32-4645-81eb-f1f46df46a5a",
   "metadata": {},
   "outputs": [],
   "source": [
    "import pandas as pd \n",
    "import numpy as np\n",
    "\n",
    "from sklearn.pipeline import make_pipeline, Pipeline\n",
    "from sklearn.linear_model import LogisticRegression\n",
    "from sklearn.ensemble import BaggingClassifier\n",
    "from sklearn.model_selection import train_test_split\n",
    "from sklearn.preprocessing import MinMaxScaler\n",
    "from sklearn.metrics import recall_score"
   ]
  },
  {
   "cell_type": "code",
   "execution_count": 4,
   "id": "0546078f-ba86-4698-b6e7-9046524dfb7e",
   "metadata": {},
   "outputs": [],
   "source": [
    "## Reading the csv file\n",
    "heart = pd.read_csv('framingham.csv')\n",
    "heart = heart.dropna()\n",
    "\n",
    "X = heart[['age', 'currentSmoker', 'totChol', 'BMI', 'heartRate']] \n",
    "Y = heart['TenYearCHD']\n",
    "\n",
    "## Splitting the data \n",
    "X_train, X_test, Y_train, Y_test = train_test_split(X, Y, test_size = 0.2, stratify = Y)"
   ]
  },
  {
   "cell_type": "code",
   "execution_count": 7,
   "id": "1a268bb2-0c25-4910-9517-24d55c6531dd",
   "metadata": {},
   "outputs": [
    {
     "name": "stdout",
     "output_type": "stream",
     "text": [
      "The recall of the logistic model is 0.9017857142857143\n"
     ]
    }
   ],
   "source": [
    "logit_md = make_pipeline(MinMaxScaler(), LogisticRegression()).fit(X_train, Y_train)\n",
    "\n",
    "logit_pred = logit_md.predict_proba(X_test)[:, 1]\n",
    "logit_label = np.where(logit_pred < 0.1, 0, 1)\n",
    "\n",
    "print(f\"The recall of the logistic model is {recall_score(Y_test, logit_label)}\")"
   ]
  },
  {
   "cell_type": "code",
   "execution_count": 8,
   "id": "ff3d1b46-ac1d-44b1-b300-14e5f712260b",
   "metadata": {},
   "outputs": [
    {
     "name": "stdout",
     "output_type": "stream",
     "text": [
      "The recall of the bagging model is 0.9107142857142857\n"
     ]
    }
   ],
   "source": [
    "bag_md = BaggingClassifier(estimator = logit_md,\n",
    "                           n_estimators = 20).fit(X_train, Y_train)\n",
    "\n",
    "bag_pred = bag_md.predict_proba(X_test)[:, 1]\n",
    "bag_label = np.where(bag_pred < 0.1, 0, 1)\n",
    "\n",
    "print(f\"The recall of the bagging model is {recall_score(Y_test, bag_label)}\")"
   ]
  }
 ],
 "metadata": {
  "kernelspec": {
   "display_name": "Python 3 (ipykernel)",
   "language": "python",
   "name": "python3"
  },
  "language_info": {
   "codemirror_mode": {
    "name": "ipython",
    "version": 3
   },
   "file_extension": ".py",
   "mimetype": "text/x-python",
   "name": "python",
   "nbconvert_exporter": "python",
   "pygments_lexer": "ipython3",
   "version": "3.8.16"
  }
 },
 "nbformat": 4,
 "nbformat_minor": 5
}
