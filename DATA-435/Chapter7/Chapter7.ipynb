{
 "cells": [
  {
   "cell_type": "code",
   "execution_count": 1,
   "id": "bccd3b71",
   "metadata": {},
   "outputs": [
    {
     "data": {
      "text/html": [
       "<div>\n",
       "<style scoped>\n",
       "    .dataframe tbody tr th:only-of-type {\n",
       "        vertical-align: middle;\n",
       "    }\n",
       "\n",
       "    .dataframe tbody tr th {\n",
       "        vertical-align: top;\n",
       "    }\n",
       "\n",
       "    .dataframe thead th {\n",
       "        text-align: right;\n",
       "    }\n",
       "</style>\n",
       "<table border=\"1\" class=\"dataframe\">\n",
       "  <thead>\n",
       "    <tr style=\"text-align: right;\">\n",
       "      <th></th>\n",
       "      <th>MarketID</th>\n",
       "      <th>MarketSize</th>\n",
       "      <th>LocationID</th>\n",
       "      <th>AgeOfStore</th>\n",
       "      <th>Promotion</th>\n",
       "      <th>week</th>\n",
       "      <th>SalesInThousands</th>\n",
       "    </tr>\n",
       "  </thead>\n",
       "  <tbody>\n",
       "    <tr>\n",
       "      <th>0</th>\n",
       "      <td>1</td>\n",
       "      <td>Medium</td>\n",
       "      <td>1</td>\n",
       "      <td>4</td>\n",
       "      <td>3</td>\n",
       "      <td>1</td>\n",
       "      <td>33.73</td>\n",
       "    </tr>\n",
       "    <tr>\n",
       "      <th>1</th>\n",
       "      <td>1</td>\n",
       "      <td>Medium</td>\n",
       "      <td>1</td>\n",
       "      <td>4</td>\n",
       "      <td>3</td>\n",
       "      <td>2</td>\n",
       "      <td>35.67</td>\n",
       "    </tr>\n",
       "    <tr>\n",
       "      <th>2</th>\n",
       "      <td>1</td>\n",
       "      <td>Medium</td>\n",
       "      <td>1</td>\n",
       "      <td>4</td>\n",
       "      <td>3</td>\n",
       "      <td>3</td>\n",
       "      <td>29.03</td>\n",
       "    </tr>\n",
       "    <tr>\n",
       "      <th>3</th>\n",
       "      <td>1</td>\n",
       "      <td>Medium</td>\n",
       "      <td>1</td>\n",
       "      <td>4</td>\n",
       "      <td>3</td>\n",
       "      <td>4</td>\n",
       "      <td>39.25</td>\n",
       "    </tr>\n",
       "    <tr>\n",
       "      <th>4</th>\n",
       "      <td>1</td>\n",
       "      <td>Medium</td>\n",
       "      <td>2</td>\n",
       "      <td>5</td>\n",
       "      <td>2</td>\n",
       "      <td>1</td>\n",
       "      <td>27.81</td>\n",
       "    </tr>\n",
       "  </tbody>\n",
       "</table>\n",
       "</div>"
      ],
      "text/plain": [
       "   MarketID MarketSize  LocationID  AgeOfStore  Promotion  week  \\\n",
       "0         1     Medium           1           4          3     1   \n",
       "1         1     Medium           1           4          3     2   \n",
       "2         1     Medium           1           4          3     3   \n",
       "3         1     Medium           1           4          3     4   \n",
       "4         1     Medium           2           5          2     1   \n",
       "\n",
       "   SalesInThousands  \n",
       "0             33.73  \n",
       "1             35.67  \n",
       "2             29.03  \n",
       "3             39.25  \n",
       "4             27.81  "
      ]
     },
     "execution_count": 1,
     "metadata": {},
     "output_type": "execute_result"
    }
   ],
   "source": [
    "## Importing pandas \n",
    "import pandas as pd\n",
    "\n",
    "## Reading the csv file \n",
    "marketing = pd.read_csv('Marketing_Campaigns.csv')\n",
    "marketing.head()"
   ]
  },
  {
   "cell_type": "code",
   "execution_count": 2,
   "id": "e0a072fd",
   "metadata": {},
   "outputs": [
    {
     "data": {
      "text/plain": [
       "Ttest_indResult(statistic=6.42752867090748, pvalue=4.2903687179871785e-10)"
      ]
     },
     "execution_count": 2,
     "metadata": {},
     "output_type": "execute_result"
    }
   ],
   "source": [
    "## Importing ttest_ind\n",
    "from scipy.stats import ttest_ind\n",
    "\n",
    "## Selecting Promotion 1 and 2 sales\n",
    "promotion_1 = marketing['SalesInThousands'][marketing['Promotion'] ==  1]\n",
    "promotion_2 = marketing['SalesInThousands'][marketing['Promotion'] ==  2]\n",
    "\n",
    "## Comparing the sales of Promotion 1 and 2\n",
    "ttest_ind(promotion_1, promotion_2, equal_var = False)"
   ]
  },
  {
   "cell_type": "code",
   "execution_count": 3,
   "id": "e71063fe",
   "metadata": {},
   "outputs": [
    {
     "data": {
      "text/plain": [
       "MannwhitneyuResult(statistic=22957.5, pvalue=2.922967623419259e-12)"
      ]
     },
     "execution_count": 3,
     "metadata": {},
     "output_type": "execute_result"
    }
   ],
   "source": [
    "## Importing mann-whitney test\n",
    "from scipy.stats import mannwhitneyu\n",
    "\n",
    "## Selecting Promotion 1 and 2 sales\n",
    "promotion_1 = marketing['SalesInThousands'][marketing['Promotion'] ==  1]\n",
    "promotion_2 = marketing['SalesInThousands'][marketing['Promotion'] ==  2]\n",
    "\n",
    "## Comparing the sales of Promotion 1 and 2\n",
    "mannwhitneyu(promotion_1, promotion_2, alternative = 'greater')"
   ]
  },
  {
   "cell_type": "code",
   "execution_count": 4,
   "id": "fc8b309b",
   "metadata": {},
   "outputs": [
    {
     "data": {
      "text/plain": [
       "array([[ 11.33333333,  11.33333333,  11.33333333],\n",
       "       [988.66666667, 988.66666667, 988.66666667]])"
      ]
     },
     "execution_count": 4,
     "metadata": {},
     "output_type": "execute_result"
    }
   ],
   "source": [
    "## Importing chisquare \n",
    "from scipy.stats import chi2_contingency\n",
    "\n",
    "click = [[14, 8, 12], [986, 992, 988]]\n",
    "stats, p_value, df, exp = chi2_contingency(click)\n",
    "exp"
   ]
  },
  {
   "cell_type": "code",
   "execution_count": 5,
   "id": "f97ddd39",
   "metadata": {},
   "outputs": [
    {
     "data": {
      "text/plain": [
       "0.026303330798343533"
      ]
     },
     "execution_count": 5,
     "metadata": {},
     "output_type": "execute_result"
    }
   ],
   "source": [
    "## Importing chisquare \n",
    "from scipy.stats import chi2_contingency\n",
    "\n",
    "click = [[10, 2, 4], [40, 48, 46]]\n",
    "stats, p_value, df, exp = chi2_contingency(click)\n",
    "p_value"
   ]
  }
 ],
 "metadata": {
  "kernelspec": {
   "display_name": "conda_python3",
   "language": "python",
   "name": "conda_python3"
  },
  "language_info": {
   "codemirror_mode": {
    "name": "ipython",
    "version": 3
   },
   "file_extension": ".py",
   "mimetype": "text/x-python",
   "name": "python",
   "nbconvert_exporter": "python",
   "pygments_lexer": "ipython3",
   "version": "3.6.13"
  }
 },
 "nbformat": 4,
 "nbformat_minor": 5
}
