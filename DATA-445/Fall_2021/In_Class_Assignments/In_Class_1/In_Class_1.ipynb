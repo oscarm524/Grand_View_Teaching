{
 "cells": [
  {
   "cell_type": "code",
   "execution_count": null,
   "id": "42d964cd",
   "metadata": {},
   "outputs": [],
   "source": [
    "import boto3\n",
    "import pandas as pd\n",
    "\n",
    "## Defining the bucket \n",
    "s3 = boto3.resource('s3')\n",
    "bucket_name = 'data-445'\n",
    "bucket = s3.Bucket(bucket_name)\n",
    "\n",
    "## Defining the csv file \n",
    "file_key = 'Fall_2021/In_Class_Assignments/Real_Estate.csv'\n",
    "\n",
    "bucket_object = bucket.Object(file_key)\n",
    "file_object = bucket_object.get()\n",
    "file_content_stream = file_object.get('Body')\n",
    "\n",
    "## Reading the csv file\n",
    "house_price = pd.read_csv(file_content_stream)\n",
    "house_price.head()"
   ]
  },
  {
   "cell_type": "code",
   "execution_count": null,
   "id": "7ce9ffa4",
   "metadata": {},
   "outputs": [],
   "source": [
    "## Dropping No\n",
    "house_price = house_price.drop(columns = ['No'])\n",
    "house_price.head()"
   ]
  },
  {
   "cell_type": "code",
   "execution_count": null,
   "id": "d9a33c10",
   "metadata": {},
   "outputs": [],
   "source": [
    "import matplotlib.pyplot as plt\n",
    "\n",
    "plt.hist(house_price['house_age'])\n",
    "plt.xlabel('House Age')\n",
    "plt.ylabel('Frequency')\n",
    "plt.grid()\n",
    "plt.show()\n",
    "\n",
    "# The distribution is right-skewed bi-modal"
   ]
  },
  {
   "cell_type": "code",
   "execution_count": null,
   "id": "376d65fa",
   "metadata": {},
   "outputs": [],
   "source": [
    "plt.hist(house_price['distance_to_the_nearest_MRT_station'])\n",
    "plt.xlabel('distance to nearest MRT station')\n",
    "plt.ylabel('Frequency')\n",
    "plt.grid()\n",
    "plt.show()\n",
    "\n",
    "## The distribution is right-skewed with one peak."
   ]
  },
  {
   "cell_type": "code",
   "execution_count": null,
   "id": "498762b7",
   "metadata": {},
   "outputs": [],
   "source": [
    "from sklearn.linear_model import LinearRegression\n",
    "\n",
    "## Defining the input and target variables\n",
    "X = house_price[['house_age', 'distance_to_the_nearest_MRT_station', 'number_of_convenience_stores', 'latitude', 'longitude']]\n",
    "Y = house_price['house_price_of_unit_area']\n",
    "\n",
    "## Building the model\n",
    "lm_md = LinearRegression().fit(X, Y)\n",
    "lm_md.coef_"
   ]
  },
  {
   "cell_type": "code",
   "execution_count": null,
   "id": "c3755809",
   "metadata": {},
   "outputs": [],
   "source": [
    "## Defining the characteritics of the new house\n",
    "new_house = [[5, 500, 3, 24.98, 121.49]]\n",
    "\n",
    "## Predicting the price of unit of area\n",
    "lm_md.predict(new_house)"
   ]
  }
 ],
 "metadata": {
  "kernelspec": {
   "display_name": "conda_python3",
   "language": "python",
   "name": "conda_python3"
  },
  "language_info": {
   "codemirror_mode": {
    "name": "ipython",
    "version": 3
   },
   "file_extension": ".py",
   "mimetype": "text/x-python",
   "name": "python",
   "nbconvert_exporter": "python",
   "pygments_lexer": "ipython3",
   "version": "3.6.13"
  }
 },
 "nbformat": 4,
 "nbformat_minor": 5
}
