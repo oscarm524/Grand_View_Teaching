{
 "cells": [
  {
   "cell_type": "code",
   "execution_count": 53,
   "id": "94f14dbf-763d-49a7-988c-c32e464748e0",
   "metadata": {},
   "outputs": [
    {
     "data": {
      "text/html": [
       "<div>\n",
       "<style scoped>\n",
       "    .dataframe tbody tr th:only-of-type {\n",
       "        vertical-align: middle;\n",
       "    }\n",
       "\n",
       "    .dataframe tbody tr th {\n",
       "        vertical-align: top;\n",
       "    }\n",
       "\n",
       "    .dataframe thead th {\n",
       "        text-align: right;\n",
       "    }\n",
       "</style>\n",
       "<table border=\"1\" class=\"dataframe\">\n",
       "  <thead>\n",
       "    <tr style=\"text-align: right;\">\n",
       "      <th></th>\n",
       "      <th>male</th>\n",
       "      <th>age</th>\n",
       "      <th>education</th>\n",
       "      <th>currentSmoker</th>\n",
       "      <th>cigsPerDay</th>\n",
       "      <th>BPMeds</th>\n",
       "      <th>prevalentStroke</th>\n",
       "      <th>prevalentHyp</th>\n",
       "      <th>diabetes</th>\n",
       "      <th>totChol</th>\n",
       "      <th>sysBP</th>\n",
       "      <th>diaBP</th>\n",
       "      <th>BMI</th>\n",
       "      <th>heartRate</th>\n",
       "      <th>glucose</th>\n",
       "      <th>TenYearCHD</th>\n",
       "    </tr>\n",
       "  </thead>\n",
       "  <tbody>\n",
       "    <tr>\n",
       "      <th>0</th>\n",
       "      <td>1</td>\n",
       "      <td>39</td>\n",
       "      <td>4.0</td>\n",
       "      <td>0</td>\n",
       "      <td>0.0</td>\n",
       "      <td>0.0</td>\n",
       "      <td>0</td>\n",
       "      <td>0</td>\n",
       "      <td>0</td>\n",
       "      <td>195.0</td>\n",
       "      <td>106.0</td>\n",
       "      <td>70.0</td>\n",
       "      <td>26.97</td>\n",
       "      <td>80.0</td>\n",
       "      <td>77.0</td>\n",
       "      <td>0</td>\n",
       "    </tr>\n",
       "    <tr>\n",
       "      <th>1</th>\n",
       "      <td>0</td>\n",
       "      <td>46</td>\n",
       "      <td>2.0</td>\n",
       "      <td>0</td>\n",
       "      <td>0.0</td>\n",
       "      <td>0.0</td>\n",
       "      <td>0</td>\n",
       "      <td>0</td>\n",
       "      <td>0</td>\n",
       "      <td>250.0</td>\n",
       "      <td>121.0</td>\n",
       "      <td>81.0</td>\n",
       "      <td>28.73</td>\n",
       "      <td>95.0</td>\n",
       "      <td>76.0</td>\n",
       "      <td>0</td>\n",
       "    </tr>\n",
       "    <tr>\n",
       "      <th>2</th>\n",
       "      <td>1</td>\n",
       "      <td>48</td>\n",
       "      <td>1.0</td>\n",
       "      <td>1</td>\n",
       "      <td>20.0</td>\n",
       "      <td>0.0</td>\n",
       "      <td>0</td>\n",
       "      <td>0</td>\n",
       "      <td>0</td>\n",
       "      <td>245.0</td>\n",
       "      <td>127.5</td>\n",
       "      <td>80.0</td>\n",
       "      <td>25.34</td>\n",
       "      <td>75.0</td>\n",
       "      <td>70.0</td>\n",
       "      <td>0</td>\n",
       "    </tr>\n",
       "    <tr>\n",
       "      <th>3</th>\n",
       "      <td>0</td>\n",
       "      <td>61</td>\n",
       "      <td>3.0</td>\n",
       "      <td>1</td>\n",
       "      <td>30.0</td>\n",
       "      <td>0.0</td>\n",
       "      <td>0</td>\n",
       "      <td>1</td>\n",
       "      <td>0</td>\n",
       "      <td>225.0</td>\n",
       "      <td>150.0</td>\n",
       "      <td>95.0</td>\n",
       "      <td>28.58</td>\n",
       "      <td>65.0</td>\n",
       "      <td>103.0</td>\n",
       "      <td>1</td>\n",
       "    </tr>\n",
       "    <tr>\n",
       "      <th>4</th>\n",
       "      <td>0</td>\n",
       "      <td>46</td>\n",
       "      <td>3.0</td>\n",
       "      <td>1</td>\n",
       "      <td>23.0</td>\n",
       "      <td>0.0</td>\n",
       "      <td>0</td>\n",
       "      <td>0</td>\n",
       "      <td>0</td>\n",
       "      <td>285.0</td>\n",
       "      <td>130.0</td>\n",
       "      <td>84.0</td>\n",
       "      <td>23.10</td>\n",
       "      <td>85.0</td>\n",
       "      <td>85.0</td>\n",
       "      <td>0</td>\n",
       "    </tr>\n",
       "  </tbody>\n",
       "</table>\n",
       "</div>"
      ],
      "text/plain": [
       "   male  age  education  currentSmoker  cigsPerDay  BPMeds  prevalentStroke  \\\n",
       "0     1   39        4.0              0         0.0     0.0                0   \n",
       "1     0   46        2.0              0         0.0     0.0                0   \n",
       "2     1   48        1.0              1        20.0     0.0                0   \n",
       "3     0   61        3.0              1        30.0     0.0                0   \n",
       "4     0   46        3.0              1        23.0     0.0                0   \n",
       "\n",
       "   prevalentHyp  diabetes  totChol  sysBP  diaBP    BMI  heartRate  glucose  \\\n",
       "0             0         0    195.0  106.0   70.0  26.97       80.0     77.0   \n",
       "1             0         0    250.0  121.0   81.0  28.73       95.0     76.0   \n",
       "2             0         0    245.0  127.5   80.0  25.34       75.0     70.0   \n",
       "3             1         0    225.0  150.0   95.0  28.58       65.0    103.0   \n",
       "4             0         0    285.0  130.0   84.0  23.10       85.0     85.0   \n",
       "\n",
       "   TenYearCHD  \n",
       "0           0  \n",
       "1           0  \n",
       "2           0  \n",
       "3           1  \n",
       "4           0  "
      ]
     },
     "execution_count": 53,
     "metadata": {},
     "output_type": "execute_result"
    }
   ],
   "source": [
    "import pandas as pd\n",
    "import numpy as np\n",
    "\n",
    "from sklearn.preprocessing import MinMaxScaler, StandardScaler, RobustScaler, PowerTransformer\n",
    "from sklearn.model_selection import RepeatedStratifiedKFold, cross_val_score\n",
    "from sklearn.linear_model import LogisticRegression\n",
    "from sklearn.discriminant_analysis import LinearDiscriminantAnalysis, QuadraticDiscriminantAnalysis\n",
    "from sklearn.pipeline import make_pipeline\n",
    "\n",
    "# Reading the data \n",
    "heart = pd.read_csv('framingham.csv')\n",
    "heart = heart.dropna()\n",
    "heart.head()"
   ]
  },
  {
   "cell_type": "markdown",
   "id": "fcaf7954-d3fe-40a4-8f86-1bad79fa8f6b",
   "metadata": {},
   "source": [
    "# Defining X and Y"
   ]
  },
  {
   "cell_type": "code",
   "execution_count": 50,
   "id": "7afaa857-6665-4227-b9d8-ab5df84b1939",
   "metadata": {},
   "outputs": [],
   "source": [
    "X = heart[['age', 'currentSmoker', 'totChol', 'BMI', 'heartRate']]\n",
    "Y = heart['TenYearCHD']"
   ]
  },
  {
   "cell_type": "markdown",
   "id": "a50c338f-c25d-447c-bec0-c755da6fd9c6",
   "metadata": {},
   "source": [
    "# Defining the CV Strategy"
   ]
  },
  {
   "cell_type": "code",
   "execution_count": 51,
   "id": "22efa30f-f1fb-4afd-ac30-eaa932b5a397",
   "metadata": {},
   "outputs": [],
   "source": [
    "skf = RepeatedStratifiedKFold(n_splits = 10, n_repeats = 1, random_state = 42)"
   ]
  },
  {
   "cell_type": "markdown",
   "id": "1eac6e2a-a370-40f5-a67b-8241493dd1e2",
   "metadata": {},
   "source": [
    "# Logistic Regression"
   ]
  },
  {
   "cell_type": "code",
   "execution_count": 52,
   "id": "01ffe3f3-7be3-4cc1-bf5c-3d6510b881ec",
   "metadata": {},
   "outputs": [
    {
     "name": "stdout",
     "output_type": "stream",
     "text": [
      "The 10-folds oof ROC-AUC score of the LR model is 0.6995536881950913\n"
     ]
    }
   ],
   "source": [
    "logit_cv = cross_val_score(LogisticRegression(), X, Y, scoring = 'roc_auc', cv = skf, n_jobs = -1)\n",
    "print(f\"The 10-folds oof ROC-AUC score of the LR model is {logit_cv.mean()}\")"
   ]
  },
  {
   "cell_type": "markdown",
   "id": "9de18ff8-9ef4-4838-ba94-8c2270e5f3fa",
   "metadata": {},
   "source": [
    "# MinMaxScaler + Logistic Regression"
   ]
  },
  {
   "cell_type": "code",
   "execution_count": 54,
   "id": "ed90f53a-d80e-4174-b813-daaf03e8e55b",
   "metadata": {},
   "outputs": [
    {
     "name": "stdout",
     "output_type": "stream",
     "text": [
      "The 10-folds oof ROC-AUC score of the LR model is 0.699628719411917\n"
     ]
    }
   ],
   "source": [
    "logit_cv = cross_val_score(make_pipeline(MinMaxScaler(), LogisticRegression()), \n",
    "                           X, \n",
    "                           Y, \n",
    "                           scoring = 'roc_auc', \n",
    "                           cv = skf, \n",
    "                           n_jobs = -1)\n",
    "\n",
    "print(f\"The 10-folds oof ROC-AUC score of the LR model is {logit_cv.mean()}\")"
   ]
  },
  {
   "cell_type": "markdown",
   "id": "d25f6289-aded-40e5-ae91-72877b785435",
   "metadata": {},
   "source": [
    "# StandardScaler + Logistic Regression"
   ]
  },
  {
   "cell_type": "code",
   "execution_count": 55,
   "id": "f5dea220-e10f-4233-bd0d-dcd3191c8a2b",
   "metadata": {},
   "outputs": [
    {
     "name": "stdout",
     "output_type": "stream",
     "text": [
      "The 10-folds oof ROC-AUC score of the LR model is 0.6995876894532549\n"
     ]
    }
   ],
   "source": [
    "logit_cv = cross_val_score(make_pipeline(StandardScaler(), LogisticRegression()), \n",
    "                           X, \n",
    "                           Y, \n",
    "                           scoring = 'roc_auc', \n",
    "                           cv = skf, \n",
    "                           n_jobs = -1)\n",
    "\n",
    "print(f\"The 10-folds oof ROC-AUC score of the LR model is {logit_cv.mean()}\")"
   ]
  },
  {
   "cell_type": "markdown",
   "id": "d0bdfa15-9fbc-460b-abb8-14382473f01d",
   "metadata": {},
   "source": [
    "# RobustScaler + Logistic Regression"
   ]
  },
  {
   "cell_type": "code",
   "execution_count": 56,
   "id": "d753a2df-f556-4990-923b-b7070abe76c8",
   "metadata": {},
   "outputs": [
    {
     "name": "stdout",
     "output_type": "stream",
     "text": [
      "The 10-folds oof ROC-AUC score of the LR model is 0.699494988360632\n"
     ]
    }
   ],
   "source": [
    "logit_cv = cross_val_score(make_pipeline(RobustScaler(), LogisticRegression()), \n",
    "                           X, \n",
    "                           Y, \n",
    "                           scoring = 'roc_auc', \n",
    "                           cv = skf, \n",
    "                           n_jobs = -1)\n",
    "\n",
    "print(f\"The 10-folds oof ROC-AUC score of the LR model is {logit_cv.mean()}\")"
   ]
  },
  {
   "cell_type": "markdown",
   "id": "de095be6-e17a-4c4e-a9b6-d62d5d74770d",
   "metadata": {},
   "source": [
    "# Linear Discriminant Analysis"
   ]
  },
  {
   "cell_type": "code",
   "execution_count": 57,
   "id": "98b4fe22-17e1-4fdd-9f56-88683f93d14c",
   "metadata": {},
   "outputs": [
    {
     "name": "stdout",
     "output_type": "stream",
     "text": [
      "The 10-folds oof ROC-AUC score of the LDA model is 0.6992450283561308\n"
     ]
    }
   ],
   "source": [
    "lda_cv = cross_val_score(LinearDiscriminantAnalysis(), \n",
    "                         X, \n",
    "                         Y, \n",
    "                         scoring = 'roc_auc', \n",
    "                         cv = skf, \n",
    "                         n_jobs = -1)\n",
    "\n",
    "print(f\"The 10-folds oof ROC-AUC score of the LDA model is {lda_cv.mean()}\")"
   ]
  },
  {
   "cell_type": "markdown",
   "id": "27dc6513-0d21-4dcc-8e97-04959d784b30",
   "metadata": {},
   "source": [
    "# Quadratic Discriminant Analysis"
   ]
  },
  {
   "cell_type": "code",
   "execution_count": 58,
   "id": "1a3c9c05-0d47-407c-b00a-94ac19e604e2",
   "metadata": {},
   "outputs": [
    {
     "name": "stdout",
     "output_type": "stream",
     "text": [
      "The 10-folds oof ROC-AUC score of the QDA model is 0.6929175855463046\n"
     ]
    }
   ],
   "source": [
    "qda_cv = cross_val_score(QuadraticDiscriminantAnalysis(), \n",
    "                         X, \n",
    "                         Y, \n",
    "                         scoring = 'roc_auc', \n",
    "                         cv = skf, \n",
    "                         n_jobs = -1)\n",
    "\n",
    "print(f\"The 10-folds oof ROC-AUC score of the QDA model is {qda_cv.mean()}\")"
   ]
  }
 ],
 "metadata": {
  "kernelspec": {
   "display_name": "Python 3 (ipykernel)",
   "language": "python",
   "name": "python3"
  },
  "language_info": {
   "codemirror_mode": {
    "name": "ipython",
    "version": 3
   },
   "file_extension": ".py",
   "mimetype": "text/x-python",
   "name": "python",
   "nbconvert_exporter": "python",
   "pygments_lexer": "ipython3",
   "version": "3.8.16"
  }
 },
 "nbformat": 4,
 "nbformat_minor": 5
}
