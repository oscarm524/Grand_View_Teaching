{
 "cells": [
  {
   "cell_type": "code",
   "execution_count": null,
   "id": "a68efefc-1561-45c6-a393-b3880adc46aa",
   "metadata": {},
   "outputs": [],
   "source": [
    "# 1. It's the process of splitting customer based on similar characteristics."
   ]
  },
  {
   "cell_type": "code",
   "execution_count": null,
   "id": "c5018df3-3fcf-410c-a939-bfed29e01d38",
   "metadata": {},
   "outputs": [],
   "source": [
    "# 2. It helps companies to have a better understanding of their customer population."
   ]
  },
  {
   "cell_type": "code",
   "execution_count": null,
   "id": "30176436-def9-48cc-8278-2939f9a133ac",
   "metadata": {},
   "outputs": [],
   "source": [
    "# 3. True"
   ]
  },
  {
   "cell_type": "code",
   "execution_count": 1,
   "id": "7dbf906c-e12a-4ea9-b4b7-a7bfda1f9fce",
   "metadata": {},
   "outputs": [
    {
     "data": {
      "text/plain": [
       "1.0"
      ]
     },
     "execution_count": 1,
     "metadata": {},
     "output_type": "execute_result"
    }
   ],
   "source": [
    "import numpy as np\n",
    "\n",
    "## Defining A and B\n",
    "A = np.array([1, 3])\n",
    "B = np.array([2, 3])\n",
    "\n",
    "## Computing the Euclidean distance\n",
    "np.sqrt(np.sum(np.power(A - B, 2)))"
   ]
  }
 ],
 "metadata": {
  "kernelspec": {
   "display_name": "Python 3 (ipykernel)",
   "language": "python",
   "name": "python3"
  },
  "language_info": {
   "codemirror_mode": {
    "name": "ipython",
    "version": 3
   },
   "file_extension": ".py",
   "mimetype": "text/x-python",
   "name": "python",
   "nbconvert_exporter": "python",
   "pygments_lexer": "ipython3",
   "version": "3.9.7"
  }
 },
 "nbformat": 4,
 "nbformat_minor": 5
}
