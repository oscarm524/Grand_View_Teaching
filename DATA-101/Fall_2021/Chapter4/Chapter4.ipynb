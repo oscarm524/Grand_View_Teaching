{
 "cells": [
  {
   "cell_type": "markdown",
   "id": "ad1b851b",
   "metadata": {},
   "source": [
    "# Euclidean distance"
   ]
  },
  {
   "cell_type": "code",
   "execution_count": 1,
   "id": "9c89bc98",
   "metadata": {},
   "outputs": [
    {
     "data": {
      "text/plain": [
       "18.81488772222678"
      ]
     },
     "execution_count": 1,
     "metadata": {},
     "output_type": "execute_result"
    }
   ],
   "source": [
    "## Here we import the numpy library\n",
    "import numpy as np\n",
    "   \n",
    "## Here we declare the vectors\n",
    "u = np.array([23, 2, 2])\n",
    "v = np.array([40, 10, 1])\n",
    "\n",
    "## Here we find the Euclidean distance\n",
    "np.sqrt(np.sum(np.power(u - v, 2)))"
   ]
  },
  {
   "cell_type": "markdown",
   "id": "4bab17a6",
   "metadata": {},
   "source": [
    "# k-NN: Classification"
   ]
  },
  {
   "cell_type": "code",
   "execution_count": 4,
   "id": "23534007",
   "metadata": {},
   "outputs": [
    {
     "data": {
      "text/plain": [
       "array(['B', 'B', 'B', 'B', 'B', 'B', 'B', 'B', 'B', 'M', 'B', 'B', 'B',\n",
       "       'B', 'B', 'B', 'B', 'M', 'B', 'B', 'B', 'B', 'M', 'B', 'B', 'B',\n",
       "       'B', 'B', 'M', 'M', 'B', 'M', 'B', 'M', 'B', 'B', 'B', 'B', 'B',\n",
       "       'M', 'B', 'B', 'M', 'B', 'B', 'B', 'M', 'M', 'B', 'B', 'B', 'M',\n",
       "       'B', 'B', 'B', 'B', 'B', 'B', 'B', 'B', 'B', 'B', 'B', 'M', 'B',\n",
       "       'M', 'B', 'B', 'B', 'B', 'B', 'B', 'B', 'B', 'B', 'B', 'B', 'B',\n",
       "       'B', 'B', 'B', 'B', 'B', 'B', 'B', 'B', 'B', 'B', 'B', 'B', 'B',\n",
       "       'B', 'M', 'M', 'M', 'M', 'M', 'M', 'B'], dtype=object)"
      ]
     },
     "execution_count": 4,
     "metadata": {},
     "output_type": "execute_result"
    }
   ],
   "source": [
    "## Here we import the pandas library\n",
    "import pandas as pd\n",
    "\n",
    "## Here we read the data\n",
    "breast_cancer = pd.read_csv('wisconsin_breast_cancer.csv')\n",
    "\n",
    "## First we drop the id variable\n",
    "breast_cancer = breast_cancer.drop(columns = 'id')\n",
    "\n",
    "## Let's normalize the features (0-1 transformation)\n",
    "\n",
    "## Here import the sklearn library\n",
    "from sklearn.preprocessing import MinMaxScaler\n",
    "\n",
    "## Here we create an scaler object\n",
    "scaler = MinMaxScaler() \n",
    "\n",
    "## Here we standardize the 30 input variables in the data\n",
    "breast_cancer.iloc[:,1:31] = scaler.fit_transform(breast_cancer.iloc[:,1:31])\n",
    "\n",
    "## Here we split the data into training and testing \n",
    "breast_cancer_train = breast_cancer.iloc[0:469,]\n",
    "breast_cancer_test = breast_cancer.iloc[470:569,]\n",
    "\n",
    "## Here we import the nearest neighbor algorithm from sklearn library\n",
    "from sklearn.neighbors import KNeighborsClassifier\n",
    "\n",
    "## Two neares neighbors\n",
    "X = breast_cancer_train.iloc[:,1:31]\n",
    "Y = breast_cancer_train.iloc[:,0]\n",
    "two_nearest_neighbors = KNeighborsClassifier(n_neighbors = 2).fit(X, Y)\n",
    "\n",
    "## Here we predict on testing data \n",
    "predictions = two_nearest_neighbors.predict(breast_cancer_test.iloc[:,1:31])\n",
    "\n",
    "## Here we create frequency table of the predictions\n",
    "predictions"
   ]
  },
  {
   "cell_type": "code",
   "execution_count": 5,
   "id": "b196e123",
   "metadata": {},
   "outputs": [
    {
     "data": {
      "text/html": [
       "<div>\n",
       "<style scoped>\n",
       "    .dataframe tbody tr th:only-of-type {\n",
       "        vertical-align: middle;\n",
       "    }\n",
       "\n",
       "    .dataframe tbody tr th {\n",
       "        vertical-align: top;\n",
       "    }\n",
       "\n",
       "    .dataframe thead th {\n",
       "        text-align: right;\n",
       "    }\n",
       "</style>\n",
       "<table border=\"1\" class=\"dataframe\">\n",
       "  <thead>\n",
       "    <tr style=\"text-align: right;\">\n",
       "      <th>diagnosis</th>\n",
       "      <th>B</th>\n",
       "      <th>M</th>\n",
       "    </tr>\n",
       "    <tr>\n",
       "      <th>row_0</th>\n",
       "      <th></th>\n",
       "      <th></th>\n",
       "    </tr>\n",
       "  </thead>\n",
       "  <tbody>\n",
       "    <tr>\n",
       "      <th>B</th>\n",
       "      <td>76</td>\n",
       "      <td>3</td>\n",
       "    </tr>\n",
       "    <tr>\n",
       "      <th>M</th>\n",
       "      <td>0</td>\n",
       "      <td>20</td>\n",
       "    </tr>\n",
       "  </tbody>\n",
       "</table>\n",
       "</div>"
      ],
      "text/plain": [
       "diagnosis   B   M\n",
       "row_0            \n",
       "B          76   3\n",
       "M           0  20"
      ]
     },
     "execution_count": 5,
     "metadata": {},
     "output_type": "execute_result"
    }
   ],
   "source": [
    "## Comparing predictions against actuals\n",
    "pd.crosstab(predictions, breast_cancer_test.diagnosis)"
   ]
  },
  {
   "cell_type": "markdown",
   "id": "4aa678bb",
   "metadata": {},
   "source": [
    "# k-NN: Regression"
   ]
  },
  {
   "cell_type": "code",
   "execution_count": null,
   "id": "d5e50f3d",
   "metadata": {},
   "outputs": [],
   "source": []
  }
 ],
 "metadata": {
  "kernelspec": {
   "display_name": "conda_python3",
   "language": "python",
   "name": "conda_python3"
  },
  "language_info": {
   "codemirror_mode": {
    "name": "ipython",
    "version": 3
   },
   "file_extension": ".py",
   "mimetype": "text/x-python",
   "name": "python",
   "nbconvert_exporter": "python",
   "pygments_lexer": "ipython3",
   "version": "3.6.13"
  }
 },
 "nbformat": 4,
 "nbformat_minor": 5
}
