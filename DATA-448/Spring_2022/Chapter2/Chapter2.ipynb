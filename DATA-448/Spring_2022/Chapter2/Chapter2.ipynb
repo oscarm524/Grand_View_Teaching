{
 "cells": [
  {
   "cell_type": "code",
   "execution_count": 9,
   "id": "4539ea01",
   "metadata": {},
   "outputs": [
    {
     "data": {
      "text/html": [
       "<div>\n",
       "<style scoped>\n",
       "    .dataframe tbody tr th:only-of-type {\n",
       "        vertical-align: middle;\n",
       "    }\n",
       "\n",
       "    .dataframe tbody tr th {\n",
       "        vertical-align: top;\n",
       "    }\n",
       "\n",
       "    .dataframe thead th {\n",
       "        text-align: right;\n",
       "    }\n",
       "</style>\n",
       "<table border=\"1\" class=\"dataframe\">\n",
       "  <thead>\n",
       "    <tr style=\"text-align: right;\">\n",
       "      <th></th>\n",
       "      <th>Wine</th>\n",
       "      <th>Alcohol</th>\n",
       "      <th>Malic.acid</th>\n",
       "      <th>Ash</th>\n",
       "      <th>Acl</th>\n",
       "      <th>Mg</th>\n",
       "      <th>Phenols</th>\n",
       "      <th>Flavanoids</th>\n",
       "      <th>Nonflavanoid.phenols</th>\n",
       "      <th>Proanth</th>\n",
       "      <th>Color.int</th>\n",
       "      <th>Hue</th>\n",
       "      <th>OD</th>\n",
       "      <th>Proline</th>\n",
       "    </tr>\n",
       "  </thead>\n",
       "  <tbody>\n",
       "    <tr>\n",
       "      <th>0</th>\n",
       "      <td>1</td>\n",
       "      <td>14.23</td>\n",
       "      <td>1.71</td>\n",
       "      <td>2.43</td>\n",
       "      <td>15.6</td>\n",
       "      <td>127</td>\n",
       "      <td>2.80</td>\n",
       "      <td>3.06</td>\n",
       "      <td>0.28</td>\n",
       "      <td>2.29</td>\n",
       "      <td>5.64</td>\n",
       "      <td>1.04</td>\n",
       "      <td>3.92</td>\n",
       "      <td>1065</td>\n",
       "    </tr>\n",
       "    <tr>\n",
       "      <th>1</th>\n",
       "      <td>1</td>\n",
       "      <td>13.20</td>\n",
       "      <td>1.78</td>\n",
       "      <td>2.14</td>\n",
       "      <td>11.2</td>\n",
       "      <td>100</td>\n",
       "      <td>2.65</td>\n",
       "      <td>2.76</td>\n",
       "      <td>0.26</td>\n",
       "      <td>1.28</td>\n",
       "      <td>4.38</td>\n",
       "      <td>1.05</td>\n",
       "      <td>3.40</td>\n",
       "      <td>1050</td>\n",
       "    </tr>\n",
       "    <tr>\n",
       "      <th>2</th>\n",
       "      <td>1</td>\n",
       "      <td>13.16</td>\n",
       "      <td>2.36</td>\n",
       "      <td>2.67</td>\n",
       "      <td>18.6</td>\n",
       "      <td>101</td>\n",
       "      <td>2.80</td>\n",
       "      <td>3.24</td>\n",
       "      <td>0.30</td>\n",
       "      <td>2.81</td>\n",
       "      <td>5.68</td>\n",
       "      <td>1.03</td>\n",
       "      <td>3.17</td>\n",
       "      <td>1185</td>\n",
       "    </tr>\n",
       "    <tr>\n",
       "      <th>3</th>\n",
       "      <td>1</td>\n",
       "      <td>14.37</td>\n",
       "      <td>1.95</td>\n",
       "      <td>2.50</td>\n",
       "      <td>16.8</td>\n",
       "      <td>113</td>\n",
       "      <td>3.85</td>\n",
       "      <td>3.49</td>\n",
       "      <td>0.24</td>\n",
       "      <td>2.18</td>\n",
       "      <td>7.80</td>\n",
       "      <td>0.86</td>\n",
       "      <td>3.45</td>\n",
       "      <td>1480</td>\n",
       "    </tr>\n",
       "    <tr>\n",
       "      <th>4</th>\n",
       "      <td>1</td>\n",
       "      <td>13.24</td>\n",
       "      <td>2.59</td>\n",
       "      <td>2.87</td>\n",
       "      <td>21.0</td>\n",
       "      <td>118</td>\n",
       "      <td>2.80</td>\n",
       "      <td>2.69</td>\n",
       "      <td>0.39</td>\n",
       "      <td>1.82</td>\n",
       "      <td>4.32</td>\n",
       "      <td>1.04</td>\n",
       "      <td>2.93</td>\n",
       "      <td>735</td>\n",
       "    </tr>\n",
       "  </tbody>\n",
       "</table>\n",
       "</div>"
      ],
      "text/plain": [
       "   Wine  Alcohol  Malic.acid   Ash   Acl   Mg  Phenols  Flavanoids  \\\n",
       "0     1    14.23        1.71  2.43  15.6  127     2.80        3.06   \n",
       "1     1    13.20        1.78  2.14  11.2  100     2.65        2.76   \n",
       "2     1    13.16        2.36  2.67  18.6  101     2.80        3.24   \n",
       "3     1    14.37        1.95  2.50  16.8  113     3.85        3.49   \n",
       "4     1    13.24        2.59  2.87  21.0  118     2.80        2.69   \n",
       "\n",
       "   Nonflavanoid.phenols  Proanth  Color.int   Hue    OD  Proline  \n",
       "0                  0.28     2.29       5.64  1.04  3.92     1065  \n",
       "1                  0.26     1.28       4.38  1.05  3.40     1050  \n",
       "2                  0.30     2.81       5.68  1.03  3.17     1185  \n",
       "3                  0.24     2.18       7.80  0.86  3.45     1480  \n",
       "4                  0.39     1.82       4.32  1.04  2.93      735  "
      ]
     },
     "execution_count": 9,
     "metadata": {},
     "output_type": "execute_result"
    }
   ],
   "source": [
    "import boto3\n",
    "import pandas as pd\n",
    "import numpy as np\n",
    "import matplotlib.pyplot as plt\n",
    "from sklearn.model_selection import train_test_split\n",
    "from sklearn.preprocessing import MinMaxScaler\n",
    "from sklearn.multiclass import OneVsRestClassifier, OneVsOneClassifier\n",
    "from sklearn.ensemble import RandomForestClassifier, GradientBoostingClassifier\n",
    "from sklearn.svm import SVC\n",
    "\n",
    "## Defining the s3 bucket\n",
    "s3 = boto3.resource('s3')\n",
    "bucket_name = 'data-448'\n",
    "bucket = s3.Bucket(bucket_name)\n",
    "\n",
    "## Defining the file to be read from s3 bucket\n",
    "file_key = 'Chapter2/wine.csv'\n",
    "\n",
    "bucket_object = bucket.Object(file_key)\n",
    "file_object = bucket_object.get()\n",
    "file_content_stream = file_object.get('Body')\n",
    "\n",
    "## Reading the csv file\n",
    "wine = pd.read_csv(file_content_stream)\n",
    "wine.head()"
   ]
  },
  {
   "cell_type": "code",
   "execution_count": 2,
   "id": "92a12ccb",
   "metadata": {},
   "outputs": [
    {
     "data": {
      "text/plain": [
       "2    71\n",
       "1    59\n",
       "3    48\n",
       "Name: Wine, dtype: int64"
      ]
     },
     "execution_count": 2,
     "metadata": {},
     "output_type": "execute_result"
    }
   ],
   "source": [
    "wine['Wine'].value_counts()"
   ]
  },
  {
   "cell_type": "markdown",
   "id": "50707a0c",
   "metadata": {},
   "source": [
    "## Data Splitting"
   ]
  },
  {
   "cell_type": "code",
   "execution_count": 3,
   "id": "70559817",
   "metadata": {},
   "outputs": [],
   "source": [
    "## Defining input and target variables\n",
    "X = wine.drop(columns = 'Wine', axis = 1)\n",
    "Y = wine['Wine']\n",
    "\n",
    "## Splitting the data \n",
    "X_train, X_test, Y_train, Y_test = train_test_split(X, Y, test_size = 0.2, stratify = Y)\n",
    "\n",
    "## Standardizing the data \n",
    "scaler = MinMaxScaler()\n",
    "X_train = scaler.fit_transform(X_train)\n",
    "X_test = scaler.fit_transform(X_test)"
   ]
  },
  {
   "cell_type": "markdown",
   "id": "a3b72906",
   "metadata": {},
   "source": [
    "## One-vs-all Classifier"
   ]
  },
  {
   "cell_type": "code",
   "execution_count": 4,
   "id": "808c08db",
   "metadata": {},
   "outputs": [
    {
     "data": {
      "text/plain": [
       "array([2, 2, 2, 1, 1, 1, 1, 3, 2, 2, 1, 3, 2, 3, 1, 3, 3, 1, 2, 1, 3, 2,\n",
       "       2, 2, 3, 3, 3, 2, 2, 2, 3, 1, 1, 1, 1, 1])"
      ]
     },
     "execution_count": 4,
     "metadata": {},
     "output_type": "execute_result"
    }
   ],
   "source": [
    "## Building the multi-classifier (using RF) \n",
    "one_vs_all_RF = OneVsRestClassifier(estimator = RandomForestClassifier(n_estimators = 500, max_depth = 3)).fit(X_train, Y_train)\n",
    "\n",
    "## Predicting on the test\n",
    "one_vs_all_RF_pred = one_vs_all_RF.predict_proba(X_test)\n",
    "one_vs_all_RF_pred = np.argmax(one_vs_all_RF_pred, axis = 1) + 1\n",
    "one_vs_all_RF_pred"
   ]
  },
  {
   "cell_type": "code",
   "execution_count": 5,
   "id": "15a93996",
   "metadata": {},
   "outputs": [
    {
     "data": {
      "text/plain": [
       "array([2, 2, 2, 1, 1, 1, 1, 3, 2, 2, 1, 3, 2, 3, 1, 3, 3, 2, 2, 1, 3, 2,\n",
       "       2, 2, 2, 3, 3, 2, 2, 2, 3, 1, 1, 1, 1, 1])"
      ]
     },
     "execution_count": 5,
     "metadata": {},
     "output_type": "execute_result"
    }
   ],
   "source": [
    "## Building the multi-classifier (using SVM) \n",
    "one_vs_all_svm = OneVsRestClassifier(estimator = SVC(kernel = 'rbf', probability = True)).fit(X_train, Y_train)\n",
    "\n",
    "## Predicting on the test\n",
    "one_vs_all_svm_pred = one_vs_all_svm.predict_proba(X_test)\n",
    "one_vs_all_svm_pred = np.argmax(one_vs_all_svm_pred, axis = 1) + 1\n",
    "one_vs_all_svm_pred"
   ]
  },
  {
   "cell_type": "markdown",
   "id": "4cd2e401",
   "metadata": {},
   "source": [
    "## One-vs-One Classifier"
   ]
  },
  {
   "cell_type": "code",
   "execution_count": 7,
   "id": "0da93a64",
   "metadata": {},
   "outputs": [
    {
     "ename": "AttributeError",
     "evalue": "'OneVsOneClassifier' object has no attribute 'predict_proba'",
     "output_type": "error",
     "traceback": [
      "\u001b[0;31m---------------------------------------------------------------------------\u001b[0m",
      "\u001b[0;31mAttributeError\u001b[0m                            Traceback (most recent call last)",
      "\u001b[0;32m<ipython-input-7-dadf677091e0>\u001b[0m in \u001b[0;36m<module>\u001b[0;34m\u001b[0m\n\u001b[1;32m      3\u001b[0m \u001b[0;34m\u001b[0m\u001b[0m\n\u001b[1;32m      4\u001b[0m \u001b[0;31m## Predicting on the test\u001b[0m\u001b[0;34m\u001b[0m\u001b[0;34m\u001b[0m\u001b[0;34m\u001b[0m\u001b[0m\n\u001b[0;32m----> 5\u001b[0;31m \u001b[0mone_vs_one_RF_pred\u001b[0m \u001b[0;34m=\u001b[0m \u001b[0mone_vs_one_RF\u001b[0m\u001b[0;34m.\u001b[0m\u001b[0mpredict_proba\u001b[0m\u001b[0;34m(\u001b[0m\u001b[0mX_test\u001b[0m\u001b[0;34m)\u001b[0m\u001b[0;34m\u001b[0m\u001b[0;34m\u001b[0m\u001b[0m\n\u001b[0m\u001b[1;32m      6\u001b[0m \u001b[0mone_vs_one_RF_pred\u001b[0m\u001b[0;34m\u001b[0m\u001b[0;34m\u001b[0m\u001b[0m\n",
      "\u001b[0;31mAttributeError\u001b[0m: 'OneVsOneClassifier' object has no attribute 'predict_proba'"
     ]
    }
   ],
   "source": [
    "## Building the multi-classifier (using RF) \n",
    "one_vs_one_RF = OneVsOneClassifier(estimator = RandomForestClassifier(n_estimators = 500, max_depth = 3)).fit(X_train, Y_train)\n",
    "\n",
    "## Predicting on the test\n",
    "one_vs_one_RF_pred = one_vs_one_RF.predict_proba(X_test)\n",
    "one_vs_one_RF_pred"
   ]
  },
  {
   "cell_type": "code",
   "execution_count": 8,
   "id": "832369db",
   "metadata": {},
   "outputs": [
    {
     "data": {
      "text/plain": [
       "array([[0.01717633, 0.97841162, 0.00441205],\n",
       "       [0.19496436, 0.80155667, 0.00347897],\n",
       "       [0.04967798, 0.94388298, 0.00643904],\n",
       "       [0.68549951, 0.29870337, 0.01579713],\n",
       "       [0.92311496, 0.05256429, 0.02432075],\n",
       "       [0.66554654, 0.30072915, 0.03372431],\n",
       "       [0.89808901, 0.07921843, 0.02269257],\n",
       "       [0.00947272, 0.00936942, 0.98115786],\n",
       "       [0.04073457, 0.87725704, 0.0820084 ],\n",
       "       [0.00382624, 0.98441993, 0.01175383],\n",
       "       [0.97802631, 0.01267222, 0.00930147],\n",
       "       [0.01533878, 0.27352307, 0.71113815],\n",
       "       [0.00439253, 0.99330562, 0.00230185],\n",
       "       [0.00894886, 0.27252332, 0.71852782],\n",
       "       [0.80152108, 0.18626539, 0.01221352],\n",
       "       [0.00830024, 0.07086506, 0.9208347 ],\n",
       "       [0.01214352, 0.01602494, 0.97183154],\n",
       "       [0.11234383, 0.84687116, 0.04078501],\n",
       "       [0.00481962, 0.99125224, 0.00392815],\n",
       "       [0.97687497, 0.00659205, 0.01653298],\n",
       "       [0.00930433, 0.03432541, 0.95637025],\n",
       "       [0.00482692, 0.99229843, 0.00287465],\n",
       "       [0.00134524, 0.98810834, 0.01054642],\n",
       "       [0.05266079, 0.92588852, 0.02145069],\n",
       "       [0.01673186, 0.60684111, 0.37642702],\n",
       "       [0.01412962, 0.0743411 , 0.91152928],\n",
       "       [0.00440639, 0.10900823, 0.88658538],\n",
       "       [0.00556979, 0.96574997, 0.02868023],\n",
       "       [0.10376614, 0.89143781, 0.00479605],\n",
       "       [0.02574896, 0.84813169, 0.12611935],\n",
       "       [0.00694671, 0.04493786, 0.94811543],\n",
       "       [0.97262928, 0.01255583, 0.01481489],\n",
       "       [0.81248209, 0.15663714, 0.03088077],\n",
       "       [0.71852799, 0.24878676, 0.03268525],\n",
       "       [0.97375536, 0.00902005, 0.01722459],\n",
       "       [0.93640645, 0.0449913 , 0.01860225]])"
      ]
     },
     "execution_count": 8,
     "metadata": {},
     "output_type": "execute_result"
    }
   ],
   "source": [
    "## Building the multi-classifier (using SVM) \n",
    "one_vs_one_svm = OneVsOneClassifier(estimator = SVC(kernel = 'rbf', probability = True)).fit(X_train, Y_train)\n",
    "\n",
    "## Predicting on the test\n",
    "one_vs_one_svm_pred = one_vs_all_svm.predict_proba(X_test)\n",
    "# one_vs_all_svm_pred = np.argmax(one_vs_one_svm_pred, axis = 1) + 1\n",
    "one_vs_one_svm_pred"
   ]
  },
  {
   "cell_type": "code",
   "execution_count": null,
   "id": "991b28ca",
   "metadata": {},
   "outputs": [],
   "source": [
    "## Building the multi-classifier (using SVM) \n",
    "one_vs_one_svm = OneVsOneClassifier(estimator = SVC(kernel = 'rbf', probability = True)).fit(X_train, Y_train)\n",
    "\n",
    "## Predicting on the test\n",
    "one_vs_one_svm_pred = one_vs_all_svm.predict_proba(X_test)\n"
   ]
  }
 ],
 "metadata": {
  "kernelspec": {
   "display_name": "conda_python3",
   "language": "python",
   "name": "conda_python3"
  },
  "language_info": {
   "codemirror_mode": {
    "name": "ipython",
    "version": 3
   },
   "file_extension": ".py",
   "mimetype": "text/x-python",
   "name": "python",
   "nbconvert_exporter": "python",
   "pygments_lexer": "ipython3",
   "version": "3.6.13"
  }
 },
 "nbformat": 4,
 "nbformat_minor": 5
}
